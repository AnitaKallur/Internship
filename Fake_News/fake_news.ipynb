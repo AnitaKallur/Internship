{
 "cells": [
  {
   "cell_type": "code",
   "execution_count": 2,
   "metadata": {},
   "outputs": [],
   "source": [
    "import pandas as pd\n",
    "import numpy as np\n",
    "import matplotlib.pyplot as plt\n",
    "import seaborn as sns\n",
    "import warnings\n",
    "warnings.filterwarnings('ignore')"
   ]
  },
  {
   "cell_type": "code",
   "execution_count": 3,
   "metadata": {},
   "outputs": [],
   "source": [
    "import re \n",
    "# Analysis\n",
    "import pandas as pd\n",
    "import numpy as np\n",
    "import matplotlib.pyplot as plt\n",
    "import seaborn as sns\n",
    "import warnings\n",
    "warnings.filterwarnings('ignore')\n",
    "%matplotlib inline\n",
    "pd.set_option(\"display.max_rows\", None,\"display.max_columns\", None)\n",
    "warnings.simplefilter(action='ignore')\n",
    "plt.style.use('seaborn')\n",
    "\n",
    "# Algorithmes\n",
    "import nltk\n",
    "from nltk.corpus import stopwords\n",
    "from nltk.stem import WordNetLemmatizer\n",
    "\n",
    "from sklearn.model_selection import train_test_split\n",
    "from sklearn.feature_extraction.text import CountVectorizer\n",
    "\n",
    "from sklearn.naive_bayes import GaussianNB\n",
    "from sklearn.naive_bayes import BernoulliNB\n",
    "from sklearn.ensemble import RandomForestClassifier\n",
    "from sklearn.neural_network import MLPClassifier\n",
    "\n",
    "from sklearn.model_selection import cross_val_score\n",
    "from sklearn.metrics import confusion_matrix\n",
    "from sklearn.metrics import classification_report\n",
    "from mlxtend.plotting import plot_confusion_matrix"
   ]
  },
  {
   "cell_type": "code",
   "execution_count": 4,
   "metadata": {},
   "outputs": [
    {
     "data": {
      "text/html": [
       "<div>\n",
       "<style scoped>\n",
       "    .dataframe tbody tr th:only-of-type {\n",
       "        vertical-align: middle;\n",
       "    }\n",
       "\n",
       "    .dataframe tbody tr th {\n",
       "        vertical-align: top;\n",
       "    }\n",
       "\n",
       "    .dataframe thead th {\n",
       "        text-align: right;\n",
       "    }\n",
       "</style>\n",
       "<table border=\"1\" class=\"dataframe\">\n",
       "  <thead>\n",
       "    <tr style=\"text-align: right;\">\n",
       "      <th></th>\n",
       "      <th>title</th>\n",
       "      <th>text</th>\n",
       "      <th>subject</th>\n",
       "      <th>date</th>\n",
       "    </tr>\n",
       "  </thead>\n",
       "  <tbody>\n",
       "    <tr>\n",
       "      <th>0</th>\n",
       "      <td>Donald Trump Sends Out Embarrassing New Year’...</td>\n",
       "      <td>Donald Trump just couldn t wish all Americans ...</td>\n",
       "      <td>News</td>\n",
       "      <td>December 31, 2017</td>\n",
       "    </tr>\n",
       "    <tr>\n",
       "      <th>1</th>\n",
       "      <td>Drunk Bragging Trump Staffer Started Russian ...</td>\n",
       "      <td>House Intelligence Committee Chairman Devin Nu...</td>\n",
       "      <td>News</td>\n",
       "      <td>December 31, 2017</td>\n",
       "    </tr>\n",
       "    <tr>\n",
       "      <th>2</th>\n",
       "      <td>Sheriff David Clarke Becomes An Internet Joke...</td>\n",
       "      <td>On Friday, it was revealed that former Milwauk...</td>\n",
       "      <td>News</td>\n",
       "      <td>December 30, 2017</td>\n",
       "    </tr>\n",
       "    <tr>\n",
       "      <th>3</th>\n",
       "      <td>Trump Is So Obsessed He Even Has Obama’s Name...</td>\n",
       "      <td>On Christmas day, Donald Trump announced that ...</td>\n",
       "      <td>News</td>\n",
       "      <td>December 29, 2017</td>\n",
       "    </tr>\n",
       "    <tr>\n",
       "      <th>4</th>\n",
       "      <td>Pope Francis Just Called Out Donald Trump Dur...</td>\n",
       "      <td>Pope Francis used his annual Christmas Day mes...</td>\n",
       "      <td>News</td>\n",
       "      <td>December 25, 2017</td>\n",
       "    </tr>\n",
       "  </tbody>\n",
       "</table>\n",
       "</div>"
      ],
      "text/plain": [
       "                                               title  \\\n",
       "0   Donald Trump Sends Out Embarrassing New Year’...   \n",
       "1   Drunk Bragging Trump Staffer Started Russian ...   \n",
       "2   Sheriff David Clarke Becomes An Internet Joke...   \n",
       "3   Trump Is So Obsessed He Even Has Obama’s Name...   \n",
       "4   Pope Francis Just Called Out Donald Trump Dur...   \n",
       "\n",
       "                                                text subject  \\\n",
       "0  Donald Trump just couldn t wish all Americans ...    News   \n",
       "1  House Intelligence Committee Chairman Devin Nu...    News   \n",
       "2  On Friday, it was revealed that former Milwauk...    News   \n",
       "3  On Christmas day, Donald Trump announced that ...    News   \n",
       "4  Pope Francis used his annual Christmas Day mes...    News   \n",
       "\n",
       "                date  \n",
       "0  December 31, 2017  \n",
       "1  December 31, 2017  \n",
       "2  December 30, 2017  \n",
       "3  December 29, 2017  \n",
       "4  December 25, 2017  "
      ]
     },
     "execution_count": 4,
     "metadata": {},
     "output_type": "execute_result"
    }
   ],
   "source": [
    "df_fake = pd.read_csv('Fake.csv')\n",
    "df_fake.head()"
   ]
  },
  {
   "cell_type": "code",
   "execution_count": null,
   "metadata": {},
   "outputs": [],
   "source": []
  },
  {
   "cell_type": "code",
   "execution_count": 5,
   "metadata": {},
   "outputs": [],
   "source": [
    "df_fake['label']=0\n"
   ]
  },
  {
   "cell_type": "code",
   "execution_count": 6,
   "metadata": {},
   "outputs": [
    {
     "data": {
      "text/html": [
       "<div>\n",
       "<style scoped>\n",
       "    .dataframe tbody tr th:only-of-type {\n",
       "        vertical-align: middle;\n",
       "    }\n",
       "\n",
       "    .dataframe tbody tr th {\n",
       "        vertical-align: top;\n",
       "    }\n",
       "\n",
       "    .dataframe thead th {\n",
       "        text-align: right;\n",
       "    }\n",
       "</style>\n",
       "<table border=\"1\" class=\"dataframe\">\n",
       "  <thead>\n",
       "    <tr style=\"text-align: right;\">\n",
       "      <th></th>\n",
       "      <th>title</th>\n",
       "      <th>text</th>\n",
       "      <th>subject</th>\n",
       "      <th>date</th>\n",
       "    </tr>\n",
       "  </thead>\n",
       "  <tbody>\n",
       "    <tr>\n",
       "      <th>0</th>\n",
       "      <td>As U.S. budget fight looms, Republicans flip t...</td>\n",
       "      <td>WASHINGTON (Reuters) - The head of a conservat...</td>\n",
       "      <td>politicsNews</td>\n",
       "      <td>December 31, 2017</td>\n",
       "    </tr>\n",
       "    <tr>\n",
       "      <th>1</th>\n",
       "      <td>U.S. military to accept transgender recruits o...</td>\n",
       "      <td>WASHINGTON (Reuters) - Transgender people will...</td>\n",
       "      <td>politicsNews</td>\n",
       "      <td>December 29, 2017</td>\n",
       "    </tr>\n",
       "    <tr>\n",
       "      <th>2</th>\n",
       "      <td>Senior U.S. Republican senator: 'Let Mr. Muell...</td>\n",
       "      <td>WASHINGTON (Reuters) - The special counsel inv...</td>\n",
       "      <td>politicsNews</td>\n",
       "      <td>December 31, 2017</td>\n",
       "    </tr>\n",
       "    <tr>\n",
       "      <th>3</th>\n",
       "      <td>FBI Russia probe helped by Australian diplomat...</td>\n",
       "      <td>WASHINGTON (Reuters) - Trump campaign adviser ...</td>\n",
       "      <td>politicsNews</td>\n",
       "      <td>December 30, 2017</td>\n",
       "    </tr>\n",
       "    <tr>\n",
       "      <th>4</th>\n",
       "      <td>Trump wants Postal Service to charge 'much mor...</td>\n",
       "      <td>SEATTLE/WASHINGTON (Reuters) - President Donal...</td>\n",
       "      <td>politicsNews</td>\n",
       "      <td>December 29, 2017</td>\n",
       "    </tr>\n",
       "  </tbody>\n",
       "</table>\n",
       "</div>"
      ],
      "text/plain": [
       "                                               title  \\\n",
       "0  As U.S. budget fight looms, Republicans flip t...   \n",
       "1  U.S. military to accept transgender recruits o...   \n",
       "2  Senior U.S. Republican senator: 'Let Mr. Muell...   \n",
       "3  FBI Russia probe helped by Australian diplomat...   \n",
       "4  Trump wants Postal Service to charge 'much mor...   \n",
       "\n",
       "                                                text       subject  \\\n",
       "0  WASHINGTON (Reuters) - The head of a conservat...  politicsNews   \n",
       "1  WASHINGTON (Reuters) - Transgender people will...  politicsNews   \n",
       "2  WASHINGTON (Reuters) - The special counsel inv...  politicsNews   \n",
       "3  WASHINGTON (Reuters) - Trump campaign adviser ...  politicsNews   \n",
       "4  SEATTLE/WASHINGTON (Reuters) - President Donal...  politicsNews   \n",
       "\n",
       "                 date  \n",
       "0  December 31, 2017   \n",
       "1  December 29, 2017   \n",
       "2  December 31, 2017   \n",
       "3  December 30, 2017   \n",
       "4  December 29, 2017   "
      ]
     },
     "execution_count": 6,
     "metadata": {},
     "output_type": "execute_result"
    }
   ],
   "source": [
    "df_true = pd.read_csv('True.csv')\n",
    "df_true.head()"
   ]
  },
  {
   "cell_type": "code",
   "execution_count": 7,
   "metadata": {},
   "outputs": [],
   "source": [
    "df_true['label']=1"
   ]
  },
  {
   "cell_type": "code",
   "execution_count": 8,
   "metadata": {},
   "outputs": [
    {
     "data": {
      "text/html": [
       "<div>\n",
       "<style scoped>\n",
       "    .dataframe tbody tr th:only-of-type {\n",
       "        vertical-align: middle;\n",
       "    }\n",
       "\n",
       "    .dataframe tbody tr th {\n",
       "        vertical-align: top;\n",
       "    }\n",
       "\n",
       "    .dataframe thead th {\n",
       "        text-align: right;\n",
       "    }\n",
       "</style>\n",
       "<table border=\"1\" class=\"dataframe\">\n",
       "  <thead>\n",
       "    <tr style=\"text-align: right;\">\n",
       "      <th></th>\n",
       "      <th>title</th>\n",
       "      <th>text</th>\n",
       "      <th>subject</th>\n",
       "      <th>date</th>\n",
       "      <th>label</th>\n",
       "    </tr>\n",
       "  </thead>\n",
       "  <tbody>\n",
       "    <tr>\n",
       "      <th>0</th>\n",
       "      <td>WHOA! MICHAEL MOORE Says TRUMP Is Only Hope To...</td>\n",
       "      <td>Every nameless, beaten down, forgotten workin...</td>\n",
       "      <td>politics</td>\n",
       "      <td>Oct 25, 2016</td>\n",
       "      <td>0</td>\n",
       "    </tr>\n",
       "    <tr>\n",
       "      <th>1</th>\n",
       "      <td>Factbox: What to watch in negotiations over de...</td>\n",
       "      <td>WASHINGTON (Reuters) - Republican leaders are ...</td>\n",
       "      <td>politicsNews</td>\n",
       "      <td>December 5, 2017</td>\n",
       "      <td>1</td>\n",
       "    </tr>\n",
       "    <tr>\n",
       "      <th>2</th>\n",
       "      <td>Army chief says Pakistan should 'revisit' Isla...</td>\n",
       "      <td>QUETTA, Pakistan (Reuters) - Pakistan s army c...</td>\n",
       "      <td>worldnews</td>\n",
       "      <td>December 7, 2017</td>\n",
       "      <td>1</td>\n",
       "    </tr>\n",
       "    <tr>\n",
       "      <th>3</th>\n",
       "      <td>Je Suis HYPOCRITES: FREE SPEECH IS EMBRACED WH...</td>\n",
       "      <td>Sooo when terrorists attack Je Suis Charlie, a...</td>\n",
       "      <td>left-news</td>\n",
       "      <td>May 5, 2015</td>\n",
       "      <td>0</td>\n",
       "    </tr>\n",
       "    <tr>\n",
       "      <th>4</th>\n",
       "      <td>Trump declares national emergency on opioid abuse</td>\n",
       "      <td>BEDMINSTER, N.J. (Reuters) - U.S. President Do...</td>\n",
       "      <td>politicsNews</td>\n",
       "      <td>August 10, 2017</td>\n",
       "      <td>1</td>\n",
       "    </tr>\n",
       "  </tbody>\n",
       "</table>\n",
       "</div>"
      ],
      "text/plain": [
       "                                               title  \\\n",
       "0  WHOA! MICHAEL MOORE Says TRUMP Is Only Hope To...   \n",
       "1  Factbox: What to watch in negotiations over de...   \n",
       "2  Army chief says Pakistan should 'revisit' Isla...   \n",
       "3  Je Suis HYPOCRITES: FREE SPEECH IS EMBRACED WH...   \n",
       "4  Trump declares national emergency on opioid abuse   \n",
       "\n",
       "                                                text       subject  \\\n",
       "0   Every nameless, beaten down, forgotten workin...      politics   \n",
       "1  WASHINGTON (Reuters) - Republican leaders are ...  politicsNews   \n",
       "2  QUETTA, Pakistan (Reuters) - Pakistan s army c...     worldnews   \n",
       "3  Sooo when terrorists attack Je Suis Charlie, a...     left-news   \n",
       "4  BEDMINSTER, N.J. (Reuters) - U.S. President Do...  politicsNews   \n",
       "\n",
       "                date  label  \n",
       "0       Oct 25, 2016      0  \n",
       "1  December 5, 2017       1  \n",
       "2  December 7, 2017       1  \n",
       "3        May 5, 2015      0  \n",
       "4   August 10, 2017       1  "
      ]
     },
     "execution_count": 8,
     "metadata": {},
     "output_type": "execute_result"
    }
   ],
   "source": [
    "df=pd.concat([df_fake,df_true],ignore_index=True)\n",
    "df = df.sample(frac = 1,random_state=24).reset_index(drop=True)\n",
    "df.head()"
   ]
  },
  {
   "cell_type": "code",
   "execution_count": 9,
   "metadata": {},
   "outputs": [
    {
     "name": "stdout",
     "output_type": "stream",
     "text": [
      "<class 'pandas.core.frame.DataFrame'>\n",
      "RangeIndex: 44898 entries, 0 to 44897\n",
      "Data columns (total 5 columns):\n",
      " #   Column   Non-Null Count  Dtype \n",
      "---  ------   --------------  ----- \n",
      " 0   title    44898 non-null  object\n",
      " 1   text     44898 non-null  object\n",
      " 2   subject  44898 non-null  object\n",
      " 3   date     44898 non-null  object\n",
      " 4   label    44898 non-null  int64 \n",
      "dtypes: int64(1), object(4)\n",
      "memory usage: 1.7+ MB\n"
     ]
    }
   ],
   "source": [
    "df.info()"
   ]
  },
  {
   "cell_type": "code",
   "execution_count": 10,
   "metadata": {},
   "outputs": [
    {
     "data": {
      "text/plain": [
       "title      0\n",
       "text       0\n",
       "subject    0\n",
       "date       0\n",
       "label      0\n",
       "dtype: int64"
      ]
     },
     "execution_count": 10,
     "metadata": {},
     "output_type": "execute_result"
    }
   ],
   "source": [
    "df.isnull().sum()"
   ]
  },
  {
   "cell_type": "code",
   "execution_count": 11,
   "metadata": {},
   "outputs": [
    {
     "data": {
      "text/plain": [
       "209"
      ]
     },
     "execution_count": 11,
     "metadata": {},
     "output_type": "execute_result"
    }
   ],
   "source": [
    "df.duplicated().sum()"
   ]
  },
  {
   "cell_type": "code",
   "execution_count": 12,
   "metadata": {},
   "outputs": [],
   "source": [
    "df.drop_duplicates(inplace=True)"
   ]
  },
  {
   "cell_type": "code",
   "execution_count": 13,
   "metadata": {},
   "outputs": [
    {
     "data": {
      "text/html": [
       "<div>\n",
       "<style scoped>\n",
       "    .dataframe tbody tr th:only-of-type {\n",
       "        vertical-align: middle;\n",
       "    }\n",
       "\n",
       "    .dataframe tbody tr th {\n",
       "        vertical-align: top;\n",
       "    }\n",
       "\n",
       "    .dataframe thead th {\n",
       "        text-align: right;\n",
       "    }\n",
       "</style>\n",
       "<table border=\"1\" class=\"dataframe\">\n",
       "  <thead>\n",
       "    <tr style=\"text-align: right;\">\n",
       "      <th></th>\n",
       "      <th>title</th>\n",
       "      <th>text</th>\n",
       "      <th>subject</th>\n",
       "      <th>date</th>\n",
       "      <th>label</th>\n",
       "    </tr>\n",
       "  </thead>\n",
       "  <tbody>\n",
       "    <tr>\n",
       "      <th>0</th>\n",
       "      <td>WHOA! MICHAEL MOORE Says TRUMP Is Only Hope To...</td>\n",
       "      <td>Every nameless, beaten down, forgotten workin...</td>\n",
       "      <td>politics</td>\n",
       "      <td>Oct 25, 2016</td>\n",
       "      <td>0</td>\n",
       "    </tr>\n",
       "    <tr>\n",
       "      <th>1</th>\n",
       "      <td>Factbox: What to watch in negotiations over de...</td>\n",
       "      <td>WASHINGTON (Reuters) - Republican leaders are ...</td>\n",
       "      <td>politicsNews</td>\n",
       "      <td>December 5, 2017</td>\n",
       "      <td>1</td>\n",
       "    </tr>\n",
       "    <tr>\n",
       "      <th>2</th>\n",
       "      <td>Army chief says Pakistan should 'revisit' Isla...</td>\n",
       "      <td>QUETTA, Pakistan (Reuters) - Pakistan s army c...</td>\n",
       "      <td>worldnews</td>\n",
       "      <td>December 7, 2017</td>\n",
       "      <td>1</td>\n",
       "    </tr>\n",
       "    <tr>\n",
       "      <th>3</th>\n",
       "      <td>Je Suis HYPOCRITES: FREE SPEECH IS EMBRACED WH...</td>\n",
       "      <td>Sooo when terrorists attack Je Suis Charlie, a...</td>\n",
       "      <td>left-news</td>\n",
       "      <td>May 5, 2015</td>\n",
       "      <td>0</td>\n",
       "    </tr>\n",
       "    <tr>\n",
       "      <th>4</th>\n",
       "      <td>Trump declares national emergency on opioid abuse</td>\n",
       "      <td>BEDMINSTER, N.J. (Reuters) - U.S. President Do...</td>\n",
       "      <td>politicsNews</td>\n",
       "      <td>August 10, 2017</td>\n",
       "      <td>1</td>\n",
       "    </tr>\n",
       "  </tbody>\n",
       "</table>\n",
       "</div>"
      ],
      "text/plain": [
       "                                               title  \\\n",
       "0  WHOA! MICHAEL MOORE Says TRUMP Is Only Hope To...   \n",
       "1  Factbox: What to watch in negotiations over de...   \n",
       "2  Army chief says Pakistan should 'revisit' Isla...   \n",
       "3  Je Suis HYPOCRITES: FREE SPEECH IS EMBRACED WH...   \n",
       "4  Trump declares national emergency on opioid abuse   \n",
       "\n",
       "                                                text       subject  \\\n",
       "0   Every nameless, beaten down, forgotten workin...      politics   \n",
       "1  WASHINGTON (Reuters) - Republican leaders are ...  politicsNews   \n",
       "2  QUETTA, Pakistan (Reuters) - Pakistan s army c...     worldnews   \n",
       "3  Sooo when terrorists attack Je Suis Charlie, a...     left-news   \n",
       "4  BEDMINSTER, N.J. (Reuters) - U.S. President Do...  politicsNews   \n",
       "\n",
       "                date  label  \n",
       "0       Oct 25, 2016      0  \n",
       "1  December 5, 2017       1  \n",
       "2  December 7, 2017       1  \n",
       "3        May 5, 2015      0  \n",
       "4   August 10, 2017       1  "
      ]
     },
     "execution_count": 13,
     "metadata": {},
     "output_type": "execute_result"
    }
   ],
   "source": [
    "df.head()"
   ]
  },
  {
   "cell_type": "code",
   "execution_count": 14,
   "metadata": {},
   "outputs": [
    {
     "data": {
      "text/plain": [
       "['June', '28, 2016']"
      ]
     },
     "execution_count": 14,
     "metadata": {},
     "output_type": "execute_result"
    }
   ],
   "source": [
    "# extract the month\n",
    "x='June 28, 2016'\n",
    "re.split('\\s',x,1)#[0]"
   ]
  },
  {
   "cell_type": "code",
   "execution_count": 15,
   "metadata": {},
   "outputs": [],
   "source": [
    "df['month']=df['date'].apply(lambda x:re.split('\\s',x,1)[0])"
   ]
  },
  {
   "cell_type": "code",
   "execution_count": 16,
   "metadata": {},
   "outputs": [
    {
     "data": {
      "text/plain": [
       "'28'"
      ]
     },
     "execution_count": 16,
     "metadata": {},
     "output_type": "execute_result"
    }
   ],
   "source": [
    "# extract the day\n",
    "x='June 28, 2016'\n",
    "re.search('\\d{2}',x).group()"
   ]
  },
  {
   "cell_type": "code",
   "execution_count": 17,
   "metadata": {},
   "outputs": [],
   "source": [
    "# df['day']=df['date'].apply(lambda x:re.search('\\d{2}',x).group())\n",
    "# it does not work because some dates do not have a day\n",
    "def _day_(x):\n",
    "    try:\n",
    "        value=re.search('\\d{2}',x).group()\n",
    "    except:\n",
    "        value= df['day']=np.nan\n",
    "    return value\n",
    "df['day']=df['date'].apply(_day_)"
   ]
  },
  {
   "cell_type": "code",
   "execution_count": 18,
   "metadata": {},
   "outputs": [
    {
     "data": {
      "text/plain": [
       "'2016'"
      ]
     },
     "execution_count": 18,
     "metadata": {},
     "output_type": "execute_result"
    }
   ],
   "source": [
    "# extract the year\n",
    "x='June 28, 2016'\n",
    "re.search('\\d{4}',x).group()"
   ]
  },
  {
   "cell_type": "code",
   "execution_count": 19,
   "metadata": {},
   "outputs": [],
   "source": [
    "#df['year']=df['date'].apply(lambda x:re.search('\\d{4}',x).group())\n",
    "#it does not work because some dates do not have a year\n",
    "def _year_(x):\n",
    "    try:\n",
    "        value=re.search('\\d{4}',x).group()\n",
    "    except:\n",
    "        value= df['year']=np.nan\n",
    "    return value\n",
    "df['year']=df['date'].apply(_year_)"
   ]
  },
  {
   "cell_type": "code",
   "execution_count": 20,
   "metadata": {},
   "outputs": [
    {
     "data": {
      "text/html": [
       "<div>\n",
       "<style scoped>\n",
       "    .dataframe tbody tr th:only-of-type {\n",
       "        vertical-align: middle;\n",
       "    }\n",
       "\n",
       "    .dataframe tbody tr th {\n",
       "        vertical-align: top;\n",
       "    }\n",
       "\n",
       "    .dataframe thead th {\n",
       "        text-align: right;\n",
       "    }\n",
       "</style>\n",
       "<table border=\"1\" class=\"dataframe\">\n",
       "  <thead>\n",
       "    <tr style=\"text-align: right;\">\n",
       "      <th></th>\n",
       "      <th>title</th>\n",
       "      <th>text</th>\n",
       "      <th>subject</th>\n",
       "      <th>date</th>\n",
       "      <th>label</th>\n",
       "      <th>month</th>\n",
       "      <th>day</th>\n",
       "      <th>year</th>\n",
       "    </tr>\n",
       "  </thead>\n",
       "  <tbody>\n",
       "    <tr>\n",
       "      <th>0</th>\n",
       "      <td>WHOA! MICHAEL MOORE Says TRUMP Is Only Hope To...</td>\n",
       "      <td>Every nameless, beaten down, forgotten workin...</td>\n",
       "      <td>politics</td>\n",
       "      <td>Oct 25, 2016</td>\n",
       "      <td>0</td>\n",
       "      <td>Oct</td>\n",
       "      <td>25</td>\n",
       "      <td>2016</td>\n",
       "    </tr>\n",
       "    <tr>\n",
       "      <th>1</th>\n",
       "      <td>Factbox: What to watch in negotiations over de...</td>\n",
       "      <td>WASHINGTON (Reuters) - Republican leaders are ...</td>\n",
       "      <td>politicsNews</td>\n",
       "      <td>December 5, 2017</td>\n",
       "      <td>1</td>\n",
       "      <td>December</td>\n",
       "      <td>20</td>\n",
       "      <td>2017</td>\n",
       "    </tr>\n",
       "    <tr>\n",
       "      <th>2</th>\n",
       "      <td>Army chief says Pakistan should 'revisit' Isla...</td>\n",
       "      <td>QUETTA, Pakistan (Reuters) - Pakistan s army c...</td>\n",
       "      <td>worldnews</td>\n",
       "      <td>December 7, 2017</td>\n",
       "      <td>1</td>\n",
       "      <td>December</td>\n",
       "      <td>20</td>\n",
       "      <td>2017</td>\n",
       "    </tr>\n",
       "    <tr>\n",
       "      <th>3</th>\n",
       "      <td>Je Suis HYPOCRITES: FREE SPEECH IS EMBRACED WH...</td>\n",
       "      <td>Sooo when terrorists attack Je Suis Charlie, a...</td>\n",
       "      <td>left-news</td>\n",
       "      <td>May 5, 2015</td>\n",
       "      <td>0</td>\n",
       "      <td>May</td>\n",
       "      <td>20</td>\n",
       "      <td>2015</td>\n",
       "    </tr>\n",
       "    <tr>\n",
       "      <th>4</th>\n",
       "      <td>Trump declares national emergency on opioid abuse</td>\n",
       "      <td>BEDMINSTER, N.J. (Reuters) - U.S. President Do...</td>\n",
       "      <td>politicsNews</td>\n",
       "      <td>August 10, 2017</td>\n",
       "      <td>1</td>\n",
       "      <td>August</td>\n",
       "      <td>10</td>\n",
       "      <td>2017</td>\n",
       "    </tr>\n",
       "  </tbody>\n",
       "</table>\n",
       "</div>"
      ],
      "text/plain": [
       "                                               title  \\\n",
       "0  WHOA! MICHAEL MOORE Says TRUMP Is Only Hope To...   \n",
       "1  Factbox: What to watch in negotiations over de...   \n",
       "2  Army chief says Pakistan should 'revisit' Isla...   \n",
       "3  Je Suis HYPOCRITES: FREE SPEECH IS EMBRACED WH...   \n",
       "4  Trump declares national emergency on opioid abuse   \n",
       "\n",
       "                                                text       subject  \\\n",
       "0   Every nameless, beaten down, forgotten workin...      politics   \n",
       "1  WASHINGTON (Reuters) - Republican leaders are ...  politicsNews   \n",
       "2  QUETTA, Pakistan (Reuters) - Pakistan s army c...     worldnews   \n",
       "3  Sooo when terrorists attack Je Suis Charlie, a...     left-news   \n",
       "4  BEDMINSTER, N.J. (Reuters) - U.S. President Do...  politicsNews   \n",
       "\n",
       "                date  label     month day  year  \n",
       "0       Oct 25, 2016      0       Oct  25  2016  \n",
       "1  December 5, 2017       1  December  20  2017  \n",
       "2  December 7, 2017       1  December  20  2017  \n",
       "3        May 5, 2015      0       May  20  2015  \n",
       "4   August 10, 2017       1    August  10  2017  "
      ]
     },
     "execution_count": 20,
     "metadata": {},
     "output_type": "execute_result"
    }
   ],
   "source": [
    "df.head()"
   ]
  },
  {
   "cell_type": "code",
   "execution_count": 21,
   "metadata": {},
   "outputs": [
    {
     "data": {
      "text/plain": [
       "title       0\n",
       "text        0\n",
       "subject     0\n",
       "date        0\n",
       "label       0\n",
       "month       0\n",
       "day         1\n",
       "year       39\n",
       "dtype: int64"
      ]
     },
     "execution_count": 21,
     "metadata": {},
     "output_type": "execute_result"
    }
   ],
   "source": [
    "df.isnull().sum()"
   ]
  },
  {
   "cell_type": "code",
   "execution_count": 22,
   "metadata": {},
   "outputs": [],
   "source": [
    "# drop rows that have null values\n",
    "df.dropna(inplace=True)"
   ]
  },
  {
   "cell_type": "code",
   "execution_count": 23,
   "metadata": {},
   "outputs": [
    {
     "data": {
      "text/plain": [
       "array(['Oct', 'December', 'May', 'August', 'November', 'April', 'June',\n",
       "       'October', 'Nov', 'January', 'Aug', 'March', 'Jun', 'Jul', 'Feb',\n",
       "       'September', 'February', 'July', 'Mar', 'Jan', 'Dec', 'Sep', 'Apr',\n",
       "       'https://fedup.wpengine.com/wp-content/uploads/2015/04/hillarystreetart.jpg',\n",
       "       'https://fedup.wpengine.com/wp-content/uploads/2015/04/entitled.jpg'],\n",
       "      dtype=object)"
      ]
     },
     "execution_count": 23,
     "metadata": {},
     "output_type": "execute_result"
    }
   ],
   "source": [
    "df.month.unique()"
   ]
  },
  {
   "cell_type": "code",
   "execution_count": 24,
   "metadata": {},
   "outputs": [],
   "source": [
    "# drop rows 2718,36769,42879\n",
    "df.drop([2718,36769,42879],axis=0,inplace=True)"
   ]
  },
  {
   "cell_type": "code",
   "execution_count": 25,
   "metadata": {},
   "outputs": [
    {
     "data": {
      "text/html": [
       "<div>\n",
       "<style scoped>\n",
       "    .dataframe tbody tr th:only-of-type {\n",
       "        vertical-align: middle;\n",
       "    }\n",
       "\n",
       "    .dataframe tbody tr th {\n",
       "        vertical-align: top;\n",
       "    }\n",
       "\n",
       "    .dataframe thead th {\n",
       "        text-align: right;\n",
       "    }\n",
       "</style>\n",
       "<table border=\"1\" class=\"dataframe\">\n",
       "  <thead>\n",
       "    <tr style=\"text-align: right;\">\n",
       "      <th></th>\n",
       "      <th>title</th>\n",
       "      <th>text</th>\n",
       "      <th>subject</th>\n",
       "      <th>date</th>\n",
       "      <th>label</th>\n",
       "      <th>month</th>\n",
       "      <th>day</th>\n",
       "      <th>year</th>\n",
       "    </tr>\n",
       "  </thead>\n",
       "  <tbody>\n",
       "    <tr>\n",
       "      <th>35210</th>\n",
       "      <td>https://fedup.wpengine.com/wp-content/uploads/...</td>\n",
       "      <td>https://fedup.wpengine.com/wp-content/uploads/...</td>\n",
       "      <td>Government News</td>\n",
       "      <td>https://fedup.wpengine.com/wp-content/uploads/...</td>\n",
       "      <td>0</td>\n",
       "      <td>https://fedup.wpengine.com/wp-content/uploads/...</td>\n",
       "      <td>20</td>\n",
       "      <td>2015</td>\n",
       "    </tr>\n",
       "    <tr>\n",
       "      <th>42816</th>\n",
       "      <td>https://fedup.wpengine.com/wp-content/uploads/...</td>\n",
       "      <td>https://fedup.wpengine.com/wp-content/uploads/...</td>\n",
       "      <td>left-news</td>\n",
       "      <td>https://fedup.wpengine.com/wp-content/uploads/...</td>\n",
       "      <td>0</td>\n",
       "      <td>https://fedup.wpengine.com/wp-content/uploads/...</td>\n",
       "      <td>20</td>\n",
       "      <td>2015</td>\n",
       "    </tr>\n",
       "    <tr>\n",
       "      <th>43581</th>\n",
       "      <td>https://fedup.wpengine.com/wp-content/uploads/...</td>\n",
       "      <td>https://fedup.wpengine.com/wp-content/uploads/...</td>\n",
       "      <td>politics</td>\n",
       "      <td>https://fedup.wpengine.com/wp-content/uploads/...</td>\n",
       "      <td>0</td>\n",
       "      <td>https://fedup.wpengine.com/wp-content/uploads/...</td>\n",
       "      <td>20</td>\n",
       "      <td>2015</td>\n",
       "    </tr>\n",
       "  </tbody>\n",
       "</table>\n",
       "</div>"
      ],
      "text/plain": [
       "                                                   title  \\\n",
       "35210  https://fedup.wpengine.com/wp-content/uploads/...   \n",
       "42816  https://fedup.wpengine.com/wp-content/uploads/...   \n",
       "43581  https://fedup.wpengine.com/wp-content/uploads/...   \n",
       "\n",
       "                                                    text          subject  \\\n",
       "35210  https://fedup.wpengine.com/wp-content/uploads/...  Government News   \n",
       "42816  https://fedup.wpengine.com/wp-content/uploads/...        left-news   \n",
       "43581  https://fedup.wpengine.com/wp-content/uploads/...         politics   \n",
       "\n",
       "                                                    date  label  \\\n",
       "35210  https://fedup.wpengine.com/wp-content/uploads/...      0   \n",
       "42816  https://fedup.wpengine.com/wp-content/uploads/...      0   \n",
       "43581  https://fedup.wpengine.com/wp-content/uploads/...      0   \n",
       "\n",
       "                                                   month day  year  \n",
       "35210  https://fedup.wpengine.com/wp-content/uploads/...  20  2015  \n",
       "42816  https://fedup.wpengine.com/wp-content/uploads/...  20  2015  \n",
       "43581  https://fedup.wpengine.com/wp-content/uploads/...  20  2015  "
      ]
     },
     "execution_count": 25,
     "metadata": {},
     "output_type": "execute_result"
    }
   ],
   "source": [
    "df[df['month']=='https://fedup.wpengine.com/wp-content/uploads/2015/04/entitled.jpg']"
   ]
  },
  {
   "cell_type": "code",
   "execution_count": 26,
   "metadata": {},
   "outputs": [],
   "source": [
    "# drop rows 35210,42816,43581\n",
    "df.drop([35210,42816,43581],axis=0,inplace=True)"
   ]
  },
  {
   "cell_type": "code",
   "execution_count": 27,
   "metadata": {},
   "outputs": [
    {
     "data": {
      "text/plain": [
       "array(['Oct', 'December', 'May', 'August', 'November', 'April', 'June',\n",
       "       'October', 'Nov', 'January', 'Aug', 'March', 'Jun', 'Jul', 'Feb',\n",
       "       'September', 'February', 'July', 'Mar', 'Jan', 'Dec', 'Sep', 'Apr'],\n",
       "      dtype=object)"
      ]
     },
     "execution_count": 27,
     "metadata": {},
     "output_type": "execute_result"
    }
   ],
   "source": [
    "df.month.unique()"
   ]
  },
  {
   "cell_type": "code",
   "execution_count": 28,
   "metadata": {},
   "outputs": [],
   "source": [
    "mon = {'January':'01',\n",
    "        'February':'02',\n",
    "        'March':'03',\n",
    "        'April':'04',\n",
    "        'May':'05',\n",
    "        'June':'06',\n",
    "        'July':'07',\n",
    "        'August':'08',\n",
    "        'September':'09',\n",
    "        'October':'10',\n",
    "        'November':'11',\n",
    "        'December':'12',\n",
    "        'Jan':'01',\n",
    "        'Feb':'02',\n",
    "        'Mar':'03',\n",
    "        'Apr':'04',\n",
    "        'Jun':'06',\n",
    "        'Jul':'07',\n",
    "        'Aug':'08',\n",
    "        'Sep':'09',\n",
    "        'Oct':'10',\n",
    "        'Nov':'11',\n",
    "        'Dec':'12'}\n",
    "df['month']=df['month'].map(mon)"
   ]
  },
  {
   "cell_type": "code",
   "execution_count": 29,
   "metadata": {},
   "outputs": [
    {
     "data": {
      "text/plain": [
       "array(['10', '12', '05', '08', '11', '04', '06', '01', '03', '07', '02',\n",
       "       '09'], dtype=object)"
      ]
     },
     "execution_count": 29,
     "metadata": {},
     "output_type": "execute_result"
    }
   ],
   "source": [
    "df['month'].unique()\n"
   ]
  },
  {
   "cell_type": "code",
   "execution_count": 30,
   "metadata": {},
   "outputs": [],
   "source": [
    "# now create a new date column clearly\n",
    "df['new_date']=df['year']+'-'+df['month']+'-'+df['day']"
   ]
  },
  {
   "cell_type": "code",
   "execution_count": 31,
   "metadata": {},
   "outputs": [
    {
     "data": {
      "text/html": [
       "<div>\n",
       "<style scoped>\n",
       "    .dataframe tbody tr th:only-of-type {\n",
       "        vertical-align: middle;\n",
       "    }\n",
       "\n",
       "    .dataframe tbody tr th {\n",
       "        vertical-align: top;\n",
       "    }\n",
       "\n",
       "    .dataframe thead th {\n",
       "        text-align: right;\n",
       "    }\n",
       "</style>\n",
       "<table border=\"1\" class=\"dataframe\">\n",
       "  <thead>\n",
       "    <tr style=\"text-align: right;\">\n",
       "      <th></th>\n",
       "      <th>title</th>\n",
       "      <th>text</th>\n",
       "      <th>subject</th>\n",
       "      <th>date</th>\n",
       "      <th>label</th>\n",
       "      <th>month</th>\n",
       "      <th>day</th>\n",
       "      <th>year</th>\n",
       "      <th>new_date</th>\n",
       "    </tr>\n",
       "  </thead>\n",
       "  <tbody>\n",
       "    <tr>\n",
       "      <th>0</th>\n",
       "      <td>WHOA! MICHAEL MOORE Says TRUMP Is Only Hope To...</td>\n",
       "      <td>Every nameless, beaten down, forgotten workin...</td>\n",
       "      <td>politics</td>\n",
       "      <td>Oct 25, 2016</td>\n",
       "      <td>0</td>\n",
       "      <td>10</td>\n",
       "      <td>25</td>\n",
       "      <td>2016</td>\n",
       "      <td>2016-10-25</td>\n",
       "    </tr>\n",
       "    <tr>\n",
       "      <th>1</th>\n",
       "      <td>Factbox: What to watch in negotiations over de...</td>\n",
       "      <td>WASHINGTON (Reuters) - Republican leaders are ...</td>\n",
       "      <td>politicsNews</td>\n",
       "      <td>December 5, 2017</td>\n",
       "      <td>1</td>\n",
       "      <td>12</td>\n",
       "      <td>20</td>\n",
       "      <td>2017</td>\n",
       "      <td>2017-12-20</td>\n",
       "    </tr>\n",
       "    <tr>\n",
       "      <th>2</th>\n",
       "      <td>Army chief says Pakistan should 'revisit' Isla...</td>\n",
       "      <td>QUETTA, Pakistan (Reuters) - Pakistan s army c...</td>\n",
       "      <td>worldnews</td>\n",
       "      <td>December 7, 2017</td>\n",
       "      <td>1</td>\n",
       "      <td>12</td>\n",
       "      <td>20</td>\n",
       "      <td>2017</td>\n",
       "      <td>2017-12-20</td>\n",
       "    </tr>\n",
       "    <tr>\n",
       "      <th>3</th>\n",
       "      <td>Je Suis HYPOCRITES: FREE SPEECH IS EMBRACED WH...</td>\n",
       "      <td>Sooo when terrorists attack Je Suis Charlie, a...</td>\n",
       "      <td>left-news</td>\n",
       "      <td>May 5, 2015</td>\n",
       "      <td>0</td>\n",
       "      <td>05</td>\n",
       "      <td>20</td>\n",
       "      <td>2015</td>\n",
       "      <td>2015-05-20</td>\n",
       "    </tr>\n",
       "    <tr>\n",
       "      <th>4</th>\n",
       "      <td>Trump declares national emergency on opioid abuse</td>\n",
       "      <td>BEDMINSTER, N.J. (Reuters) - U.S. President Do...</td>\n",
       "      <td>politicsNews</td>\n",
       "      <td>August 10, 2017</td>\n",
       "      <td>1</td>\n",
       "      <td>08</td>\n",
       "      <td>10</td>\n",
       "      <td>2017</td>\n",
       "      <td>2017-08-10</td>\n",
       "    </tr>\n",
       "  </tbody>\n",
       "</table>\n",
       "</div>"
      ],
      "text/plain": [
       "                                               title  \\\n",
       "0  WHOA! MICHAEL MOORE Says TRUMP Is Only Hope To...   \n",
       "1  Factbox: What to watch in negotiations over de...   \n",
       "2  Army chief says Pakistan should 'revisit' Isla...   \n",
       "3  Je Suis HYPOCRITES: FREE SPEECH IS EMBRACED WH...   \n",
       "4  Trump declares national emergency on opioid abuse   \n",
       "\n",
       "                                                text       subject  \\\n",
       "0   Every nameless, beaten down, forgotten workin...      politics   \n",
       "1  WASHINGTON (Reuters) - Republican leaders are ...  politicsNews   \n",
       "2  QUETTA, Pakistan (Reuters) - Pakistan s army c...     worldnews   \n",
       "3  Sooo when terrorists attack Je Suis Charlie, a...     left-news   \n",
       "4  BEDMINSTER, N.J. (Reuters) - U.S. President Do...  politicsNews   \n",
       "\n",
       "                date  label month day  year    new_date  \n",
       "0       Oct 25, 2016      0    10  25  2016  2016-10-25  \n",
       "1  December 5, 2017       1    12  20  2017  2017-12-20  \n",
       "2  December 7, 2017       1    12  20  2017  2017-12-20  \n",
       "3        May 5, 2015      0    05  20  2015  2015-05-20  \n",
       "4   August 10, 2017       1    08  10  2017  2017-08-10  "
      ]
     },
     "execution_count": 31,
     "metadata": {},
     "output_type": "execute_result"
    }
   ],
   "source": [
    "df.head()"
   ]
  },
  {
   "cell_type": "code",
   "execution_count": 32,
   "metadata": {},
   "outputs": [],
   "source": [
    "# now I can convert to date time\n",
    "df['new_date']=pd.to_datetime(df['new_date'])"
   ]
  },
  {
   "cell_type": "code",
   "execution_count": 33,
   "metadata": {},
   "outputs": [],
   "source": [
    "# drop columns 'date','day','month','year'\n",
    "df.drop(columns=['date','day','month','year'],inplace=True)"
   ]
  },
  {
   "cell_type": "code",
   "execution_count": 34,
   "metadata": {},
   "outputs": [
    {
     "data": {
      "text/html": [
       "<div>\n",
       "<style scoped>\n",
       "    .dataframe tbody tr th:only-of-type {\n",
       "        vertical-align: middle;\n",
       "    }\n",
       "\n",
       "    .dataframe tbody tr th {\n",
       "        vertical-align: top;\n",
       "    }\n",
       "\n",
       "    .dataframe thead th {\n",
       "        text-align: right;\n",
       "    }\n",
       "</style>\n",
       "<table border=\"1\" class=\"dataframe\">\n",
       "  <thead>\n",
       "    <tr style=\"text-align: right;\">\n",
       "      <th></th>\n",
       "      <th>title</th>\n",
       "      <th>text</th>\n",
       "      <th>subject</th>\n",
       "      <th>label</th>\n",
       "      <th>new_date</th>\n",
       "    </tr>\n",
       "  </thead>\n",
       "  <tbody>\n",
       "    <tr>\n",
       "      <th>0</th>\n",
       "      <td>WHOA! MICHAEL MOORE Says TRUMP Is Only Hope To...</td>\n",
       "      <td>Every nameless, beaten down, forgotten workin...</td>\n",
       "      <td>politics</td>\n",
       "      <td>0</td>\n",
       "      <td>2016-10-25</td>\n",
       "    </tr>\n",
       "    <tr>\n",
       "      <th>1</th>\n",
       "      <td>Factbox: What to watch in negotiations over de...</td>\n",
       "      <td>WASHINGTON (Reuters) - Republican leaders are ...</td>\n",
       "      <td>politicsNews</td>\n",
       "      <td>1</td>\n",
       "      <td>2017-12-20</td>\n",
       "    </tr>\n",
       "    <tr>\n",
       "      <th>2</th>\n",
       "      <td>Army chief says Pakistan should 'revisit' Isla...</td>\n",
       "      <td>QUETTA, Pakistan (Reuters) - Pakistan s army c...</td>\n",
       "      <td>worldnews</td>\n",
       "      <td>1</td>\n",
       "      <td>2017-12-20</td>\n",
       "    </tr>\n",
       "    <tr>\n",
       "      <th>3</th>\n",
       "      <td>Je Suis HYPOCRITES: FREE SPEECH IS EMBRACED WH...</td>\n",
       "      <td>Sooo when terrorists attack Je Suis Charlie, a...</td>\n",
       "      <td>left-news</td>\n",
       "      <td>0</td>\n",
       "      <td>2015-05-20</td>\n",
       "    </tr>\n",
       "    <tr>\n",
       "      <th>4</th>\n",
       "      <td>Trump declares national emergency on opioid abuse</td>\n",
       "      <td>BEDMINSTER, N.J. (Reuters) - U.S. President Do...</td>\n",
       "      <td>politicsNews</td>\n",
       "      <td>1</td>\n",
       "      <td>2017-08-10</td>\n",
       "    </tr>\n",
       "  </tbody>\n",
       "</table>\n",
       "</div>"
      ],
      "text/plain": [
       "                                               title  \\\n",
       "0  WHOA! MICHAEL MOORE Says TRUMP Is Only Hope To...   \n",
       "1  Factbox: What to watch in negotiations over de...   \n",
       "2  Army chief says Pakistan should 'revisit' Isla...   \n",
       "3  Je Suis HYPOCRITES: FREE SPEECH IS EMBRACED WH...   \n",
       "4  Trump declares national emergency on opioid abuse   \n",
       "\n",
       "                                                text       subject  label  \\\n",
       "0   Every nameless, beaten down, forgotten workin...      politics      0   \n",
       "1  WASHINGTON (Reuters) - Republican leaders are ...  politicsNews      1   \n",
       "2  QUETTA, Pakistan (Reuters) - Pakistan s army c...     worldnews      1   \n",
       "3  Sooo when terrorists attack Je Suis Charlie, a...     left-news      0   \n",
       "4  BEDMINSTER, N.J. (Reuters) - U.S. President Do...  politicsNews      1   \n",
       "\n",
       "    new_date  \n",
       "0 2016-10-25  \n",
       "1 2017-12-20  \n",
       "2 2017-12-20  \n",
       "3 2015-05-20  \n",
       "4 2017-08-10  "
      ]
     },
     "execution_count": 34,
     "metadata": {},
     "output_type": "execute_result"
    }
   ],
   "source": [
    "df.head()"
   ]
  },
  {
   "attachments": {},
   "cell_type": "markdown",
   "metadata": {},
   "source": [
    "# EDA"
   ]
  },
  {
   "cell_type": "code",
   "execution_count": 35,
   "metadata": {},
   "outputs": [
    {
     "data": {
      "text/plain": [
       "Timestamp('2015-03-31 00:00:00')"
      ]
     },
     "execution_count": 35,
     "metadata": {},
     "output_type": "execute_result"
    }
   ],
   "source": [
    "# min date\n",
    "df['new_date'].min()"
   ]
  },
  {
   "cell_type": "code",
   "execution_count": 36,
   "metadata": {},
   "outputs": [
    {
     "data": {
      "text/plain": [
       "Timestamp('2017-12-31 00:00:00')"
      ]
     },
     "execution_count": 36,
     "metadata": {},
     "output_type": "execute_result"
    }
   ],
   "source": [
    "# max date\n",
    "df['new_date'].max()"
   ]
  },
  {
   "cell_type": "code",
   "execution_count": 37,
   "metadata": {},
   "outputs": [
    {
     "data": {
      "image/png": "[encoded data removed]",
      "text/plain": [
       "<Figure size 1440x432 with 1 Axes>"
      ]
     },
     "metadata": {},
     "output_type": "display_data"
    }
   ],
   "source": [
    "plt.figure(figsize=(20,6))\n",
    "df[df['label']==0].groupby([pd.Grouper(key='new_date', freq='W')])['label'].count().plot(kind='line',label='fake',c='red')\n",
    "df[df['label']==1].groupby([pd.Grouper(key='new_date', freq='W')])['label'].count().plot(kind='line',label='true')\n",
    "plt.title(\"news over the months \",\n",
    "          fontsize='20',\n",
    "          backgroundcolor='white',\n",
    "          color='Purple')\n",
    "plt.legend();"
   ]
  },
  {
   "cell_type": "code",
   "execution_count": 38,
   "metadata": {},
   "outputs": [
    {
     "data": {
      "image/png": "[encoded data removed]",
      "text/plain": [
       "<Figure size 1080x360 with 2 Axes>"
      ]
     },
     "metadata": {},
     "output_type": "display_data"
    }
   ],
   "source": [
    "fig,ax=plt.subplots(ncols=2,nrows=1,figsize=(15,5))\n",
    "sns.countplot(x='subject',data=df[df['label']==0],palette='rocket', order = df[df['label']==0]['subject'].value_counts().index,ax=ax[0]).set(title='fake subjects')  #rocket_r  \n",
    "sns.countplot(x='subject',data=df[df['label']==1],palette='rocket', order = df[df['label']==1]['subject'].value_counts().index,ax=ax[1]).set(title='true subjects')\n",
    "plt.tight_layout();"
   ]
  },
  {
   "attachments": {},
   "cell_type": "markdown",
   "metadata": {},
   "source": [
    "# Data Modeling"
   ]
  },
  {
   "cell_type": "code",
   "execution_count": 39,
   "metadata": {},
   "outputs": [],
   "source": [
    "df['txt']=df['title']+' '+df['text']"
   ]
  },
  {
   "cell_type": "code",
   "execution_count": 40,
   "metadata": {},
   "outputs": [],
   "source": [
    "# the data is very big and it take more time so I will use only 10000 rows\n",
    "min_df=df.head(10000)"
   ]
  },
  {
   "cell_type": "code",
   "execution_count": 41,
   "metadata": {},
   "outputs": [
    {
     "data": {
      "text/html": [
       "<div>\n",
       "<style scoped>\n",
       "    .dataframe tbody tr th:only-of-type {\n",
       "        vertical-align: middle;\n",
       "    }\n",
       "\n",
       "    .dataframe tbody tr th {\n",
       "        vertical-align: top;\n",
       "    }\n",
       "\n",
       "    .dataframe thead th {\n",
       "        text-align: right;\n",
       "    }\n",
       "</style>\n",
       "<table border=\"1\" class=\"dataframe\">\n",
       "  <thead>\n",
       "    <tr style=\"text-align: right;\">\n",
       "      <th></th>\n",
       "      <th>title</th>\n",
       "      <th>text</th>\n",
       "      <th>subject</th>\n",
       "      <th>label</th>\n",
       "      <th>new_date</th>\n",
       "      <th>txt</th>\n",
       "    </tr>\n",
       "  </thead>\n",
       "  <tbody>\n",
       "    <tr>\n",
       "      <th>0</th>\n",
       "      <td>WHOA! MICHAEL MOORE Says TRUMP Is Only Hope To...</td>\n",
       "      <td>Every nameless, beaten down, forgotten workin...</td>\n",
       "      <td>politics</td>\n",
       "      <td>0</td>\n",
       "      <td>2016-10-25</td>\n",
       "      <td>WHOA! MICHAEL MOORE Says TRUMP Is Only Hope To...</td>\n",
       "    </tr>\n",
       "    <tr>\n",
       "      <th>1</th>\n",
       "      <td>Factbox: What to watch in negotiations over de...</td>\n",
       "      <td>WASHINGTON (Reuters) - Republican leaders are ...</td>\n",
       "      <td>politicsNews</td>\n",
       "      <td>1</td>\n",
       "      <td>2017-12-20</td>\n",
       "      <td>Factbox: What to watch in negotiations over de...</td>\n",
       "    </tr>\n",
       "    <tr>\n",
       "      <th>2</th>\n",
       "      <td>Army chief says Pakistan should 'revisit' Isla...</td>\n",
       "      <td>QUETTA, Pakistan (Reuters) - Pakistan s army c...</td>\n",
       "      <td>worldnews</td>\n",
       "      <td>1</td>\n",
       "      <td>2017-12-20</td>\n",
       "      <td>Army chief says Pakistan should 'revisit' Isla...</td>\n",
       "    </tr>\n",
       "    <tr>\n",
       "      <th>3</th>\n",
       "      <td>Je Suis HYPOCRITES: FREE SPEECH IS EMBRACED WH...</td>\n",
       "      <td>Sooo when terrorists attack Je Suis Charlie, a...</td>\n",
       "      <td>left-news</td>\n",
       "      <td>0</td>\n",
       "      <td>2015-05-20</td>\n",
       "      <td>Je Suis HYPOCRITES: FREE SPEECH IS EMBRACED WH...</td>\n",
       "    </tr>\n",
       "    <tr>\n",
       "      <th>4</th>\n",
       "      <td>Trump declares national emergency on opioid abuse</td>\n",
       "      <td>BEDMINSTER, N.J. (Reuters) - U.S. President Do...</td>\n",
       "      <td>politicsNews</td>\n",
       "      <td>1</td>\n",
       "      <td>2017-08-10</td>\n",
       "      <td>Trump declares national emergency on opioid ab...</td>\n",
       "    </tr>\n",
       "  </tbody>\n",
       "</table>\n",
       "</div>"
      ],
      "text/plain": [
       "                                               title  \\\n",
       "0  WHOA! MICHAEL MOORE Says TRUMP Is Only Hope To...   \n",
       "1  Factbox: What to watch in negotiations over de...   \n",
       "2  Army chief says Pakistan should 'revisit' Isla...   \n",
       "3  Je Suis HYPOCRITES: FREE SPEECH IS EMBRACED WH...   \n",
       "4  Trump declares national emergency on opioid abuse   \n",
       "\n",
       "                                                text       subject  label  \\\n",
       "0   Every nameless, beaten down, forgotten workin...      politics      0   \n",
       "1  WASHINGTON (Reuters) - Republican leaders are ...  politicsNews      1   \n",
       "2  QUETTA, Pakistan (Reuters) - Pakistan s army c...     worldnews      1   \n",
       "3  Sooo when terrorists attack Je Suis Charlie, a...     left-news      0   \n",
       "4  BEDMINSTER, N.J. (Reuters) - U.S. President Do...  politicsNews      1   \n",
       "\n",
       "    new_date                                                txt  \n",
       "0 2016-10-25  WHOA! MICHAEL MOORE Says TRUMP Is Only Hope To...  \n",
       "1 2017-12-20  Factbox: What to watch in negotiations over de...  \n",
       "2 2017-12-20  Army chief says Pakistan should 'revisit' Isla...  \n",
       "3 2015-05-20  Je Suis HYPOCRITES: FREE SPEECH IS EMBRACED WH...  \n",
       "4 2017-08-10  Trump declares national emergency on opioid ab...  "
      ]
     },
     "execution_count": 41,
     "metadata": {},
     "output_type": "execute_result"
    }
   ],
   "source": [
    "min_df.head()"
   ]
  },
  {
   "cell_type": "code",
   "execution_count": 42,
   "metadata": {},
   "outputs": [
    {
     "data": {
      "text/plain": [
       "'SHOCKING SUMMARY Of The DNC Convention So Far…Did We Leave Anything Out? What a crazy group of professional agitators and political scumbags this has been REALLY entertaining and a bit creepy too '"
      ]
     },
     "execution_count": 42,
     "metadata": {},
     "output_type": "execute_result"
    }
   ],
   "source": [
    "min_df.iloc[1495]['txt']"
   ]
  },
  {
   "cell_type": "code",
   "execution_count": 43,
   "metadata": {},
   "outputs": [],
   "source": [
    "tl=WordNetLemmatizer()\n",
    "corpus=[]\n",
    "for i in np.arange(len(min_df)):\n",
    "    line =re.sub(r'[^a-zA-Z]',' ',min_df.iloc[i]['txt'])\n",
    "    line=line.lower()\n",
    "    line=line.split()\n",
    "    line=[tl.lemmatize(word) for word in line if word not in stopwords.words('english')]\n",
    "    line=\" \".join(line)\n",
    "    corpus.append(line)"
   ]
  },
  {
   "cell_type": "code",
   "execution_count": 44,
   "metadata": {},
   "outputs": [],
   "source": [
    "cv=CountVectorizer()\n",
    "x=cv.fit_transform(corpus).toarray()\n",
    "y=min_df['label']"
   ]
  },
  {
   "cell_type": "code",
   "execution_count": 45,
   "metadata": {},
   "outputs": [
    {
     "data": {
      "text/plain": [
       "((7000, 56599), (3000, 56599), (7000,), (3000,))"
      ]
     },
     "execution_count": 45,
     "metadata": {},
     "output_type": "execute_result"
    }
   ],
   "source": [
    "x_train, x_test, y_train, y_test = train_test_split(x, y, test_size=0.30, random_state=24, shuffle =True)\n",
    "x_train.shape,x_test.shape,y_train.shape,y_test.shape"
   ]
  },
  {
   "cell_type": "code",
   "execution_count": 46,
   "metadata": {},
   "outputs": [],
   "source": [
    "train_scores = []\n",
    "test_scores = []\n",
    "CV=[]\n",
    "\n",
    "def algorithm(model):\n",
    "    # Training model\n",
    "    model.fit(x_train,y_train)\n",
    "            \n",
    "    # score of train set\n",
    "    train_model_score = model.score(x_train,y_train)\n",
    "    train_scores.append(round(train_model_score,2))\n",
    "    y_pred_train=model.predict(x_train)\n",
    "    \n",
    "    # score of test set\n",
    "    test_model_score = model.score(x_test,y_test)\n",
    "    test_scores.append(round(test_model_score,2))\n",
    "    y_pred_test=model.predict(x_test)\n",
    "    \n",
    "    # train set using Cross validation\n",
    "    cross_val = cross_val_score(model ,x_train ,y_train ,cv=10)\n",
    "    cv_mean = cross_val.mean()\n",
    "    CV.append(round(cv_mean,2))\n",
    "     \n",
    "    # Printing results\n",
    "    print(\"Train score :\",round(train_model_score,2))\n",
    "    print(\"Test score :\",round(test_model_score,2))\n",
    "    #print(\"Train CV scores :\",cross_val)\n",
    "    print(\"Train CV mean :\",round(cv_mean,2))\n",
    "    \n",
    "    df_model = pd.DataFrame(classification_report(y_pred_test,y_test, digits=2,output_dict=True)).T\n",
    "    df_model['support'] = df_model.support.apply(int)\n",
    "    df_model.style.background_gradient(cmap='viridis',subset=pd.IndexSlice['0':'9', :'f1-score'])\n",
    "    display(df_model)\n",
    "    \n",
    "    print(\"\\n----------------------Confusion Matrix---------------------- \\n\")\n",
    "    conf_mat = confusion_matrix(y_test, y_pred_test)\n",
    "    plot_confusion_matrix(conf_mat,\n",
    "                      show_normed=True, colorbar=True,\n",
    "                      class_names=['Fake', 'Real'])\n",
    "    plt.show()\n"
   ]
  },
  {
   "attachments": {},
   "cell_type": "markdown",
   "metadata": {},
   "source": [
    "# Gaussian Naive Bayes"
   ]
  },
  {
   "cell_type": "code",
   "execution_count": 47,
   "metadata": {},
   "outputs": [
    {
     "name": "stdout",
     "output_type": "stream",
     "text": [
      "Train score : 0.98\n",
      "Test score : 0.83\n",
      "Train CV mean : 0.85\n"
     ]
    },
    {
     "data": {
      "text/html": [
       "<div>\n",
       "<style scoped>\n",
       "    .dataframe tbody tr th:only-of-type {\n",
       "        vertical-align: middle;\n",
       "    }\n",
       "\n",
       "    .dataframe tbody tr th {\n",
       "        vertical-align: top;\n",
       "    }\n",
       "\n",
       "    .dataframe thead th {\n",
       "        text-align: right;\n",
       "    }\n",
       "</style>\n",
       "<table border=\"1\" class=\"dataframe\">\n",
       "  <thead>\n",
       "    <tr style=\"text-align: right;\">\n",
       "      <th></th>\n",
       "      <th>precision</th>\n",
       "      <th>recall</th>\n",
       "      <th>f1-score</th>\n",
       "      <th>support</th>\n",
       "    </tr>\n",
       "  </thead>\n",
       "  <tbody>\n",
       "    <tr>\n",
       "      <th>0</th>\n",
       "      <td>0.858479</td>\n",
       "      <td>0.834040</td>\n",
       "      <td>0.846083</td>\n",
       "      <td>1651</td>\n",
       "    </tr>\n",
       "    <tr>\n",
       "      <th>1</th>\n",
       "      <td>0.803725</td>\n",
       "      <td>0.831727</td>\n",
       "      <td>0.817486</td>\n",
       "      <td>1349</td>\n",
       "    </tr>\n",
       "    <tr>\n",
       "      <th>accuracy</th>\n",
       "      <td>0.833000</td>\n",
       "      <td>0.833000</td>\n",
       "      <td>0.833000</td>\n",
       "      <td>0</td>\n",
       "    </tr>\n",
       "    <tr>\n",
       "      <th>macro avg</th>\n",
       "      <td>0.831102</td>\n",
       "      <td>0.832884</td>\n",
       "      <td>0.831785</td>\n",
       "      <td>3000</td>\n",
       "    </tr>\n",
       "    <tr>\n",
       "      <th>weighted avg</th>\n",
       "      <td>0.833858</td>\n",
       "      <td>0.833000</td>\n",
       "      <td>0.833224</td>\n",
       "      <td>3000</td>\n",
       "    </tr>\n",
       "  </tbody>\n",
       "</table>\n",
       "</div>"
      ],
      "text/plain": [
       "              precision    recall  f1-score  support\n",
       "0              0.858479  0.834040  0.846083     1651\n",
       "1              0.803725  0.831727  0.817486     1349\n",
       "accuracy       0.833000  0.833000  0.833000        0\n",
       "macro avg      0.831102  0.832884  0.831785     3000\n",
       "weighted avg   0.833858  0.833000  0.833224     3000"
      ]
     },
     "metadata": {},
     "output_type": "display_data"
    },
    {
     "name": "stdout",
     "output_type": "stream",
     "text": [
      "\n",
      "----------------------Confusion Matrix---------------------- \n",
      "\n"
     ]
    },
    {
     "data": {
      "image/png": "[encoded data removed]",
      "text/plain": [
       "<Figure size 576x396 with 2 Axes>"
      ]
     },
     "metadata": {},
     "output_type": "display_data"
    }
   ],
   "source": [
    "gnv=GaussianNB()\n",
    "algorithm(gnv)"
   ]
  },
  {
   "attachments": {},
   "cell_type": "markdown",
   "metadata": {},
   "source": [
    "# Bernoulli Naive Bayes"
   ]
  },
  {
   "cell_type": "code",
   "execution_count": 48,
   "metadata": {},
   "outputs": [
    {
     "name": "stdout",
     "output_type": "stream",
     "text": [
      "Train score : 0.98\n",
      "Test score : 0.96\n",
      "Train CV mean : 0.96\n"
     ]
    },
    {
     "data": {
      "text/html": [
       "<div>\n",
       "<style scoped>\n",
       "    .dataframe tbody tr th:only-of-type {\n",
       "        vertical-align: middle;\n",
       "    }\n",
       "\n",
       "    .dataframe tbody tr th {\n",
       "        vertical-align: top;\n",
       "    }\n",
       "\n",
       "    .dataframe thead th {\n",
       "        text-align: right;\n",
       "    }\n",
       "</style>\n",
       "<table border=\"1\" class=\"dataframe\">\n",
       "  <thead>\n",
       "    <tr style=\"text-align: right;\">\n",
       "      <th></th>\n",
       "      <th>precision</th>\n",
       "      <th>recall</th>\n",
       "      <th>f1-score</th>\n",
       "      <th>support</th>\n",
       "    </tr>\n",
       "  </thead>\n",
       "  <tbody>\n",
       "    <tr>\n",
       "      <th>0</th>\n",
       "      <td>0.950748</td>\n",
       "      <td>0.967640</td>\n",
       "      <td>0.959119</td>\n",
       "      <td>1576</td>\n",
       "    </tr>\n",
       "    <tr>\n",
       "      <th>1</th>\n",
       "      <td>0.963467</td>\n",
       "      <td>0.944522</td>\n",
       "      <td>0.953901</td>\n",
       "      <td>1424</td>\n",
       "    </tr>\n",
       "    <tr>\n",
       "      <th>accuracy</th>\n",
       "      <td>0.956667</td>\n",
       "      <td>0.956667</td>\n",
       "      <td>0.956667</td>\n",
       "      <td>0</td>\n",
       "    </tr>\n",
       "    <tr>\n",
       "      <th>macro avg</th>\n",
       "      <td>0.957108</td>\n",
       "      <td>0.956081</td>\n",
       "      <td>0.956510</td>\n",
       "      <td>3000</td>\n",
       "    </tr>\n",
       "    <tr>\n",
       "      <th>weighted avg</th>\n",
       "      <td>0.956785</td>\n",
       "      <td>0.956667</td>\n",
       "      <td>0.956642</td>\n",
       "      <td>3000</td>\n",
       "    </tr>\n",
       "  </tbody>\n",
       "</table>\n",
       "</div>"
      ],
      "text/plain": [
       "              precision    recall  f1-score  support\n",
       "0              0.950748  0.967640  0.959119     1576\n",
       "1              0.963467  0.944522  0.953901     1424\n",
       "accuracy       0.956667  0.956667  0.956667        0\n",
       "macro avg      0.957108  0.956081  0.956510     3000\n",
       "weighted avg   0.956785  0.956667  0.956642     3000"
      ]
     },
     "metadata": {},
     "output_type": "display_data"
    },
    {
     "name": "stdout",
     "output_type": "stream",
     "text": [
      "\n",
      "----------------------Confusion Matrix---------------------- \n",
      "\n"
     ]
    },
    {
     "data": {
      "image/png": "[encoded data removed]",
      "text/plain": [
       "<Figure size 576x396 with 2 Axes>"
      ]
     },
     "metadata": {},
     "output_type": "display_data"
    }
   ],
   "source": [
    "bnv=BernoulliNB()\n",
    "algorithm(bnv)"
   ]
  },
  {
   "attachments": {},
   "cell_type": "markdown",
   "metadata": {},
   "source": [
    "# MLPClassifier"
   ]
  },
  {
   "cell_type": "code",
   "execution_count": 49,
   "metadata": {},
   "outputs": [
    {
     "name": "stdout",
     "output_type": "stream",
     "text": [
      "Train score : 1.0\n",
      "Test score : 0.98\n",
      "Train CV mean : 0.98\n"
     ]
    },
    {
     "data": {
      "text/html": [
       "<div>\n",
       "<style scoped>\n",
       "    .dataframe tbody tr th:only-of-type {\n",
       "        vertical-align: middle;\n",
       "    }\n",
       "\n",
       "    .dataframe tbody tr th {\n",
       "        vertical-align: top;\n",
       "    }\n",
       "\n",
       "    .dataframe thead th {\n",
       "        text-align: right;\n",
       "    }\n",
       "</style>\n",
       "<table border=\"1\" class=\"dataframe\">\n",
       "  <thead>\n",
       "    <tr style=\"text-align: right;\">\n",
       "      <th></th>\n",
       "      <th>precision</th>\n",
       "      <th>recall</th>\n",
       "      <th>f1-score</th>\n",
       "      <th>support</th>\n",
       "    </tr>\n",
       "  </thead>\n",
       "  <tbody>\n",
       "    <tr>\n",
       "      <th>0</th>\n",
       "      <td>0.971322</td>\n",
       "      <td>0.982965</td>\n",
       "      <td>0.977109</td>\n",
       "      <td>1585</td>\n",
       "    </tr>\n",
       "    <tr>\n",
       "      <th>1</th>\n",
       "      <td>0.980659</td>\n",
       "      <td>0.967491</td>\n",
       "      <td>0.974031</td>\n",
       "      <td>1415</td>\n",
       "    </tr>\n",
       "    <tr>\n",
       "      <th>accuracy</th>\n",
       "      <td>0.975667</td>\n",
       "      <td>0.975667</td>\n",
       "      <td>0.975667</td>\n",
       "      <td>0</td>\n",
       "    </tr>\n",
       "    <tr>\n",
       "      <th>macro avg</th>\n",
       "      <td>0.975990</td>\n",
       "      <td>0.975228</td>\n",
       "      <td>0.975570</td>\n",
       "      <td>3000</td>\n",
       "    </tr>\n",
       "    <tr>\n",
       "      <th>weighted avg</th>\n",
       "      <td>0.975726</td>\n",
       "      <td>0.975667</td>\n",
       "      <td>0.975657</td>\n",
       "      <td>3000</td>\n",
       "    </tr>\n",
       "  </tbody>\n",
       "</table>\n",
       "</div>"
      ],
      "text/plain": [
       "              precision    recall  f1-score  support\n",
       "0              0.971322  0.982965  0.977109     1585\n",
       "1              0.980659  0.967491  0.974031     1415\n",
       "accuracy       0.975667  0.975667  0.975667        0\n",
       "macro avg      0.975990  0.975228  0.975570     3000\n",
       "weighted avg   0.975726  0.975667  0.975657     3000"
      ]
     },
     "metadata": {},
     "output_type": "display_data"
    },
    {
     "name": "stdout",
     "output_type": "stream",
     "text": [
      "\n",
      "----------------------Confusion Matrix---------------------- \n",
      "\n"
     ]
    },
    {
     "data": {
      "image/png": "[encoded data removed]",
      "text/plain": [
       "<Figure size 576x396 with 2 Axes>"
      ]
     },
     "metadata": {},
     "output_type": "display_data"
    }
   ],
   "source": [
    "mlp=MLPClassifier()\n",
    "algorithm(mlp)"
   ]
  },
  {
   "attachments": {},
   "cell_type": "markdown",
   "metadata": {},
   "source": [
    "# Random Forest Classifier"
   ]
  },
  {
   "cell_type": "code",
   "execution_count": 51,
   "metadata": {},
   "outputs": [
    {
     "name": "stdout",
     "output_type": "stream",
     "text": [
      "Train score : 1.0\n",
      "Test score : 0.98\n",
      "Train CV mean : 0.98\n"
     ]
    },
    {
     "data": {
      "text/html": [
       "<div>\n",
       "<style scoped>\n",
       "    .dataframe tbody tr th:only-of-type {\n",
       "        vertical-align: middle;\n",
       "    }\n",
       "\n",
       "    .dataframe tbody tr th {\n",
       "        vertical-align: top;\n",
       "    }\n",
       "\n",
       "    .dataframe thead th {\n",
       "        text-align: right;\n",
       "    }\n",
       "</style>\n",
       "<table border=\"1\" class=\"dataframe\">\n",
       "  <thead>\n",
       "    <tr style=\"text-align: right;\">\n",
       "      <th></th>\n",
       "      <th>precision</th>\n",
       "      <th>recall</th>\n",
       "      <th>f1-score</th>\n",
       "      <th>support</th>\n",
       "    </tr>\n",
       "  </thead>\n",
       "  <tbody>\n",
       "    <tr>\n",
       "      <th>0</th>\n",
       "      <td>0.976309</td>\n",
       "      <td>0.985525</td>\n",
       "      <td>0.980896</td>\n",
       "      <td>1589</td>\n",
       "    </tr>\n",
       "    <tr>\n",
       "      <th>1</th>\n",
       "      <td>0.983524</td>\n",
       "      <td>0.973069</td>\n",
       "      <td>0.978269</td>\n",
       "      <td>1411</td>\n",
       "    </tr>\n",
       "    <tr>\n",
       "      <th>accuracy</th>\n",
       "      <td>0.979667</td>\n",
       "      <td>0.979667</td>\n",
       "      <td>0.979667</td>\n",
       "      <td>0</td>\n",
       "    </tr>\n",
       "    <tr>\n",
       "      <th>macro avg</th>\n",
       "      <td>0.979917</td>\n",
       "      <td>0.979297</td>\n",
       "      <td>0.979582</td>\n",
       "      <td>3000</td>\n",
       "    </tr>\n",
       "    <tr>\n",
       "      <th>weighted avg</th>\n",
       "      <td>0.979703</td>\n",
       "      <td>0.979667</td>\n",
       "      <td>0.979660</td>\n",
       "      <td>3000</td>\n",
       "    </tr>\n",
       "  </tbody>\n",
       "</table>\n",
       "</div>"
      ],
      "text/plain": [
       "              precision    recall  f1-score  support\n",
       "0              0.976309  0.985525  0.980896     1589\n",
       "1              0.983524  0.973069  0.978269     1411\n",
       "accuracy       0.979667  0.979667  0.979667        0\n",
       "macro avg      0.979917  0.979297  0.979582     3000\n",
       "weighted avg   0.979703  0.979667  0.979660     3000"
      ]
     },
     "metadata": {},
     "output_type": "display_data"
    },
    {
     "name": "stdout",
     "output_type": "stream",
     "text": [
      "\n",
      "----------------------Confusion Matrix---------------------- \n",
      "\n"
     ]
    },
    {
     "data": {
      "image/png": "[encoded data removed]",
      "text/plain": [
       "<Figure size 576x396 with 2 Axes>"
      ]
     },
     "metadata": {},
     "output_type": "display_data"
    }
   ],
   "source": [
    "rf=RandomForestClassifier()\n",
    "algorithm(rf)"
   ]
  },
  {
   "cell_type": "code",
   "execution_count": 52,
   "metadata": {},
   "outputs": [
    {
     "data": {
      "text/html": [
       "<div>\n",
       "<style scoped>\n",
       "    .dataframe tbody tr th:only-of-type {\n",
       "        vertical-align: middle;\n",
       "    }\n",
       "\n",
       "    .dataframe tbody tr th {\n",
       "        vertical-align: top;\n",
       "    }\n",
       "\n",
       "    .dataframe thead th {\n",
       "        text-align: right;\n",
       "    }\n",
       "</style>\n",
       "<table border=\"1\" class=\"dataframe\">\n",
       "  <thead>\n",
       "    <tr style=\"text-align: right;\">\n",
       "      <th></th>\n",
       "      <th>Model</th>\n",
       "      <th>Accuracy(Train)</th>\n",
       "      <th>Accuracy(Test)</th>\n",
       "      <th>CV score mean(Train)</th>\n",
       "    </tr>\n",
       "  </thead>\n",
       "  <tbody>\n",
       "    <tr>\n",
       "      <th>0</th>\n",
       "      <td>GaussianNB</td>\n",
       "      <td>0.98</td>\n",
       "      <td>0.83</td>\n",
       "      <td>0.85</td>\n",
       "    </tr>\n",
       "    <tr>\n",
       "      <th>1</th>\n",
       "      <td>BernoulliNB</td>\n",
       "      <td>0.98</td>\n",
       "      <td>0.96</td>\n",
       "      <td>0.96</td>\n",
       "    </tr>\n",
       "    <tr>\n",
       "      <th>2</th>\n",
       "      <td>MLPClassifier</td>\n",
       "      <td>1.00</td>\n",
       "      <td>0.98</td>\n",
       "      <td>0.98</td>\n",
       "    </tr>\n",
       "    <tr>\n",
       "      <th>3</th>\n",
       "      <td>RandomForestClassifier</td>\n",
       "      <td>1.00</td>\n",
       "      <td>0.98</td>\n",
       "      <td>0.98</td>\n",
       "    </tr>\n",
       "  </tbody>\n",
       "</table>\n",
       "</div>"
      ],
      "text/plain": [
       "                    Model  Accuracy(Train)  Accuracy(Test)  \\\n",
       "0              GaussianNB             0.98            0.83   \n",
       "1             BernoulliNB             0.98            0.96   \n",
       "2           MLPClassifier             1.00            0.98   \n",
       "3  RandomForestClassifier             1.00            0.98   \n",
       "\n",
       "   CV score mean(Train)  \n",
       "0                  0.85  \n",
       "1                  0.96  \n",
       "2                  0.98  \n",
       "3                  0.98  "
      ]
     },
     "metadata": {},
     "output_type": "display_data"
    }
   ],
   "source": [
    "Technique = [\"GaussianNB\",\"BernoulliNB\",\"MLPClassifier\",\"RandomForestClassifier\"]\n",
    "results=pd.DataFrame({'Model': Technique,'Accuracy(Train)': train_scores,'Accuracy(Test)': test_scores,\n",
    "                      'CV score mean(Train)': CV})\n",
    "display(results)"
   ]
  },
  {
   "cell_type": "code",
   "execution_count": null,
   "metadata": {},
   "outputs": [],
   "source": []
  },
  {
   "cell_type": "code",
   "execution_count": null,
   "metadata": {},
   "outputs": [],
   "source": []
  },
  {
   "cell_type": "code",
   "execution_count": null,
   "metadata": {},
   "outputs": [],
   "source": []
  },
  {
   "cell_type": "code",
   "execution_count": null,
   "metadata": {},
   "outputs": [],
   "source": []
  },
  {
   "cell_type": "code",
   "execution_count": 195,
   "metadata": {},
   "outputs": [],
   "source": [
    "df_fake['news'] = df_fake['title'] +'\\n '+ df_fake['text']"
   ]
  },
  {
   "cell_type": "code",
   "execution_count": 196,
   "metadata": {},
   "outputs": [],
   "source": [
    "df_true['news'] = df_true['title'] +'\\n '+ df_true['text']"
   ]
  },
  {
   "cell_type": "code",
   "execution_count": 197,
   "metadata": {},
   "outputs": [
    {
     "name": "stdout",
     "output_type": "stream",
     "text": [
      " Donald Trump Sends Out Embarrassing New Year’s Eve Message; This is Disturbing\n",
      " Donald Trump just couldn t wish all Americans a Happy New Year and leave it at that. Instead, he had to give a shout out to his enemies, haters and  the very dishonest fake news media.  The former reality show star had just one job to do and he couldn t do it. As our Country rapidly grows stronger and smarter, I want to wish all of my friends, supporters, enemies, haters, and even the very dishonest Fake News Media, a Happy and Healthy New Year,  President Angry Pants tweeted.  2018 will be a great year for America! As our Country rapidly grows stronger and smarter, I want to wish all of my friends, supporters, enemies, haters, and even the very dishonest Fake News Media, a Happy and Healthy New Year. 2018 will be a great year for America!  Donald J. Trump (@realDonaldTrump) December 31, 2017Trump s tweet went down about as welll as you d expect.What kind of president sends a New Year s greeting like this despicable, petty, infantile gibberish? Only Trump! His lack of decency won t even allow him to rise above the gutter long enough to wish the American citizens a happy new year!  Bishop Talbert Swan (@TalbertSwan) December 31, 2017no one likes you  Calvin (@calvinstowell) December 31, 2017Your impeachment would make 2018 a great year for America, but I ll also accept regaining control of Congress.  Miranda Yaver (@mirandayaver) December 31, 2017Do you hear yourself talk? When you have to include that many people that hate you you have to wonder? Why do the they all hate me?  Alan Sandoval (@AlanSandoval13) December 31, 2017Who uses the word Haters in a New Years wish??  Marlene (@marlene399) December 31, 2017You can t just say happy new year?  Koren pollitt (@Korencarpenter) December 31, 2017Here s Trump s New Year s Eve tweet from 2016.Happy New Year to all, including to my many enemies and those who have fought me and lost so badly they just don t know what to do. Love!  Donald J. Trump (@realDonaldTrump) December 31, 2016This is nothing new for Trump. He s been doing this for years.Trump has directed messages to his  enemies  and  haters  for New Year s, Easter, Thanksgiving, and the anniversary of 9/11. pic.twitter.com/4FPAe2KypA  Daniel Dale (@ddale8) December 31, 2017Trump s holiday tweets are clearly not presidential.How long did he work at Hallmark before becoming President?  Steven Goodine (@SGoodine) December 31, 2017He s always been like this . . . the only difference is that in the last few years, his filter has been breaking down.  Roy Schulze (@thbthttt) December 31, 2017Who, apart from a teenager uses the term haters?  Wendy (@WendyWhistles) December 31, 2017he s a fucking 5 year old  Who Knows (@rainyday80) December 31, 2017So, to all the people who voted for this a hole thinking he would change once he got into power, you were wrong! 70-year-old men don t change and now he s a year older.Photo by Andrew Burton/Getty Images.\n"
     ]
    }
   ],
   "source": [
    "print(df_fake['news'][0])"
   ]
  },
  {
   "cell_type": "code",
   "execution_count": 198,
   "metadata": {},
   "outputs": [
    {
     "name": "stdout",
     "output_type": "stream",
     "text": [
      "As U.S. budget fight looms, Republicans flip their fiscal script\n",
      " WASHINGTON (Reuters) - The head of a conservative Republican faction in the U.S. Congress, who voted this month for a huge expansion of the national debt to pay for tax cuts, called himself a “fiscal conservative” on Sunday and urged budget restraint in 2018. In keeping with a sharp pivot under way among Republicans, U.S. Representative Mark Meadows, speaking on CBS’ “Face the Nation,” drew a hard line on federal spending, which lawmakers are bracing to do battle over in January. When they return from the holidays on Wednesday, lawmakers will begin trying to pass a federal budget in a fight likely to be linked to other issues, such as immigration policy, even as the November congressional election campaigns approach in which Republicans will seek to keep control of Congress. President Donald Trump and his Republicans want a big budget increase in military spending, while Democrats also want proportional increases for non-defense “discretionary” spending on programs that support education, scientific research, infrastructure, public health and environmental protection. “The (Trump) administration has already been willing to say: ‘We’re going to increase non-defense discretionary spending ... by about 7 percent,’” Meadows, chairman of the small but influential House Freedom Caucus, said on the program. “Now, Democrats are saying that’s not enough, we need to give the government a pay raise of 10 to 11 percent. For a fiscal conservative, I don’t see where the rationale is. ... Eventually you run out of other people’s money,” he said. Meadows was among Republicans who voted in late December for their party’s debt-financed tax overhaul, which is expected to balloon the federal budget deficit and add about $1.5 trillion over 10 years to the $20 trillion national debt. “It’s interesting to hear Mark talk about fiscal responsibility,” Democratic U.S. Representative Joseph Crowley said on CBS. Crowley said the Republican tax bill would require the  United States to borrow $1.5 trillion, to be paid off by future generations, to finance tax cuts for corporations and the rich. “This is one of the least ... fiscally responsible bills we’ve ever seen passed in the history of the House of Representatives. I think we’re going to be paying for this for many, many years to come,” Crowley said. Republicans insist the tax package, the biggest U.S. tax overhaul in more than 30 years,  will boost the economy and job growth. House Speaker Paul Ryan, who also supported the tax bill, recently went further than Meadows, making clear in a radio interview that welfare or “entitlement reform,” as the party often calls it, would be a top Republican priority in 2018. In Republican parlance, “entitlement” programs mean food stamps, housing assistance, Medicare and Medicaid health insurance for the elderly, poor and disabled, as well as other programs created by Washington to assist the needy. Democrats seized on Ryan’s early December remarks, saying they showed Republicans would try to pay for their tax overhaul by seeking spending cuts for social programs. But the goals of House Republicans may have to take a back seat to the Senate, where the votes of some Democrats will be needed to approve a budget and prevent a government shutdown. Democrats will use their leverage in the Senate, which Republicans narrowly control, to defend both discretionary non-defense programs and social spending, while tackling the issue of the “Dreamers,” people brought illegally to the country as children. Trump in September put a March 2018 expiration date on the Deferred Action for Childhood Arrivals, or DACA, program, which protects the young immigrants from deportation and provides them with work permits. The president has said in recent Twitter messages he wants funding for his proposed Mexican border wall and other immigration law changes in exchange for agreeing to help the Dreamers. Representative Debbie Dingell told CBS she did not favor linking that issue to other policy objectives, such as wall funding. “We need to do DACA clean,” she said.  On Wednesday, Trump aides will meet with congressional leaders to discuss those issues. That will be followed by a weekend of strategy sessions for Trump and Republican leaders on Jan. 6 and 7, the White House said. Trump was also scheduled to meet on Sunday with Florida Republican Governor Rick Scott, who wants more emergency aid. The House has passed an $81 billion aid package after hurricanes in Florida, Texas and Puerto Rico, and wildfires in California. The package far exceeded the $44 billion requested by the Trump administration. The Senate has not yet voted on the aid. \n"
     ]
    }
   ],
   "source": [
    "print(df_true['news'][0])"
   ]
  },
  {
   "cell_type": "code",
   "execution_count": 199,
   "metadata": {},
   "outputs": [
    {
     "data": {
      "text/plain": [
       "179"
      ]
     },
     "execution_count": 199,
     "metadata": {},
     "output_type": "execute_result"
    }
   ],
   "source": [
    "from nltk.corpus import stopwords\n",
    "sw = stopwords.words(\"english\")\n",
    "len(sw)"
   ]
  }
 ],
 "metadata": {
  "kernelspec": {
   "display_name": "data_science",
   "language": "python",
   "name": "python3"
  },
  "language_info": {
   "codemirror_mode": {
    "name": "ipython",
    "version": 3
   },
   "file_extension": ".py",
   "mimetype": "text/x-python",
   "name": "python",
   "nbconvert_exporter": "python",
   "pygments_lexer": "ipython3",
   "version": "3.10.4"
  },
  "orig_nbformat": 4,
  "vscode": {
   "interpreter": {
    "hash": "a8d58dd5be0ada4fb5a47414fe14ff43adb412c7f275b2cb4b408d3aefadbe44"
   }
  }
 },
 "nbformat": 4,
 "nbformat_minor": 2
}
