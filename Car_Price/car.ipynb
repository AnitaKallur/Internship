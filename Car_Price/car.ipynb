{
 "cells": [
  {
   "cell_type": "code",
   "execution_count": 8,
   "metadata": {},
   "outputs": [],
   "source": [
    "from bs4 import BeautifulSoup\n",
    "import requests\n",
    "import pandas as pd "
   ]
  },
  {
   "cell_type": "code",
   "execution_count": 39,
   "metadata": {},
   "outputs": [],
   "source": [
    "website = 'https://www.cars.com/shopping/results/?stock_type=cpo&makes%5B%5D=&models%5B%5D=&list_price_max=&maximum_distance=20&zip='"
   ]
  },
  {
   "cell_type": "code",
   "execution_count": 40,
   "metadata": {},
   "outputs": [],
   "source": [
    "response = requests.get(website)"
   ]
  },
  {
   "cell_type": "code",
   "execution_count": 41,
   "metadata": {},
   "outputs": [
    {
     "data": {
      "text/plain": [
       "200"
      ]
     },
     "execution_count": 41,
     "metadata": {},
     "output_type": "execute_result"
    }
   ],
   "source": [
    "response.status_code"
   ]
  },
  {
   "cell_type": "code",
   "execution_count": 42,
   "metadata": {},
   "outputs": [],
   "source": [
    "soup = BeautifulSoup(response.content, 'html.parser')"
   ]
  },
  {
   "cell_type": "code",
   "execution_count": 43,
   "metadata": {},
   "outputs": [],
   "source": [
    "results = soup.find_all('div', {'class' : 'vehicle-card'})"
   ]
  },
  {
   "cell_type": "code",
   "execution_count": 44,
   "metadata": {},
   "outputs": [
    {
     "data": {
      "text/plain": [
       "21"
      ]
     },
     "execution_count": 44,
     "metadata": {},
     "output_type": "execute_result"
    }
   ],
   "source": [
    "len(results)"
   ]
  },
  {
   "cell_type": "code",
   "execution_count": 45,
   "metadata": {},
   "outputs": [
    {
     "data": {
      "text/plain": [
       "'2020 Subaru Ascent Limited 7-Passenger'"
      ]
     },
     "execution_count": 45,
     "metadata": {},
     "output_type": "execute_result"
    }
   ],
   "source": [
    "results[0].find('h2').get_text()"
   ]
  },
  {
   "cell_type": "code",
   "execution_count": 46,
   "metadata": {},
   "outputs": [
    {
     "data": {
      "text/plain": [
       "'24,605 mi.'"
      ]
     },
     "execution_count": 46,
     "metadata": {},
     "output_type": "execute_result"
    }
   ],
   "source": [
    "results[0].find('div', {'class':'mileage'}).get_text()"
   ]
  },
  {
   "cell_type": "code",
   "execution_count": 47,
   "metadata": {},
   "outputs": [
    {
     "data": {
      "text/plain": [
       "'Wilsonville Subaru'"
      ]
     },
     "execution_count": 47,
     "metadata": {},
     "output_type": "execute_result"
    }
   ],
   "source": [
    "results[0].find('div', {'class':'dealer-name'}).get_text().strip()"
   ]
  },
  {
   "cell_type": "code",
   "execution_count": 48,
   "metadata": {},
   "outputs": [
    {
     "data": {
      "text/plain": [
       "'4.9'"
      ]
     },
     "execution_count": 48,
     "metadata": {},
     "output_type": "execute_result"
    }
   ],
   "source": [
    "results[0].find('span', {'class':'sds-rating__count'}).get_text()"
   ]
  },
  {
   "cell_type": "code",
   "execution_count": 49,
   "metadata": {},
   "outputs": [
    {
     "data": {
      "text/plain": [
       "'(1,642 reviews)'"
      ]
     },
     "execution_count": 49,
     "metadata": {},
     "output_type": "execute_result"
    }
   ],
   "source": [
    "results[0].find('span', {'class':'sds-rating__link'}).get_text()"
   ]
  },
  {
   "cell_type": "code",
   "execution_count": 50,
   "metadata": {},
   "outputs": [
    {
     "data": {
      "text/plain": [
       "'$37,991'"
      ]
     },
     "execution_count": 50,
     "metadata": {},
     "output_type": "execute_result"
    }
   ],
   "source": [
    "results[0].find('span', {'class':'primary-price'}).get_text()"
   ]
  },
  {
   "cell_type": "code",
   "execution_count": 51,
   "metadata": {},
   "outputs": [],
   "source": [
    "name = []\n",
    "mileage = []\n",
    "dealer_name = []\n",
    "rating = []\n",
    "review_count = []\n",
    "price = []\n",
    "\n",
    "for result in results:\n",
    "    \n",
    "    # name\n",
    "    try:\n",
    "        name.append(result.find('h2').get_text()) \n",
    "    except:\n",
    "        name.append('n/a')\n",
    "    \n",
    "    # mileage\n",
    "    try:\n",
    "        mileage.append(result.find('div', {'class':'mileage'}).get_text())\n",
    "    except:\n",
    "        mileage.append('n/a')\n",
    "    \n",
    "    # dealer_name\n",
    "    try:\n",
    "        dealer_name.append(result.find('div', {'class':'dealer-name'}).get_text().strip())\n",
    "    except:\n",
    "        dealer_name.append('n/a')\n",
    "        \n",
    "    # rating\n",
    "    try:\n",
    "        rating.append(result.find('span', {'class':'sds-rating__count'}).get_text())\n",
    "    except:\n",
    "        rating.append('n/a')\n",
    "    \n",
    "    # review_count\n",
    "    try:\n",
    "        review_count.append(result.find('span', {'class':'sds-rating__link'}).get_text())\n",
    "    except:\n",
    "        review_count.append('n/a')\n",
    "    \n",
    "    #price \n",
    "    try:\n",
    "        price.append(result.find('span', {'class':'primary-price'}).get_text())\n",
    "    except:\n",
    "        price.append('n/a')"
   ]
  },
  {
   "cell_type": "code",
   "execution_count": 52,
   "metadata": {},
   "outputs": [],
   "source": [
    "# dictionary\n",
    "car_dealer = pd.DataFrame({'Name': name, 'Mileage':mileage, 'Dealer Name':dealer_name,\n",
    "                                'Rating': rating, 'Review Count': review_count, 'Price': price})"
   ]
  },
  {
   "cell_type": "code",
   "execution_count": 53,
   "metadata": {},
   "outputs": [
    {
     "data": {
      "text/html": [
       "<div>\n",
       "<style scoped>\n",
       "    .dataframe tbody tr th:only-of-type {\n",
       "        vertical-align: middle;\n",
       "    }\n",
       "\n",
       "    .dataframe tbody tr th {\n",
       "        vertical-align: top;\n",
       "    }\n",
       "\n",
       "    .dataframe thead th {\n",
       "        text-align: right;\n",
       "    }\n",
       "</style>\n",
       "<table border=\"1\" class=\"dataframe\">\n",
       "  <thead>\n",
       "    <tr style=\"text-align: right;\">\n",
       "      <th></th>\n",
       "      <th>Name</th>\n",
       "      <th>Mileage</th>\n",
       "      <th>Dealer Name</th>\n",
       "      <th>Rating</th>\n",
       "      <th>Review Count</th>\n",
       "      <th>Price</th>\n",
       "    </tr>\n",
       "  </thead>\n",
       "  <tbody>\n",
       "    <tr>\n",
       "      <th>0</th>\n",
       "      <td>2020 Subaru Ascent Limited 7-Passenger</td>\n",
       "      <td>24,605 mi.</td>\n",
       "      <td>Wilsonville Subaru</td>\n",
       "      <td>4.9</td>\n",
       "      <td>(1,642 reviews)</td>\n",
       "      <td>$37,991</td>\n",
       "    </tr>\n",
       "    <tr>\n",
       "      <th>1</th>\n",
       "      <td>2023 Jeep Grand Cherokee Altitude</td>\n",
       "      <td>950 mi.</td>\n",
       "      <td>AutoNation Chrysler Dodge Jeep Ram Katy</td>\n",
       "      <td>4.3</td>\n",
       "      <td>(1,481 reviews)</td>\n",
       "      <td>$42,299</td>\n",
       "    </tr>\n",
       "    <tr>\n",
       "      <th>2</th>\n",
       "      <td>2020 BMW X4 M40i</td>\n",
       "      <td>36,964 mi.</td>\n",
       "      <td>BMW of Vista</td>\n",
       "      <td>4.6</td>\n",
       "      <td>(749 reviews)</td>\n",
       "      <td>$51,998</td>\n",
       "    </tr>\n",
       "    <tr>\n",
       "      <th>3</th>\n",
       "      <td>2019 BMW 640 Gran Turismo i xDrive</td>\n",
       "      <td>26,717 mi.</td>\n",
       "      <td>BMW Encinitas</td>\n",
       "      <td>4.5</td>\n",
       "      <td>(1,228 reviews)</td>\n",
       "      <td>$43,385</td>\n",
       "    </tr>\n",
       "    <tr>\n",
       "      <th>4</th>\n",
       "      <td>2022 Toyota Prius Nightshade</td>\n",
       "      <td>9,479 mi.</td>\n",
       "      <td>AutoNation Toyota Winter Park</td>\n",
       "      <td>4.6</td>\n",
       "      <td>(5,331 reviews)</td>\n",
       "      <td>$35,352</td>\n",
       "    </tr>\n",
       "    <tr>\n",
       "      <th>5</th>\n",
       "      <td>2020 BMW X6 M Base</td>\n",
       "      <td>18,927 mi.</td>\n",
       "      <td>BMW of Palm Springs</td>\n",
       "      <td>4.8</td>\n",
       "      <td>(600 reviews)</td>\n",
       "      <td>$97,500</td>\n",
       "    </tr>\n",
       "    <tr>\n",
       "      <th>6</th>\n",
       "      <td>2021 Buick Enclave Avenir</td>\n",
       "      <td>10,636 mi.</td>\n",
       "      <td>Terry Labonte Chevrolet</td>\n",
       "      <td>4.6</td>\n",
       "      <td>(534 reviews)</td>\n",
       "      <td>$47,300</td>\n",
       "    </tr>\n",
       "    <tr>\n",
       "      <th>7</th>\n",
       "      <td>2021 Chevrolet Traverse RS</td>\n",
       "      <td>14,351 mi.</td>\n",
       "      <td>Dublin Nissan Chevrolet Buick GMC</td>\n",
       "      <td>2.7</td>\n",
       "      <td>(45 reviews)</td>\n",
       "      <td>$43,580</td>\n",
       "    </tr>\n",
       "    <tr>\n",
       "      <th>8</th>\n",
       "      <td>2021 INFINITI QX50 LUXE</td>\n",
       "      <td>39,598 mi.</td>\n",
       "      <td>Evans Infiniti of Dayton</td>\n",
       "      <td>n/a</td>\n",
       "      <td>(72 reviews)</td>\n",
       "      <td>$39,989</td>\n",
       "    </tr>\n",
       "    <tr>\n",
       "      <th>9</th>\n",
       "      <td>2021 Toyota RAV4 Prime XSE</td>\n",
       "      <td>7,551 mi.</td>\n",
       "      <td>Mark McLarty Toyota</td>\n",
       "      <td>3.4</td>\n",
       "      <td>(1,246 reviews)</td>\n",
       "      <td>$56,495</td>\n",
       "    </tr>\n",
       "    <tr>\n",
       "      <th>10</th>\n",
       "      <td>2020 BMW X3 M Competition</td>\n",
       "      <td>48,569 mi.</td>\n",
       "      <td>BMW of Palm Springs</td>\n",
       "      <td>4.8</td>\n",
       "      <td>(600 reviews)</td>\n",
       "      <td>$58,988</td>\n",
       "    </tr>\n",
       "    <tr>\n",
       "      <th>11</th>\n",
       "      <td>2021 BMW X3 M AWD</td>\n",
       "      <td>20,424 mi.</td>\n",
       "      <td>BMW of San Antonio</td>\n",
       "      <td>4.1</td>\n",
       "      <td>(959 reviews)</td>\n",
       "      <td>$66,262</td>\n",
       "    </tr>\n",
       "    <tr>\n",
       "      <th>12</th>\n",
       "      <td>2020 BMW 430 i xDrive</td>\n",
       "      <td>19,348 mi.</td>\n",
       "      <td>Zeigler BMW of Kalamazoo</td>\n",
       "      <td>n/a</td>\n",
       "      <td>(13 reviews)</td>\n",
       "      <td>$37,990</td>\n",
       "    </tr>\n",
       "    <tr>\n",
       "      <th>13</th>\n",
       "      <td>2020 Cadillac CT5 Premium Luxury RWD</td>\n",
       "      <td>33,033 mi.</td>\n",
       "      <td>Findlay Cadillac</td>\n",
       "      <td>4.5</td>\n",
       "      <td>(222 reviews)</td>\n",
       "      <td>$36,843</td>\n",
       "    </tr>\n",
       "    <tr>\n",
       "      <th>14</th>\n",
       "      <td>2020 Volvo S90 Hybrid T8 R-Design</td>\n",
       "      <td>36,555 mi.</td>\n",
       "      <td>Ken Pollock Volvo Cars</td>\n",
       "      <td>4.6</td>\n",
       "      <td>(645 reviews)</td>\n",
       "      <td>$50,990</td>\n",
       "    </tr>\n",
       "    <tr>\n",
       "      <th>15</th>\n",
       "      <td>2020 Acura ILX Base</td>\n",
       "      <td>1,552 mi.</td>\n",
       "      <td>Ron Tonkin Acura</td>\n",
       "      <td>4.7</td>\n",
       "      <td>(142 reviews)</td>\n",
       "      <td>$30,995</td>\n",
       "    </tr>\n",
       "    <tr>\n",
       "      <th>16</th>\n",
       "      <td>2022 Nissan Frontier PRO-4X</td>\n",
       "      <td>9,900 mi.</td>\n",
       "      <td>Janesville Nissan</td>\n",
       "      <td>2.7</td>\n",
       "      <td>(124 reviews)</td>\n",
       "      <td>$41,990</td>\n",
       "    </tr>\n",
       "    <tr>\n",
       "      <th>17</th>\n",
       "      <td>2021 Chevrolet Suburban Z71</td>\n",
       "      <td>48,404 mi.</td>\n",
       "      <td>Chevrolet of Bend</td>\n",
       "      <td>3.2</td>\n",
       "      <td>(452 reviews)</td>\n",
       "      <td>$67,490</td>\n",
       "    </tr>\n",
       "    <tr>\n",
       "      <th>18</th>\n",
       "      <td>2021 GMC Sierra 3500 Denali</td>\n",
       "      <td>15,694 mi.</td>\n",
       "      <td>Holz Motors</td>\n",
       "      <td>4.4</td>\n",
       "      <td>(433 reviews)</td>\n",
       "      <td>$81,590</td>\n",
       "    </tr>\n",
       "    <tr>\n",
       "      <th>19</th>\n",
       "      <td>2022 INFINITI QX55 LUXE</td>\n",
       "      <td>7,710 mi.</td>\n",
       "      <td>Sewell INFINITI of North Houston</td>\n",
       "      <td>4.9</td>\n",
       "      <td>(157 reviews)</td>\n",
       "      <td>$44,999</td>\n",
       "    </tr>\n",
       "    <tr>\n",
       "      <th>20</th>\n",
       "      <td>2020 GMC Yukon Denali</td>\n",
       "      <td>55,083 mi.</td>\n",
       "      <td>Laura Buick GMC</td>\n",
       "      <td>4.3</td>\n",
       "      <td>(2,716 reviews)</td>\n",
       "      <td>$57,495</td>\n",
       "    </tr>\n",
       "  </tbody>\n",
       "</table>\n",
       "</div>"
      ],
      "text/plain": [
       "                                      Name     Mileage  \\\n",
       "0   2020 Subaru Ascent Limited 7-Passenger  24,605 mi.   \n",
       "1        2023 Jeep Grand Cherokee Altitude     950 mi.   \n",
       "2                         2020 BMW X4 M40i  36,964 mi.   \n",
       "3       2019 BMW 640 Gran Turismo i xDrive  26,717 mi.   \n",
       "4             2022 Toyota Prius Nightshade   9,479 mi.   \n",
       "5                       2020 BMW X6 M Base  18,927 mi.   \n",
       "6                2021 Buick Enclave Avenir  10,636 mi.   \n",
       "7               2021 Chevrolet Traverse RS  14,351 mi.   \n",
       "8                  2021 INFINITI QX50 LUXE  39,598 mi.   \n",
       "9               2021 Toyota RAV4 Prime XSE   7,551 mi.   \n",
       "10               2020 BMW X3 M Competition  48,569 mi.   \n",
       "11                       2021 BMW X3 M AWD  20,424 mi.   \n",
       "12                   2020 BMW 430 i xDrive  19,348 mi.   \n",
       "13    2020 Cadillac CT5 Premium Luxury RWD  33,033 mi.   \n",
       "14       2020 Volvo S90 Hybrid T8 R-Design  36,555 mi.   \n",
       "15                     2020 Acura ILX Base   1,552 mi.   \n",
       "16             2022 Nissan Frontier PRO-4X   9,900 mi.   \n",
       "17             2021 Chevrolet Suburban Z71  48,404 mi.   \n",
       "18             2021 GMC Sierra 3500 Denali  15,694 mi.   \n",
       "19                 2022 INFINITI QX55 LUXE   7,710 mi.   \n",
       "20                   2020 GMC Yukon Denali  55,083 mi.   \n",
       "\n",
       "                                Dealer Name Rating     Review Count    Price  \n",
       "0                        Wilsonville Subaru    4.9  (1,642 reviews)  $37,991  \n",
       "1   AutoNation Chrysler Dodge Jeep Ram Katy    4.3  (1,481 reviews)  $42,299  \n",
       "2                              BMW of Vista    4.6    (749 reviews)  $51,998  \n",
       "3                             BMW Encinitas    4.5  (1,228 reviews)  $43,385  \n",
       "4             AutoNation Toyota Winter Park    4.6  (5,331 reviews)  $35,352  \n",
       "5                       BMW of Palm Springs    4.8    (600 reviews)  $97,500  \n",
       "6                   Terry Labonte Chevrolet    4.6    (534 reviews)  $47,300  \n",
       "7         Dublin Nissan Chevrolet Buick GMC    2.7     (45 reviews)  $43,580  \n",
       "8                  Evans Infiniti of Dayton    n/a     (72 reviews)  $39,989  \n",
       "9                       Mark McLarty Toyota    3.4  (1,246 reviews)  $56,495  \n",
       "10                      BMW of Palm Springs    4.8    (600 reviews)  $58,988  \n",
       "11                       BMW of San Antonio    4.1    (959 reviews)  $66,262  \n",
       "12                 Zeigler BMW of Kalamazoo    n/a     (13 reviews)  $37,990  \n",
       "13                         Findlay Cadillac    4.5    (222 reviews)  $36,843  \n",
       "14                   Ken Pollock Volvo Cars    4.6    (645 reviews)  $50,990  \n",
       "15                         Ron Tonkin Acura    4.7    (142 reviews)  $30,995  \n",
       "16                        Janesville Nissan    2.7    (124 reviews)  $41,990  \n",
       "17                        Chevrolet of Bend    3.2    (452 reviews)  $67,490  \n",
       "18                              Holz Motors    4.4    (433 reviews)  $81,590  \n",
       "19         Sewell INFINITI of North Houston    4.9    (157 reviews)  $44,999  \n",
       "20                          Laura Buick GMC    4.3  (2,716 reviews)  $57,495  "
      ]
     },
     "execution_count": 53,
     "metadata": {},
     "output_type": "execute_result"
    }
   ],
   "source": [
    "car_dealer"
   ]
  },
  {
   "cell_type": "code",
   "execution_count": 61,
   "metadata": {},
   "outputs": [],
   "source": [
    "name = []\n",
    "mileage = []\n",
    "dealer_name = []\n",
    "rating = []\n",
    "review_count = []\n",
    "price = []\n",
    "\n",
    "for i in range (1,500):\n",
    "    \n",
    "    # website in variable\n",
    "    website = 'https://www.cars.com/shopping/results/?page='+ str(i) +'&page_size=20&list_price_max=&makes[]=&maximum_distance=20&models[]=&stock_type=cpo&zip=' \n",
    "    \n",
    "    # request to website\n",
    "    response = requests.get(website)\n",
    "    \n",
    "    # soup object\n",
    "    soup = BeautifulSoup(response.content, 'html.parser')\n",
    "    \n",
    "    # results\n",
    "    results = soup.find_all('div', {'class' : 'vehicle-card'})\n",
    "    \n",
    "    # loop through results\n",
    "    for result in results:\n",
    "    \n",
    "        # name\n",
    "        try:\n",
    "            name.append(result.find('h2').get_text()) \n",
    "        except:\n",
    "            name.append('n/a')\n",
    "\n",
    "        # mileage\n",
    "        try:\n",
    "            mileage.append(result.find('div', {'class':'mileage'}).get_text())\n",
    "        except:\n",
    "            mileage.append('n/a')\n",
    "\n",
    "        # dealer_name\n",
    "        try:\n",
    "            dealer_name.append(result.find('div', {'class':'dealer-name'}).get_text().strip())\n",
    "        except:\n",
    "            dealer_name.append('n/a')\n",
    "            \n",
    "              # rating\n",
    "        try:\n",
    "            rating.append(result.find('span', {'class':'sds-rating__count'}).get_text())\n",
    "        except:\n",
    "            rating.append('n/a')\n",
    "\n",
    "        # review_count\n",
    "        try:\n",
    "            review_count.append(result.find('span', {'class':'sds-rating__link'}).get_text())\n",
    "        except:\n",
    "            review_count.append('n/a')\n",
    "\n",
    "        #price \n",
    "        try:\n",
    "            price.append(result.find('span', {'class':'primary-price'}).get_text())\n",
    "        except:\n",
    "            price.append('n/a')"
   ]
  },
  {
   "cell_type": "code",
   "execution_count": 62,
   "metadata": {},
   "outputs": [],
   "source": [
    "# dictionary\n",
    "car_dealer = pd.DataFrame({'Name': name, 'Mileage':mileage, 'Dealer Name':dealer_name,\n",
    "                                'Rating': rating, 'Review Count': review_count, 'Price': price})"
   ]
  },
  {
   "cell_type": "code",
   "execution_count": 63,
   "metadata": {},
   "outputs": [
    {
     "data": {
      "text/html": [
       "<div>\n",
       "<style scoped>\n",
       "    .dataframe tbody tr th:only-of-type {\n",
       "        vertical-align: middle;\n",
       "    }\n",
       "\n",
       "    .dataframe tbody tr th {\n",
       "        vertical-align: top;\n",
       "    }\n",
       "\n",
       "    .dataframe thead th {\n",
       "        text-align: right;\n",
       "    }\n",
       "</style>\n",
       "<table border=\"1\" class=\"dataframe\">\n",
       "  <thead>\n",
       "    <tr style=\"text-align: right;\">\n",
       "      <th></th>\n",
       "      <th>Name</th>\n",
       "      <th>Mileage</th>\n",
       "      <th>Dealer Name</th>\n",
       "      <th>Rating</th>\n",
       "      <th>Review Count</th>\n",
       "      <th>Price</th>\n",
       "    </tr>\n",
       "  </thead>\n",
       "  <tbody>\n",
       "    <tr>\n",
       "      <th>0</th>\n",
       "      <td>2020 Subaru Ascent Limited 7-Passenger</td>\n",
       "      <td>24,605 mi.</td>\n",
       "      <td>Wilsonville Subaru</td>\n",
       "      <td>4.9</td>\n",
       "      <td>(1,642 reviews)</td>\n",
       "      <td>$37,991</td>\n",
       "    </tr>\n",
       "    <tr>\n",
       "      <th>1</th>\n",
       "      <td>2023 Jeep Grand Cherokee Altitude</td>\n",
       "      <td>950 mi.</td>\n",
       "      <td>AutoNation Chrysler Dodge Jeep Ram Katy</td>\n",
       "      <td>4.3</td>\n",
       "      <td>(1,481 reviews)</td>\n",
       "      <td>$42,299</td>\n",
       "    </tr>\n",
       "    <tr>\n",
       "      <th>2</th>\n",
       "      <td>2020 BMW X4 M40i</td>\n",
       "      <td>36,964 mi.</td>\n",
       "      <td>BMW of Vista</td>\n",
       "      <td>4.6</td>\n",
       "      <td>(750 reviews)</td>\n",
       "      <td>$51,998</td>\n",
       "    </tr>\n",
       "    <tr>\n",
       "      <th>3</th>\n",
       "      <td>2019 BMW 640 Gran Turismo i xDrive</td>\n",
       "      <td>26,717 mi.</td>\n",
       "      <td>BMW Encinitas</td>\n",
       "      <td>4.5</td>\n",
       "      <td>(1,228 reviews)</td>\n",
       "      <td>$43,385</td>\n",
       "    </tr>\n",
       "    <tr>\n",
       "      <th>4</th>\n",
       "      <td>2020 BMW X6 M Base</td>\n",
       "      <td>18,927 mi.</td>\n",
       "      <td>BMW of Palm Springs</td>\n",
       "      <td>4.8</td>\n",
       "      <td>(600 reviews)</td>\n",
       "      <td>$97,500</td>\n",
       "    </tr>\n",
       "    <tr>\n",
       "      <th>...</th>\n",
       "      <td>...</td>\n",
       "      <td>...</td>\n",
       "      <td>...</td>\n",
       "      <td>...</td>\n",
       "      <td>...</td>\n",
       "      <td>...</td>\n",
       "    </tr>\n",
       "    <tr>\n",
       "      <th>10093</th>\n",
       "      <td>2019 Porsche 911 Targa 4 GTS</td>\n",
       "      <td>7,224 mi.</td>\n",
       "      <td>Porsche West Palm Beach</td>\n",
       "      <td>4.1</td>\n",
       "      <td>(253 reviews)</td>\n",
       "      <td>$172,500</td>\n",
       "    </tr>\n",
       "    <tr>\n",
       "      <th>10094</th>\n",
       "      <td>2022 Cadillac CT5-V V-Series Blackwing</td>\n",
       "      <td>8,172 mi.</td>\n",
       "      <td>Sewell Cadillac Grapevine</td>\n",
       "      <td>2.8</td>\n",
       "      <td>(77 reviews)</td>\n",
       "      <td>$117,995</td>\n",
       "    </tr>\n",
       "    <tr>\n",
       "      <th>10095</th>\n",
       "      <td>2020 Subaru Legacy</td>\n",
       "      <td>44,721 mi.</td>\n",
       "      <td>International Autos Jaguar, Land Rover, Subaru...</td>\n",
       "      <td>4.7</td>\n",
       "      <td>(220 reviews)</td>\n",
       "      <td>$26,800</td>\n",
       "    </tr>\n",
       "    <tr>\n",
       "      <th>10096</th>\n",
       "      <td>2019 Nissan Pathfinder S</td>\n",
       "      <td>43,697 mi.</td>\n",
       "      <td>Lupient KIA Nissan</td>\n",
       "      <td>4.9</td>\n",
       "      <td>(2,830 reviews)</td>\n",
       "      <td>$24,759</td>\n",
       "    </tr>\n",
       "    <tr>\n",
       "      <th>10097</th>\n",
       "      <td>2019 Ford Flex SEL</td>\n",
       "      <td>49,408 mi.</td>\n",
       "      <td>Varsity Ford</td>\n",
       "      <td>4.9</td>\n",
       "      <td>(2,270 reviews)</td>\n",
       "      <td>$28,255</td>\n",
       "    </tr>\n",
       "  </tbody>\n",
       "</table>\n",
       "<p>10098 rows × 6 columns</p>\n",
       "</div>"
      ],
      "text/plain": [
       "                                         Name     Mileage  \\\n",
       "0      2020 Subaru Ascent Limited 7-Passenger  24,605 mi.   \n",
       "1           2023 Jeep Grand Cherokee Altitude     950 mi.   \n",
       "2                            2020 BMW X4 M40i  36,964 mi.   \n",
       "3          2019 BMW 640 Gran Turismo i xDrive  26,717 mi.   \n",
       "4                          2020 BMW X6 M Base  18,927 mi.   \n",
       "...                                       ...         ...   \n",
       "10093            2019 Porsche 911 Targa 4 GTS   7,224 mi.   \n",
       "10094  2022 Cadillac CT5-V V-Series Blackwing   8,172 mi.   \n",
       "10095                     2020 Subaru Legacy   44,721 mi.   \n",
       "10096                2019 Nissan Pathfinder S  43,697 mi.   \n",
       "10097                      2019 Ford Flex SEL  49,408 mi.   \n",
       "\n",
       "                                             Dealer Name Rating  \\\n",
       "0                                     Wilsonville Subaru    4.9   \n",
       "1                AutoNation Chrysler Dodge Jeep Ram Katy    4.3   \n",
       "2                                           BMW of Vista    4.6   \n",
       "3                                          BMW Encinitas    4.5   \n",
       "4                                    BMW of Palm Springs    4.8   \n",
       "...                                                  ...    ...   \n",
       "10093                            Porsche West Palm Beach    4.1   \n",
       "10094                          Sewell Cadillac Grapevine    2.8   \n",
       "10095  International Autos Jaguar, Land Rover, Subaru...    4.7   \n",
       "10096                                 Lupient KIA Nissan    4.9   \n",
       "10097                                       Varsity Ford    4.9   \n",
       "\n",
       "          Review Count     Price  \n",
       "0      (1,642 reviews)   $37,991  \n",
       "1      (1,481 reviews)   $42,299  \n",
       "2        (750 reviews)   $51,998  \n",
       "3      (1,228 reviews)   $43,385  \n",
       "4        (600 reviews)   $97,500  \n",
       "...                ...       ...  \n",
       "10093    (253 reviews)  $172,500  \n",
       "10094     (77 reviews)  $117,995  \n",
       "10095    (220 reviews)   $26,800  \n",
       "10096  (2,830 reviews)   $24,759  \n",
       "10097  (2,270 reviews)   $28,255  \n",
       "\n",
       "[10098 rows x 6 columns]"
      ]
     },
     "execution_count": 63,
     "metadata": {},
     "output_type": "execute_result"
    }
   ],
   "source": [
    "car_dealer"
   ]
  },
  {
   "cell_type": "code",
   "execution_count": 64,
   "metadata": {},
   "outputs": [],
   "source": [
    "car_dealer['Review Count'] = car_dealer['Review Count'].apply(lambda x: x.strip('reviews)').strip('('))"
   ]
  },
  {
   "cell_type": "code",
   "execution_count": 65,
   "metadata": {},
   "outputs": [
    {
     "data": {
      "text/html": [
       "<div>\n",
       "<style scoped>\n",
       "    .dataframe tbody tr th:only-of-type {\n",
       "        vertical-align: middle;\n",
       "    }\n",
       "\n",
       "    .dataframe tbody tr th {\n",
       "        vertical-align: top;\n",
       "    }\n",
       "\n",
       "    .dataframe thead th {\n",
       "        text-align: right;\n",
       "    }\n",
       "</style>\n",
       "<table border=\"1\" class=\"dataframe\">\n",
       "  <thead>\n",
       "    <tr style=\"text-align: right;\">\n",
       "      <th></th>\n",
       "      <th>Name</th>\n",
       "      <th>Mileage</th>\n",
       "      <th>Dealer Name</th>\n",
       "      <th>Rating</th>\n",
       "      <th>Review Count</th>\n",
       "      <th>Price</th>\n",
       "    </tr>\n",
       "  </thead>\n",
       "  <tbody>\n",
       "    <tr>\n",
       "      <th>0</th>\n",
       "      <td>2020 Subaru Ascent Limited 7-Passenger</td>\n",
       "      <td>24,605 mi.</td>\n",
       "      <td>Wilsonville Subaru</td>\n",
       "      <td>4.9</td>\n",
       "      <td>1,642</td>\n",
       "      <td>$37,991</td>\n",
       "    </tr>\n",
       "    <tr>\n",
       "      <th>1</th>\n",
       "      <td>2023 Jeep Grand Cherokee Altitude</td>\n",
       "      <td>950 mi.</td>\n",
       "      <td>AutoNation Chrysler Dodge Jeep Ram Katy</td>\n",
       "      <td>4.3</td>\n",
       "      <td>1,481</td>\n",
       "      <td>$42,299</td>\n",
       "    </tr>\n",
       "    <tr>\n",
       "      <th>2</th>\n",
       "      <td>2020 BMW X4 M40i</td>\n",
       "      <td>36,964 mi.</td>\n",
       "      <td>BMW of Vista</td>\n",
       "      <td>4.6</td>\n",
       "      <td>750</td>\n",
       "      <td>$51,998</td>\n",
       "    </tr>\n",
       "    <tr>\n",
       "      <th>3</th>\n",
       "      <td>2019 BMW 640 Gran Turismo i xDrive</td>\n",
       "      <td>26,717 mi.</td>\n",
       "      <td>BMW Encinitas</td>\n",
       "      <td>4.5</td>\n",
       "      <td>1,228</td>\n",
       "      <td>$43,385</td>\n",
       "    </tr>\n",
       "    <tr>\n",
       "      <th>4</th>\n",
       "      <td>2020 BMW X6 M Base</td>\n",
       "      <td>18,927 mi.</td>\n",
       "      <td>BMW of Palm Springs</td>\n",
       "      <td>4.8</td>\n",
       "      <td>600</td>\n",
       "      <td>$97,500</td>\n",
       "    </tr>\n",
       "    <tr>\n",
       "      <th>...</th>\n",
       "      <td>...</td>\n",
       "      <td>...</td>\n",
       "      <td>...</td>\n",
       "      <td>...</td>\n",
       "      <td>...</td>\n",
       "      <td>...</td>\n",
       "    </tr>\n",
       "    <tr>\n",
       "      <th>10093</th>\n",
       "      <td>2019 Porsche 911 Targa 4 GTS</td>\n",
       "      <td>7,224 mi.</td>\n",
       "      <td>Porsche West Palm Beach</td>\n",
       "      <td>4.1</td>\n",
       "      <td>253</td>\n",
       "      <td>$172,500</td>\n",
       "    </tr>\n",
       "    <tr>\n",
       "      <th>10094</th>\n",
       "      <td>2022 Cadillac CT5-V V-Series Blackwing</td>\n",
       "      <td>8,172 mi.</td>\n",
       "      <td>Sewell Cadillac Grapevine</td>\n",
       "      <td>2.8</td>\n",
       "      <td>77</td>\n",
       "      <td>$117,995</td>\n",
       "    </tr>\n",
       "    <tr>\n",
       "      <th>10095</th>\n",
       "      <td>2020 Subaru Legacy</td>\n",
       "      <td>44,721 mi.</td>\n",
       "      <td>International Autos Jaguar, Land Rover, Subaru...</td>\n",
       "      <td>4.7</td>\n",
       "      <td>220</td>\n",
       "      <td>$26,800</td>\n",
       "    </tr>\n",
       "    <tr>\n",
       "      <th>10096</th>\n",
       "      <td>2019 Nissan Pathfinder S</td>\n",
       "      <td>43,697 mi.</td>\n",
       "      <td>Lupient KIA Nissan</td>\n",
       "      <td>4.9</td>\n",
       "      <td>2,830</td>\n",
       "      <td>$24,759</td>\n",
       "    </tr>\n",
       "    <tr>\n",
       "      <th>10097</th>\n",
       "      <td>2019 Ford Flex SEL</td>\n",
       "      <td>49,408 mi.</td>\n",
       "      <td>Varsity Ford</td>\n",
       "      <td>4.9</td>\n",
       "      <td>2,270</td>\n",
       "      <td>$28,255</td>\n",
       "    </tr>\n",
       "  </tbody>\n",
       "</table>\n",
       "<p>10098 rows × 6 columns</p>\n",
       "</div>"
      ],
      "text/plain": [
       "                                         Name     Mileage  \\\n",
       "0      2020 Subaru Ascent Limited 7-Passenger  24,605 mi.   \n",
       "1           2023 Jeep Grand Cherokee Altitude     950 mi.   \n",
       "2                            2020 BMW X4 M40i  36,964 mi.   \n",
       "3          2019 BMW 640 Gran Turismo i xDrive  26,717 mi.   \n",
       "4                          2020 BMW X6 M Base  18,927 mi.   \n",
       "...                                       ...         ...   \n",
       "10093            2019 Porsche 911 Targa 4 GTS   7,224 mi.   \n",
       "10094  2022 Cadillac CT5-V V-Series Blackwing   8,172 mi.   \n",
       "10095                     2020 Subaru Legacy   44,721 mi.   \n",
       "10096                2019 Nissan Pathfinder S  43,697 mi.   \n",
       "10097                      2019 Ford Flex SEL  49,408 mi.   \n",
       "\n",
       "                                             Dealer Name Rating Review Count  \\\n",
       "0                                     Wilsonville Subaru    4.9       1,642    \n",
       "1                AutoNation Chrysler Dodge Jeep Ram Katy    4.3       1,481    \n",
       "2                                           BMW of Vista    4.6         750    \n",
       "3                                          BMW Encinitas    4.5       1,228    \n",
       "4                                    BMW of Palm Springs    4.8         600    \n",
       "...                                                  ...    ...          ...   \n",
       "10093                            Porsche West Palm Beach    4.1         253    \n",
       "10094                          Sewell Cadillac Grapevine    2.8          77    \n",
       "10095  International Autos Jaguar, Land Rover, Subaru...    4.7         220    \n",
       "10096                                 Lupient KIA Nissan    4.9       2,830    \n",
       "10097                                       Varsity Ford    4.9       2,270    \n",
       "\n",
       "          Price  \n",
       "0       $37,991  \n",
       "1       $42,299  \n",
       "2       $51,998  \n",
       "3       $43,385  \n",
       "4       $97,500  \n",
       "...         ...  \n",
       "10093  $172,500  \n",
       "10094  $117,995  \n",
       "10095   $26,800  \n",
       "10096   $24,759  \n",
       "10097   $28,255  \n",
       "\n",
       "[10098 rows x 6 columns]"
      ]
     },
     "execution_count": 65,
     "metadata": {},
     "output_type": "execute_result"
    }
   ],
   "source": [
    "car_dealer"
   ]
  },
  {
   "cell_type": "code",
   "execution_count": 82,
   "metadata": {},
   "outputs": [],
   "source": [
    "car_dealer.to_csv('cars_data.csv', index=False)"
   ]
  },
  {
   "cell_type": "markdown",
   "metadata": {},
   "source": [
    "# DATA ANALYSIS"
   ]
  },
  {
   "cell_type": "code",
   "execution_count": 83,
   "metadata": {},
   "outputs": [],
   "source": [
    "import pandas as pd"
   ]
  },
  {
   "cell_type": "code",
   "execution_count": 86,
   "metadata": {},
   "outputs": [],
   "source": [
    "df = pd.read_csv('cars_data.csv')"
   ]
  },
  {
   "cell_type": "code",
   "execution_count": 87,
   "metadata": {},
   "outputs": [
    {
     "data": {
      "text/html": [
       "<div>\n",
       "<style scoped>\n",
       "    .dataframe tbody tr th:only-of-type {\n",
       "        vertical-align: middle;\n",
       "    }\n",
       "\n",
       "    .dataframe tbody tr th {\n",
       "        vertical-align: top;\n",
       "    }\n",
       "\n",
       "    .dataframe thead th {\n",
       "        text-align: right;\n",
       "    }\n",
       "</style>\n",
       "<table border=\"1\" class=\"dataframe\">\n",
       "  <thead>\n",
       "    <tr style=\"text-align: right;\">\n",
       "      <th></th>\n",
       "      <th>Name</th>\n",
       "      <th>Mileage</th>\n",
       "      <th>Dealer Name</th>\n",
       "      <th>Rating</th>\n",
       "      <th>Review Count</th>\n",
       "      <th>Price</th>\n",
       "    </tr>\n",
       "  </thead>\n",
       "  <tbody>\n",
       "    <tr>\n",
       "      <th>0</th>\n",
       "      <td>2020 Subaru Ascent Limited 7-Passenger</td>\n",
       "      <td>24,605 mi.</td>\n",
       "      <td>Wilsonville Subaru</td>\n",
       "      <td>4.9</td>\n",
       "      <td>1,642</td>\n",
       "      <td>$37,991</td>\n",
       "    </tr>\n",
       "    <tr>\n",
       "      <th>1</th>\n",
       "      <td>2023 Jeep Grand Cherokee Altitude</td>\n",
       "      <td>950 mi.</td>\n",
       "      <td>AutoNation Chrysler Dodge Jeep Ram Katy</td>\n",
       "      <td>4.3</td>\n",
       "      <td>1,481</td>\n",
       "      <td>$42,299</td>\n",
       "    </tr>\n",
       "    <tr>\n",
       "      <th>2</th>\n",
       "      <td>2020 BMW X4 M40i</td>\n",
       "      <td>36,964 mi.</td>\n",
       "      <td>BMW of Vista</td>\n",
       "      <td>4.6</td>\n",
       "      <td>750</td>\n",
       "      <td>$51,998</td>\n",
       "    </tr>\n",
       "    <tr>\n",
       "      <th>3</th>\n",
       "      <td>2019 BMW 640 Gran Turismo i xDrive</td>\n",
       "      <td>26,717 mi.</td>\n",
       "      <td>BMW Encinitas</td>\n",
       "      <td>4.5</td>\n",
       "      <td>1,228</td>\n",
       "      <td>$43,385</td>\n",
       "    </tr>\n",
       "    <tr>\n",
       "      <th>4</th>\n",
       "      <td>2020 BMW X6 M Base</td>\n",
       "      <td>18,927 mi.</td>\n",
       "      <td>BMW of Palm Springs</td>\n",
       "      <td>4.8</td>\n",
       "      <td>600</td>\n",
       "      <td>$97,500</td>\n",
       "    </tr>\n",
       "  </tbody>\n",
       "</table>\n",
       "</div>"
      ],
      "text/plain": [
       "                                     Name     Mileage  \\\n",
       "0  2020 Subaru Ascent Limited 7-Passenger  24,605 mi.   \n",
       "1       2023 Jeep Grand Cherokee Altitude     950 mi.   \n",
       "2                        2020 BMW X4 M40i  36,964 mi.   \n",
       "3      2019 BMW 640 Gran Turismo i xDrive  26,717 mi.   \n",
       "4                      2020 BMW X6 M Base  18,927 mi.   \n",
       "\n",
       "                               Dealer Name  Rating Review Count    Price  \n",
       "0                       Wilsonville Subaru     4.9       1,642   $37,991  \n",
       "1  AutoNation Chrysler Dodge Jeep Ram Katy     4.3       1,481   $42,299  \n",
       "2                             BMW of Vista     4.6         750   $51,998  \n",
       "3                            BMW Encinitas     4.5       1,228   $43,385  \n",
       "4                      BMW of Palm Springs     4.8         600   $97,500  "
      ]
     },
     "execution_count": 87,
     "metadata": {},
     "output_type": "execute_result"
    }
   ],
   "source": [
    "df.head()"
   ]
  },
  {
   "cell_type": "code",
   "execution_count": 88,
   "metadata": {},
   "outputs": [
    {
     "data": {
      "text/plain": [
       "Index(['Name', 'Mileage', 'Dealer Name', 'Rating', 'Review Count', 'Price'], dtype='object')"
      ]
     },
     "execution_count": 88,
     "metadata": {},
     "output_type": "execute_result"
    }
   ],
   "source": [
    "df.columns"
   ]
  },
  {
   "cell_type": "code",
   "execution_count": 89,
   "metadata": {},
   "outputs": [
    {
     "data": {
      "text/plain": [
       "10098"
      ]
     },
     "execution_count": 89,
     "metadata": {},
     "output_type": "execute_result"
    }
   ],
   "source": [
    "len(df)"
   ]
  },
  {
   "cell_type": "code",
   "execution_count": 92,
   "metadata": {},
   "outputs": [
    {
     "data": {
      "text/plain": [
       "1250"
      ]
     },
     "execution_count": 92,
     "metadata": {},
     "output_type": "execute_result"
    }
   ],
   "source": [
    "df.isnull().sum().sum()"
   ]
  },
  {
   "cell_type": "code",
   "execution_count": 93,
   "metadata": {},
   "outputs": [
    {
     "data": {
      "text/plain": [
       "Index(['Mileage', 'Rating', 'Review Count'], dtype='object')"
      ]
     },
     "execution_count": 93,
     "metadata": {},
     "output_type": "execute_result"
    }
   ],
   "source": [
    "df.columns[df.isna().any()]"
   ]
  },
  {
   "cell_type": "code",
   "execution_count": 95,
   "metadata": {},
   "outputs": [],
   "source": [
    "import numpy as np\n",
    "import matplotlib.pyplot as plt\n",
    "import seaborn as sns\n",
    "import warnings\n",
    "warnings.filterwarnings('ignore')\n"
   ]
  },
  {
   "cell_type": "code",
   "execution_count": 96,
   "metadata": {},
   "outputs": [
    {
     "data": {
      "text/plain": [
       "<AxesSubplot:>"
      ]
     },
     "execution_count": 96,
     "metadata": {},
     "output_type": "execute_result"
    },
    {
     "data": {
      "image/png": "[encoded data removed]",
      "text/plain": [
       "<Figure size 864x432 with 2 Axes>"
      ]
     },
     "metadata": {
      "needs_background": "light"
     },
     "output_type": "display_data"
    }
   ],
   "source": [
    "plt.figure(figsize=(12,6))\n",
    "sns.heatmap(df.isnull())"
   ]
  },
  {
   "cell_type": "code",
   "execution_count": 98,
   "metadata": {},
   "outputs": [
    {
     "data": {
      "text/plain": [
       "True"
      ]
     },
     "execution_count": 98,
     "metadata": {},
     "output_type": "execute_result"
    }
   ],
   "source": [
    "df['Rating'].isna().any()"
   ]
  },
  {
   "cell_type": "code",
   "execution_count": 100,
   "metadata": {},
   "outputs": [
    {
     "data": {
      "text/plain": [
       "1174"
      ]
     },
     "execution_count": 100,
     "metadata": {},
     "output_type": "execute_result"
    }
   ],
   "source": [
    "df['Rating'].isnull().sum()"
   ]
  },
  {
   "cell_type": "code",
   "execution_count": 102,
   "metadata": {},
   "outputs": [
    {
     "data": {
      "text/plain": [
       "(10098, 6)"
      ]
     },
     "execution_count": 102,
     "metadata": {},
     "output_type": "execute_result"
    }
   ],
   "source": [
    "df.shape"
   ]
  },
  {
   "cell_type": "code",
   "execution_count": 103,
   "metadata": {},
   "outputs": [
    {
     "data": {
      "text/html": [
       "<div>\n",
       "<style scoped>\n",
       "    .dataframe tbody tr th:only-of-type {\n",
       "        vertical-align: middle;\n",
       "    }\n",
       "\n",
       "    .dataframe tbody tr th {\n",
       "        vertical-align: top;\n",
       "    }\n",
       "\n",
       "    .dataframe thead th {\n",
       "        text-align: right;\n",
       "    }\n",
       "</style>\n",
       "<table border=\"1\" class=\"dataframe\">\n",
       "  <thead>\n",
       "    <tr style=\"text-align: right;\">\n",
       "      <th></th>\n",
       "      <th>Rating</th>\n",
       "    </tr>\n",
       "  </thead>\n",
       "  <tbody>\n",
       "    <tr>\n",
       "      <th>count</th>\n",
       "      <td>8924.000000</td>\n",
       "    </tr>\n",
       "    <tr>\n",
       "      <th>mean</th>\n",
       "      <td>4.338133</td>\n",
       "    </tr>\n",
       "    <tr>\n",
       "      <th>std</th>\n",
       "      <td>0.664123</td>\n",
       "    </tr>\n",
       "    <tr>\n",
       "      <th>min</th>\n",
       "      <td>1.100000</td>\n",
       "    </tr>\n",
       "    <tr>\n",
       "      <th>25%</th>\n",
       "      <td>4.100000</td>\n",
       "    </tr>\n",
       "    <tr>\n",
       "      <th>50%</th>\n",
       "      <td>4.600000</td>\n",
       "    </tr>\n",
       "    <tr>\n",
       "      <th>75%</th>\n",
       "      <td>4.800000</td>\n",
       "    </tr>\n",
       "    <tr>\n",
       "      <th>max</th>\n",
       "      <td>5.000000</td>\n",
       "    </tr>\n",
       "  </tbody>\n",
       "</table>\n",
       "</div>"
      ],
      "text/plain": [
       "            Rating\n",
       "count  8924.000000\n",
       "mean      4.338133\n",
       "std       0.664123\n",
       "min       1.100000\n",
       "25%       4.100000\n",
       "50%       4.600000\n",
       "75%       4.800000\n",
       "max       5.000000"
      ]
     },
     "execution_count": 103,
     "metadata": {},
     "output_type": "execute_result"
    }
   ],
   "source": [
    "df.describe()"
   ]
  },
  {
   "cell_type": "code",
   "execution_count": 104,
   "metadata": {},
   "outputs": [
    {
     "name": "stdout",
     "output_type": "stream",
     "text": [
      "<class 'pandas.core.frame.DataFrame'>\n",
      "RangeIndex: 10098 entries, 0 to 10097\n",
      "Data columns (total 6 columns):\n",
      " #   Column        Non-Null Count  Dtype  \n",
      "---  ------        --------------  -----  \n",
      " 0   Name          10098 non-null  object \n",
      " 1   Mileage       10096 non-null  object \n",
      " 2   Dealer Name   10098 non-null  object \n",
      " 3   Rating        8924 non-null   float64\n",
      " 4   Review Count  10024 non-null  object \n",
      " 5   Price         10098 non-null  object \n",
      "dtypes: float64(1), object(5)\n",
      "memory usage: 473.5+ KB\n"
     ]
    }
   ],
   "source": [
    "df.info()"
   ]
  },
  {
   "cell_type": "code",
   "execution_count": 105,
   "metadata": {},
   "outputs": [],
   "source": [
    "import missingno as mno"
   ]
  },
  {
   "cell_type": "code",
   "execution_count": 106,
   "metadata": {},
   "outputs": [
    {
     "data": {
      "text/plain": [
       "<AxesSubplot:>"
      ]
     },
     "execution_count": 106,
     "metadata": {},
     "output_type": "execute_result"
    },
    {
     "data": {
      "image/png": "[encoded data removed]",
      "text/plain": [
       "<Figure size 1728x720 with 3 Axes>"
      ]
     },
     "metadata": {
      "needs_background": "light"
     },
     "output_type": "display_data"
    }
   ],
   "source": [
    "mno.bar(df[df.columns[df.isna().any()]], sort = 'ascending', color = 'green')"
   ]
  },
  {
   "cell_type": "code",
   "execution_count": 107,
   "metadata": {},
   "outputs": [],
   "source": [
    "# Getting total number of NULL values and percentage of the columns\n",
    "# null_columns = df.columns[df.isna().any()]\n",
    "null_value_count = df[df.columns[df.isna().any()]].isna().sum().sort_values(ascending=False)\n",
    "null_percentage = (df[df.columns[df.isna().any()]].isna().sum() * 100 / df.shape[0]).sort_values(ascending=False)"
   ]
  },
  {
   "cell_type": "code",
   "execution_count": 108,
   "metadata": {},
   "outputs": [],
   "source": [
    "null_data = pd.concat([null_value_count, null_percentage], axis=1, keys=['Count', 'Percentage'])"
   ]
  },
  {
   "cell_type": "code",
   "execution_count": 109,
   "metadata": {},
   "outputs": [
    {
     "data": {
      "text/html": [
       "<div>\n",
       "<style scoped>\n",
       "    .dataframe tbody tr th:only-of-type {\n",
       "        vertical-align: middle;\n",
       "    }\n",
       "\n",
       "    .dataframe tbody tr th {\n",
       "        vertical-align: top;\n",
       "    }\n",
       "\n",
       "    .dataframe thead th {\n",
       "        text-align: right;\n",
       "    }\n",
       "</style>\n",
       "<table border=\"1\" class=\"dataframe\">\n",
       "  <thead>\n",
       "    <tr style=\"text-align: right;\">\n",
       "      <th></th>\n",
       "      <th>Count</th>\n",
       "      <th>Percentage</th>\n",
       "    </tr>\n",
       "  </thead>\n",
       "  <tbody>\n",
       "    <tr>\n",
       "      <th>Rating</th>\n",
       "      <td>1174</td>\n",
       "      <td>11.626065</td>\n",
       "    </tr>\n",
       "    <tr>\n",
       "      <th>Review Count</th>\n",
       "      <td>74</td>\n",
       "      <td>0.732818</td>\n",
       "    </tr>\n",
       "    <tr>\n",
       "      <th>Mileage</th>\n",
       "      <td>2</td>\n",
       "      <td>0.019806</td>\n",
       "    </tr>\n",
       "  </tbody>\n",
       "</table>\n",
       "</div>"
      ],
      "text/plain": [
       "              Count  Percentage\n",
       "Rating         1174   11.626065\n",
       "Review Count     74    0.732818\n",
       "Mileage           2    0.019806"
      ]
     },
     "execution_count": 109,
     "metadata": {},
     "output_type": "execute_result"
    }
   ],
   "source": [
    "null_data"
   ]
  },
  {
   "cell_type": "markdown",
   "metadata": {},
   "source": [
    "We dont need to drop any columns because as its below 15%"
   ]
  },
  {
   "cell_type": "code",
   "execution_count": 110,
   "metadata": {},
   "outputs": [
    {
     "data": {
      "image/png": "[encoded data removed]",
      "text/plain": [
       "<Figure size 1440x4320 with 3 Axes>"
      ]
     },
     "metadata": {
      "needs_background": "light"
     },
     "output_type": "display_data"
    }
   ],
   "source": [
    "plt.figure(figsize=[20, 60])\n",
    "\n",
    "for i, var in enumerate(null_data.index,start=1):\n",
    "    plt.subplot(5,3,i)\n",
    "    sns.countplot(df[var])\n",
    "    plt.title(f\"Countplot for {var}\")"
   ]
  },
  {
   "cell_type": "code",
   "execution_count": null,
   "metadata": {},
   "outputs": [],
   "source": []
  },
  {
   "cell_type": "code",
   "execution_count": null,
   "metadata": {},
   "outputs": [],
   "source": []
  },
  {
   "cell_type": "code",
   "execution_count": null,
   "metadata": {},
   "outputs": [],
   "source": []
  },
  {
   "cell_type": "code",
   "execution_count": null,
   "metadata": {},
   "outputs": [],
   "source": []
  }
 ],
 "metadata": {
  "kernelspec": {
   "display_name": "Python 3.10.4 ('data_science')",
   "language": "python",
   "name": "python3"
  },
  "language_info": {
   "codemirror_mode": {
    "name": "ipython",
    "version": 3
   },
   "file_extension": ".py",
   "mimetype": "text/x-python",
   "name": "python",
   "nbconvert_exporter": "python",
   "pygments_lexer": "ipython3",
   "version": "3.10.4"
  },
  "orig_nbformat": 4,
  "vscode": {
   "interpreter": {
    "hash": "a8d58dd5be0ada4fb5a47414fe14ff43adb412c7f275b2cb4b408d3aefadbe44"
   }
  }
 },
 "nbformat": 4,
 "nbformat_minor": 2
}
