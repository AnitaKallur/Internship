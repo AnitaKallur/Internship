{
 "cells": [
  {
   "cell_type": "markdown",
   "metadata": {},
   "source": [
    "# Machine Learning"
   ]
  },
  {
   "cell_type": "markdown",
   "metadata": {},
   "source": [
    "1. b\n",
    "2. d\n",
    "3. a\n",
    "4. a\n",
    "5. b\n",
    "6. b\n",
    "7. a\n",
    "8. d\n",
    "9. a\n",
    "10. d\n",
    "11. d\n",
    "\n",
    "12. The K-means clustering algorithm is sensitive to outliers, because a mean is easily influenced by extreme values. K-medoids clustering is a variant of K-means that is more robust to noises and outliers.\n",
    "\n",
    "13. K-means is the simplest. To implement and to run. All you need to do is choose \"k\" and run it a number of times. Other clustering algorithms with better features tend to be more expensive. In this case, k-means becomes a great solution for pre-clustering, reducing the space into disjoint smaller sub-spaces where other clustering algorithms can be applied.\n",
    "\n",
    "14. The basic k-means clustering is based on a non-deterministic algorithm. This means that running the algorithm several times on the same data, could give different results"
   ]
  },
  {
   "cell_type": "markdown",
   "metadata": {},
   "source": [
    "# SQL Worksheet"
   ]
  },
  {
   "cell_type": "markdown",
   "metadata": {},
   "source": [
    "1. d\n",
    "2. c\n",
    "3. a\n",
    "4. c\n",
    "5. b\n",
    "6. 0\n",
    "7. a\n",
    "8. c\n",
    "9. b\n",
    "10. 1\n",
    "11. b\n",
    "12. c\n",
    "13. a\n",
    "14. b,c\n",
    "15. a, b\n"
   ]
  },
  {
   "cell_type": "markdown",
   "metadata": {},
   "source": [
    "# Statistics Worksheet\n"
   ]
  },
  {
   "cell_type": "markdown",
   "metadata": {},
   "source": [
    "1. a\n",
    "2. c\n",
    "3. d\n",
    "4. c\n",
    "5. b\n",
    "6. b\n",
    "7. d\n",
    "8. b\n",
    "9. d\n",
    "10. a\n",
    "11. c\n",
    "12. d\n",
    "13. d\n",
    "14. a\n",
    "15. d"
   ]
  }
 ],
 "metadata": {
  "language_info": {
   "name": "python"
  },
  "orig_nbformat": 4
 },
 "nbformat": 4,
 "nbformat_minor": 2
}
