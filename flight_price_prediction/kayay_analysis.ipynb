{
 "cells": [
  {
   "cell_type": "code",
   "execution_count": 255,
   "metadata": {},
   "outputs": [],
   "source": [
    "import pandas as pd\n",
    "import numpy as np\n",
    "import pandas as pd\n",
    "import matplotlib.pyplot as plt\n",
    "import seaborn as sns\n",
    "import pickle as pkl\n",
    "\n",
    "sns.set()\n",
    "\n",
    "from sklearn.model_selection import train_test_split, RandomizedSearchCV\n",
    "from sklearn.linear_model import LinearRegression, Ridge, Lasso, ElasticNet\n",
    "from sklearn.preprocessing import StandardScaler, PolynomialFeatures\n",
    "from sklearn.pipeline import make_pipeline\n",
    "from sklearn.model_selection import cross_val_score, train_test_split, KFold, GridSearchCV\n",
    "from sklearn.ensemble import RandomForestRegressor, ExtraTreesRegressor\n",
    "from sklearn import metrics\n",
    "import warnings\n",
    "warnings.simplefilter(action='ignore', category=FutureWarning)"
   ]
  },
  {
   "cell_type": "code",
   "execution_count": 257,
   "metadata": {},
   "outputs": [],
   "source": [
    "df = pd.read_csv(\"kayak_data.csv\", nrows= 1900)"
   ]
  },
  {
   "cell_type": "code",
   "execution_count": 258,
   "metadata": {},
   "outputs": [
    {
     "data": {
      "text/html": [
       "<div>\n",
       "<style scoped>\n",
       "    .dataframe tbody tr th:only-of-type {\n",
       "        vertical-align: middle;\n",
       "    }\n",
       "\n",
       "    .dataframe tbody tr th {\n",
       "        vertical-align: top;\n",
       "    }\n",
       "\n",
       "    .dataframe thead th {\n",
       "        text-align: right;\n",
       "    }\n",
       "</style>\n",
       "<table border=\"1\" class=\"dataframe\">\n",
       "  <thead>\n",
       "    <tr style=\"text-align: right;\">\n",
       "      <th></th>\n",
       "      <th>Unnamed: 0</th>\n",
       "      <th>Airline</th>\n",
       "      <th>stops_list</th>\n",
       "      <th>Departure</th>\n",
       "      <th>Prices</th>\n",
       "      <th>Duration</th>\n",
       "    </tr>\n",
       "  </thead>\n",
       "  <tbody>\n",
       "    <tr>\n",
       "      <th>0</th>\n",
       "      <td>0</td>\n",
       "      <td>Emirates</td>\n",
       "      <td>1 stop</td>\n",
       "      <td>LGWGatwick-BLRBengaluru Intl</td>\n",
       "      <td>£687</td>\n",
       "      <td>13h 45m</td>\n",
       "    </tr>\n",
       "    <tr>\n",
       "      <th>1</th>\n",
       "      <td>1</td>\n",
       "      <td>Lufthansa</td>\n",
       "      <td>1 stop</td>\n",
       "      <td>BLRBengaluru Intl-LGWGatwick</td>\n",
       "      <td>£629</td>\n",
       "      <td>NaN</td>\n",
       "    </tr>\n",
       "    <tr>\n",
       "      <th>2</th>\n",
       "      <td>2</td>\n",
       "      <td>Multiple Airlines</td>\n",
       "      <td>1 stop</td>\n",
       "      <td>LHRHeathrow-BLRBengaluru Intl</td>\n",
       "      <td>£538</td>\n",
       "      <td>NaN</td>\n",
       "    </tr>\n",
       "    <tr>\n",
       "      <th>3</th>\n",
       "      <td>3</td>\n",
       "      <td>Lufthansa</td>\n",
       "      <td>1 stop</td>\n",
       "      <td>BLRBengaluru Intl-LHRHeathrow</td>\n",
       "      <td>£629</td>\n",
       "      <td>NaN</td>\n",
       "    </tr>\n",
       "    <tr>\n",
       "      <th>4</th>\n",
       "      <td>4</td>\n",
       "      <td>Lufthansa</td>\n",
       "      <td>3 stops</td>\n",
       "      <td>STNStansted-BLRBengaluru Intl</td>\n",
       "      <td>£629</td>\n",
       "      <td>NaN</td>\n",
       "    </tr>\n",
       "  </tbody>\n",
       "</table>\n",
       "</div>"
      ],
      "text/plain": [
       "   Unnamed: 0            Airline stops_list                      Departure  \\\n",
       "0           0           Emirates     1 stop   LGWGatwick-BLRBengaluru Intl   \n",
       "1           1          Lufthansa     1 stop   BLRBengaluru Intl-LGWGatwick   \n",
       "2           2  Multiple Airlines     1 stop  LHRHeathrow-BLRBengaluru Intl   \n",
       "3           3          Lufthansa     1 stop  BLRBengaluru Intl-LHRHeathrow   \n",
       "4           4          Lufthansa    3 stops  STNStansted-BLRBengaluru Intl   \n",
       "\n",
       "  Prices Duration  \n",
       "0   £687  13h 45m  \n",
       "1   £629      NaN  \n",
       "2   £538      NaN  \n",
       "3   £629      NaN  \n",
       "4   £629      NaN  "
      ]
     },
     "execution_count": 258,
     "metadata": {},
     "output_type": "execute_result"
    }
   ],
   "source": [
    "df.head()"
   ]
  },
  {
   "cell_type": "code",
   "execution_count": 259,
   "metadata": {},
   "outputs": [],
   "source": [
    "df['Source'] = df['Departure'].str.split('-').str.get(0).rename({0: 'Source'})"
   ]
  },
  {
   "cell_type": "code",
   "execution_count": 260,
   "metadata": {},
   "outputs": [],
   "source": [
    "df['Destination'] = df['Departure'].str.split('-').str.get(1).rename({1: 'Destination'})"
   ]
  },
  {
   "cell_type": "code",
   "execution_count": 261,
   "metadata": {},
   "outputs": [
    {
     "data": {
      "text/html": [
       "<div>\n",
       "<style scoped>\n",
       "    .dataframe tbody tr th:only-of-type {\n",
       "        vertical-align: middle;\n",
       "    }\n",
       "\n",
       "    .dataframe tbody tr th {\n",
       "        vertical-align: top;\n",
       "    }\n",
       "\n",
       "    .dataframe thead th {\n",
       "        text-align: right;\n",
       "    }\n",
       "</style>\n",
       "<table border=\"1\" class=\"dataframe\">\n",
       "  <thead>\n",
       "    <tr style=\"text-align: right;\">\n",
       "      <th></th>\n",
       "      <th>Unnamed: 0</th>\n",
       "      <th>Airline</th>\n",
       "      <th>stops_list</th>\n",
       "      <th>Departure</th>\n",
       "      <th>Prices</th>\n",
       "      <th>Duration</th>\n",
       "      <th>Source</th>\n",
       "      <th>Destination</th>\n",
       "    </tr>\n",
       "  </thead>\n",
       "  <tbody>\n",
       "    <tr>\n",
       "      <th>0</th>\n",
       "      <td>0</td>\n",
       "      <td>Emirates</td>\n",
       "      <td>1 stop</td>\n",
       "      <td>LGWGatwick-BLRBengaluru Intl</td>\n",
       "      <td>£687</td>\n",
       "      <td>13h 45m</td>\n",
       "      <td>NaN</td>\n",
       "      <td>BLRBengaluru Intl</td>\n",
       "    </tr>\n",
       "    <tr>\n",
       "      <th>1</th>\n",
       "      <td>1</td>\n",
       "      <td>Lufthansa</td>\n",
       "      <td>1 stop</td>\n",
       "      <td>BLRBengaluru Intl-LGWGatwick</td>\n",
       "      <td>£629</td>\n",
       "      <td>NaN</td>\n",
       "      <td>BLRBengaluru Intl</td>\n",
       "      <td>NaN</td>\n",
       "    </tr>\n",
       "    <tr>\n",
       "      <th>2</th>\n",
       "      <td>2</td>\n",
       "      <td>Multiple Airlines</td>\n",
       "      <td>1 stop</td>\n",
       "      <td>LHRHeathrow-BLRBengaluru Intl</td>\n",
       "      <td>£538</td>\n",
       "      <td>NaN</td>\n",
       "      <td>LHRHeathrow</td>\n",
       "      <td>BLRBengaluru Intl</td>\n",
       "    </tr>\n",
       "    <tr>\n",
       "      <th>3</th>\n",
       "      <td>3</td>\n",
       "      <td>Lufthansa</td>\n",
       "      <td>1 stop</td>\n",
       "      <td>BLRBengaluru Intl-LHRHeathrow</td>\n",
       "      <td>£629</td>\n",
       "      <td>NaN</td>\n",
       "      <td>BLRBengaluru Intl</td>\n",
       "      <td>LHRHeathrow</td>\n",
       "    </tr>\n",
       "    <tr>\n",
       "      <th>4</th>\n",
       "      <td>4</td>\n",
       "      <td>Lufthansa</td>\n",
       "      <td>3 stops</td>\n",
       "      <td>STNStansted-BLRBengaluru Intl</td>\n",
       "      <td>£629</td>\n",
       "      <td>NaN</td>\n",
       "      <td>STNStansted</td>\n",
       "      <td>BLRBengaluru Intl</td>\n",
       "    </tr>\n",
       "  </tbody>\n",
       "</table>\n",
       "</div>"
      ],
      "text/plain": [
       "   Unnamed: 0            Airline stops_list                      Departure  \\\n",
       "0           0           Emirates     1 stop   LGWGatwick-BLRBengaluru Intl   \n",
       "1           1          Lufthansa     1 stop   BLRBengaluru Intl-LGWGatwick   \n",
       "2           2  Multiple Airlines     1 stop  LHRHeathrow-BLRBengaluru Intl   \n",
       "3           3          Lufthansa     1 stop  BLRBengaluru Intl-LHRHeathrow   \n",
       "4           4          Lufthansa    3 stops  STNStansted-BLRBengaluru Intl   \n",
       "\n",
       "  Prices Duration             Source        Destination  \n",
       "0   £687  13h 45m                NaN  BLRBengaluru Intl  \n",
       "1   £629      NaN  BLRBengaluru Intl                NaN  \n",
       "2   £538      NaN        LHRHeathrow  BLRBengaluru Intl  \n",
       "3   £629      NaN  BLRBengaluru Intl        LHRHeathrow  \n",
       "4   £629      NaN        STNStansted  BLRBengaluru Intl  "
      ]
     },
     "execution_count": 261,
     "metadata": {},
     "output_type": "execute_result"
    }
   ],
   "source": [
    "df.head()"
   ]
  },
  {
   "cell_type": "code",
   "execution_count": 262,
   "metadata": {},
   "outputs": [],
   "source": [
    "df['stops_list'] = df['stops_list'].str.replace('stop', ' ')\n",
    "# df['stops_list'] = df['stops_list'].str.replace('stops', ' ')"
   ]
  },
  {
   "cell_type": "code",
   "execution_count": 263,
   "metadata": {},
   "outputs": [],
   "source": [
    "df['stops_list'] = df['stops_list'].str.replace('s', ' ')"
   ]
  },
  {
   "cell_type": "code",
   "execution_count": 264,
   "metadata": {},
   "outputs": [
    {
     "data": {
      "text/plain": [
       "0        1  \n",
       "1        1  \n",
       "2        1  \n",
       "3        1  \n",
       "4       3   \n",
       "        ... \n",
       "1895     1  \n",
       "1896     1  \n",
       "1897     1  \n",
       "1898     1  \n",
       "1899     1  \n",
       "Name: stops_list, Length: 1900, dtype: object"
      ]
     },
     "execution_count": 264,
     "metadata": {},
     "output_type": "execute_result"
    }
   ],
   "source": [
    "df['stops_list']"
   ]
  },
  {
   "cell_type": "code",
   "execution_count": 265,
   "metadata": {},
   "outputs": [],
   "source": [
    "df['stops_list']= pd.to_numeric(df['stops_list'], errors='coerce')"
   ]
  },
  {
   "cell_type": "code",
   "execution_count": 267,
   "metadata": {},
   "outputs": [
    {
     "data": {
      "text/plain": [
       "1931"
      ]
     },
     "execution_count": 267,
     "metadata": {},
     "output_type": "execute_result"
    }
   ],
   "source": [
    "df.isna().sum().sum()"
   ]
  },
  {
   "cell_type": "code",
   "execution_count": 269,
   "metadata": {},
   "outputs": [
    {
     "name": "stdout",
     "output_type": "stream",
     "text": [
      "<class 'pandas.core.frame.DataFrame'>\n",
      "RangeIndex: 1900 entries, 0 to 1899\n",
      "Data columns (total 8 columns):\n",
      " #   Column       Non-Null Count  Dtype \n",
      "---  ------       --------------  ----- \n",
      " 0   Unnamed: 0   1900 non-null   int64 \n",
      " 1   Airline      952 non-null    object\n",
      " 2   stops_list   1900 non-null   int64 \n",
      " 3   Departure    1900 non-null   object\n",
      " 4   Prices       952 non-null    object\n",
      " 5   Duration     1867 non-null   object\n",
      " 6   Source       1899 non-null   object\n",
      " 7   Destination  1899 non-null   object\n",
      "dtypes: int64(2), object(6)\n",
      "memory usage: 118.9+ KB\n"
     ]
    }
   ],
   "source": [
    "df.info()"
   ]
  },
  {
   "cell_type": "code",
   "execution_count": 270,
   "metadata": {},
   "outputs": [
    {
     "data": {
      "text/plain": [
       "1900"
      ]
     },
     "execution_count": 270,
     "metadata": {},
     "output_type": "execute_result"
    }
   ],
   "source": [
    "len(df)"
   ]
  },
  {
   "cell_type": "code",
   "execution_count": 271,
   "metadata": {},
   "outputs": [
    {
     "data": {
      "text/html": [
       "<div>\n",
       "<style scoped>\n",
       "    .dataframe tbody tr th:only-of-type {\n",
       "        vertical-align: middle;\n",
       "    }\n",
       "\n",
       "    .dataframe tbody tr th {\n",
       "        vertical-align: top;\n",
       "    }\n",
       "\n",
       "    .dataframe thead th {\n",
       "        text-align: right;\n",
       "    }\n",
       "</style>\n",
       "<table border=\"1\" class=\"dataframe\">\n",
       "  <thead>\n",
       "    <tr style=\"text-align: right;\">\n",
       "      <th></th>\n",
       "      <th>Unnamed: 0</th>\n",
       "      <th>stops_list</th>\n",
       "    </tr>\n",
       "  </thead>\n",
       "  <tbody>\n",
       "    <tr>\n",
       "      <th>count</th>\n",
       "      <td>1900.000000</td>\n",
       "      <td>1900.000000</td>\n",
       "    </tr>\n",
       "    <tr>\n",
       "      <th>mean</th>\n",
       "      <td>16.468421</td>\n",
       "      <td>1.117895</td>\n",
       "    </tr>\n",
       "    <tr>\n",
       "      <th>std</th>\n",
       "      <td>9.799278</td>\n",
       "      <td>0.471176</td>\n",
       "    </tr>\n",
       "    <tr>\n",
       "      <th>min</th>\n",
       "      <td>0.000000</td>\n",
       "      <td>1.000000</td>\n",
       "    </tr>\n",
       "    <tr>\n",
       "      <th>25%</th>\n",
       "      <td>8.000000</td>\n",
       "      <td>1.000000</td>\n",
       "    </tr>\n",
       "    <tr>\n",
       "      <th>50%</th>\n",
       "      <td>16.000000</td>\n",
       "      <td>1.000000</td>\n",
       "    </tr>\n",
       "    <tr>\n",
       "      <th>75%</th>\n",
       "      <td>25.000000</td>\n",
       "      <td>1.000000</td>\n",
       "    </tr>\n",
       "    <tr>\n",
       "      <th>max</th>\n",
       "      <td>33.000000</td>\n",
       "      <td>3.000000</td>\n",
       "    </tr>\n",
       "  </tbody>\n",
       "</table>\n",
       "</div>"
      ],
      "text/plain": [
       "        Unnamed: 0   stops_list\n",
       "count  1900.000000  1900.000000\n",
       "mean     16.468421     1.117895\n",
       "std       9.799278     0.471176\n",
       "min       0.000000     1.000000\n",
       "25%       8.000000     1.000000\n",
       "50%      16.000000     1.000000\n",
       "75%      25.000000     1.000000\n",
       "max      33.000000     3.000000"
      ]
     },
     "execution_count": 271,
     "metadata": {},
     "output_type": "execute_result"
    }
   ],
   "source": [
    "df.describe()"
   ]
  },
  {
   "cell_type": "code",
   "execution_count": 272,
   "metadata": {},
   "outputs": [
    {
     "data": {
      "text/plain": [
       "Index(['Unnamed: 0', 'Airline', 'stops_list', 'Departure', 'Prices',\n",
       "       'Duration', 'Source', 'Destination'],\n",
       "      dtype='object')"
      ]
     },
     "execution_count": 272,
     "metadata": {},
     "output_type": "execute_result"
    }
   ],
   "source": [
    "df.columns"
   ]
  },
  {
   "cell_type": "code",
   "execution_count": 273,
   "metadata": {},
   "outputs": [
    {
     "data": {
      "text/plain": [
       "(1900, 8)"
      ]
     },
     "execution_count": 273,
     "metadata": {},
     "output_type": "execute_result"
    }
   ],
   "source": [
    "df.shape"
   ]
  },
  {
   "cell_type": "code",
   "execution_count": 274,
   "metadata": {},
   "outputs": [],
   "source": [
    "df = df.drop(['Unnamed: 0'], axis=1)"
   ]
  },
  {
   "cell_type": "code",
   "execution_count": 275,
   "metadata": {},
   "outputs": [
    {
     "data": {
      "text/plain": [
       "0       13h 45m\n",
       "1           NaN\n",
       "2           NaN\n",
       "3           NaN\n",
       "4           NaN\n",
       "         ...   \n",
       "1895    13h 55m\n",
       "1896    12h 05m\n",
       "1897    13h 55m\n",
       "1898    12h 05m\n",
       "1899    14h 05m\n",
       "Name: Duration, Length: 1900, dtype: object"
      ]
     },
     "execution_count": 275,
     "metadata": {},
     "output_type": "execute_result"
    }
   ],
   "source": [
    "df['Duration']"
   ]
  },
  {
   "cell_type": "code",
   "execution_count": 276,
   "metadata": {},
   "outputs": [],
   "source": [
    "df['Prices'] = df['Prices'].str.replace('£','',regex=True)\n",
    "df['Prices'] = df['Prices'].str.replace(',','',regex=True)\n",
    "df['Prices'] = df['Prices'].str.replace('SAR','',regex=True)\n",
    "df['Prices'] = df['Prices'].str.strip()\n",
    "df['Prices'] = round(pd.to_numeric(df['Prices'])/3.75,2)"
   ]
  },
  {
   "cell_type": "code",
   "execution_count": 277,
   "metadata": {},
   "outputs": [],
   "source": [
    "duration_hours = []\n",
    "duration_mins = []\n",
    "df['Duration'] = df['Duration'].str.replace('h','',regex=True)\n",
    "df['Duration'] = df['Duration'].str.replace('m','',regex=True)\n",
    "# for i in range(df['Duration']) :\n",
    "#     duration_hours.append(df['Duration'][i].split(sep = \"h\")[0])\n",
    "#     duration_mins.append(df['Duration'][i].split(sep = \"m\")[0].split()[-1])\n",
    "# d = []\n",
    "# for i in range(len(df['Duration'])):\n",
    "#     d.append(duration_hours[i]*60+duration_mins[i])"
   ]
  },
  {
   "cell_type": "code",
   "execution_count": 278,
   "metadata": {},
   "outputs": [],
   "source": [
    "df['Duration_hour'] = df['Duration'].str.split(' ', expand=True).get(0)"
   ]
  },
  {
   "cell_type": "code",
   "execution_count": 279,
   "metadata": {},
   "outputs": [
    {
     "data": {
      "text/plain": [
       "0        13\n",
       "1       NaN\n",
       "2       NaN\n",
       "3       NaN\n",
       "4       NaN\n",
       "       ... \n",
       "1895     13\n",
       "1896     12\n",
       "1897     13\n",
       "1898     12\n",
       "1899     14\n",
       "Name: Duration_hour, Length: 1900, dtype: object"
      ]
     },
     "execution_count": 279,
     "metadata": {},
     "output_type": "execute_result"
    }
   ],
   "source": [
    "df['Duration_hour']"
   ]
  },
  {
   "cell_type": "code",
   "execution_count": 280,
   "metadata": {},
   "outputs": [],
   "source": [
    "df['Duration_min'] = df['Duration'].str.split(' ', expand=True).get(1)"
   ]
  },
  {
   "cell_type": "code",
   "execution_count": 281,
   "metadata": {},
   "outputs": [
    {
     "data": {
      "text/plain": [
       "0        45\n",
       "1       NaN\n",
       "2       NaN\n",
       "3       NaN\n",
       "4       NaN\n",
       "       ... \n",
       "1895     55\n",
       "1896     05\n",
       "1897     55\n",
       "1898     05\n",
       "1899     05\n",
       "Name: Duration_min, Length: 1900, dtype: object"
      ]
     },
     "execution_count": 281,
     "metadata": {},
     "output_type": "execute_result"
    }
   ],
   "source": [
    "df['Duration_min']"
   ]
  },
  {
   "cell_type": "code",
   "execution_count": 282,
   "metadata": {},
   "outputs": [
    {
     "data": {
      "text/plain": [
       "0     45\n",
       "1    NaN\n",
       "2    NaN\n",
       "3    NaN\n",
       "4    NaN\n",
       "Name: Duration_min, dtype: object"
      ]
     },
     "execution_count": 282,
     "metadata": {},
     "output_type": "execute_result"
    }
   ],
   "source": [
    "df['Duration_min'].head()"
   ]
  },
  {
   "cell_type": "code",
   "execution_count": 283,
   "metadata": {},
   "outputs": [],
   "source": [
    "df['Duration']= pd.to_numeric(df['Duration'], errors='coerce')"
   ]
  },
  {
   "cell_type": "code",
   "execution_count": 284,
   "metadata": {},
   "outputs": [
    {
     "data": {
      "text/plain": [
       "dtype('float64')"
      ]
     },
     "execution_count": 284,
     "metadata": {},
     "output_type": "execute_result"
    }
   ],
   "source": [
    "df['Duration'].dtype"
   ]
  },
  {
   "cell_type": "code",
   "execution_count": 285,
   "metadata": {},
   "outputs": [],
   "source": [
    "df['Duration_min']= pd.to_numeric(df['Duration_min'], errors='coerce')"
   ]
  },
  {
   "cell_type": "code",
   "execution_count": 286,
   "metadata": {},
   "outputs": [],
   "source": [
    "df['Duration_hour']= pd.to_numeric(df['Duration_hour'], errors='coerce')"
   ]
  },
  {
   "cell_type": "code",
   "execution_count": 287,
   "metadata": {},
   "outputs": [],
   "source": [
    "# mean_duration_min = df['Duration_min'].mean()\n",
    "df['Duration_min'].fillna(int(df['Duration_min'].mean()), inplace=True)"
   ]
  },
  {
   "cell_type": "code",
   "execution_count": 288,
   "metadata": {},
   "outputs": [
    {
     "data": {
      "text/plain": [
       "0       45.0\n",
       "1       27.0\n",
       "2       27.0\n",
       "3       27.0\n",
       "4       27.0\n",
       "        ... \n",
       "1895    55.0\n",
       "1896     5.0\n",
       "1897    55.0\n",
       "1898     5.0\n",
       "1899     5.0\n",
       "Name: Duration_min, Length: 1900, dtype: float64"
      ]
     },
     "execution_count": 288,
     "metadata": {},
     "output_type": "execute_result"
    }
   ],
   "source": [
    "df['Duration_min']"
   ]
  },
  {
   "cell_type": "code",
   "execution_count": 289,
   "metadata": {},
   "outputs": [],
   "source": [
    "# mean_duration_min = df['Duration_min'].mean()\n",
    "df['Duration_hour'].fillna(int(df['Duration_hour'].mean()), inplace=True)"
   ]
  },
  {
   "cell_type": "code",
   "execution_count": 115,
   "metadata": {},
   "outputs": [],
   "source": [
    "# df['Duration_hour']\n",
    "# seconds = 0\n",
    "# seconds = seconds*(24*3600)\n",
    "# hour = seconds // 3600"
   ]
  },
  {
   "cell_type": "code",
   "execution_count": 290,
   "metadata": {},
   "outputs": [],
   "source": [
    "df['Duration_hour'] = df['Duration_hour']*60"
   ]
  },
  {
   "cell_type": "code",
   "execution_count": 291,
   "metadata": {},
   "outputs": [
    {
     "data": {
      "text/plain": [
       "0       780.0\n",
       "1       780.0\n",
       "2       780.0\n",
       "3       780.0\n",
       "4       780.0\n",
       "        ...  \n",
       "1895    780.0\n",
       "1896    720.0\n",
       "1897    780.0\n",
       "1898    720.0\n",
       "1899    840.0\n",
       "Name: Duration_hour, Length: 1900, dtype: float64"
      ]
     },
     "execution_count": 291,
     "metadata": {},
     "output_type": "execute_result"
    }
   ],
   "source": [
    "df['Duration_hour']"
   ]
  },
  {
   "cell_type": "code",
   "execution_count": 292,
   "metadata": {},
   "outputs": [],
   "source": [
    "df['Duration'] = df['Duration_hour'] + df['Duration_min']"
   ]
  },
  {
   "cell_type": "code",
   "execution_count": 293,
   "metadata": {},
   "outputs": [
    {
     "data": {
      "text/plain": [
       "0       825.0\n",
       "1       807.0\n",
       "2       807.0\n",
       "3       807.0\n",
       "4       807.0\n",
       "        ...  \n",
       "1895    835.0\n",
       "1896    725.0\n",
       "1897    835.0\n",
       "1898    725.0\n",
       "1899    845.0\n",
       "Name: Duration, Length: 1900, dtype: float64"
      ]
     },
     "execution_count": 293,
     "metadata": {},
     "output_type": "execute_result"
    }
   ],
   "source": [
    "df['Duration']"
   ]
  },
  {
   "cell_type": "code",
   "execution_count": 294,
   "metadata": {},
   "outputs": [],
   "source": [
    "df = df.drop(['Duration_hour'], axis=1)"
   ]
  },
  {
   "cell_type": "code",
   "execution_count": 295,
   "metadata": {},
   "outputs": [],
   "source": [
    "df = df.drop(['Duration_min'], axis=1)"
   ]
  },
  {
   "cell_type": "code",
   "execution_count": 296,
   "metadata": {},
   "outputs": [
    {
     "data": {
      "text/html": [
       "<div>\n",
       "<style scoped>\n",
       "    .dataframe tbody tr th:only-of-type {\n",
       "        vertical-align: middle;\n",
       "    }\n",
       "\n",
       "    .dataframe tbody tr th {\n",
       "        vertical-align: top;\n",
       "    }\n",
       "\n",
       "    .dataframe thead th {\n",
       "        text-align: right;\n",
       "    }\n",
       "</style>\n",
       "<table border=\"1\" class=\"dataframe\">\n",
       "  <thead>\n",
       "    <tr style=\"text-align: right;\">\n",
       "      <th></th>\n",
       "      <th>Airline</th>\n",
       "      <th>stops_list</th>\n",
       "      <th>Departure</th>\n",
       "      <th>Prices</th>\n",
       "      <th>Duration</th>\n",
       "      <th>Source</th>\n",
       "      <th>Destination</th>\n",
       "    </tr>\n",
       "  </thead>\n",
       "  <tbody>\n",
       "    <tr>\n",
       "      <th>0</th>\n",
       "      <td>Emirates</td>\n",
       "      <td>1</td>\n",
       "      <td>LGWGatwick-BLRBengaluru Intl</td>\n",
       "      <td>183.20</td>\n",
       "      <td>825.0</td>\n",
       "      <td>NaN</td>\n",
       "      <td>BLRBengaluru Intl</td>\n",
       "    </tr>\n",
       "    <tr>\n",
       "      <th>1</th>\n",
       "      <td>Lufthansa</td>\n",
       "      <td>1</td>\n",
       "      <td>BLRBengaluru Intl-LGWGatwick</td>\n",
       "      <td>167.73</td>\n",
       "      <td>807.0</td>\n",
       "      <td>BLRBengaluru Intl</td>\n",
       "      <td>NaN</td>\n",
       "    </tr>\n",
       "    <tr>\n",
       "      <th>2</th>\n",
       "      <td>Multiple Airlines</td>\n",
       "      <td>1</td>\n",
       "      <td>LHRHeathrow-BLRBengaluru Intl</td>\n",
       "      <td>143.47</td>\n",
       "      <td>807.0</td>\n",
       "      <td>LHRHeathrow</td>\n",
       "      <td>BLRBengaluru Intl</td>\n",
       "    </tr>\n",
       "    <tr>\n",
       "      <th>3</th>\n",
       "      <td>Lufthansa</td>\n",
       "      <td>1</td>\n",
       "      <td>BLRBengaluru Intl-LHRHeathrow</td>\n",
       "      <td>167.73</td>\n",
       "      <td>807.0</td>\n",
       "      <td>BLRBengaluru Intl</td>\n",
       "      <td>LHRHeathrow</td>\n",
       "    </tr>\n",
       "    <tr>\n",
       "      <th>4</th>\n",
       "      <td>Lufthansa</td>\n",
       "      <td>3</td>\n",
       "      <td>STNStansted-BLRBengaluru Intl</td>\n",
       "      <td>167.73</td>\n",
       "      <td>807.0</td>\n",
       "      <td>STNStansted</td>\n",
       "      <td>BLRBengaluru Intl</td>\n",
       "    </tr>\n",
       "    <tr>\n",
       "      <th>...</th>\n",
       "      <td>...</td>\n",
       "      <td>...</td>\n",
       "      <td>...</td>\n",
       "      <td>...</td>\n",
       "      <td>...</td>\n",
       "      <td>...</td>\n",
       "      <td>...</td>\n",
       "    </tr>\n",
       "    <tr>\n",
       "      <th>1895</th>\n",
       "      <td>NaN</td>\n",
       "      <td>1</td>\n",
       "      <td>BLRBengaluru Intl-LHRHeathrow</td>\n",
       "      <td>NaN</td>\n",
       "      <td>835.0</td>\n",
       "      <td>BLRBengaluru Intl</td>\n",
       "      <td>LHRHeathrow</td>\n",
       "    </tr>\n",
       "    <tr>\n",
       "      <th>1896</th>\n",
       "      <td>NaN</td>\n",
       "      <td>1</td>\n",
       "      <td>LHRHeathrow-BLRBengaluru Intl</td>\n",
       "      <td>NaN</td>\n",
       "      <td>725.0</td>\n",
       "      <td>LHRHeathrow</td>\n",
       "      <td>BLRBengaluru Intl</td>\n",
       "    </tr>\n",
       "    <tr>\n",
       "      <th>1897</th>\n",
       "      <td>NaN</td>\n",
       "      <td>1</td>\n",
       "      <td>BLRBengaluru Intl-LHRHeathrow</td>\n",
       "      <td>NaN</td>\n",
       "      <td>835.0</td>\n",
       "      <td>BLRBengaluru Intl</td>\n",
       "      <td>LHRHeathrow</td>\n",
       "    </tr>\n",
       "    <tr>\n",
       "      <th>1898</th>\n",
       "      <td>NaN</td>\n",
       "      <td>1</td>\n",
       "      <td>LHRHeathrow-BLRBengaluru Intl</td>\n",
       "      <td>NaN</td>\n",
       "      <td>725.0</td>\n",
       "      <td>LHRHeathrow</td>\n",
       "      <td>BLRBengaluru Intl</td>\n",
       "    </tr>\n",
       "    <tr>\n",
       "      <th>1899</th>\n",
       "      <td>NaN</td>\n",
       "      <td>1</td>\n",
       "      <td>BLRBengaluru Intl-LGWGatwick</td>\n",
       "      <td>NaN</td>\n",
       "      <td>845.0</td>\n",
       "      <td>BLRBengaluru Intl</td>\n",
       "      <td>LGWGatwick</td>\n",
       "    </tr>\n",
       "  </tbody>\n",
       "</table>\n",
       "<p>1900 rows × 7 columns</p>\n",
       "</div>"
      ],
      "text/plain": [
       "                Airline  stops_list                      Departure  Prices  \\\n",
       "0              Emirates           1   LGWGatwick-BLRBengaluru Intl  183.20   \n",
       "1             Lufthansa           1   BLRBengaluru Intl-LGWGatwick  167.73   \n",
       "2     Multiple Airlines           1  LHRHeathrow-BLRBengaluru Intl  143.47   \n",
       "3             Lufthansa           1  BLRBengaluru Intl-LHRHeathrow  167.73   \n",
       "4             Lufthansa           3  STNStansted-BLRBengaluru Intl  167.73   \n",
       "...                 ...         ...                            ...     ...   \n",
       "1895                NaN           1  BLRBengaluru Intl-LHRHeathrow     NaN   \n",
       "1896                NaN           1  LHRHeathrow-BLRBengaluru Intl     NaN   \n",
       "1897                NaN           1  BLRBengaluru Intl-LHRHeathrow     NaN   \n",
       "1898                NaN           1  LHRHeathrow-BLRBengaluru Intl     NaN   \n",
       "1899                NaN           1   BLRBengaluru Intl-LGWGatwick     NaN   \n",
       "\n",
       "      Duration             Source        Destination  \n",
       "0        825.0                NaN  BLRBengaluru Intl  \n",
       "1        807.0  BLRBengaluru Intl                NaN  \n",
       "2        807.0        LHRHeathrow  BLRBengaluru Intl  \n",
       "3        807.0  BLRBengaluru Intl        LHRHeathrow  \n",
       "4        807.0        STNStansted  BLRBengaluru Intl  \n",
       "...        ...                ...                ...  \n",
       "1895     835.0  BLRBengaluru Intl        LHRHeathrow  \n",
       "1896     725.0        LHRHeathrow  BLRBengaluru Intl  \n",
       "1897     835.0  BLRBengaluru Intl        LHRHeathrow  \n",
       "1898     725.0        LHRHeathrow  BLRBengaluru Intl  \n",
       "1899     845.0  BLRBengaluru Intl         LGWGatwick  \n",
       "\n",
       "[1900 rows x 7 columns]"
      ]
     },
     "execution_count": 296,
     "metadata": {},
     "output_type": "execute_result"
    }
   ],
   "source": [
    "df"
   ]
  },
  {
   "cell_type": "code",
   "execution_count": 297,
   "metadata": {},
   "outputs": [
    {
     "name": "stdout",
     "output_type": "stream",
     "text": [
      "<class 'pandas.core.frame.DataFrame'>\n",
      "RangeIndex: 1900 entries, 0 to 1899\n",
      "Data columns (total 7 columns):\n",
      " #   Column       Non-Null Count  Dtype  \n",
      "---  ------       --------------  -----  \n",
      " 0   Airline      952 non-null    object \n",
      " 1   stops_list   1900 non-null   int64  \n",
      " 2   Departure    1900 non-null   object \n",
      " 3   Prices       952 non-null    float64\n",
      " 4   Duration     1900 non-null   float64\n",
      " 5   Source       1899 non-null   object \n",
      " 6   Destination  1899 non-null   object \n",
      "dtypes: float64(2), int64(1), object(4)\n",
      "memory usage: 104.0+ KB\n"
     ]
    }
   ],
   "source": [
    "df.info()"
   ]
  },
  {
   "cell_type": "code",
   "execution_count": 298,
   "metadata": {},
   "outputs": [
    {
     "data": {
      "text/plain": [
       "948"
      ]
     },
     "execution_count": 298,
     "metadata": {},
     "output_type": "execute_result"
    }
   ],
   "source": [
    "df['Airline'].isnull().sum()"
   ]
  },
  {
   "cell_type": "code",
   "execution_count": 299,
   "metadata": {},
   "outputs": [
    {
     "data": {
      "text/html": [
       "<div>\n",
       "<style scoped>\n",
       "    .dataframe tbody tr th:only-of-type {\n",
       "        vertical-align: middle;\n",
       "    }\n",
       "\n",
       "    .dataframe tbody tr th {\n",
       "        vertical-align: top;\n",
       "    }\n",
       "\n",
       "    .dataframe thead th {\n",
       "        text-align: right;\n",
       "    }\n",
       "</style>\n",
       "<table border=\"1\" class=\"dataframe\">\n",
       "  <thead>\n",
       "    <tr style=\"text-align: right;\">\n",
       "      <th></th>\n",
       "      <th>Airline</th>\n",
       "      <th>stops_list</th>\n",
       "      <th>Departure</th>\n",
       "      <th>Prices</th>\n",
       "      <th>Duration</th>\n",
       "      <th>Source</th>\n",
       "      <th>Destination</th>\n",
       "    </tr>\n",
       "  </thead>\n",
       "  <tbody>\n",
       "    <tr>\n",
       "      <th>0</th>\n",
       "      <td>Emirates</td>\n",
       "      <td>1</td>\n",
       "      <td>LGWGatwick-BLRBengaluru Intl</td>\n",
       "      <td>183.20</td>\n",
       "      <td>825.0</td>\n",
       "      <td>NaN</td>\n",
       "      <td>BLRBengaluru Intl</td>\n",
       "    </tr>\n",
       "    <tr>\n",
       "      <th>1</th>\n",
       "      <td>Lufthansa</td>\n",
       "      <td>1</td>\n",
       "      <td>BLRBengaluru Intl-LGWGatwick</td>\n",
       "      <td>167.73</td>\n",
       "      <td>807.0</td>\n",
       "      <td>BLRBengaluru Intl</td>\n",
       "      <td>NaN</td>\n",
       "    </tr>\n",
       "    <tr>\n",
       "      <th>2</th>\n",
       "      <td>Multiple Airlines</td>\n",
       "      <td>1</td>\n",
       "      <td>LHRHeathrow-BLRBengaluru Intl</td>\n",
       "      <td>143.47</td>\n",
       "      <td>807.0</td>\n",
       "      <td>LHRHeathrow</td>\n",
       "      <td>BLRBengaluru Intl</td>\n",
       "    </tr>\n",
       "    <tr>\n",
       "      <th>3</th>\n",
       "      <td>Lufthansa</td>\n",
       "      <td>1</td>\n",
       "      <td>BLRBengaluru Intl-LHRHeathrow</td>\n",
       "      <td>167.73</td>\n",
       "      <td>807.0</td>\n",
       "      <td>BLRBengaluru Intl</td>\n",
       "      <td>LHRHeathrow</td>\n",
       "    </tr>\n",
       "    <tr>\n",
       "      <th>4</th>\n",
       "      <td>Lufthansa</td>\n",
       "      <td>3</td>\n",
       "      <td>STNStansted-BLRBengaluru Intl</td>\n",
       "      <td>167.73</td>\n",
       "      <td>807.0</td>\n",
       "      <td>STNStansted</td>\n",
       "      <td>BLRBengaluru Intl</td>\n",
       "    </tr>\n",
       "    <tr>\n",
       "      <th>...</th>\n",
       "      <td>...</td>\n",
       "      <td>...</td>\n",
       "      <td>...</td>\n",
       "      <td>...</td>\n",
       "      <td>...</td>\n",
       "      <td>...</td>\n",
       "      <td>...</td>\n",
       "    </tr>\n",
       "    <tr>\n",
       "      <th>1895</th>\n",
       "      <td>NaN</td>\n",
       "      <td>1</td>\n",
       "      <td>BLRBengaluru Intl-LHRHeathrow</td>\n",
       "      <td>NaN</td>\n",
       "      <td>835.0</td>\n",
       "      <td>BLRBengaluru Intl</td>\n",
       "      <td>LHRHeathrow</td>\n",
       "    </tr>\n",
       "    <tr>\n",
       "      <th>1896</th>\n",
       "      <td>NaN</td>\n",
       "      <td>1</td>\n",
       "      <td>LHRHeathrow-BLRBengaluru Intl</td>\n",
       "      <td>NaN</td>\n",
       "      <td>725.0</td>\n",
       "      <td>LHRHeathrow</td>\n",
       "      <td>BLRBengaluru Intl</td>\n",
       "    </tr>\n",
       "    <tr>\n",
       "      <th>1897</th>\n",
       "      <td>NaN</td>\n",
       "      <td>1</td>\n",
       "      <td>BLRBengaluru Intl-LHRHeathrow</td>\n",
       "      <td>NaN</td>\n",
       "      <td>835.0</td>\n",
       "      <td>BLRBengaluru Intl</td>\n",
       "      <td>LHRHeathrow</td>\n",
       "    </tr>\n",
       "    <tr>\n",
       "      <th>1898</th>\n",
       "      <td>NaN</td>\n",
       "      <td>1</td>\n",
       "      <td>LHRHeathrow-BLRBengaluru Intl</td>\n",
       "      <td>NaN</td>\n",
       "      <td>725.0</td>\n",
       "      <td>LHRHeathrow</td>\n",
       "      <td>BLRBengaluru Intl</td>\n",
       "    </tr>\n",
       "    <tr>\n",
       "      <th>1899</th>\n",
       "      <td>NaN</td>\n",
       "      <td>1</td>\n",
       "      <td>BLRBengaluru Intl-LGWGatwick</td>\n",
       "      <td>NaN</td>\n",
       "      <td>845.0</td>\n",
       "      <td>BLRBengaluru Intl</td>\n",
       "      <td>LGWGatwick</td>\n",
       "    </tr>\n",
       "  </tbody>\n",
       "</table>\n",
       "<p>1900 rows × 7 columns</p>\n",
       "</div>"
      ],
      "text/plain": [
       "                Airline  stops_list                      Departure  Prices  \\\n",
       "0              Emirates           1   LGWGatwick-BLRBengaluru Intl  183.20   \n",
       "1             Lufthansa           1   BLRBengaluru Intl-LGWGatwick  167.73   \n",
       "2     Multiple Airlines           1  LHRHeathrow-BLRBengaluru Intl  143.47   \n",
       "3             Lufthansa           1  BLRBengaluru Intl-LHRHeathrow  167.73   \n",
       "4             Lufthansa           3  STNStansted-BLRBengaluru Intl  167.73   \n",
       "...                 ...         ...                            ...     ...   \n",
       "1895                NaN           1  BLRBengaluru Intl-LHRHeathrow     NaN   \n",
       "1896                NaN           1  LHRHeathrow-BLRBengaluru Intl     NaN   \n",
       "1897                NaN           1  BLRBengaluru Intl-LHRHeathrow     NaN   \n",
       "1898                NaN           1  LHRHeathrow-BLRBengaluru Intl     NaN   \n",
       "1899                NaN           1   BLRBengaluru Intl-LGWGatwick     NaN   \n",
       "\n",
       "      Duration             Source        Destination  \n",
       "0        825.0                NaN  BLRBengaluru Intl  \n",
       "1        807.0  BLRBengaluru Intl                NaN  \n",
       "2        807.0        LHRHeathrow  BLRBengaluru Intl  \n",
       "3        807.0  BLRBengaluru Intl        LHRHeathrow  \n",
       "4        807.0        STNStansted  BLRBengaluru Intl  \n",
       "...        ...                ...                ...  \n",
       "1895     835.0  BLRBengaluru Intl        LHRHeathrow  \n",
       "1896     725.0        LHRHeathrow  BLRBengaluru Intl  \n",
       "1897     835.0  BLRBengaluru Intl        LHRHeathrow  \n",
       "1898     725.0        LHRHeathrow  BLRBengaluru Intl  \n",
       "1899     845.0  BLRBengaluru Intl         LGWGatwick  \n",
       "\n",
       "[1900 rows x 7 columns]"
      ]
     },
     "execution_count": 299,
     "metadata": {},
     "output_type": "execute_result"
    }
   ],
   "source": [
    "df"
   ]
  },
  {
   "cell_type": "code",
   "execution_count": 219,
   "metadata": {},
   "outputs": [],
   "source": [
    "\n",
    "# get price quantile to deal with outliers\n",
    "# def get_price_quantile(price):\n",
    "Q1 = df['Prices'].quantile(0.25)\n",
    "Q3 = df['Prices'].quantile(0.75)\n",
    "IQR = Q3 - Q1\n",
    "lower_lim = Q1 - 1.5 * IQR\n",
    "upper_lim = Q3 + 1.5 * IQR\n",
    "# get_price_quantile = (lower_lim, upper_lim)\n",
    "# return (lower_lim,upper_lim)"
   ]
  },
  {
   "cell_type": "code",
   "execution_count": 222,
   "metadata": {},
   "outputs": [],
   "source": [
    "quantile = upper_lim, lower_lim"
   ]
  },
  {
   "cell_type": "code",
   "execution_count": 223,
   "metadata": {},
   "outputs": [
    {
     "data": {
      "text/plain": [
       "178.8"
      ]
     },
     "execution_count": 223,
     "metadata": {},
     "output_type": "execute_result"
    }
   ],
   "source": [
    "upper_lim"
   ]
  },
  {
   "cell_type": "code",
   "execution_count": 224,
   "metadata": {},
   "outputs": [
    {
     "name": "stdout",
     "output_type": "stream",
     "text": [
      "<class 'pandas.core.frame.DataFrame'>\n",
      "RangeIndex: 1900 entries, 0 to 1899\n",
      "Data columns (total 7 columns):\n",
      " #   Column       Non-Null Count  Dtype  \n",
      "---  ------       --------------  -----  \n",
      " 0   Airline      952 non-null    object \n",
      " 1   stops_list   1900 non-null   int64  \n",
      " 2   Departure    1900 non-null   object \n",
      " 3   Prices       952 non-null    float64\n",
      " 4   Duration     1900 non-null   float64\n",
      " 5   Source       1899 non-null   object \n",
      " 6   Destination  1899 non-null   object \n",
      "dtypes: float64(2), int64(1), object(4)\n",
      "memory usage: 104.0+ KB\n"
     ]
    }
   ],
   "source": [
    "df.info()"
   ]
  },
  {
   "cell_type": "code",
   "execution_count": 300,
   "metadata": {},
   "outputs": [],
   "source": [
    "df['Prices']= pd.to_numeric(df['Prices'], errors='coerce')"
   ]
  },
  {
   "cell_type": "code",
   "execution_count": 301,
   "metadata": {},
   "outputs": [],
   "source": [
    "df['Prices']= df['Prices'].fillna(float(df['Prices'].mean()))"
   ]
  },
  {
   "cell_type": "code",
   "execution_count": 302,
   "metadata": {},
   "outputs": [
    {
     "name": "stdout",
     "output_type": "stream",
     "text": [
      "0       183.200000\n",
      "1       167.730000\n",
      "2       143.470000\n",
      "3       167.730000\n",
      "4       167.730000\n",
      "           ...    \n",
      "1895    169.050525\n",
      "1896    169.050525\n",
      "1897    169.050525\n",
      "1898    169.050525\n",
      "1899    169.050525\n",
      "Name: Prices, Length: 1900, dtype: float64\n"
     ]
    }
   ],
   "source": [
    "df['Prices'].fillna(float(df['Prices'].mean()))\n",
    "print(df['Prices'])"
   ]
  },
  {
   "cell_type": "code",
   "execution_count": 228,
   "metadata": {},
   "outputs": [
    {
     "data": {
      "text/plain": [
       "169.05052521008196"
      ]
     },
     "execution_count": 228,
     "metadata": {},
     "output_type": "execute_result"
    }
   ],
   "source": [
    "\n",
    "df['Prices'].mean()"
   ]
  },
  {
   "cell_type": "code",
   "execution_count": 229,
   "metadata": {},
   "outputs": [
    {
     "data": {
      "text/plain": [
       "0       183.200000\n",
       "1       167.730000\n",
       "2       143.470000\n",
       "3       167.730000\n",
       "4       167.730000\n",
       "           ...    \n",
       "1895    169.050525\n",
       "1896    169.050525\n",
       "1897    169.050525\n",
       "1898    169.050525\n",
       "1899    169.050525\n",
       "Name: Prices, Length: 1900, dtype: float64"
      ]
     },
     "execution_count": 229,
     "metadata": {},
     "output_type": "execute_result"
    }
   ],
   "source": [
    "df['Prices']"
   ]
  },
  {
   "cell_type": "code",
   "execution_count": 303,
   "metadata": {},
   "outputs": [
    {
     "data": {
      "text/plain": [
       "Airline        948\n",
       "stops_list       0\n",
       "Departure        0\n",
       "Prices           0\n",
       "Duration         0\n",
       "Source           1\n",
       "Destination      1\n",
       "dtype: int64"
      ]
     },
     "execution_count": 303,
     "metadata": {},
     "output_type": "execute_result"
    }
   ],
   "source": [
    "df.isnull().sum()"
   ]
  },
  {
   "cell_type": "code",
   "execution_count": 558,
   "metadata": {},
   "outputs": [],
   "source": [
    "# the Airline column will be replaced by the average price per airline.\n",
    "# df.drop(\"Airline\", axis = 1, inplace = True)"
   ]
  },
  {
   "cell_type": "code",
   "execution_count": 231,
   "metadata": {},
   "outputs": [
    {
     "name": "stdout",
     "output_type": "stream",
     "text": [
      "<class 'pandas.core.frame.DataFrame'>\n",
      "RangeIndex: 1900 entries, 0 to 1899\n",
      "Data columns (total 7 columns):\n",
      " #   Column       Non-Null Count  Dtype  \n",
      "---  ------       --------------  -----  \n",
      " 0   Airline      952 non-null    object \n",
      " 1   stops_list   1900 non-null   int64  \n",
      " 2   Departure    1900 non-null   object \n",
      " 3   Prices       1900 non-null   float64\n",
      " 4   Duration     1900 non-null   float64\n",
      " 5   Source       1899 non-null   object \n",
      " 6   Destination  1899 non-null   object \n",
      "dtypes: float64(2), int64(1), object(4)\n",
      "memory usage: 104.0+ KB\n"
     ]
    }
   ],
   "source": [
    "df.info()"
   ]
  },
  {
   "cell_type": "code",
   "execution_count": 304,
   "metadata": {},
   "outputs": [
    {
     "data": {
      "text/plain": [
       "BLRBengaluru Intl    950\n",
       "LHRHeathrow          787\n",
       "STNStansted          137\n",
       "LCYLondon City        25\n",
       "Name: Source, dtype: int64"
      ]
     },
     "execution_count": 304,
     "metadata": {},
     "output_type": "execute_result"
    }
   ],
   "source": [
    "# source\n",
    "df[\"Source\"].value_counts()"
   ]
  },
  {
   "cell_type": "code",
   "execution_count": 305,
   "metadata": {},
   "outputs": [
    {
     "data": {
      "text/plain": [
       "<seaborn.axisgrid.FacetGrid at 0x1795d73a0>"
      ]
     },
     "execution_count": 305,
     "metadata": {},
     "output_type": "execute_result"
    },
    {
     "data": {
      "image/png": "[encoded data removed]",
      "text/plain": [
       "<Figure size 1800x600 with 1 Axes>"
      ]
     },
     "metadata": {},
     "output_type": "display_data"
    }
   ],
   "source": [
    "# source vs price\n",
    "sns.catplot(y = \"Prices\", x= \"Source\", data = df.sort_values(\"Prices\", ascending = False), kind=\"boxen\", height = 6, aspect = 3)"
   ]
  },
  {
   "cell_type": "code",
   "execution_count": 306,
   "metadata": {},
   "outputs": [
    {
     "data": {
      "text/html": [
       "<div>\n",
       "<style scoped>\n",
       "    .dataframe tbody tr th:only-of-type {\n",
       "        vertical-align: middle;\n",
       "    }\n",
       "\n",
       "    .dataframe tbody tr th {\n",
       "        vertical-align: top;\n",
       "    }\n",
       "\n",
       "    .dataframe thead th {\n",
       "        text-align: right;\n",
       "    }\n",
       "</style>\n",
       "<table border=\"1\" class=\"dataframe\">\n",
       "  <thead>\n",
       "    <tr style=\"text-align: right;\">\n",
       "      <th></th>\n",
       "      <th>Source_LCYLondon City</th>\n",
       "      <th>Source_LHRHeathrow</th>\n",
       "      <th>Source_STNStansted</th>\n",
       "    </tr>\n",
       "  </thead>\n",
       "  <tbody>\n",
       "    <tr>\n",
       "      <th>0</th>\n",
       "      <td>0</td>\n",
       "      <td>0</td>\n",
       "      <td>0</td>\n",
       "    </tr>\n",
       "    <tr>\n",
       "      <th>1</th>\n",
       "      <td>0</td>\n",
       "      <td>0</td>\n",
       "      <td>0</td>\n",
       "    </tr>\n",
       "    <tr>\n",
       "      <th>2</th>\n",
       "      <td>0</td>\n",
       "      <td>1</td>\n",
       "      <td>0</td>\n",
       "    </tr>\n",
       "    <tr>\n",
       "      <th>3</th>\n",
       "      <td>0</td>\n",
       "      <td>0</td>\n",
       "      <td>0</td>\n",
       "    </tr>\n",
       "    <tr>\n",
       "      <th>4</th>\n",
       "      <td>0</td>\n",
       "      <td>0</td>\n",
       "      <td>1</td>\n",
       "    </tr>\n",
       "  </tbody>\n",
       "</table>\n",
       "</div>"
      ],
      "text/plain": [
       "   Source_LCYLondon City  Source_LHRHeathrow  Source_STNStansted\n",
       "0                      0                   0                   0\n",
       "1                      0                   0                   0\n",
       "2                      0                   1                   0\n",
       "3                      0                   0                   0\n",
       "4                      0                   0                   1"
      ]
     },
     "execution_count": 306,
     "metadata": {},
     "output_type": "execute_result"
    }
   ],
   "source": [
    "# performing OneHotEncoding on Source since it's nominal categorical data  \n",
    "source =df[[\"Source\"]]\n",
    "source =pd.get_dummies(source, drop_first=True)\n",
    "source.head()"
   ]
  },
  {
   "cell_type": "code",
   "execution_count": 307,
   "metadata": {},
   "outputs": [
    {
     "data": {
      "text/plain": [
       "BLRBengaluru Intl    950\n",
       "LHRHeathrow          444\n",
       "LGWGatwick           423\n",
       "STNStansted           82\n",
       "Name: Destination, dtype: int64"
      ]
     },
     "execution_count": 307,
     "metadata": {},
     "output_type": "execute_result"
    }
   ],
   "source": [
    "# destination\n",
    "df[\"Destination\"].value_counts()"
   ]
  },
  {
   "cell_type": "code",
   "execution_count": 308,
   "metadata": {},
   "outputs": [
    {
     "data": {
      "text/plain": [
       "<seaborn.axisgrid.FacetGrid at 0x28fe51b40>"
      ]
     },
     "execution_count": 308,
     "metadata": {},
     "output_type": "execute_result"
    },
    {
     "data": {
      "image/png": "[encoded data removed]",
      "text/plain": [
       "<Figure size 1800x600 with 1 Axes>"
      ]
     },
     "metadata": {},
     "output_type": "display_data"
    }
   ],
   "source": [
    "# destination vs price\n",
    "sns.catplot(y = \"Prices\", x= \"Destination\", data = df.sort_values(\"Prices\", ascending = False), kind=\"boxen\", height = 6, aspect = 3)"
   ]
  },
  {
   "cell_type": "code",
   "execution_count": 309,
   "metadata": {},
   "outputs": [
    {
     "data": {
      "text/html": [
       "<div>\n",
       "<style scoped>\n",
       "    .dataframe tbody tr th:only-of-type {\n",
       "        vertical-align: middle;\n",
       "    }\n",
       "\n",
       "    .dataframe tbody tr th {\n",
       "        vertical-align: top;\n",
       "    }\n",
       "\n",
       "    .dataframe thead th {\n",
       "        text-align: right;\n",
       "    }\n",
       "</style>\n",
       "<table border=\"1\" class=\"dataframe\">\n",
       "  <thead>\n",
       "    <tr style=\"text-align: right;\">\n",
       "      <th></th>\n",
       "      <th>Destination_LGWGatwick</th>\n",
       "      <th>Destination_LHRHeathrow</th>\n",
       "      <th>Destination_STNStansted</th>\n",
       "    </tr>\n",
       "  </thead>\n",
       "  <tbody>\n",
       "    <tr>\n",
       "      <th>0</th>\n",
       "      <td>0</td>\n",
       "      <td>0</td>\n",
       "      <td>0</td>\n",
       "    </tr>\n",
       "    <tr>\n",
       "      <th>1</th>\n",
       "      <td>0</td>\n",
       "      <td>0</td>\n",
       "      <td>0</td>\n",
       "    </tr>\n",
       "    <tr>\n",
       "      <th>2</th>\n",
       "      <td>0</td>\n",
       "      <td>0</td>\n",
       "      <td>0</td>\n",
       "    </tr>\n",
       "    <tr>\n",
       "      <th>3</th>\n",
       "      <td>0</td>\n",
       "      <td>1</td>\n",
       "      <td>0</td>\n",
       "    </tr>\n",
       "    <tr>\n",
       "      <th>4</th>\n",
       "      <td>0</td>\n",
       "      <td>0</td>\n",
       "      <td>0</td>\n",
       "    </tr>\n",
       "  </tbody>\n",
       "</table>\n",
       "</div>"
      ],
      "text/plain": [
       "   Destination_LGWGatwick  Destination_LHRHeathrow  Destination_STNStansted\n",
       "0                       0                        0                        0\n",
       "1                       0                        0                        0\n",
       "2                       0                        0                        0\n",
       "3                       0                        1                        0\n",
       "4                       0                        0                        0"
      ]
     },
     "execution_count": 309,
     "metadata": {},
     "output_type": "execute_result"
    }
   ],
   "source": [
    "# performing OneHotEncoding on Destination since it's nominal categorical data\n",
    "destination = df[[\"Destination\"]]\n",
    "destination = pd.get_dummies(destination, drop_first=True)\n",
    "destination.head()"
   ]
  },
  {
   "cell_type": "code",
   "execution_count": 310,
   "metadata": {},
   "outputs": [
    {
     "name": "stdout",
     "output_type": "stream",
     "text": [
      "1    1788\n",
      "3     112\n",
      "Name: stops_list, dtype: int64\n"
     ]
    },
    {
     "data": {
      "text/plain": [
       "array([1, 3])"
      ]
     },
     "execution_count": 310,
     "metadata": {},
     "output_type": "execute_result"
    }
   ],
   "source": [
    "# total stops\n",
    "print(df[\"stops_list\"].value_counts())\n",
    "df[\"stops_list\"].unique()"
   ]
  },
  {
   "cell_type": "code",
   "execution_count": 311,
   "metadata": {},
   "outputs": [],
   "source": [
    "# performing LabelEncoder on Total stops since it's ordinal categorical data\n",
    "df.replace({ \"1 stop \": 1,  \"3 stops \":3}, inplace=True)"
   ]
  },
  {
   "cell_type": "code",
   "execution_count": 312,
   "metadata": {},
   "outputs": [],
   "source": [
    "final_df = pd.concat([df,source,destination], axis=1).reset_index(drop = True)"
   ]
  },
  {
   "cell_type": "code",
   "execution_count": 313,
   "metadata": {},
   "outputs": [
    {
     "data": {
      "text/html": [
       "<div>\n",
       "<style scoped>\n",
       "    .dataframe tbody tr th:only-of-type {\n",
       "        vertical-align: middle;\n",
       "    }\n",
       "\n",
       "    .dataframe tbody tr th {\n",
       "        vertical-align: top;\n",
       "    }\n",
       "\n",
       "    .dataframe thead th {\n",
       "        text-align: right;\n",
       "    }\n",
       "</style>\n",
       "<table border=\"1\" class=\"dataframe\">\n",
       "  <thead>\n",
       "    <tr style=\"text-align: right;\">\n",
       "      <th></th>\n",
       "      <th>Airline</th>\n",
       "      <th>stops_list</th>\n",
       "      <th>Departure</th>\n",
       "      <th>Prices</th>\n",
       "      <th>Duration</th>\n",
       "      <th>Source</th>\n",
       "      <th>Destination</th>\n",
       "      <th>Source_LCYLondon City</th>\n",
       "      <th>Source_LHRHeathrow</th>\n",
       "      <th>Source_STNStansted</th>\n",
       "      <th>Destination_LGWGatwick</th>\n",
       "      <th>Destination_LHRHeathrow</th>\n",
       "      <th>Destination_STNStansted</th>\n",
       "    </tr>\n",
       "  </thead>\n",
       "  <tbody>\n",
       "    <tr>\n",
       "      <th>0</th>\n",
       "      <td>Emirates</td>\n",
       "      <td>1</td>\n",
       "      <td>LGWGatwick-BLRBengaluru Intl</td>\n",
       "      <td>183.20</td>\n",
       "      <td>825.0</td>\n",
       "      <td>NaN</td>\n",
       "      <td>BLRBengaluru Intl</td>\n",
       "      <td>0</td>\n",
       "      <td>0</td>\n",
       "      <td>0</td>\n",
       "      <td>0</td>\n",
       "      <td>0</td>\n",
       "      <td>0</td>\n",
       "    </tr>\n",
       "    <tr>\n",
       "      <th>1</th>\n",
       "      <td>Lufthansa</td>\n",
       "      <td>1</td>\n",
       "      <td>BLRBengaluru Intl-LGWGatwick</td>\n",
       "      <td>167.73</td>\n",
       "      <td>807.0</td>\n",
       "      <td>BLRBengaluru Intl</td>\n",
       "      <td>NaN</td>\n",
       "      <td>0</td>\n",
       "      <td>0</td>\n",
       "      <td>0</td>\n",
       "      <td>0</td>\n",
       "      <td>0</td>\n",
       "      <td>0</td>\n",
       "    </tr>\n",
       "    <tr>\n",
       "      <th>2</th>\n",
       "      <td>Multiple Airlines</td>\n",
       "      <td>1</td>\n",
       "      <td>LHRHeathrow-BLRBengaluru Intl</td>\n",
       "      <td>143.47</td>\n",
       "      <td>807.0</td>\n",
       "      <td>LHRHeathrow</td>\n",
       "      <td>BLRBengaluru Intl</td>\n",
       "      <td>0</td>\n",
       "      <td>1</td>\n",
       "      <td>0</td>\n",
       "      <td>0</td>\n",
       "      <td>0</td>\n",
       "      <td>0</td>\n",
       "    </tr>\n",
       "    <tr>\n",
       "      <th>3</th>\n",
       "      <td>Lufthansa</td>\n",
       "      <td>1</td>\n",
       "      <td>BLRBengaluru Intl-LHRHeathrow</td>\n",
       "      <td>167.73</td>\n",
       "      <td>807.0</td>\n",
       "      <td>BLRBengaluru Intl</td>\n",
       "      <td>LHRHeathrow</td>\n",
       "      <td>0</td>\n",
       "      <td>0</td>\n",
       "      <td>0</td>\n",
       "      <td>0</td>\n",
       "      <td>1</td>\n",
       "      <td>0</td>\n",
       "    </tr>\n",
       "    <tr>\n",
       "      <th>4</th>\n",
       "      <td>Lufthansa</td>\n",
       "      <td>3</td>\n",
       "      <td>STNStansted-BLRBengaluru Intl</td>\n",
       "      <td>167.73</td>\n",
       "      <td>807.0</td>\n",
       "      <td>STNStansted</td>\n",
       "      <td>BLRBengaluru Intl</td>\n",
       "      <td>0</td>\n",
       "      <td>0</td>\n",
       "      <td>1</td>\n",
       "      <td>0</td>\n",
       "      <td>0</td>\n",
       "      <td>0</td>\n",
       "    </tr>\n",
       "  </tbody>\n",
       "</table>\n",
       "</div>"
      ],
      "text/plain": [
       "             Airline  stops_list                      Departure  Prices  \\\n",
       "0           Emirates           1   LGWGatwick-BLRBengaluru Intl  183.20   \n",
       "1          Lufthansa           1   BLRBengaluru Intl-LGWGatwick  167.73   \n",
       "2  Multiple Airlines           1  LHRHeathrow-BLRBengaluru Intl  143.47   \n",
       "3          Lufthansa           1  BLRBengaluru Intl-LHRHeathrow  167.73   \n",
       "4          Lufthansa           3  STNStansted-BLRBengaluru Intl  167.73   \n",
       "\n",
       "   Duration             Source        Destination  Source_LCYLondon City  \\\n",
       "0     825.0                NaN  BLRBengaluru Intl                      0   \n",
       "1     807.0  BLRBengaluru Intl                NaN                      0   \n",
       "2     807.0        LHRHeathrow  BLRBengaluru Intl                      0   \n",
       "3     807.0  BLRBengaluru Intl        LHRHeathrow                      0   \n",
       "4     807.0        STNStansted  BLRBengaluru Intl                      0   \n",
       "\n",
       "   Source_LHRHeathrow  Source_STNStansted  Destination_LGWGatwick  \\\n",
       "0                   0                   0                       0   \n",
       "1                   0                   0                       0   \n",
       "2                   1                   0                       0   \n",
       "3                   0                   0                       0   \n",
       "4                   0                   1                       0   \n",
       "\n",
       "   Destination_LHRHeathrow  Destination_STNStansted  \n",
       "0                        0                        0  \n",
       "1                        0                        0  \n",
       "2                        0                        0  \n",
       "3                        1                        0  \n",
       "4                        0                        0  "
      ]
     },
     "execution_count": 313,
     "metadata": {},
     "output_type": "execute_result"
    }
   ],
   "source": [
    "final_df.head()"
   ]
  },
  {
   "cell_type": "code",
   "execution_count": null,
   "metadata": {},
   "outputs": [],
   "source": [
    "# boxplots for each route\n",
    "k=0\n",
    "figure, axis = plt.subplots(4, 3, figsize=(15,15))\n",
    "for i in range(4):\n",
    "    for j in range(3):\n",
    "        axis[i,j].boxplot(df['Prices'])\n",
    "        axis[i,j].set_title(f\"{df['Source'][0]} TO {df['Destination'][0]}\")\n",
    "        k += 1"
   ]
  },
  {
   "cell_type": "code",
   "execution_count": null,
   "metadata": {},
   "outputs": [],
   "source": [
    "# get quantile to deal with outliers\n",
    "lower = []\n",
    "upper = []\n",
    "for d in df:\n",
    "    x = (df['Prices'])\n",
    "    lower.append(x[0])\n",
    "    upper.append(x[1])"
   ]
  },
  {
   "cell_type": "code",
   "execution_count": 315,
   "metadata": {},
   "outputs": [],
   "source": [
    "# drop outliers\n",
    "k = 0\n",
    "for d in df:\n",
    "    low = df['Prices'] < lower[k]\n",
    "    up = df['Prices'] > upper[k]\n",
    "    df['Prices'] = df['Prices'][~(low|up)]\n",
    "    df.dropna(inplace=True)\n",
    "    df.reset_index(drop = True,inplace=True)\n",
    "    k+=1"
   ]
  },
  {
   "cell_type": "code",
   "execution_count": null,
   "metadata": {},
   "outputs": [],
   "source": [
    "# boxplots for each route\n",
    "k=0\n",
    "figure, axis = plt.subplots(4, 3, figsize=(15,15))\n",
    "for i in range(4):\n",
    "    for j in range(3):\n",
    "        axis[i,j].boxplot(df['Prices'])\n",
    "        axis[i,j].set_title(f\"{df['Source'][0]} TO {df['Destination'][0]}\")\n",
    "        k += 1"
   ]
  },
  {
   "cell_type": "code",
   "execution_count": 244,
   "metadata": {},
   "outputs": [],
   "source": [
    "avg_airline_price_1 = df['Airline']\n",
    "avg_airline_price_1 = df['Prices']\n",
    "new_df = pd.DataFrame()\n",
    "\n",
    "for avg in avg_airline_price_1:\n",
    "    first_3 = np.mean(df[df.Airline == avg].reset_index().head(3).Prices)\n",
    "    last_3 =  np.mean(df[df.Airline == avg].reset_index().tail(3).Prices)\n",
    "    new_df = new_df.append(\n",
    "        pd.DataFrame([[avg, last_3 - first_3]], columns = ['Airline', 'PriceDiff']))"
   ]
  },
  {
   "cell_type": "code",
   "execution_count": 108,
   "metadata": {},
   "outputs": [
    {
     "data": {
      "text/html": [
       "<div>\n",
       "<style scoped>\n",
       "    .dataframe tbody tr th:only-of-type {\n",
       "        vertical-align: middle;\n",
       "    }\n",
       "\n",
       "    .dataframe tbody tr th {\n",
       "        vertical-align: top;\n",
       "    }\n",
       "\n",
       "    .dataframe thead th {\n",
       "        text-align: right;\n",
       "    }\n",
       "</style>\n",
       "<table border=\"1\" class=\"dataframe\">\n",
       "  <thead>\n",
       "    <tr style=\"text-align: right;\">\n",
       "      <th></th>\n",
       "      <th>Airline</th>\n",
       "      <th>PriceDiff</th>\n",
       "    </tr>\n",
       "  </thead>\n",
       "  <tbody>\n",
       "    <tr>\n",
       "      <th>0</th>\n",
       "      <td>183.200000</td>\n",
       "      <td>NaN</td>\n",
       "    </tr>\n",
       "    <tr>\n",
       "      <th>0</th>\n",
       "      <td>167.730000</td>\n",
       "      <td>NaN</td>\n",
       "    </tr>\n",
       "    <tr>\n",
       "      <th>0</th>\n",
       "      <td>143.470000</td>\n",
       "      <td>NaN</td>\n",
       "    </tr>\n",
       "    <tr>\n",
       "      <th>0</th>\n",
       "      <td>167.730000</td>\n",
       "      <td>NaN</td>\n",
       "    </tr>\n",
       "    <tr>\n",
       "      <th>0</th>\n",
       "      <td>167.730000</td>\n",
       "      <td>NaN</td>\n",
       "    </tr>\n",
       "    <tr>\n",
       "      <th>...</th>\n",
       "      <td>...</td>\n",
       "      <td>...</td>\n",
       "    </tr>\n",
       "    <tr>\n",
       "      <th>0</th>\n",
       "      <td>169.050525</td>\n",
       "      <td>NaN</td>\n",
       "    </tr>\n",
       "    <tr>\n",
       "      <th>0</th>\n",
       "      <td>169.050525</td>\n",
       "      <td>NaN</td>\n",
       "    </tr>\n",
       "    <tr>\n",
       "      <th>0</th>\n",
       "      <td>169.050525</td>\n",
       "      <td>NaN</td>\n",
       "    </tr>\n",
       "    <tr>\n",
       "      <th>0</th>\n",
       "      <td>169.050525</td>\n",
       "      <td>NaN</td>\n",
       "    </tr>\n",
       "    <tr>\n",
       "      <th>0</th>\n",
       "      <td>169.050525</td>\n",
       "      <td>NaN</td>\n",
       "    </tr>\n",
       "  </tbody>\n",
       "</table>\n",
       "<p>1900 rows × 2 columns</p>\n",
       "</div>"
      ],
      "text/plain": [
       "       Airline  PriceDiff\n",
       "0   183.200000        NaN\n",
       "0   167.730000        NaN\n",
       "0   143.470000        NaN\n",
       "0   167.730000        NaN\n",
       "0   167.730000        NaN\n",
       "..         ...        ...\n",
       "0   169.050525        NaN\n",
       "0   169.050525        NaN\n",
       "0   169.050525        NaN\n",
       "0   169.050525        NaN\n",
       "0   169.050525        NaN\n",
       "\n",
       "[1900 rows x 2 columns]"
      ]
     },
     "execution_count": 108,
     "metadata": {},
     "output_type": "execute_result"
    }
   ],
   "source": [
    "new_df"
   ]
  },
  {
   "cell_type": "code",
   "execution_count": 71,
   "metadata": {},
   "outputs": [
    {
     "data": {
      "text/plain": [
       "1900"
      ]
     },
     "execution_count": 71,
     "metadata": {},
     "output_type": "execute_result"
    }
   ],
   "source": [
    "len(df['Airline'])"
   ]
  },
  {
   "cell_type": "code",
   "execution_count": 73,
   "metadata": {},
   "outputs": [
    {
     "data": {
      "text/html": [
       "<div>\n",
       "<style scoped>\n",
       "    .dataframe tbody tr th:only-of-type {\n",
       "        vertical-align: middle;\n",
       "    }\n",
       "\n",
       "    .dataframe tbody tr th {\n",
       "        vertical-align: top;\n",
       "    }\n",
       "\n",
       "    .dataframe thead th {\n",
       "        text-align: right;\n",
       "    }\n",
       "</style>\n",
       "<table border=\"1\" class=\"dataframe\">\n",
       "  <thead>\n",
       "    <tr style=\"text-align: right;\">\n",
       "      <th></th>\n",
       "      <th>Airline</th>\n",
       "      <th>PriceDiff</th>\n",
       "    </tr>\n",
       "  </thead>\n",
       "  <tbody>\n",
       "    <tr>\n",
       "      <th>0</th>\n",
       "      <td>183.200000</td>\n",
       "      <td>NaN</td>\n",
       "    </tr>\n",
       "    <tr>\n",
       "      <th>0</th>\n",
       "      <td>167.730000</td>\n",
       "      <td>NaN</td>\n",
       "    </tr>\n",
       "    <tr>\n",
       "      <th>0</th>\n",
       "      <td>143.470000</td>\n",
       "      <td>NaN</td>\n",
       "    </tr>\n",
       "    <tr>\n",
       "      <th>0</th>\n",
       "      <td>167.730000</td>\n",
       "      <td>NaN</td>\n",
       "    </tr>\n",
       "    <tr>\n",
       "      <th>0</th>\n",
       "      <td>167.730000</td>\n",
       "      <td>NaN</td>\n",
       "    </tr>\n",
       "    <tr>\n",
       "      <th>...</th>\n",
       "      <td>...</td>\n",
       "      <td>...</td>\n",
       "    </tr>\n",
       "    <tr>\n",
       "      <th>0</th>\n",
       "      <td>169.050525</td>\n",
       "      <td>NaN</td>\n",
       "    </tr>\n",
       "    <tr>\n",
       "      <th>0</th>\n",
       "      <td>169.050525</td>\n",
       "      <td>NaN</td>\n",
       "    </tr>\n",
       "    <tr>\n",
       "      <th>0</th>\n",
       "      <td>169.050525</td>\n",
       "      <td>NaN</td>\n",
       "    </tr>\n",
       "    <tr>\n",
       "      <th>0</th>\n",
       "      <td>169.050525</td>\n",
       "      <td>NaN</td>\n",
       "    </tr>\n",
       "    <tr>\n",
       "      <th>0</th>\n",
       "      <td>169.050525</td>\n",
       "      <td>NaN</td>\n",
       "    </tr>\n",
       "  </tbody>\n",
       "</table>\n",
       "<p>1900 rows × 2 columns</p>\n",
       "</div>"
      ],
      "text/plain": [
       "       Airline  PriceDiff\n",
       "0   183.200000        NaN\n",
       "0   167.730000        NaN\n",
       "0   143.470000        NaN\n",
       "0   167.730000        NaN\n",
       "0   167.730000        NaN\n",
       "..         ...        ...\n",
       "0   169.050525        NaN\n",
       "0   169.050525        NaN\n",
       "0   169.050525        NaN\n",
       "0   169.050525        NaN\n",
       "0   169.050525        NaN\n",
       "\n",
       "[1900 rows x 2 columns]"
      ]
     },
     "execution_count": 73,
     "metadata": {},
     "output_type": "execute_result"
    }
   ],
   "source": [
    "new_df"
   ]
  },
  {
   "cell_type": "code",
   "execution_count": 75,
   "metadata": {},
   "outputs": [],
   "source": [
    "# drop date since it'll not be used as a feature\n",
    "final_df.drop([\"Source\",\"Destination\"], axis=1, inplace=True)"
   ]
  },
  {
   "cell_type": "code",
   "execution_count": null,
   "metadata": {},
   "outputs": [],
   "source": [
    "final_df = final_df.loc[:,~final_df.columns.duplicated()]"
   ]
  },
  {
   "cell_type": "code",
   "execution_count": 76,
   "metadata": {},
   "outputs": [
    {
     "data": {
      "text/plain": [
       "(1900, 11)"
      ]
     },
     "execution_count": 76,
     "metadata": {},
     "output_type": "execute_result"
    }
   ],
   "source": [
    "final_df.shape"
   ]
  },
  {
   "cell_type": "code",
   "execution_count": 81,
   "metadata": {},
   "outputs": [
    {
     "data": {
      "text/plain": [
       "Airline                    948\n",
       "stops_list                   0\n",
       "Departure                    0\n",
       "Prices                       0\n",
       "Duration                     0\n",
       "Source_LCYLondon City        0\n",
       "Source_LHRHeathrow           0\n",
       "Source_STNStansted           0\n",
       "Destination_LGWGatwick       0\n",
       "Destination_LHRHeathrow      0\n",
       "Destination_STNStansted      0\n",
       "dtype: int64"
      ]
     },
     "execution_count": 81,
     "metadata": {},
     "output_type": "execute_result"
    }
   ],
   "source": [
    "final_df.isnull().sum()"
   ]
  },
  {
   "cell_type": "code",
   "execution_count": 93,
   "metadata": {},
   "outputs": [],
   "source": [
    "# final_df = final_df.drop(['Airline'], axis=1)"
   ]
  },
  {
   "cell_type": "code",
   "execution_count": 106,
   "metadata": {},
   "outputs": [
    {
     "data": {
      "text/plain": [
       "0    183.200000\n",
       "0    167.730000\n",
       "0    143.470000\n",
       "0    167.730000\n",
       "0    167.730000\n",
       "        ...    \n",
       "0    169.050525\n",
       "0    169.050525\n",
       "0    169.050525\n",
       "0    169.050525\n",
       "0    169.050525\n",
       "Name: Airline, Length: 1900, dtype: float64"
      ]
     },
     "execution_count": 106,
     "metadata": {},
     "output_type": "execute_result"
    }
   ],
   "source": [
    "new_df['Airline']"
   ]
  },
  {
   "cell_type": "code",
   "execution_count": 110,
   "metadata": {},
   "outputs": [],
   "source": [
    "final_df = pd.concat([final_df, new_df], ignore_index = True)"
   ]
  },
  {
   "cell_type": "code",
   "execution_count": 117,
   "metadata": {},
   "outputs": [
    {
     "data": {
      "text/html": [
       "<div>\n",
       "<style scoped>\n",
       "    .dataframe tbody tr th:only-of-type {\n",
       "        vertical-align: middle;\n",
       "    }\n",
       "\n",
       "    .dataframe tbody tr th {\n",
       "        vertical-align: top;\n",
       "    }\n",
       "\n",
       "    .dataframe thead th {\n",
       "        text-align: right;\n",
       "    }\n",
       "</style>\n",
       "<table border=\"1\" class=\"dataframe\">\n",
       "  <thead>\n",
       "    <tr style=\"text-align: right;\">\n",
       "      <th></th>\n",
       "      <th>stops_list</th>\n",
       "      <th>Departure</th>\n",
       "      <th>Prices</th>\n",
       "      <th>Duration</th>\n",
       "      <th>Source_LCYLondon City</th>\n",
       "      <th>Source_LHRHeathrow</th>\n",
       "      <th>Source_STNStansted</th>\n",
       "      <th>Destination_LGWGatwick</th>\n",
       "      <th>Destination_LHRHeathrow</th>\n",
       "      <th>Destination_STNStansted</th>\n",
       "      <th>Airline</th>\n",
       "      <th>PriceDiff</th>\n",
       "    </tr>\n",
       "  </thead>\n",
       "  <tbody>\n",
       "    <tr>\n",
       "      <th>0</th>\n",
       "      <td>1.0</td>\n",
       "      <td>LGWGatwick-BLRBengaluru Intl</td>\n",
       "      <td>183.20</td>\n",
       "      <td>825.0</td>\n",
       "      <td>0.0</td>\n",
       "      <td>0.0</td>\n",
       "      <td>0.0</td>\n",
       "      <td>0.0</td>\n",
       "      <td>0.0</td>\n",
       "      <td>0.0</td>\n",
       "      <td>169.050525</td>\n",
       "      <td>NaN</td>\n",
       "    </tr>\n",
       "    <tr>\n",
       "      <th>1</th>\n",
       "      <td>1.0</td>\n",
       "      <td>BLRBengaluru Intl-LGWGatwick</td>\n",
       "      <td>167.73</td>\n",
       "      <td>807.0</td>\n",
       "      <td>0.0</td>\n",
       "      <td>0.0</td>\n",
       "      <td>0.0</td>\n",
       "      <td>0.0</td>\n",
       "      <td>0.0</td>\n",
       "      <td>0.0</td>\n",
       "      <td>169.050525</td>\n",
       "      <td>NaN</td>\n",
       "    </tr>\n",
       "    <tr>\n",
       "      <th>2</th>\n",
       "      <td>1.0</td>\n",
       "      <td>LHRHeathrow-BLRBengaluru Intl</td>\n",
       "      <td>143.47</td>\n",
       "      <td>807.0</td>\n",
       "      <td>0.0</td>\n",
       "      <td>1.0</td>\n",
       "      <td>0.0</td>\n",
       "      <td>0.0</td>\n",
       "      <td>0.0</td>\n",
       "      <td>0.0</td>\n",
       "      <td>169.050525</td>\n",
       "      <td>NaN</td>\n",
       "    </tr>\n",
       "    <tr>\n",
       "      <th>3</th>\n",
       "      <td>1.0</td>\n",
       "      <td>BLRBengaluru Intl-LHRHeathrow</td>\n",
       "      <td>167.73</td>\n",
       "      <td>807.0</td>\n",
       "      <td>0.0</td>\n",
       "      <td>0.0</td>\n",
       "      <td>0.0</td>\n",
       "      <td>0.0</td>\n",
       "      <td>1.0</td>\n",
       "      <td>0.0</td>\n",
       "      <td>169.050525</td>\n",
       "      <td>NaN</td>\n",
       "    </tr>\n",
       "    <tr>\n",
       "      <th>4</th>\n",
       "      <td>3.0</td>\n",
       "      <td>STNStansted-BLRBengaluru Intl</td>\n",
       "      <td>167.73</td>\n",
       "      <td>807.0</td>\n",
       "      <td>0.0</td>\n",
       "      <td>0.0</td>\n",
       "      <td>1.0</td>\n",
       "      <td>0.0</td>\n",
       "      <td>0.0</td>\n",
       "      <td>0.0</td>\n",
       "      <td>169.050525</td>\n",
       "      <td>NaN</td>\n",
       "    </tr>\n",
       "  </tbody>\n",
       "</table>\n",
       "</div>"
      ],
      "text/plain": [
       "   stops_list                      Departure  Prices  Duration  \\\n",
       "0         1.0   LGWGatwick-BLRBengaluru Intl  183.20     825.0   \n",
       "1         1.0   BLRBengaluru Intl-LGWGatwick  167.73     807.0   \n",
       "2         1.0  LHRHeathrow-BLRBengaluru Intl  143.47     807.0   \n",
       "3         1.0  BLRBengaluru Intl-LHRHeathrow  167.73     807.0   \n",
       "4         3.0  STNStansted-BLRBengaluru Intl  167.73     807.0   \n",
       "\n",
       "   Source_LCYLondon City  Source_LHRHeathrow  Source_STNStansted  \\\n",
       "0                    0.0                 0.0                 0.0   \n",
       "1                    0.0                 0.0                 0.0   \n",
       "2                    0.0                 1.0                 0.0   \n",
       "3                    0.0                 0.0                 0.0   \n",
       "4                    0.0                 0.0                 1.0   \n",
       "\n",
       "   Destination_LGWGatwick  Destination_LHRHeathrow  Destination_STNStansted  \\\n",
       "0                     0.0                      0.0                      0.0   \n",
       "1                     0.0                      0.0                      0.0   \n",
       "2                     0.0                      0.0                      0.0   \n",
       "3                     0.0                      1.0                      0.0   \n",
       "4                     0.0                      0.0                      0.0   \n",
       "\n",
       "      Airline  PriceDiff  \n",
       "0  169.050525        NaN  \n",
       "1  169.050525        NaN  \n",
       "2  169.050525        NaN  \n",
       "3  169.050525        NaN  \n",
       "4  169.050525        NaN  "
      ]
     },
     "execution_count": 117,
     "metadata": {},
     "output_type": "execute_result"
    }
   ],
   "source": [
    "final_df.head()"
   ]
  },
  {
   "cell_type": "code",
   "execution_count": 173,
   "metadata": {},
   "outputs": [
    {
     "data": {
      "text/plain": [
       "0       169.050525\n",
       "1       169.050525\n",
       "2       169.050525\n",
       "3       169.050525\n",
       "4       169.050525\n",
       "           ...    \n",
       "1895    169.050525\n",
       "1896    169.050525\n",
       "1897    169.050525\n",
       "1898    169.050525\n",
       "1899    169.050525\n",
       "Name: Airline, Length: 1900, dtype: float64"
      ]
     },
     "execution_count": 173,
     "metadata": {},
     "output_type": "execute_result"
    }
   ],
   "source": [
    "final_df['Airline'].fillna(float(final_df['Airline'].mean()))\n"
   ]
  },
  {
   "cell_type": "code",
   "execution_count": 118,
   "metadata": {},
   "outputs": [],
   "source": [
    "final_df.drop([\"PriceDiff\"], axis=1, inplace=True)"
   ]
  },
  {
   "cell_type": "code",
   "execution_count": 121,
   "metadata": {},
   "outputs": [],
   "source": [
    "final_df.drop([\"Departure\"], axis=1, inplace=True)"
   ]
  },
  {
   "cell_type": "code",
   "execution_count": 122,
   "metadata": {},
   "outputs": [
    {
     "data": {
      "image/png": "[encoded data removed]",
      "text/plain": [
       "<Figure size 1800x1800 with 2 Axes>"
      ]
     },
     "metadata": {},
     "output_type": "display_data"
    }
   ],
   "source": [
    "plt.figure(figsize = (18,18))\n",
    "\n",
    "sns.heatmap(final_df.corr(),annot= True, cmap = \"coolwarm\")\n",
    "\n",
    "plt.show()"
   ]
  },
  {
   "cell_type": "code",
   "execution_count": 136,
   "metadata": {},
   "outputs": [
    {
     "name": "stdout",
     "output_type": "stream",
     "text": [
      "<class 'pandas.core.frame.DataFrame'>\n",
      "RangeIndex: 3800 entries, 0 to 3799\n",
      "Data columns (total 10 columns):\n",
      " #   Column                   Non-Null Count  Dtype  \n",
      "---  ------                   --------------  -----  \n",
      " 0   stops_list               1900 non-null   float64\n",
      " 1   Prices                   1900 non-null   float64\n",
      " 2   Duration                 1900 non-null   float64\n",
      " 3   Source_LCYLondon City    1900 non-null   float64\n",
      " 4   Source_LHRHeathrow       1900 non-null   float64\n",
      " 5   Source_STNStansted       1900 non-null   float64\n",
      " 6   Destination_LGWGatwick   1900 non-null   float64\n",
      " 7   Destination_LHRHeathrow  1900 non-null   float64\n",
      " 8   Destination_STNStansted  1900 non-null   float64\n",
      " 9   Airline                  3800 non-null   float64\n",
      "dtypes: float64(10)\n",
      "memory usage: 297.0 KB\n"
     ]
    }
   ],
   "source": [
    "final_df.info()"
   ]
  },
  {
   "cell_type": "code",
   "execution_count": 141,
   "metadata": {},
   "outputs": [],
   "source": [
    "final_df = final_df.iloc[:1900]"
   ]
  },
  {
   "cell_type": "code",
   "execution_count": 142,
   "metadata": {},
   "outputs": [
    {
     "data": {
      "text/plain": [
       "0"
      ]
     },
     "execution_count": 142,
     "metadata": {},
     "output_type": "execute_result"
    }
   ],
   "source": [
    "final_df['Prices'].isnull().sum()"
   ]
  },
  {
   "cell_type": "code",
   "execution_count": 143,
   "metadata": {},
   "outputs": [],
   "source": [
    "X = final_df[['stops_list', 'Prices', 'Duration',\n",
    "       'Source_LCYLondon City', 'Source_LHRHeathrow', 'Source_STNStansted', 'Destination_LGWGatwick',\n",
    "       'Destination_LHRHeathrow', 'Destination_STNStansted','Airline' ]]\n",
    "\n",
    "y = final_df[\"Prices\"]"
   ]
  },
  {
   "cell_type": "code",
   "execution_count": 144,
   "metadata": {},
   "outputs": [
    {
     "data": {
      "text/plain": [
       "array([2.67354220e-03, 9.70346975e-01, 2.27751362e-03, 8.43620657e-14,\n",
       "       3.90575319e-03, 2.05680144e-02, 1.95038115e-05, 1.95158763e-04,\n",
       "       1.35388107e-05, 0.00000000e+00])"
      ]
     },
     "execution_count": 144,
     "metadata": {},
     "output_type": "execute_result"
    }
   ],
   "source": [
    "# getting feature importance to the target variable \"Price\".\n",
    "selection =ExtraTreesRegressor()\n",
    "selection.fit(X,y)\n",
    "selection.feature_importances_"
   ]
  },
  {
   "cell_type": "code",
   "execution_count": 145,
   "metadata": {},
   "outputs": [
    {
     "data": {
      "image/png": "[encoded data removed]",
      "text/plain": [
       "<Figure size 1200x800 with 1 Axes>"
      ]
     },
     "metadata": {},
     "output_type": "display_data"
    }
   ],
   "source": [
    "# plotting graph of important features\n",
    "plt.figure(figsize = (12,8))\n",
    "feat_importances = pd.Series(selection.feature_importances_,index = X.columns)\n",
    "feat_importances.nlargest(20).plot(kind=\"barh\")\n",
    "plt.show()"
   ]
  },
  {
   "attachments": {},
   "cell_type": "markdown",
   "metadata": {},
   "source": [
    "# Modeling:\n",
    "# Splitting the data"
   ]
  },
  {
   "cell_type": "code",
   "execution_count": 146,
   "metadata": {},
   "outputs": [],
   "source": [
    "# 60% Train - 20% Val - 20% Test\n",
    "\n",
    "X_train_or, X_test, y_train_or, y_test = train_test_split(X, y, test_size=0.2)\n",
    "X_train, X_val, y_train, y_val = train_test_split(X_train_or, y_train_or, test_size=0.25)"
   ]
  },
  {
   "attachments": {},
   "cell_type": "markdown",
   "metadata": {},
   "source": [
    "# Defining a function to get metrics for val set"
   ]
  },
  {
   "cell_type": "code",
   "execution_count": 147,
   "metadata": {},
   "outputs": [],
   "source": [
    "def get_metrics(model):\n",
    "    print(f'Train score {model.score(X_train, y_train)}')\n",
    "    print(f'Val score {model.score(X_val, y_val)}')\n",
    "    print(\"MAE:\" , metrics.mean_absolute_error(y_val,model.predict(X_val)))\n",
    "    print(\"MSE:\" , metrics.mean_squared_error(y_val,model.predict(X_val)))\n",
    "    print(\"RMSE:\" , np.sqrt(metrics.mean_squared_error(y_val,model.predict(X_val))))"
   ]
  },
  {
   "attachments": {},
   "cell_type": "markdown",
   "metadata": {},
   "source": [
    "# Baseline Linear Regression"
   ]
  },
  {
   "cell_type": "code",
   "execution_count": 148,
   "metadata": {},
   "outputs": [
    {
     "name": "stdout",
     "output_type": "stream",
     "text": [
      "Train score 1.0\n",
      "Val score 1.0\n",
      "MAE: 1.9296844823800616e-14\n",
      "MSE: 2.533920873157918e-27\n",
      "RMSE: 5.033806584641406e-14\n"
     ]
    }
   ],
   "source": [
    "lr = LinearRegression()\n",
    "lr.fit(X_train, y_train)\n",
    "score = lr.score(X_val, y_val)\n",
    "get_metrics(lr)"
   ]
  },
  {
   "cell_type": "code",
   "execution_count": 149,
   "metadata": {},
   "outputs": [
    {
     "name": "stdout",
     "output_type": "stream",
     "text": [
      "--------------------\n",
      "Degree 1\n",
      "Train score 1.0\n",
      "Val score 1.0\n",
      "MAE: 3.305893570589098e-14\n",
      "MSE: 4.417355347669592e-27\n",
      "RMSE: 6.646318791383387e-14\n",
      "--------------------\n",
      "Degree 2\n",
      "Train score 1.0\n",
      "Val score 0.9999999993114025\n",
      "MAE: 9.699206255818712e-06\n",
      "MSE: 1.7874172943894212e-08\n",
      "RMSE: 0.00013369432652096428\n",
      "--------------------\n",
      "Degree 3\n",
      "Train score 1.0\n",
      "Val score 0.9999999825603464\n",
      "MAE: 4.881152600763459e-05\n",
      "MSE: 4.526873496958786e-07\n",
      "RMSE: 0.0006728204438747968\n",
      "--------------------\n",
      "Degree 4\n",
      "Train score 1.0\n",
      "Val score 0.9999999799439396\n",
      "MAE: 5.236950450661257e-05\n",
      "MSE: 5.206023583000645e-07\n",
      "RMSE: 0.0007215277945443713\n",
      "--------------------\n",
      "Degree 5\n",
      "Train score 0.999999999999999\n",
      "Val score 0.9811307448266002\n",
      "MAE: 0.05088100839657459\n",
      "MSE: 0.4897960308819064\n",
      "RMSE: 0.6998542926080445\n"
     ]
    }
   ],
   "source": [
    "for degree in [1,2,3,4,5]:\n",
    "    poly = make_pipeline(PolynomialFeatures(degree), LinearRegression())\n",
    "    poly.fit(X_train, y_train)\n",
    "    print(\"-\"*20)\n",
    "    print(\"Degree\", degree)\n",
    "    get_metrics(poly)"
   ]
  },
  {
   "cell_type": "code",
   "execution_count": 150,
   "metadata": {},
   "outputs": [
    {
     "name": "stdout",
     "output_type": "stream",
     "text": [
      "Train score 0.9988864191259141\n",
      "Val score 0.9988859153843181\n",
      "MAE: 0.059403275300740695\n",
      "MSE: 0.028918694342361193\n",
      "RMSE: 0.17005497447108447\n"
     ]
    }
   ],
   "source": [
    "lasso_model = Lasso()\n",
    "lasso_model.fit(X_train, y_train)\n",
    "get_metrics(lasso_model)"
   ]
  },
  {
   "cell_type": "code",
   "execution_count": 151,
   "metadata": {},
   "outputs": [
    {
     "name": "stdout",
     "output_type": "stream",
     "text": [
      "Train score 0.9999999989489887\n",
      "Val score 0.9999999983496951\n",
      "MAE: 9.697527211778535e-05\n",
      "MSE: 4.283755679107155e-08\n",
      "RMSE: 0.0002069723575530596\n"
     ]
    }
   ],
   "source": [
    "ridge_model = Ridge()\n",
    "ridge_model.fit(X_train, y_train)\n",
    "get_metrics(ridge_model)"
   ]
  },
  {
   "attachments": {},
   "cell_type": "markdown",
   "metadata": {},
   "source": [
    "# ElasticNet"
   ]
  },
  {
   "cell_type": "code",
   "execution_count": 152,
   "metadata": {},
   "outputs": [
    {
     "name": "stdout",
     "output_type": "stream",
     "text": [
      "Train score 0.9989226699405284\n",
      "Val score 0.9989221825974209\n",
      "MAE: 0.05842838716671836\n",
      "MSE: 0.027977293271379346\n",
      "RMSE: 0.16726414221637387\n"
     ]
    }
   ],
   "source": [
    "EN_model = ElasticNet(alpha=1)\n",
    "EN_model.fit(X_train, y_train)\n",
    "EN_model.score(X_val, y_val)\n",
    "get_metrics(EN_model)"
   ]
  },
  {
   "cell_type": "code",
   "execution_count": 153,
   "metadata": {},
   "outputs": [
    {
     "name": "stdout",
     "output_type": "stream",
     "text": [
      "Train score 0.9999806891246118\n",
      "Val score 0.9995795128142356\n",
      "MAE: 0.011263157894979926\n",
      "MSE: 0.01091473684209865\n",
      "RMSE: 0.10447361792385028\n"
     ]
    }
   ],
   "source": [
    "rf = RandomForestRegressor()\n",
    "rf.fit(X_train,y_train)\n",
    "get_metrics(rf)"
   ]
  },
  {
   "cell_type": "code",
   "execution_count": 154,
   "metadata": {},
   "outputs": [],
   "source": [
    "scaler = StandardScaler()\n",
    "\n",
    "X_train_scaled = scaler.fit_transform(X_train.values)\n",
    "X_val_scaled = scaler.transform(X_val.values)\n",
    "X_test_scaled = scaler.transform(X_test.values)"
   ]
  },
  {
   "cell_type": "code",
   "execution_count": 172,
   "metadata": {},
   "outputs": [
    {
     "name": "stdout",
     "output_type": "stream",
     "text": [
      "LR\n",
      "Train score 1.0\n",
      "Val score 1.0\n",
      "MAE: 3.477919706615227e-14\n",
      "MSE: 2.5062858300781754e-27\n",
      "RMSE: 5.0062818838716776e-14\n",
      "--------------------------------------------------\n",
      "Polynomial - Degree 1\n",
      "Train score -8.092422091385885\n",
      "Val score -9.285527134752519\n",
      "MAE: 16.102668307649658\n",
      "MSE: 266.9851204954711\n",
      "RMSE: 16.33967932658016\n",
      "--------------------------------------------------\n",
      "Polynomial - Degree 2\n",
      "Train score -178.65313900301473\n",
      "Val score -205.63733899876635\n",
      "MAE: 73.06026618541162\n",
      "MSE: 5363.759594298769\n",
      "RMSE: 73.23769244247643\n",
      "--------------------------------------------------\n"
     ]
    },
    {
     "name": "stderr",
     "output_type": "stream",
     "text": [
      "/Users/prabhuswamikallur/miniforge3/envs/data_science/lib/python3.10/site-packages/sklearn/base.py:450: UserWarning: X does not have valid feature names, but PolynomialFeatures was fitted with feature names\n",
      "  warnings.warn(\n",
      "/Users/prabhuswamikallur/miniforge3/envs/data_science/lib/python3.10/site-packages/sklearn/base.py:450: UserWarning: X does not have valid feature names, but PolynomialFeatures was fitted with feature names\n",
      "  warnings.warn(\n",
      "/Users/prabhuswamikallur/miniforge3/envs/data_science/lib/python3.10/site-packages/sklearn/base.py:450: UserWarning: X does not have valid feature names, but PolynomialFeatures was fitted with feature names\n",
      "  warnings.warn(\n",
      "/Users/prabhuswamikallur/miniforge3/envs/data_science/lib/python3.10/site-packages/sklearn/base.py:450: UserWarning: X does not have valid feature names, but PolynomialFeatures was fitted with feature names\n",
      "  warnings.warn(\n",
      "/Users/prabhuswamikallur/miniforge3/envs/data_science/lib/python3.10/site-packages/sklearn/base.py:450: UserWarning: X does not have valid feature names, but PolynomialFeatures was fitted with feature names\n",
      "  warnings.warn(\n",
      "/Users/prabhuswamikallur/miniforge3/envs/data_science/lib/python3.10/site-packages/sklearn/base.py:450: UserWarning: X does not have valid feature names, but PolynomialFeatures was fitted with feature names\n",
      "  warnings.warn(\n",
      "/Users/prabhuswamikallur/miniforge3/envs/data_science/lib/python3.10/site-packages/sklearn/base.py:450: UserWarning: X does not have valid feature names, but PolynomialFeatures was fitted with feature names\n",
      "  warnings.warn(\n",
      "/Users/prabhuswamikallur/miniforge3/envs/data_science/lib/python3.10/site-packages/sklearn/base.py:450: UserWarning: X does not have valid feature names, but PolynomialFeatures was fitted with feature names\n",
      "  warnings.warn(\n",
      "/Users/prabhuswamikallur/miniforge3/envs/data_science/lib/python3.10/site-packages/sklearn/base.py:450: UserWarning: X does not have valid feature names, but PolynomialFeatures was fitted with feature names\n",
      "  warnings.warn(\n",
      "/Users/prabhuswamikallur/miniforge3/envs/data_science/lib/python3.10/site-packages/sklearn/base.py:450: UserWarning: X does not have valid feature names, but PolynomialFeatures was fitted with feature names\n",
      "  warnings.warn(\n"
     ]
    },
    {
     "name": "stdout",
     "output_type": "stream",
     "text": [
      "Polynomial - Degree 3\n",
      "Train score -953.7347674792296\n",
      "Val score -1099.6369090833434\n",
      "MAE: 168.94872013520268\n",
      "MSE: 28569.627394255065\n",
      "RMSE: 169.02552290779954\n",
      "--------------------------------------------------\n"
     ]
    },
    {
     "name": "stderr",
     "output_type": "stream",
     "text": [
      "/Users/prabhuswamikallur/miniforge3/envs/data_science/lib/python3.10/site-packages/sklearn/base.py:450: UserWarning: X does not have valid feature names, but PolynomialFeatures was fitted with feature names\n",
      "  warnings.warn(\n",
      "/Users/prabhuswamikallur/miniforge3/envs/data_science/lib/python3.10/site-packages/sklearn/base.py:450: UserWarning: X does not have valid feature names, but PolynomialFeatures was fitted with feature names\n",
      "  warnings.warn(\n",
      "/Users/prabhuswamikallur/miniforge3/envs/data_science/lib/python3.10/site-packages/sklearn/base.py:450: UserWarning: X does not have valid feature names, but PolynomialFeatures was fitted with feature names\n",
      "  warnings.warn(\n",
      "/Users/prabhuswamikallur/miniforge3/envs/data_science/lib/python3.10/site-packages/sklearn/base.py:450: UserWarning: X does not have valid feature names, but PolynomialFeatures was fitted with feature names\n",
      "  warnings.warn(\n",
      "/Users/prabhuswamikallur/miniforge3/envs/data_science/lib/python3.10/site-packages/sklearn/base.py:450: UserWarning: X does not have valid feature names, but PolynomialFeatures was fitted with feature names\n",
      "  warnings.warn(\n"
     ]
    },
    {
     "name": "stdout",
     "output_type": "stream",
     "text": [
      "Polynomial - Degree 4\n",
      "Train score -953.6693638050127\n",
      "Val score -1099.5614515898742\n",
      "MAE: 168.9429233735227\n",
      "MSE: 28567.668717006713\n",
      "RMSE: 169.01972878041994\n",
      "--------------------------------------------------\n"
     ]
    },
    {
     "name": "stderr",
     "output_type": "stream",
     "text": [
      "/Users/prabhuswamikallur/miniforge3/envs/data_science/lib/python3.10/site-packages/sklearn/base.py:450: UserWarning: X does not have valid feature names, but PolynomialFeatures was fitted with feature names\n",
      "  warnings.warn(\n",
      "/Users/prabhuswamikallur/miniforge3/envs/data_science/lib/python3.10/site-packages/sklearn/base.py:450: UserWarning: X does not have valid feature names, but PolynomialFeatures was fitted with feature names\n",
      "  warnings.warn(\n",
      "/Users/prabhuswamikallur/miniforge3/envs/data_science/lib/python3.10/site-packages/sklearn/base.py:450: UserWarning: X does not have valid feature names, but PolynomialFeatures was fitted with feature names\n",
      "  warnings.warn(\n",
      "/Users/prabhuswamikallur/miniforge3/envs/data_science/lib/python3.10/site-packages/sklearn/base.py:450: UserWarning: X does not have valid feature names, but PolynomialFeatures was fitted with feature names\n",
      "  warnings.warn(\n",
      "/Users/prabhuswamikallur/miniforge3/envs/data_science/lib/python3.10/site-packages/sklearn/base.py:450: UserWarning: X does not have valid feature names, but PolynomialFeatures was fitted with feature names\n",
      "  warnings.warn(\n"
     ]
    },
    {
     "name": "stdout",
     "output_type": "stream",
     "text": [
      "Polynomial - Degree 5\n",
      "Train score -6961.6601578940945\n",
      "Val score -8033.140084353563\n",
      "MAE: 456.6389177341283\n",
      "MSE: 208545.05854650508\n",
      "RMSE: 456.66733904069065\n",
      "--------------------------------------------------\n",
      "Lasso\n",
      "Train score 0.9666296407857894\n",
      "Val score 0.9666145453056126\n",
      "MAE: 0.3251845851580492\n",
      "MSE: 0.8665982333818005\n",
      "RMSE: 0.9309125809558062\n",
      "--------------------------------------------------\n",
      "Ridge\n",
      "Train score 0.9999990298971058\n",
      "Val score 0.9999983356340056\n",
      "MAE: 0.0030044261784746298\n",
      "MSE: 4.320254564811546e-05\n",
      "RMSE: 0.006572864341222589\n",
      "--------------------------------------------------\n"
     ]
    },
    {
     "name": "stderr",
     "output_type": "stream",
     "text": [
      "/Users/prabhuswamikallur/miniforge3/envs/data_science/lib/python3.10/site-packages/sklearn/base.py:450: UserWarning: X does not have valid feature names, but PolynomialFeatures was fitted with feature names\n",
      "  warnings.warn(\n",
      "/Users/prabhuswamikallur/miniforge3/envs/data_science/lib/python3.10/site-packages/sklearn/base.py:450: UserWarning: X does not have valid feature names, but PolynomialFeatures was fitted with feature names\n",
      "  warnings.warn(\n",
      "/Users/prabhuswamikallur/miniforge3/envs/data_science/lib/python3.10/site-packages/sklearn/base.py:450: UserWarning: X does not have valid feature names, but PolynomialFeatures was fitted with feature names\n",
      "  warnings.warn(\n",
      "/Users/prabhuswamikallur/miniforge3/envs/data_science/lib/python3.10/site-packages/sklearn/base.py:450: UserWarning: X does not have valid feature names, but PolynomialFeatures was fitted with feature names\n",
      "  warnings.warn(\n",
      "/Users/prabhuswamikallur/miniforge3/envs/data_science/lib/python3.10/site-packages/sklearn/base.py:450: UserWarning: X does not have valid feature names, but PolynomialFeatures was fitted with feature names\n",
      "  warnings.warn(\n"
     ]
    },
    {
     "name": "stdout",
     "output_type": "stream",
     "text": [
      "ElasticNet\n",
      "Train score 0.8446045443693018\n",
      "Val score 0.8445362835055202\n",
      "MAE: 0.7017770601122834\n",
      "MSE: 4.035427502856045\n",
      "RMSE: 2.008837351020745\n",
      "--------------------------------------------------\n",
      "Random Forest\n",
      "Train score -22.311637674290218\n",
      "Val score -25.542441477349254\n",
      "MAE: 25.74906451791246\n",
      "MSE: 688.9716825626351\n",
      "RMSE: 26.24827008704831\n"
     ]
    },
    {
     "name": "stderr",
     "output_type": "stream",
     "text": [
      "/Users/prabhuswamikallur/miniforge3/envs/data_science/lib/python3.10/site-packages/sklearn/base.py:450: UserWarning: X does not have valid feature names, but RandomForestRegressor was fitted with feature names\n",
      "  warnings.warn(\n",
      "/Users/prabhuswamikallur/miniforge3/envs/data_science/lib/python3.10/site-packages/sklearn/base.py:450: UserWarning: X does not have valid feature names, but RandomForestRegressor was fitted with feature names\n",
      "  warnings.warn(\n",
      "/Users/prabhuswamikallur/miniforge3/envs/data_science/lib/python3.10/site-packages/sklearn/base.py:450: UserWarning: X does not have valid feature names, but RandomForestRegressor was fitted with feature names\n",
      "  warnings.warn(\n",
      "/Users/prabhuswamikallur/miniforge3/envs/data_science/lib/python3.10/site-packages/sklearn/base.py:450: UserWarning: X does not have valid feature names, but RandomForestRegressor was fitted with feature names\n",
      "  warnings.warn(\n",
      "/Users/prabhuswamikallur/miniforge3/envs/data_science/lib/python3.10/site-packages/sklearn/base.py:450: UserWarning: X does not have valid feature names, but RandomForestRegressor was fitted with feature names\n",
      "  warnings.warn(\n"
     ]
    }
   ],
   "source": [
    "# function to get metrics for scaled features\n",
    "def scaled_metrics(model):\n",
    "    print(f'Train score {model.score(X_train_scaled, y_train)}')\n",
    "    print(f'Val score {model.score(X_val_scaled, y_val)}')\n",
    "    print(\"MAE:\" , metrics.mean_absolute_error(y_val,model.predict(X_val_scaled)))\n",
    "    print(\"MSE:\" , metrics.mean_squared_error(y_val,model.predict(X_val_scaled)))\n",
    "    print(\"RMSE:\" , np.sqrt(metrics.mean_squared_error(y_val,model.predict(X_val_scaled))))\n",
    "\n",
    "    \n",
    "## Baseline: Linear Regression\n",
    "\n",
    "lr = LinearRegression()\n",
    "lr.fit(X_train_scaled, y_train)\n",
    "score = lr.score(X_val_scaled, y_val)\n",
    "print(\"LR\")\n",
    "scaled_metrics(lr)\n",
    "print(\"-\"*50)\n",
    "\n",
    "## Polynomial\n",
    "\n",
    "for degree in [1,2,3,4,5]:\n",
    "    poly = make_pipeline(PolynomialFeatures(degree), LinearRegression())\n",
    "    poly.fit(X_train, y_train)\n",
    "    print(\"Polynomial - Degree\", degree)\n",
    "    scaled_metrics(poly)\n",
    "    print(\"-\"*50)\n",
    "## Lasso\n",
    "\n",
    "lasso_model = Lasso()\n",
    "lasso_model.fit(X_train_scaled, y_train)\n",
    "print(\"Lasso\")\n",
    "scaled_metrics(lasso_model)\n",
    "print(\"-\"*50)\n",
    "\n",
    "## Ridge\n",
    "\n",
    "ridge_model = Ridge()\n",
    "ridge_model.fit(X_train_scaled, y_train)\n",
    "print(\"Ridge\")\n",
    "scaled_metrics(ridge_model)\n",
    "print(\"-\"*50)\n",
    "\n",
    "## ElasticNet\n",
    "\n",
    "EN_model = ElasticNet(alpha=1)\n",
    "EN_model.fit(X_train_scaled, y_train)\n",
    "EN_model.score(X_val_scaled, y_val)\n",
    "print(\"ElasticNet\")\n",
    "scaled_metrics(EN_model)\n",
    "print(\"-\"*50)\n",
    "\n",
    "## Random Forest\n",
    "rf = RandomForestRegressor()\n",
    "rf.fit(X_train,y_train)\n",
    "print(\"Random Forest\")\n",
    "scaled_metrics(rf)"
   ]
  },
  {
   "attachments": {},
   "cell_type": "markdown",
   "metadata": {},
   "source": [
    "Feature scaling was of no use, it did not improve anything.\n",
    "\n",
    "From the above analysis, we can see that the random forest model performed the best with:\n",
    "\n",
    "Train score 0.9648778537711422\n",
    "Val score 0.9448134490695079\n",
    "MAE: 61.717733027545194\n",
    "MSE: 40035.31608101726\n",
    "RMSE: 200.0882707232417\n",
    "\n",
    "So, we'll select it as our model."
   ]
  },
  {
   "cell_type": "code",
   "execution_count": 156,
   "metadata": {},
   "outputs": [
    {
     "name": "stdout",
     "output_type": "stream",
     "text": [
      "Train score 0.999978272725476\n",
      "Test score 0.9999980767254243\n",
      "MAE: 0.00036605263183425425\n",
      "MSE: 3.7661184210379376e-05\n",
      "RMSE: 0.0061368708810255555\n"
     ]
    }
   ],
   "source": [
    "# retraining the random forest model on train + val, and scoring on test\n",
    "\n",
    "X_train_val = pd.concat([X_train,X_val])\n",
    "y_train_val = pd.concat([y_train,y_val])\n",
    "\n",
    "rf = RandomForestRegressor()\n",
    "rf.fit(X_train_val,y_train_val)\n",
    "\n",
    "print(f'Train score {rf.score(X_train_val, y_train_val)}')\n",
    "print(f'Test score {rf.score(X_test, y_test)}')\n",
    "print(\"MAE:\" , metrics.mean_absolute_error(y_test,rf.predict(X_test)))\n",
    "print(\"MSE:\" , metrics.mean_squared_error(y_test,rf.predict(X_test)))\n",
    "print(\"RMSE:\" , np.sqrt(metrics.mean_squared_error(y_test,rf.predict(X_test))))"
   ]
  },
  {
   "cell_type": "code",
   "execution_count": 157,
   "metadata": {},
   "outputs": [],
   "source": [
    "y_train_val_pred = rf.predict(X_train_val)\n",
    "y_test_pred = rf.predict(X_test)"
   ]
  },
  {
   "cell_type": "code",
   "execution_count": 158,
   "metadata": {},
   "outputs": [
    {
     "data": {
      "image/png": "[encoded data removed]",
      "text/plain": [
       "<Figure size 640x480 with 1 Axes>"
      ]
     },
     "metadata": {},
     "output_type": "display_data"
    }
   ],
   "source": [
    "plt.scatter(y_test,y_test_pred,alpha =0.2,color=\"DarkBlue\")\n",
    "plt.title('Actual vs. Predicted Airline Prices')\n",
    "plt.xlabel('Predicted Airline Prices')\n",
    "plt.ylabel('Actual Airline Prices');"
   ]
  },
  {
   "attachments": {},
   "cell_type": "markdown",
   "metadata": {},
   "source": [
    "# Hyperparameter Tuning"
   ]
  },
  {
   "cell_type": "code",
   "execution_count": 159,
   "metadata": {},
   "outputs": [],
   "source": [
    "# randomized search CV\n",
    "\n",
    "n_estimators = [int(x) for x in np.linspace(start = 100, stop = 1200, num = 12)]\n",
    "max_features = ['auto', 'sqrt']\n",
    "max_depth = [int(x) for x in np.linspace(5, 30, num = 6)]\n",
    "min_samples_split = [2, 5, 10, 15, 100]\n",
    "min_samples_leaf = [1, 2, 5, 10]"
   ]
  },
  {
   "cell_type": "code",
   "execution_count": 160,
   "metadata": {},
   "outputs": [],
   "source": [
    "# create the random grid\n",
    "\n",
    "random_grid = {'n_estimators': n_estimators,\n",
    "               'max_features': max_features,\n",
    "               'max_depth': max_depth,\n",
    "               'min_samples_split': min_samples_split,\n",
    "               'min_samples_leaf': min_samples_leaf}"
   ]
  },
  {
   "cell_type": "code",
   "execution_count": 161,
   "metadata": {},
   "outputs": [],
   "source": [
    "rf_random = RandomizedSearchCV(estimator = rf, param_distributions = random_grid,scoring='neg_mean_squared_error', n_iter = 10, cv = 5, verbose=2, n_jobs = 1)"
   ]
  },
  {
   "cell_type": "code",
   "execution_count": null,
   "metadata": {},
   "outputs": [],
   "source": [
    "rf_random.fit(X_train_val,y_train_val)"
   ]
  },
  {
   "cell_type": "code",
   "execution_count": 163,
   "metadata": {},
   "outputs": [
    {
     "data": {
      "text/plain": [
       "{'n_estimators': 1100,\n",
       " 'min_samples_split': 2,\n",
       " 'min_samples_leaf': 1,\n",
       " 'max_features': 'auto',\n",
       " 'max_depth': 15}"
      ]
     },
     "execution_count": 163,
     "metadata": {},
     "output_type": "execute_result"
    }
   ],
   "source": [
    "rf_random.best_params_"
   ]
  },
  {
   "cell_type": "code",
   "execution_count": 164,
   "metadata": {},
   "outputs": [],
   "source": [
    "prediction = rf_random.predict(X_test)"
   ]
  },
  {
   "cell_type": "code",
   "execution_count": 165,
   "metadata": {},
   "outputs": [
    {
     "data": {
      "text/plain": [
       "Text(0, 0.5, 'Actual Airline Prices')"
      ]
     },
     "execution_count": 165,
     "metadata": {},
     "output_type": "execute_result"
    },
    {
     "data": {
      "image/png": "[encoded data removed]",
      "text/plain": [
       "<Figure size 640x480 with 1 Axes>"
      ]
     },
     "metadata": {},
     "output_type": "display_data"
    }
   ],
   "source": [
    "plt.scatter(y_test,prediction,alpha =0.2,color=\"DarkBlue\")\n",
    "plt.title('Actual vs. Predicted Airline Prices')\n",
    "plt.xlabel('Predicted Airline Prices')\n",
    "plt.ylabel('Actual Airline Prices')"
   ]
  },
  {
   "cell_type": "code",
   "execution_count": 166,
   "metadata": {},
   "outputs": [
    {
     "name": "stdout",
     "output_type": "stream",
     "text": [
      "MAE: 0.00031485646264271556\n",
      "MSE: 2.8697199870622677e-05\n",
      "RMSE: 0.005356976747254246\n"
     ]
    }
   ],
   "source": [
    "print(\"MAE:\" , metrics.mean_absolute_error(y_test,prediction))\n",
    "print(\"MSE:\" , metrics.mean_squared_error(y_test,prediction))\n",
    "print(\"RMSE:\" , np.sqrt(metrics.mean_squared_error(y_test,prediction)))"
   ]
  },
  {
   "attachments": {},
   "cell_type": "markdown",
   "metadata": {},
   "source": [
    "# Hyperparameter tuning did not improve the model"
   ]
  },
  {
   "cell_type": "code",
   "execution_count": 167,
   "metadata": {},
   "outputs": [
    {
     "data": {
      "text/html": [
       "<div>\n",
       "<style scoped>\n",
       "    .dataframe tbody tr th:only-of-type {\n",
       "        vertical-align: middle;\n",
       "    }\n",
       "\n",
       "    .dataframe tbody tr th {\n",
       "        vertical-align: top;\n",
       "    }\n",
       "\n",
       "    .dataframe thead th {\n",
       "        text-align: right;\n",
       "    }\n",
       "</style>\n",
       "<table border=\"1\" class=\"dataframe\">\n",
       "  <thead>\n",
       "    <tr style=\"text-align: right;\">\n",
       "      <th></th>\n",
       "      <th>Predicted Price</th>\n",
       "      <th>Actual Price</th>\n",
       "    </tr>\n",
       "  </thead>\n",
       "  <tbody>\n",
       "    <tr>\n",
       "      <th>0</th>\n",
       "      <td>169.050525</td>\n",
       "      <td>169.050525</td>\n",
       "    </tr>\n",
       "    <tr>\n",
       "      <th>1</th>\n",
       "      <td>169.870000</td>\n",
       "      <td>169.870000</td>\n",
       "    </tr>\n",
       "    <tr>\n",
       "      <th>2</th>\n",
       "      <td>169.600000</td>\n",
       "      <td>169.600000</td>\n",
       "    </tr>\n",
       "    <tr>\n",
       "      <th>3</th>\n",
       "      <td>169.870000</td>\n",
       "      <td>169.870000</td>\n",
       "    </tr>\n",
       "    <tr>\n",
       "      <th>4</th>\n",
       "      <td>169.600000</td>\n",
       "      <td>169.600000</td>\n",
       "    </tr>\n",
       "    <tr>\n",
       "      <th>...</th>\n",
       "      <td>...</td>\n",
       "      <td>...</td>\n",
       "    </tr>\n",
       "    <tr>\n",
       "      <th>375</th>\n",
       "      <td>169.050525</td>\n",
       "      <td>169.050525</td>\n",
       "    </tr>\n",
       "    <tr>\n",
       "      <th>376</th>\n",
       "      <td>169.870000</td>\n",
       "      <td>169.870000</td>\n",
       "    </tr>\n",
       "    <tr>\n",
       "      <th>377</th>\n",
       "      <td>169.870000</td>\n",
       "      <td>169.870000</td>\n",
       "    </tr>\n",
       "    <tr>\n",
       "      <th>378</th>\n",
       "      <td>169.600000</td>\n",
       "      <td>169.600000</td>\n",
       "    </tr>\n",
       "    <tr>\n",
       "      <th>379</th>\n",
       "      <td>172.800000</td>\n",
       "      <td>172.800000</td>\n",
       "    </tr>\n",
       "  </tbody>\n",
       "</table>\n",
       "<p>380 rows × 2 columns</p>\n",
       "</div>"
      ],
      "text/plain": [
       "     Predicted Price  Actual Price\n",
       "0         169.050525    169.050525\n",
       "1         169.870000    169.870000\n",
       "2         169.600000    169.600000\n",
       "3         169.870000    169.870000\n",
       "4         169.600000    169.600000\n",
       "..               ...           ...\n",
       "375       169.050525    169.050525\n",
       "376       169.870000    169.870000\n",
       "377       169.870000    169.870000\n",
       "378       169.600000    169.600000\n",
       "379       172.800000    172.800000\n",
       "\n",
       "[380 rows x 2 columns]"
      ]
     },
     "execution_count": 167,
     "metadata": {},
     "output_type": "execute_result"
    }
   ],
   "source": [
    "test_df = pd.DataFrame({\n",
    "    \"Predicted Price\" : rf.predict(X_test),\n",
    "    \"Actual Price\" : y_test,\n",
    "}).reset_index(drop = True)\n",
    "\n",
    "test_df"
   ]
  },
  {
   "cell_type": "code",
   "execution_count": 168,
   "metadata": {},
   "outputs": [],
   "source": [
    "# save the model\n",
    "file = open('rf_flight_prediction.pkl', 'wb')\n",
    "pkl.dump(rf, file)"
   ]
  },
  {
   "cell_type": "code",
   "execution_count": 169,
   "metadata": {},
   "outputs": [],
   "source": [
    "# open the model\n",
    "model = open('rf_flight_prediction.pkl','rb')\n",
    "rf_flight_prediction = pkl.load(model)"
   ]
  },
  {
   "cell_type": "code",
   "execution_count": 170,
   "metadata": {},
   "outputs": [
    {
     "name": "stdout",
     "output_type": "stream",
     "text": [
      "R2 score 0.9999980767254243\n",
      "MAE: 0.00036605263183425425\n",
      "MSE: 3.7661184210379376e-05\n",
      "RMSE: 0.0061368708810255555\n"
     ]
    }
   ],
   "source": [
    "print(f'R2 score {metrics.r2_score(y_test,rf_flight_prediction.predict(X_test))}')\n",
    "print(\"MAE:\" , metrics.mean_absolute_error(y_test,rf_flight_prediction.predict(X_test)))\n",
    "print(\"MSE:\" , metrics.mean_squared_error(y_test,rf_flight_prediction.predict(X_test)))\n",
    "print(\"RMSE:\" , np.sqrt(metrics.mean_squared_error(y_test,rf_flight_prediction.predict(X_test))))"
   ]
  },
  {
   "cell_type": "code",
   "execution_count": null,
   "metadata": {},
   "outputs": [],
   "source": []
  },
  {
   "cell_type": "code",
   "execution_count": null,
   "metadata": {},
   "outputs": [],
   "source": []
  },
  {
   "cell_type": "code",
   "execution_count": null,
   "metadata": {},
   "outputs": [],
   "source": []
  }
 ],
 "metadata": {
  "kernelspec": {
   "display_name": "data_science",
   "language": "python",
   "name": "python3"
  },
  "language_info": {
   "codemirror_mode": {
    "name": "ipython",
    "version": 3
   },
   "file_extension": ".py",
   "mimetype": "text/x-python",
   "name": "python",
   "nbconvert_exporter": "python",
   "pygments_lexer": "ipython3",
   "version": "3.10.4"
  },
  "orig_nbformat": 4,
  "vscode": {
   "interpreter": {
    "hash": "a8d58dd5be0ada4fb5a47414fe14ff43adb412c7f275b2cb4b408d3aefadbe44"
   }
  }
 },
 "nbformat": 4,
 "nbformat_minor": 2
}
