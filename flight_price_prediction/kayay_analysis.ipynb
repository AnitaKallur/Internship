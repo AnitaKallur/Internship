{
 "cells": [
  {
   "cell_type": "code",
   "execution_count": 653,
   "metadata": {},
   "outputs": [],
   "source": [
    "import pandas as pd\n",
    "import numpy as np\n",
    "import pandas as pd\n",
    "import matplotlib.pyplot as plt\n",
    "import seaborn as sns\n",
    "import pickle as pkl\n",
    "\n",
    "sns.set()\n",
    "\n",
    "from sklearn.model_selection import train_test_split, RandomizedSearchCV\n",
    "from sklearn.linear_model import LinearRegression, Ridge, Lasso, ElasticNet\n",
    "from sklearn.preprocessing import StandardScaler, PolynomialFeatures\n",
    "from sklearn.pipeline import make_pipeline\n",
    "from sklearn.model_selection import cross_val_score, train_test_split, KFold, GridSearchCV\n",
    "from sklearn.ensemble import RandomForestRegressor, ExtraTreesRegressor\n",
    "from sklearn import metrics\n",
    "import warnings "
   ]
  },
  {
   "cell_type": "code",
   "execution_count": 587,
   "metadata": {},
   "outputs": [],
   "source": [
    "df = pd.read_csv(\"kayak_data.csv\", nrows= 1900)"
   ]
  },
  {
   "cell_type": "code",
   "execution_count": 588,
   "metadata": {},
   "outputs": [
    {
     "data": {
      "text/html": [
       "<div>\n",
       "<style scoped>\n",
       "    .dataframe tbody tr th:only-of-type {\n",
       "        vertical-align: middle;\n",
       "    }\n",
       "\n",
       "    .dataframe tbody tr th {\n",
       "        vertical-align: top;\n",
       "    }\n",
       "\n",
       "    .dataframe thead th {\n",
       "        text-align: right;\n",
       "    }\n",
       "</style>\n",
       "<table border=\"1\" class=\"dataframe\">\n",
       "  <thead>\n",
       "    <tr style=\"text-align: right;\">\n",
       "      <th></th>\n",
       "      <th>Unnamed: 0</th>\n",
       "      <th>Airline</th>\n",
       "      <th>stops_list</th>\n",
       "      <th>Departure</th>\n",
       "      <th>Prices</th>\n",
       "      <th>Duration</th>\n",
       "    </tr>\n",
       "  </thead>\n",
       "  <tbody>\n",
       "    <tr>\n",
       "      <th>0</th>\n",
       "      <td>0</td>\n",
       "      <td>Emirates</td>\n",
       "      <td>1 stop</td>\n",
       "      <td>LGWGatwick-BLRBengaluru Intl</td>\n",
       "      <td>£687</td>\n",
       "      <td>13h 45m</td>\n",
       "    </tr>\n",
       "    <tr>\n",
       "      <th>1</th>\n",
       "      <td>1</td>\n",
       "      <td>Lufthansa</td>\n",
       "      <td>1 stop</td>\n",
       "      <td>BLRBengaluru Intl-LGWGatwick</td>\n",
       "      <td>£629</td>\n",
       "      <td>NaN</td>\n",
       "    </tr>\n",
       "    <tr>\n",
       "      <th>2</th>\n",
       "      <td>2</td>\n",
       "      <td>Multiple Airlines</td>\n",
       "      <td>1 stop</td>\n",
       "      <td>LHRHeathrow-BLRBengaluru Intl</td>\n",
       "      <td>£538</td>\n",
       "      <td>NaN</td>\n",
       "    </tr>\n",
       "    <tr>\n",
       "      <th>3</th>\n",
       "      <td>3</td>\n",
       "      <td>Lufthansa</td>\n",
       "      <td>1 stop</td>\n",
       "      <td>BLRBengaluru Intl-LHRHeathrow</td>\n",
       "      <td>£629</td>\n",
       "      <td>NaN</td>\n",
       "    </tr>\n",
       "    <tr>\n",
       "      <th>4</th>\n",
       "      <td>4</td>\n",
       "      <td>Lufthansa</td>\n",
       "      <td>3 stops</td>\n",
       "      <td>STNStansted-BLRBengaluru Intl</td>\n",
       "      <td>£629</td>\n",
       "      <td>NaN</td>\n",
       "    </tr>\n",
       "  </tbody>\n",
       "</table>\n",
       "</div>"
      ],
      "text/plain": [
       "   Unnamed: 0            Airline stops_list                      Departure  \\\n",
       "0           0           Emirates     1 stop   LGWGatwick-BLRBengaluru Intl   \n",
       "1           1          Lufthansa     1 stop   BLRBengaluru Intl-LGWGatwick   \n",
       "2           2  Multiple Airlines     1 stop  LHRHeathrow-BLRBengaluru Intl   \n",
       "3           3          Lufthansa     1 stop  BLRBengaluru Intl-LHRHeathrow   \n",
       "4           4          Lufthansa    3 stops  STNStansted-BLRBengaluru Intl   \n",
       "\n",
       "  Prices Duration  \n",
       "0   £687  13h 45m  \n",
       "1   £629      NaN  \n",
       "2   £538      NaN  \n",
       "3   £629      NaN  \n",
       "4   £629      NaN  "
      ]
     },
     "execution_count": 588,
     "metadata": {},
     "output_type": "execute_result"
    }
   ],
   "source": [
    "df.head()"
   ]
  },
  {
   "cell_type": "code",
   "execution_count": 589,
   "metadata": {},
   "outputs": [
    {
     "data": {
      "text/html": [
       "<div>\n",
       "<style scoped>\n",
       "    .dataframe tbody tr th:only-of-type {\n",
       "        vertical-align: middle;\n",
       "    }\n",
       "\n",
       "    .dataframe tbody tr th {\n",
       "        vertical-align: top;\n",
       "    }\n",
       "\n",
       "    .dataframe thead th {\n",
       "        text-align: right;\n",
       "    }\n",
       "</style>\n",
       "<table border=\"1\" class=\"dataframe\">\n",
       "  <thead>\n",
       "    <tr style=\"text-align: right;\">\n",
       "      <th></th>\n",
       "      <th>Unnamed: 0</th>\n",
       "      <th>Airline</th>\n",
       "      <th>stops_list</th>\n",
       "      <th>Departure</th>\n",
       "      <th>Prices</th>\n",
       "      <th>Duration</th>\n",
       "    </tr>\n",
       "  </thead>\n",
       "  <tbody>\n",
       "    <tr>\n",
       "      <th>0</th>\n",
       "      <td>0</td>\n",
       "      <td>Emirates</td>\n",
       "      <td>1 stop</td>\n",
       "      <td>LGWGatwick-BLRBengaluru Intl</td>\n",
       "      <td>£687</td>\n",
       "      <td>13h 45m</td>\n",
       "    </tr>\n",
       "    <tr>\n",
       "      <th>1</th>\n",
       "      <td>1</td>\n",
       "      <td>Lufthansa</td>\n",
       "      <td>1 stop</td>\n",
       "      <td>BLRBengaluru Intl-LGWGatwick</td>\n",
       "      <td>£629</td>\n",
       "      <td>NaN</td>\n",
       "    </tr>\n",
       "    <tr>\n",
       "      <th>2</th>\n",
       "      <td>2</td>\n",
       "      <td>Multiple Airlines</td>\n",
       "      <td>1 stop</td>\n",
       "      <td>LHRHeathrow-BLRBengaluru Intl</td>\n",
       "      <td>£538</td>\n",
       "      <td>NaN</td>\n",
       "    </tr>\n",
       "    <tr>\n",
       "      <th>3</th>\n",
       "      <td>3</td>\n",
       "      <td>Lufthansa</td>\n",
       "      <td>1 stop</td>\n",
       "      <td>BLRBengaluru Intl-LHRHeathrow</td>\n",
       "      <td>£629</td>\n",
       "      <td>NaN</td>\n",
       "    </tr>\n",
       "    <tr>\n",
       "      <th>4</th>\n",
       "      <td>4</td>\n",
       "      <td>Lufthansa</td>\n",
       "      <td>3 stops</td>\n",
       "      <td>STNStansted-BLRBengaluru Intl</td>\n",
       "      <td>£629</td>\n",
       "      <td>NaN</td>\n",
       "    </tr>\n",
       "    <tr>\n",
       "      <th>...</th>\n",
       "      <td>...</td>\n",
       "      <td>...</td>\n",
       "      <td>...</td>\n",
       "      <td>...</td>\n",
       "      <td>...</td>\n",
       "      <td>...</td>\n",
       "    </tr>\n",
       "    <tr>\n",
       "      <th>1895</th>\n",
       "      <td>25</td>\n",
       "      <td>NaN</td>\n",
       "      <td>1 stop</td>\n",
       "      <td>BLRBengaluru Intl-LHRHeathrow</td>\n",
       "      <td>NaN</td>\n",
       "      <td>13h 55m</td>\n",
       "    </tr>\n",
       "    <tr>\n",
       "      <th>1896</th>\n",
       "      <td>26</td>\n",
       "      <td>NaN</td>\n",
       "      <td>1 stop</td>\n",
       "      <td>LHRHeathrow-BLRBengaluru Intl</td>\n",
       "      <td>NaN</td>\n",
       "      <td>12h 05m</td>\n",
       "    </tr>\n",
       "    <tr>\n",
       "      <th>1897</th>\n",
       "      <td>27</td>\n",
       "      <td>NaN</td>\n",
       "      <td>1 stop</td>\n",
       "      <td>BLRBengaluru Intl-LHRHeathrow</td>\n",
       "      <td>NaN</td>\n",
       "      <td>13h 55m</td>\n",
       "    </tr>\n",
       "    <tr>\n",
       "      <th>1898</th>\n",
       "      <td>28</td>\n",
       "      <td>NaN</td>\n",
       "      <td>1 stop</td>\n",
       "      <td>LHRHeathrow-BLRBengaluru Intl</td>\n",
       "      <td>NaN</td>\n",
       "      <td>12h 05m</td>\n",
       "    </tr>\n",
       "    <tr>\n",
       "      <th>1899</th>\n",
       "      <td>29</td>\n",
       "      <td>NaN</td>\n",
       "      <td>1 stop</td>\n",
       "      <td>BLRBengaluru Intl-LGWGatwick</td>\n",
       "      <td>NaN</td>\n",
       "      <td>14h 05m</td>\n",
       "    </tr>\n",
       "  </tbody>\n",
       "</table>\n",
       "<p>1900 rows × 6 columns</p>\n",
       "</div>"
      ],
      "text/plain": [
       "      Unnamed: 0            Airline stops_list                      Departure  \\\n",
       "0              0           Emirates     1 stop   LGWGatwick-BLRBengaluru Intl   \n",
       "1              1          Lufthansa     1 stop   BLRBengaluru Intl-LGWGatwick   \n",
       "2              2  Multiple Airlines     1 stop  LHRHeathrow-BLRBengaluru Intl   \n",
       "3              3          Lufthansa     1 stop  BLRBengaluru Intl-LHRHeathrow   \n",
       "4              4          Lufthansa    3 stops  STNStansted-BLRBengaluru Intl   \n",
       "...          ...                ...        ...                            ...   \n",
       "1895          25                NaN     1 stop  BLRBengaluru Intl-LHRHeathrow   \n",
       "1896          26                NaN     1 stop  LHRHeathrow-BLRBengaluru Intl   \n",
       "1897          27                NaN     1 stop  BLRBengaluru Intl-LHRHeathrow   \n",
       "1898          28                NaN     1 stop  LHRHeathrow-BLRBengaluru Intl   \n",
       "1899          29                NaN     1 stop   BLRBengaluru Intl-LGWGatwick   \n",
       "\n",
       "     Prices Duration  \n",
       "0      £687  13h 45m  \n",
       "1      £629      NaN  \n",
       "2      £538      NaN  \n",
       "3      £629      NaN  \n",
       "4      £629      NaN  \n",
       "...     ...      ...  \n",
       "1895    NaN  13h 55m  \n",
       "1896    NaN  12h 05m  \n",
       "1897    NaN  13h 55m  \n",
       "1898    NaN  12h 05m  \n",
       "1899    NaN  14h 05m  \n",
       "\n",
       "[1900 rows x 6 columns]"
      ]
     },
     "execution_count": 589,
     "metadata": {},
     "output_type": "execute_result"
    }
   ],
   "source": [
    "df"
   ]
  },
  {
   "cell_type": "code",
   "execution_count": 590,
   "metadata": {},
   "outputs": [],
   "source": [
    "df['Source'] = df['Departure'].str.split('-').str.get(0).rename({0: 'Source'})"
   ]
  },
  {
   "cell_type": "code",
   "execution_count": 591,
   "metadata": {},
   "outputs": [],
   "source": [
    "df['Destination'] = df['Departure'].str.split('-').str.get(1).rename({1: 'Destination'})"
   ]
  },
  {
   "cell_type": "code",
   "execution_count": 592,
   "metadata": {},
   "outputs": [
    {
     "data": {
      "text/html": [
       "<div>\n",
       "<style scoped>\n",
       "    .dataframe tbody tr th:only-of-type {\n",
       "        vertical-align: middle;\n",
       "    }\n",
       "\n",
       "    .dataframe tbody tr th {\n",
       "        vertical-align: top;\n",
       "    }\n",
       "\n",
       "    .dataframe thead th {\n",
       "        text-align: right;\n",
       "    }\n",
       "</style>\n",
       "<table border=\"1\" class=\"dataframe\">\n",
       "  <thead>\n",
       "    <tr style=\"text-align: right;\">\n",
       "      <th></th>\n",
       "      <th>Unnamed: 0</th>\n",
       "      <th>Airline</th>\n",
       "      <th>stops_list</th>\n",
       "      <th>Departure</th>\n",
       "      <th>Prices</th>\n",
       "      <th>Duration</th>\n",
       "      <th>Source</th>\n",
       "      <th>Destination</th>\n",
       "    </tr>\n",
       "  </thead>\n",
       "  <tbody>\n",
       "    <tr>\n",
       "      <th>0</th>\n",
       "      <td>0</td>\n",
       "      <td>Emirates</td>\n",
       "      <td>1 stop</td>\n",
       "      <td>LGWGatwick-BLRBengaluru Intl</td>\n",
       "      <td>£687</td>\n",
       "      <td>13h 45m</td>\n",
       "      <td>NaN</td>\n",
       "      <td>BLRBengaluru Intl</td>\n",
       "    </tr>\n",
       "    <tr>\n",
       "      <th>1</th>\n",
       "      <td>1</td>\n",
       "      <td>Lufthansa</td>\n",
       "      <td>1 stop</td>\n",
       "      <td>BLRBengaluru Intl-LGWGatwick</td>\n",
       "      <td>£629</td>\n",
       "      <td>NaN</td>\n",
       "      <td>BLRBengaluru Intl</td>\n",
       "      <td>NaN</td>\n",
       "    </tr>\n",
       "    <tr>\n",
       "      <th>2</th>\n",
       "      <td>2</td>\n",
       "      <td>Multiple Airlines</td>\n",
       "      <td>1 stop</td>\n",
       "      <td>LHRHeathrow-BLRBengaluru Intl</td>\n",
       "      <td>£538</td>\n",
       "      <td>NaN</td>\n",
       "      <td>LHRHeathrow</td>\n",
       "      <td>BLRBengaluru Intl</td>\n",
       "    </tr>\n",
       "    <tr>\n",
       "      <th>3</th>\n",
       "      <td>3</td>\n",
       "      <td>Lufthansa</td>\n",
       "      <td>1 stop</td>\n",
       "      <td>BLRBengaluru Intl-LHRHeathrow</td>\n",
       "      <td>£629</td>\n",
       "      <td>NaN</td>\n",
       "      <td>BLRBengaluru Intl</td>\n",
       "      <td>LHRHeathrow</td>\n",
       "    </tr>\n",
       "    <tr>\n",
       "      <th>4</th>\n",
       "      <td>4</td>\n",
       "      <td>Lufthansa</td>\n",
       "      <td>3 stops</td>\n",
       "      <td>STNStansted-BLRBengaluru Intl</td>\n",
       "      <td>£629</td>\n",
       "      <td>NaN</td>\n",
       "      <td>STNStansted</td>\n",
       "      <td>BLRBengaluru Intl</td>\n",
       "    </tr>\n",
       "  </tbody>\n",
       "</table>\n",
       "</div>"
      ],
      "text/plain": [
       "   Unnamed: 0            Airline stops_list                      Departure  \\\n",
       "0           0           Emirates     1 stop   LGWGatwick-BLRBengaluru Intl   \n",
       "1           1          Lufthansa     1 stop   BLRBengaluru Intl-LGWGatwick   \n",
       "2           2  Multiple Airlines     1 stop  LHRHeathrow-BLRBengaluru Intl   \n",
       "3           3          Lufthansa     1 stop  BLRBengaluru Intl-LHRHeathrow   \n",
       "4           4          Lufthansa    3 stops  STNStansted-BLRBengaluru Intl   \n",
       "\n",
       "  Prices Duration             Source        Destination  \n",
       "0   £687  13h 45m                NaN  BLRBengaluru Intl  \n",
       "1   £629      NaN  BLRBengaluru Intl                NaN  \n",
       "2   £538      NaN        LHRHeathrow  BLRBengaluru Intl  \n",
       "3   £629      NaN  BLRBengaluru Intl        LHRHeathrow  \n",
       "4   £629      NaN        STNStansted  BLRBengaluru Intl  "
      ]
     },
     "execution_count": 592,
     "metadata": {},
     "output_type": "execute_result"
    }
   ],
   "source": [
    "df.head()"
   ]
  },
  {
   "cell_type": "code",
   "execution_count": 593,
   "metadata": {},
   "outputs": [],
   "source": [
    "df['stops_list'] = df['stops_list'].str.replace('stop', ' ')\n",
    "# df['stops_list'] = df['stops_list'].str.replace('stops', ' ')"
   ]
  },
  {
   "cell_type": "code",
   "execution_count": 594,
   "metadata": {},
   "outputs": [],
   "source": [
    "df['stops_list'] = df['stops_list'].str.replace('s', ' ')"
   ]
  },
  {
   "cell_type": "code",
   "execution_count": 595,
   "metadata": {},
   "outputs": [
    {
     "data": {
      "text/plain": [
       "0        1  \n",
       "1        1  \n",
       "2        1  \n",
       "3        1  \n",
       "4       3   \n",
       "        ... \n",
       "1895     1  \n",
       "1896     1  \n",
       "1897     1  \n",
       "1898     1  \n",
       "1899     1  \n",
       "Name: stops_list, Length: 1900, dtype: object"
      ]
     },
     "execution_count": 595,
     "metadata": {},
     "output_type": "execute_result"
    }
   ],
   "source": [
    "df['stops_list']"
   ]
  },
  {
   "cell_type": "code",
   "execution_count": 596,
   "metadata": {},
   "outputs": [],
   "source": [
    "df['stops_list']= pd.to_numeric(df['stops_list'], errors='coerce')"
   ]
  },
  {
   "cell_type": "code",
   "execution_count": 597,
   "metadata": {},
   "outputs": [
    {
     "data": {
      "text/plain": [
       "Unnamed: 0     1900\n",
       "Airline         952\n",
       "stops_list     1900\n",
       "Departure      1900\n",
       "Prices          952\n",
       "Duration       1867\n",
       "Source         1899\n",
       "Destination    1899\n",
       "dtype: int64"
      ]
     },
     "execution_count": 597,
     "metadata": {},
     "output_type": "execute_result"
    }
   ],
   "source": [
    "df.count()"
   ]
  },
  {
   "cell_type": "code",
   "execution_count": 598,
   "metadata": {},
   "outputs": [
    {
     "data": {
      "text/plain": [
       "1931"
      ]
     },
     "execution_count": 598,
     "metadata": {},
     "output_type": "execute_result"
    }
   ],
   "source": [
    "df.isna().sum().sum()"
   ]
  },
  {
   "cell_type": "code",
   "execution_count": 599,
   "metadata": {},
   "outputs": [
    {
     "name": "stdout",
     "output_type": "stream",
     "text": [
      "<class 'pandas.core.frame.DataFrame'>\n",
      "RangeIndex: 1900 entries, 0 to 1899\n",
      "Data columns (total 8 columns):\n",
      " #   Column       Non-Null Count  Dtype \n",
      "---  ------       --------------  ----- \n",
      " 0   Unnamed: 0   1900 non-null   int64 \n",
      " 1   Airline      952 non-null    object\n",
      " 2   stops_list   1900 non-null   int64 \n",
      " 3   Departure    1900 non-null   object\n",
      " 4   Prices       952 non-null    object\n",
      " 5   Duration     1867 non-null   object\n",
      " 6   Source       1899 non-null   object\n",
      " 7   Destination  1899 non-null   object\n",
      "dtypes: int64(2), object(6)\n",
      "memory usage: 118.9+ KB\n"
     ]
    }
   ],
   "source": [
    "df.info()"
   ]
  },
  {
   "cell_type": "code",
   "execution_count": 600,
   "metadata": {},
   "outputs": [
    {
     "data": {
      "text/plain": [
       "1900"
      ]
     },
     "execution_count": 600,
     "metadata": {},
     "output_type": "execute_result"
    }
   ],
   "source": [
    "len(df)"
   ]
  },
  {
   "cell_type": "code",
   "execution_count": 601,
   "metadata": {},
   "outputs": [
    {
     "data": {
      "text/html": [
       "<div>\n",
       "<style scoped>\n",
       "    .dataframe tbody tr th:only-of-type {\n",
       "        vertical-align: middle;\n",
       "    }\n",
       "\n",
       "    .dataframe tbody tr th {\n",
       "        vertical-align: top;\n",
       "    }\n",
       "\n",
       "    .dataframe thead th {\n",
       "        text-align: right;\n",
       "    }\n",
       "</style>\n",
       "<table border=\"1\" class=\"dataframe\">\n",
       "  <thead>\n",
       "    <tr style=\"text-align: right;\">\n",
       "      <th></th>\n",
       "      <th>Unnamed: 0</th>\n",
       "      <th>stops_list</th>\n",
       "    </tr>\n",
       "  </thead>\n",
       "  <tbody>\n",
       "    <tr>\n",
       "      <th>count</th>\n",
       "      <td>1900.000000</td>\n",
       "      <td>1900.000000</td>\n",
       "    </tr>\n",
       "    <tr>\n",
       "      <th>mean</th>\n",
       "      <td>16.468421</td>\n",
       "      <td>1.117895</td>\n",
       "    </tr>\n",
       "    <tr>\n",
       "      <th>std</th>\n",
       "      <td>9.799278</td>\n",
       "      <td>0.471176</td>\n",
       "    </tr>\n",
       "    <tr>\n",
       "      <th>min</th>\n",
       "      <td>0.000000</td>\n",
       "      <td>1.000000</td>\n",
       "    </tr>\n",
       "    <tr>\n",
       "      <th>25%</th>\n",
       "      <td>8.000000</td>\n",
       "      <td>1.000000</td>\n",
       "    </tr>\n",
       "    <tr>\n",
       "      <th>50%</th>\n",
       "      <td>16.000000</td>\n",
       "      <td>1.000000</td>\n",
       "    </tr>\n",
       "    <tr>\n",
       "      <th>75%</th>\n",
       "      <td>25.000000</td>\n",
       "      <td>1.000000</td>\n",
       "    </tr>\n",
       "    <tr>\n",
       "      <th>max</th>\n",
       "      <td>33.000000</td>\n",
       "      <td>3.000000</td>\n",
       "    </tr>\n",
       "  </tbody>\n",
       "</table>\n",
       "</div>"
      ],
      "text/plain": [
       "        Unnamed: 0   stops_list\n",
       "count  1900.000000  1900.000000\n",
       "mean     16.468421     1.117895\n",
       "std       9.799278     0.471176\n",
       "min       0.000000     1.000000\n",
       "25%       8.000000     1.000000\n",
       "50%      16.000000     1.000000\n",
       "75%      25.000000     1.000000\n",
       "max      33.000000     3.000000"
      ]
     },
     "execution_count": 601,
     "metadata": {},
     "output_type": "execute_result"
    }
   ],
   "source": [
    "df.describe()"
   ]
  },
  {
   "cell_type": "code",
   "execution_count": 602,
   "metadata": {},
   "outputs": [
    {
     "data": {
      "text/plain": [
       "Index(['Unnamed: 0', 'Airline', 'stops_list', 'Departure', 'Prices',\n",
       "       'Duration', 'Source', 'Destination'],\n",
       "      dtype='object')"
      ]
     },
     "execution_count": 602,
     "metadata": {},
     "output_type": "execute_result"
    }
   ],
   "source": [
    "df.columns"
   ]
  },
  {
   "cell_type": "code",
   "execution_count": 603,
   "metadata": {},
   "outputs": [
    {
     "data": {
      "text/plain": [
       "(1900, 8)"
      ]
     },
     "execution_count": 603,
     "metadata": {},
     "output_type": "execute_result"
    }
   ],
   "source": [
    "df.shape"
   ]
  },
  {
   "cell_type": "code",
   "execution_count": 604,
   "metadata": {},
   "outputs": [],
   "source": [
    "df = df.drop(['Unnamed: 0'], axis=1)"
   ]
  },
  {
   "cell_type": "code",
   "execution_count": 605,
   "metadata": {},
   "outputs": [
    {
     "data": {
      "text/plain": [
       "0       13h 45m\n",
       "1           NaN\n",
       "2           NaN\n",
       "3           NaN\n",
       "4           NaN\n",
       "         ...   \n",
       "1895    13h 55m\n",
       "1896    12h 05m\n",
       "1897    13h 55m\n",
       "1898    12h 05m\n",
       "1899    14h 05m\n",
       "Name: Duration, Length: 1900, dtype: object"
      ]
     },
     "execution_count": 605,
     "metadata": {},
     "output_type": "execute_result"
    }
   ],
   "source": [
    "df['Duration']"
   ]
  },
  {
   "cell_type": "code",
   "execution_count": 606,
   "metadata": {},
   "outputs": [],
   "source": [
    "df['Prices'] = df['Prices'].str.replace('£','',regex=True)\n",
    "df['Prices'] = df['Prices'].str.replace(',','',regex=True)\n",
    "df['Prices'] = df['Prices'].str.replace('SAR','',regex=True)\n",
    "df['Prices'] = df['Prices'].str.strip()\n",
    "df['Prices'] = round(pd.to_numeric(df['Prices'])/3.75,2)"
   ]
  },
  {
   "cell_type": "code",
   "execution_count": 607,
   "metadata": {},
   "outputs": [],
   "source": [
    "duration_hours = []\n",
    "duration_mins = []\n",
    "df['Duration'] = df['Duration'].str.replace('h','',regex=True)\n",
    "df['Duration'] = df['Duration'].str.replace('m','',regex=True)\n",
    "# for i in range(df['Duration']) :\n",
    "#     duration_hours.append(df['Duration'][i].split(sep = \"h\")[0])\n",
    "#     duration_mins.append(df['Duration'][i].split(sep = \"m\")[0].split()[-1])\n",
    "# d = []\n",
    "# for i in range(len(df['Duration'])):\n",
    "#     d.append(duration_hours[i]*60+duration_mins[i])"
   ]
  },
  {
   "cell_type": "code",
   "execution_count": 608,
   "metadata": {},
   "outputs": [],
   "source": [
    "df['Duration_hour'] = df['Duration'].str.split(' ', expand=True).get(0)"
   ]
  },
  {
   "cell_type": "code",
   "execution_count": 609,
   "metadata": {},
   "outputs": [
    {
     "data": {
      "text/plain": [
       "0        13\n",
       "1       NaN\n",
       "2       NaN\n",
       "3       NaN\n",
       "4       NaN\n",
       "       ... \n",
       "1895     13\n",
       "1896     12\n",
       "1897     13\n",
       "1898     12\n",
       "1899     14\n",
       "Name: Duration_hour, Length: 1900, dtype: object"
      ]
     },
     "execution_count": 609,
     "metadata": {},
     "output_type": "execute_result"
    }
   ],
   "source": [
    "df['Duration_hour']"
   ]
  },
  {
   "cell_type": "code",
   "execution_count": 610,
   "metadata": {},
   "outputs": [],
   "source": [
    "df['Duration_min'] = df['Duration'].str.split(' ', expand=True).get(1)"
   ]
  },
  {
   "cell_type": "code",
   "execution_count": 611,
   "metadata": {},
   "outputs": [
    {
     "data": {
      "text/plain": [
       "0        45\n",
       "1       NaN\n",
       "2       NaN\n",
       "3       NaN\n",
       "4       NaN\n",
       "       ... \n",
       "1895     55\n",
       "1896     05\n",
       "1897     55\n",
       "1898     05\n",
       "1899     05\n",
       "Name: Duration_min, Length: 1900, dtype: object"
      ]
     },
     "execution_count": 611,
     "metadata": {},
     "output_type": "execute_result"
    }
   ],
   "source": [
    "df['Duration_min']"
   ]
  },
  {
   "cell_type": "code",
   "execution_count": 612,
   "metadata": {},
   "outputs": [
    {
     "data": {
      "text/plain": [
       "0     45\n",
       "1    NaN\n",
       "2    NaN\n",
       "3    NaN\n",
       "4    NaN\n",
       "Name: Duration_min, dtype: object"
      ]
     },
     "execution_count": 612,
     "metadata": {},
     "output_type": "execute_result"
    }
   ],
   "source": [
    "df['Duration_min'].head()"
   ]
  },
  {
   "cell_type": "code",
   "execution_count": 613,
   "metadata": {},
   "outputs": [],
   "source": [
    "df['Duration']= pd.to_numeric(df['Duration'], errors='coerce')"
   ]
  },
  {
   "cell_type": "code",
   "execution_count": 614,
   "metadata": {},
   "outputs": [
    {
     "data": {
      "text/plain": [
       "dtype('float64')"
      ]
     },
     "execution_count": 614,
     "metadata": {},
     "output_type": "execute_result"
    }
   ],
   "source": [
    "df['Duration'].dtype"
   ]
  },
  {
   "cell_type": "code",
   "execution_count": 615,
   "metadata": {},
   "outputs": [],
   "source": [
    "df['Duration_min']= pd.to_numeric(df['Duration_min'], errors='coerce')"
   ]
  },
  {
   "cell_type": "code",
   "execution_count": 616,
   "metadata": {},
   "outputs": [],
   "source": [
    "df['Duration_hour']= pd.to_numeric(df['Duration_hour'], errors='coerce')"
   ]
  },
  {
   "cell_type": "code",
   "execution_count": 617,
   "metadata": {},
   "outputs": [],
   "source": [
    "# mean_duration_min = df['Duration_min'].mean()\n",
    "df['Duration_min'].fillna(int(df['Duration_min'].mean()), inplace=True)"
   ]
  },
  {
   "cell_type": "code",
   "execution_count": 618,
   "metadata": {},
   "outputs": [
    {
     "data": {
      "text/plain": [
       "0       45.0\n",
       "1       27.0\n",
       "2       27.0\n",
       "3       27.0\n",
       "4       27.0\n",
       "        ... \n",
       "1895    55.0\n",
       "1896     5.0\n",
       "1897    55.0\n",
       "1898     5.0\n",
       "1899     5.0\n",
       "Name: Duration_min, Length: 1900, dtype: float64"
      ]
     },
     "execution_count": 618,
     "metadata": {},
     "output_type": "execute_result"
    }
   ],
   "source": [
    "df['Duration_min']"
   ]
  },
  {
   "cell_type": "code",
   "execution_count": 619,
   "metadata": {},
   "outputs": [],
   "source": [
    "# mean_duration_min = df['Duration_min'].mean()\n",
    "df['Duration_hour'].fillna(int(df['Duration_hour'].mean()), inplace=True)"
   ]
  },
  {
   "cell_type": "code",
   "execution_count": 115,
   "metadata": {},
   "outputs": [],
   "source": [
    "# df['Duration_hour']\n",
    "# seconds = 0\n",
    "# seconds = seconds*(24*3600)\n",
    "# hour = seconds // 3600"
   ]
  },
  {
   "cell_type": "code",
   "execution_count": 620,
   "metadata": {},
   "outputs": [],
   "source": [
    "df['Duration_hour'] = df['Duration_hour']*60"
   ]
  },
  {
   "cell_type": "code",
   "execution_count": 621,
   "metadata": {},
   "outputs": [
    {
     "data": {
      "text/plain": [
       "0       780.0\n",
       "1       780.0\n",
       "2       780.0\n",
       "3       780.0\n",
       "4       780.0\n",
       "        ...  \n",
       "1895    780.0\n",
       "1896    720.0\n",
       "1897    780.0\n",
       "1898    720.0\n",
       "1899    840.0\n",
       "Name: Duration_hour, Length: 1900, dtype: float64"
      ]
     },
     "execution_count": 621,
     "metadata": {},
     "output_type": "execute_result"
    }
   ],
   "source": [
    "df['Duration_hour']"
   ]
  },
  {
   "cell_type": "code",
   "execution_count": 622,
   "metadata": {},
   "outputs": [],
   "source": [
    "df['Duration'] = df['Duration_hour'] + df['Duration_min']"
   ]
  },
  {
   "cell_type": "code",
   "execution_count": 623,
   "metadata": {},
   "outputs": [
    {
     "data": {
      "text/plain": [
       "0       825.0\n",
       "1       807.0\n",
       "2       807.0\n",
       "3       807.0\n",
       "4       807.0\n",
       "        ...  \n",
       "1895    835.0\n",
       "1896    725.0\n",
       "1897    835.0\n",
       "1898    725.0\n",
       "1899    845.0\n",
       "Name: Duration, Length: 1900, dtype: float64"
      ]
     },
     "execution_count": 623,
     "metadata": {},
     "output_type": "execute_result"
    }
   ],
   "source": [
    "df['Duration']"
   ]
  },
  {
   "cell_type": "code",
   "execution_count": 624,
   "metadata": {},
   "outputs": [],
   "source": [
    "df = df.drop(['Duration_hour'], axis=1)"
   ]
  },
  {
   "cell_type": "code",
   "execution_count": 625,
   "metadata": {},
   "outputs": [],
   "source": [
    "df = df.drop(['Duration_min'], axis=1)"
   ]
  },
  {
   "cell_type": "code",
   "execution_count": 626,
   "metadata": {},
   "outputs": [
    {
     "data": {
      "text/html": [
       "<div>\n",
       "<style scoped>\n",
       "    .dataframe tbody tr th:only-of-type {\n",
       "        vertical-align: middle;\n",
       "    }\n",
       "\n",
       "    .dataframe tbody tr th {\n",
       "        vertical-align: top;\n",
       "    }\n",
       "\n",
       "    .dataframe thead th {\n",
       "        text-align: right;\n",
       "    }\n",
       "</style>\n",
       "<table border=\"1\" class=\"dataframe\">\n",
       "  <thead>\n",
       "    <tr style=\"text-align: right;\">\n",
       "      <th></th>\n",
       "      <th>Airline</th>\n",
       "      <th>stops_list</th>\n",
       "      <th>Departure</th>\n",
       "      <th>Prices</th>\n",
       "      <th>Duration</th>\n",
       "      <th>Source</th>\n",
       "      <th>Destination</th>\n",
       "    </tr>\n",
       "  </thead>\n",
       "  <tbody>\n",
       "    <tr>\n",
       "      <th>0</th>\n",
       "      <td>Emirates</td>\n",
       "      <td>1</td>\n",
       "      <td>LGWGatwick-BLRBengaluru Intl</td>\n",
       "      <td>183.20</td>\n",
       "      <td>825.0</td>\n",
       "      <td>NaN</td>\n",
       "      <td>BLRBengaluru Intl</td>\n",
       "    </tr>\n",
       "    <tr>\n",
       "      <th>1</th>\n",
       "      <td>Lufthansa</td>\n",
       "      <td>1</td>\n",
       "      <td>BLRBengaluru Intl-LGWGatwick</td>\n",
       "      <td>167.73</td>\n",
       "      <td>807.0</td>\n",
       "      <td>BLRBengaluru Intl</td>\n",
       "      <td>NaN</td>\n",
       "    </tr>\n",
       "    <tr>\n",
       "      <th>2</th>\n",
       "      <td>Multiple Airlines</td>\n",
       "      <td>1</td>\n",
       "      <td>LHRHeathrow-BLRBengaluru Intl</td>\n",
       "      <td>143.47</td>\n",
       "      <td>807.0</td>\n",
       "      <td>LHRHeathrow</td>\n",
       "      <td>BLRBengaluru Intl</td>\n",
       "    </tr>\n",
       "    <tr>\n",
       "      <th>3</th>\n",
       "      <td>Lufthansa</td>\n",
       "      <td>1</td>\n",
       "      <td>BLRBengaluru Intl-LHRHeathrow</td>\n",
       "      <td>167.73</td>\n",
       "      <td>807.0</td>\n",
       "      <td>BLRBengaluru Intl</td>\n",
       "      <td>LHRHeathrow</td>\n",
       "    </tr>\n",
       "    <tr>\n",
       "      <th>4</th>\n",
       "      <td>Lufthansa</td>\n",
       "      <td>3</td>\n",
       "      <td>STNStansted-BLRBengaluru Intl</td>\n",
       "      <td>167.73</td>\n",
       "      <td>807.0</td>\n",
       "      <td>STNStansted</td>\n",
       "      <td>BLRBengaluru Intl</td>\n",
       "    </tr>\n",
       "    <tr>\n",
       "      <th>...</th>\n",
       "      <td>...</td>\n",
       "      <td>...</td>\n",
       "      <td>...</td>\n",
       "      <td>...</td>\n",
       "      <td>...</td>\n",
       "      <td>...</td>\n",
       "      <td>...</td>\n",
       "    </tr>\n",
       "    <tr>\n",
       "      <th>1895</th>\n",
       "      <td>NaN</td>\n",
       "      <td>1</td>\n",
       "      <td>BLRBengaluru Intl-LHRHeathrow</td>\n",
       "      <td>NaN</td>\n",
       "      <td>835.0</td>\n",
       "      <td>BLRBengaluru Intl</td>\n",
       "      <td>LHRHeathrow</td>\n",
       "    </tr>\n",
       "    <tr>\n",
       "      <th>1896</th>\n",
       "      <td>NaN</td>\n",
       "      <td>1</td>\n",
       "      <td>LHRHeathrow-BLRBengaluru Intl</td>\n",
       "      <td>NaN</td>\n",
       "      <td>725.0</td>\n",
       "      <td>LHRHeathrow</td>\n",
       "      <td>BLRBengaluru Intl</td>\n",
       "    </tr>\n",
       "    <tr>\n",
       "      <th>1897</th>\n",
       "      <td>NaN</td>\n",
       "      <td>1</td>\n",
       "      <td>BLRBengaluru Intl-LHRHeathrow</td>\n",
       "      <td>NaN</td>\n",
       "      <td>835.0</td>\n",
       "      <td>BLRBengaluru Intl</td>\n",
       "      <td>LHRHeathrow</td>\n",
       "    </tr>\n",
       "    <tr>\n",
       "      <th>1898</th>\n",
       "      <td>NaN</td>\n",
       "      <td>1</td>\n",
       "      <td>LHRHeathrow-BLRBengaluru Intl</td>\n",
       "      <td>NaN</td>\n",
       "      <td>725.0</td>\n",
       "      <td>LHRHeathrow</td>\n",
       "      <td>BLRBengaluru Intl</td>\n",
       "    </tr>\n",
       "    <tr>\n",
       "      <th>1899</th>\n",
       "      <td>NaN</td>\n",
       "      <td>1</td>\n",
       "      <td>BLRBengaluru Intl-LGWGatwick</td>\n",
       "      <td>NaN</td>\n",
       "      <td>845.0</td>\n",
       "      <td>BLRBengaluru Intl</td>\n",
       "      <td>LGWGatwick</td>\n",
       "    </tr>\n",
       "  </tbody>\n",
       "</table>\n",
       "<p>1900 rows × 7 columns</p>\n",
       "</div>"
      ],
      "text/plain": [
       "                Airline  stops_list                      Departure  Prices  \\\n",
       "0              Emirates           1   LGWGatwick-BLRBengaluru Intl  183.20   \n",
       "1             Lufthansa           1   BLRBengaluru Intl-LGWGatwick  167.73   \n",
       "2     Multiple Airlines           1  LHRHeathrow-BLRBengaluru Intl  143.47   \n",
       "3             Lufthansa           1  BLRBengaluru Intl-LHRHeathrow  167.73   \n",
       "4             Lufthansa           3  STNStansted-BLRBengaluru Intl  167.73   \n",
       "...                 ...         ...                            ...     ...   \n",
       "1895                NaN           1  BLRBengaluru Intl-LHRHeathrow     NaN   \n",
       "1896                NaN           1  LHRHeathrow-BLRBengaluru Intl     NaN   \n",
       "1897                NaN           1  BLRBengaluru Intl-LHRHeathrow     NaN   \n",
       "1898                NaN           1  LHRHeathrow-BLRBengaluru Intl     NaN   \n",
       "1899                NaN           1   BLRBengaluru Intl-LGWGatwick     NaN   \n",
       "\n",
       "      Duration             Source        Destination  \n",
       "0        825.0                NaN  BLRBengaluru Intl  \n",
       "1        807.0  BLRBengaluru Intl                NaN  \n",
       "2        807.0        LHRHeathrow  BLRBengaluru Intl  \n",
       "3        807.0  BLRBengaluru Intl        LHRHeathrow  \n",
       "4        807.0        STNStansted  BLRBengaluru Intl  \n",
       "...        ...                ...                ...  \n",
       "1895     835.0  BLRBengaluru Intl        LHRHeathrow  \n",
       "1896     725.0        LHRHeathrow  BLRBengaluru Intl  \n",
       "1897     835.0  BLRBengaluru Intl        LHRHeathrow  \n",
       "1898     725.0        LHRHeathrow  BLRBengaluru Intl  \n",
       "1899     845.0  BLRBengaluru Intl         LGWGatwick  \n",
       "\n",
       "[1900 rows x 7 columns]"
      ]
     },
     "execution_count": 626,
     "metadata": {},
     "output_type": "execute_result"
    }
   ],
   "source": [
    "df"
   ]
  },
  {
   "cell_type": "code",
   "execution_count": 627,
   "metadata": {},
   "outputs": [
    {
     "name": "stdout",
     "output_type": "stream",
     "text": [
      "<class 'pandas.core.frame.DataFrame'>\n",
      "RangeIndex: 1900 entries, 0 to 1899\n",
      "Data columns (total 7 columns):\n",
      " #   Column       Non-Null Count  Dtype  \n",
      "---  ------       --------------  -----  \n",
      " 0   Airline      952 non-null    object \n",
      " 1   stops_list   1900 non-null   int64  \n",
      " 2   Departure    1900 non-null   object \n",
      " 3   Prices       952 non-null    float64\n",
      " 4   Duration     1900 non-null   float64\n",
      " 5   Source       1899 non-null   object \n",
      " 6   Destination  1899 non-null   object \n",
      "dtypes: float64(2), int64(1), object(4)\n",
      "memory usage: 104.0+ KB\n"
     ]
    }
   ],
   "source": [
    "df.info()"
   ]
  },
  {
   "cell_type": "code",
   "execution_count": 628,
   "metadata": {},
   "outputs": [
    {
     "data": {
      "text/plain": [
       "948"
      ]
     },
     "execution_count": 628,
     "metadata": {},
     "output_type": "execute_result"
    }
   ],
   "source": [
    "df['Airline'].isnull().sum()"
   ]
  },
  {
   "cell_type": "code",
   "execution_count": 629,
   "metadata": {},
   "outputs": [
    {
     "data": {
      "text/html": [
       "<div>\n",
       "<style scoped>\n",
       "    .dataframe tbody tr th:only-of-type {\n",
       "        vertical-align: middle;\n",
       "    }\n",
       "\n",
       "    .dataframe tbody tr th {\n",
       "        vertical-align: top;\n",
       "    }\n",
       "\n",
       "    .dataframe thead th {\n",
       "        text-align: right;\n",
       "    }\n",
       "</style>\n",
       "<table border=\"1\" class=\"dataframe\">\n",
       "  <thead>\n",
       "    <tr style=\"text-align: right;\">\n",
       "      <th></th>\n",
       "      <th>Airline</th>\n",
       "      <th>stops_list</th>\n",
       "      <th>Departure</th>\n",
       "      <th>Prices</th>\n",
       "      <th>Duration</th>\n",
       "      <th>Source</th>\n",
       "      <th>Destination</th>\n",
       "    </tr>\n",
       "  </thead>\n",
       "  <tbody>\n",
       "    <tr>\n",
       "      <th>0</th>\n",
       "      <td>Emirates</td>\n",
       "      <td>1</td>\n",
       "      <td>LGWGatwick-BLRBengaluru Intl</td>\n",
       "      <td>183.20</td>\n",
       "      <td>825.0</td>\n",
       "      <td>NaN</td>\n",
       "      <td>BLRBengaluru Intl</td>\n",
       "    </tr>\n",
       "    <tr>\n",
       "      <th>1</th>\n",
       "      <td>Lufthansa</td>\n",
       "      <td>1</td>\n",
       "      <td>BLRBengaluru Intl-LGWGatwick</td>\n",
       "      <td>167.73</td>\n",
       "      <td>807.0</td>\n",
       "      <td>BLRBengaluru Intl</td>\n",
       "      <td>NaN</td>\n",
       "    </tr>\n",
       "    <tr>\n",
       "      <th>2</th>\n",
       "      <td>Multiple Airlines</td>\n",
       "      <td>1</td>\n",
       "      <td>LHRHeathrow-BLRBengaluru Intl</td>\n",
       "      <td>143.47</td>\n",
       "      <td>807.0</td>\n",
       "      <td>LHRHeathrow</td>\n",
       "      <td>BLRBengaluru Intl</td>\n",
       "    </tr>\n",
       "    <tr>\n",
       "      <th>3</th>\n",
       "      <td>Lufthansa</td>\n",
       "      <td>1</td>\n",
       "      <td>BLRBengaluru Intl-LHRHeathrow</td>\n",
       "      <td>167.73</td>\n",
       "      <td>807.0</td>\n",
       "      <td>BLRBengaluru Intl</td>\n",
       "      <td>LHRHeathrow</td>\n",
       "    </tr>\n",
       "    <tr>\n",
       "      <th>4</th>\n",
       "      <td>Lufthansa</td>\n",
       "      <td>3</td>\n",
       "      <td>STNStansted-BLRBengaluru Intl</td>\n",
       "      <td>167.73</td>\n",
       "      <td>807.0</td>\n",
       "      <td>STNStansted</td>\n",
       "      <td>BLRBengaluru Intl</td>\n",
       "    </tr>\n",
       "    <tr>\n",
       "      <th>...</th>\n",
       "      <td>...</td>\n",
       "      <td>...</td>\n",
       "      <td>...</td>\n",
       "      <td>...</td>\n",
       "      <td>...</td>\n",
       "      <td>...</td>\n",
       "      <td>...</td>\n",
       "    </tr>\n",
       "    <tr>\n",
       "      <th>1895</th>\n",
       "      <td>NaN</td>\n",
       "      <td>1</td>\n",
       "      <td>BLRBengaluru Intl-LHRHeathrow</td>\n",
       "      <td>NaN</td>\n",
       "      <td>835.0</td>\n",
       "      <td>BLRBengaluru Intl</td>\n",
       "      <td>LHRHeathrow</td>\n",
       "    </tr>\n",
       "    <tr>\n",
       "      <th>1896</th>\n",
       "      <td>NaN</td>\n",
       "      <td>1</td>\n",
       "      <td>LHRHeathrow-BLRBengaluru Intl</td>\n",
       "      <td>NaN</td>\n",
       "      <td>725.0</td>\n",
       "      <td>LHRHeathrow</td>\n",
       "      <td>BLRBengaluru Intl</td>\n",
       "    </tr>\n",
       "    <tr>\n",
       "      <th>1897</th>\n",
       "      <td>NaN</td>\n",
       "      <td>1</td>\n",
       "      <td>BLRBengaluru Intl-LHRHeathrow</td>\n",
       "      <td>NaN</td>\n",
       "      <td>835.0</td>\n",
       "      <td>BLRBengaluru Intl</td>\n",
       "      <td>LHRHeathrow</td>\n",
       "    </tr>\n",
       "    <tr>\n",
       "      <th>1898</th>\n",
       "      <td>NaN</td>\n",
       "      <td>1</td>\n",
       "      <td>LHRHeathrow-BLRBengaluru Intl</td>\n",
       "      <td>NaN</td>\n",
       "      <td>725.0</td>\n",
       "      <td>LHRHeathrow</td>\n",
       "      <td>BLRBengaluru Intl</td>\n",
       "    </tr>\n",
       "    <tr>\n",
       "      <th>1899</th>\n",
       "      <td>NaN</td>\n",
       "      <td>1</td>\n",
       "      <td>BLRBengaluru Intl-LGWGatwick</td>\n",
       "      <td>NaN</td>\n",
       "      <td>845.0</td>\n",
       "      <td>BLRBengaluru Intl</td>\n",
       "      <td>LGWGatwick</td>\n",
       "    </tr>\n",
       "  </tbody>\n",
       "</table>\n",
       "<p>1900 rows × 7 columns</p>\n",
       "</div>"
      ],
      "text/plain": [
       "                Airline  stops_list                      Departure  Prices  \\\n",
       "0              Emirates           1   LGWGatwick-BLRBengaluru Intl  183.20   \n",
       "1             Lufthansa           1   BLRBengaluru Intl-LGWGatwick  167.73   \n",
       "2     Multiple Airlines           1  LHRHeathrow-BLRBengaluru Intl  143.47   \n",
       "3             Lufthansa           1  BLRBengaluru Intl-LHRHeathrow  167.73   \n",
       "4             Lufthansa           3  STNStansted-BLRBengaluru Intl  167.73   \n",
       "...                 ...         ...                            ...     ...   \n",
       "1895                NaN           1  BLRBengaluru Intl-LHRHeathrow     NaN   \n",
       "1896                NaN           1  LHRHeathrow-BLRBengaluru Intl     NaN   \n",
       "1897                NaN           1  BLRBengaluru Intl-LHRHeathrow     NaN   \n",
       "1898                NaN           1  LHRHeathrow-BLRBengaluru Intl     NaN   \n",
       "1899                NaN           1   BLRBengaluru Intl-LGWGatwick     NaN   \n",
       "\n",
       "      Duration             Source        Destination  \n",
       "0        825.0                NaN  BLRBengaluru Intl  \n",
       "1        807.0  BLRBengaluru Intl                NaN  \n",
       "2        807.0        LHRHeathrow  BLRBengaluru Intl  \n",
       "3        807.0  BLRBengaluru Intl        LHRHeathrow  \n",
       "4        807.0        STNStansted  BLRBengaluru Intl  \n",
       "...        ...                ...                ...  \n",
       "1895     835.0  BLRBengaluru Intl        LHRHeathrow  \n",
       "1896     725.0        LHRHeathrow  BLRBengaluru Intl  \n",
       "1897     835.0  BLRBengaluru Intl        LHRHeathrow  \n",
       "1898     725.0        LHRHeathrow  BLRBengaluru Intl  \n",
       "1899     845.0  BLRBengaluru Intl         LGWGatwick  \n",
       "\n",
       "[1900 rows x 7 columns]"
      ]
     },
     "execution_count": 629,
     "metadata": {},
     "output_type": "execute_result"
    }
   ],
   "source": [
    "df"
   ]
  },
  {
   "cell_type": "code",
   "execution_count": 630,
   "metadata": {},
   "outputs": [],
   "source": [
    "\n",
    "# get price quantile to deal with outliers\n",
    "# def get_price_quantile(price):\n",
    "Q1 = df['Prices'].quantile(0.25)\n",
    "Q3 = df['Prices'].quantile(0.75)\n",
    "IQR = Q3 - Q1\n",
    "lower_lim = Q1 - 1.5 * IQR\n",
    "upper_lim = Q3 + 1.5 * IQR\n",
    "# get_price_quantile = (lower_lim, upper_lim)\n",
    "# return (lower_lim,upper_lim)"
   ]
  },
  {
   "cell_type": "code",
   "execution_count": 631,
   "metadata": {},
   "outputs": [],
   "source": [
    "quantile = upper_lim, lower_lim"
   ]
  },
  {
   "cell_type": "code",
   "execution_count": 632,
   "metadata": {},
   "outputs": [
    {
     "data": {
      "text/plain": [
       "178.8"
      ]
     },
     "execution_count": 632,
     "metadata": {},
     "output_type": "execute_result"
    }
   ],
   "source": [
    "upper_lim"
   ]
  },
  {
   "cell_type": "code",
   "execution_count": 633,
   "metadata": {},
   "outputs": [
    {
     "name": "stdout",
     "output_type": "stream",
     "text": [
      "<class 'pandas.core.frame.DataFrame'>\n",
      "RangeIndex: 1900 entries, 0 to 1899\n",
      "Data columns (total 7 columns):\n",
      " #   Column       Non-Null Count  Dtype  \n",
      "---  ------       --------------  -----  \n",
      " 0   Airline      952 non-null    object \n",
      " 1   stops_list   1900 non-null   int64  \n",
      " 2   Departure    1900 non-null   object \n",
      " 3   Prices       952 non-null    float64\n",
      " 4   Duration     1900 non-null   float64\n",
      " 5   Source       1899 non-null   object \n",
      " 6   Destination  1899 non-null   object \n",
      "dtypes: float64(2), int64(1), object(4)\n",
      "memory usage: 104.0+ KB\n"
     ]
    }
   ],
   "source": [
    "df.info()"
   ]
  },
  {
   "cell_type": "code",
   "execution_count": 634,
   "metadata": {},
   "outputs": [],
   "source": [
    "df['Prices']= pd.to_numeric(df['Prices'], errors='coerce')"
   ]
  },
  {
   "cell_type": "code",
   "execution_count": 635,
   "metadata": {},
   "outputs": [],
   "source": [
    "df['Prices']= df['Prices'].fillna(float(df['Prices'].mean()))"
   ]
  },
  {
   "cell_type": "code",
   "execution_count": 636,
   "metadata": {},
   "outputs": [
    {
     "name": "stdout",
     "output_type": "stream",
     "text": [
      "0       183.200000\n",
      "1       167.730000\n",
      "2       143.470000\n",
      "3       167.730000\n",
      "4       167.730000\n",
      "           ...    \n",
      "1895    169.050525\n",
      "1896    169.050525\n",
      "1897    169.050525\n",
      "1898    169.050525\n",
      "1899    169.050525\n",
      "Name: Prices, Length: 1900, dtype: float64\n"
     ]
    }
   ],
   "source": [
    "df['Prices'].fillna(float(df['Prices'].mean()))\n",
    "print(df['Prices'])"
   ]
  },
  {
   "cell_type": "code",
   "execution_count": 637,
   "metadata": {},
   "outputs": [
    {
     "data": {
      "text/plain": [
       "169.05052521008196"
      ]
     },
     "execution_count": 637,
     "metadata": {},
     "output_type": "execute_result"
    }
   ],
   "source": [
    "\n",
    "df['Prices'].mean()"
   ]
  },
  {
   "cell_type": "code",
   "execution_count": 638,
   "metadata": {},
   "outputs": [
    {
     "data": {
      "text/plain": [
       "0       183.200000\n",
       "1       167.730000\n",
       "2       143.470000\n",
       "3       167.730000\n",
       "4       167.730000\n",
       "           ...    \n",
       "1895    169.050525\n",
       "1896    169.050525\n",
       "1897    169.050525\n",
       "1898    169.050525\n",
       "1899    169.050525\n",
       "Name: Prices, Length: 1900, dtype: float64"
      ]
     },
     "execution_count": 638,
     "metadata": {},
     "output_type": "execute_result"
    }
   ],
   "source": [
    "df['Prices']"
   ]
  },
  {
   "cell_type": "code",
   "execution_count": 639,
   "metadata": {},
   "outputs": [
    {
     "data": {
      "text/plain": [
       "Airline        948\n",
       "stops_list       0\n",
       "Departure        0\n",
       "Prices           0\n",
       "Duration         0\n",
       "Source           1\n",
       "Destination      1\n",
       "dtype: int64"
      ]
     },
     "execution_count": 639,
     "metadata": {},
     "output_type": "execute_result"
    }
   ],
   "source": [
    "df.isnull().sum()"
   ]
  },
  {
   "cell_type": "code",
   "execution_count": 558,
   "metadata": {},
   "outputs": [],
   "source": [
    "# the Airline column will be replaced by the average price per airline.\n",
    "# df.drop(\"Airline\", axis = 1, inplace = True)"
   ]
  },
  {
   "cell_type": "code",
   "execution_count": 640,
   "metadata": {},
   "outputs": [
    {
     "name": "stdout",
     "output_type": "stream",
     "text": [
      "<class 'pandas.core.frame.DataFrame'>\n",
      "RangeIndex: 1900 entries, 0 to 1899\n",
      "Data columns (total 7 columns):\n",
      " #   Column       Non-Null Count  Dtype  \n",
      "---  ------       --------------  -----  \n",
      " 0   Airline      952 non-null    object \n",
      " 1   stops_list   1900 non-null   int64  \n",
      " 2   Departure    1900 non-null   object \n",
      " 3   Prices       1900 non-null   float64\n",
      " 4   Duration     1900 non-null   float64\n",
      " 5   Source       1899 non-null   object \n",
      " 6   Destination  1899 non-null   object \n",
      "dtypes: float64(2), int64(1), object(4)\n",
      "memory usage: 104.0+ KB\n"
     ]
    }
   ],
   "source": [
    "df.info()"
   ]
  },
  {
   "cell_type": "code",
   "execution_count": 641,
   "metadata": {},
   "outputs": [
    {
     "data": {
      "text/plain": [
       "BLRBengaluru Intl    950\n",
       "LHRHeathrow          787\n",
       "STNStansted          137\n",
       "LCYLondon City        25\n",
       "Name: Source, dtype: int64"
      ]
     },
     "execution_count": 641,
     "metadata": {},
     "output_type": "execute_result"
    }
   ],
   "source": [
    "# source\n",
    "df[\"Source\"].value_counts()"
   ]
  },
  {
   "cell_type": "code",
   "execution_count": 642,
   "metadata": {},
   "outputs": [
    {
     "data": {
      "text/plain": [
       "<seaborn.axisgrid.FacetGrid at 0x29052f4f0>"
      ]
     },
     "execution_count": 642,
     "metadata": {},
     "output_type": "execute_result"
    },
    {
     "data": {
      "image/png": "[encoded data removed]",
      "text/plain": [
       "<Figure size 1296x432 with 1 Axes>"
      ]
     },
     "metadata": {},
     "output_type": "display_data"
    }
   ],
   "source": [
    "# source vs price\n",
    "sns.catplot(y = \"Prices\", x= \"Source\", data = df.sort_values(\"Prices\", ascending = False), kind=\"boxen\", height = 6, aspect = 3)"
   ]
  },
  {
   "cell_type": "code",
   "execution_count": 643,
   "metadata": {},
   "outputs": [
    {
     "data": {
      "text/html": [
       "<div>\n",
       "<style scoped>\n",
       "    .dataframe tbody tr th:only-of-type {\n",
       "        vertical-align: middle;\n",
       "    }\n",
       "\n",
       "    .dataframe tbody tr th {\n",
       "        vertical-align: top;\n",
       "    }\n",
       "\n",
       "    .dataframe thead th {\n",
       "        text-align: right;\n",
       "    }\n",
       "</style>\n",
       "<table border=\"1\" class=\"dataframe\">\n",
       "  <thead>\n",
       "    <tr style=\"text-align: right;\">\n",
       "      <th></th>\n",
       "      <th>Source_LCYLondon City</th>\n",
       "      <th>Source_LHRHeathrow</th>\n",
       "      <th>Source_STNStansted</th>\n",
       "    </tr>\n",
       "  </thead>\n",
       "  <tbody>\n",
       "    <tr>\n",
       "      <th>0</th>\n",
       "      <td>0</td>\n",
       "      <td>0</td>\n",
       "      <td>0</td>\n",
       "    </tr>\n",
       "    <tr>\n",
       "      <th>1</th>\n",
       "      <td>0</td>\n",
       "      <td>0</td>\n",
       "      <td>0</td>\n",
       "    </tr>\n",
       "    <tr>\n",
       "      <th>2</th>\n",
       "      <td>0</td>\n",
       "      <td>1</td>\n",
       "      <td>0</td>\n",
       "    </tr>\n",
       "    <tr>\n",
       "      <th>3</th>\n",
       "      <td>0</td>\n",
       "      <td>0</td>\n",
       "      <td>0</td>\n",
       "    </tr>\n",
       "    <tr>\n",
       "      <th>4</th>\n",
       "      <td>0</td>\n",
       "      <td>0</td>\n",
       "      <td>1</td>\n",
       "    </tr>\n",
       "  </tbody>\n",
       "</table>\n",
       "</div>"
      ],
      "text/plain": [
       "   Source_LCYLondon City  Source_LHRHeathrow  Source_STNStansted\n",
       "0                      0                   0                   0\n",
       "1                      0                   0                   0\n",
       "2                      0                   1                   0\n",
       "3                      0                   0                   0\n",
       "4                      0                   0                   1"
      ]
     },
     "execution_count": 643,
     "metadata": {},
     "output_type": "execute_result"
    }
   ],
   "source": [
    "# performing OneHotEncoding on Source since it's nominal categorical data  \n",
    "source =df[[\"Source\"]]\n",
    "source =pd.get_dummies(source, drop_first=True)\n",
    "source.head()"
   ]
  },
  {
   "cell_type": "code",
   "execution_count": 644,
   "metadata": {},
   "outputs": [
    {
     "data": {
      "text/plain": [
       "BLRBengaluru Intl    950\n",
       "LHRHeathrow          444\n",
       "LGWGatwick           423\n",
       "STNStansted           82\n",
       "Name: Destination, dtype: int64"
      ]
     },
     "execution_count": 644,
     "metadata": {},
     "output_type": "execute_result"
    }
   ],
   "source": [
    "# destination\n",
    "df[\"Destination\"].value_counts()"
   ]
  },
  {
   "cell_type": "code",
   "execution_count": 645,
   "metadata": {},
   "outputs": [
    {
     "data": {
      "text/plain": [
       "<seaborn.axisgrid.FacetGrid at 0x290117f40>"
      ]
     },
     "execution_count": 645,
     "metadata": {},
     "output_type": "execute_result"
    },
    {
     "data": {
      "image/png": "[encoded data removed]",
      "text/plain": [
       "<Figure size 1296x432 with 1 Axes>"
      ]
     },
     "metadata": {},
     "output_type": "display_data"
    }
   ],
   "source": [
    "# destination vs price\n",
    "sns.catplot(y = \"Prices\", x= \"Destination\", data = df.sort_values(\"Prices\", ascending = False), kind=\"boxen\", height = 6, aspect = 3)"
   ]
  },
  {
   "cell_type": "code",
   "execution_count": 646,
   "metadata": {},
   "outputs": [
    {
     "data": {
      "text/html": [
       "<div>\n",
       "<style scoped>\n",
       "    .dataframe tbody tr th:only-of-type {\n",
       "        vertical-align: middle;\n",
       "    }\n",
       "\n",
       "    .dataframe tbody tr th {\n",
       "        vertical-align: top;\n",
       "    }\n",
       "\n",
       "    .dataframe thead th {\n",
       "        text-align: right;\n",
       "    }\n",
       "</style>\n",
       "<table border=\"1\" class=\"dataframe\">\n",
       "  <thead>\n",
       "    <tr style=\"text-align: right;\">\n",
       "      <th></th>\n",
       "      <th>Destination_LGWGatwick</th>\n",
       "      <th>Destination_LHRHeathrow</th>\n",
       "      <th>Destination_STNStansted</th>\n",
       "    </tr>\n",
       "  </thead>\n",
       "  <tbody>\n",
       "    <tr>\n",
       "      <th>0</th>\n",
       "      <td>0</td>\n",
       "      <td>0</td>\n",
       "      <td>0</td>\n",
       "    </tr>\n",
       "    <tr>\n",
       "      <th>1</th>\n",
       "      <td>0</td>\n",
       "      <td>0</td>\n",
       "      <td>0</td>\n",
       "    </tr>\n",
       "    <tr>\n",
       "      <th>2</th>\n",
       "      <td>0</td>\n",
       "      <td>0</td>\n",
       "      <td>0</td>\n",
       "    </tr>\n",
       "    <tr>\n",
       "      <th>3</th>\n",
       "      <td>0</td>\n",
       "      <td>1</td>\n",
       "      <td>0</td>\n",
       "    </tr>\n",
       "    <tr>\n",
       "      <th>4</th>\n",
       "      <td>0</td>\n",
       "      <td>0</td>\n",
       "      <td>0</td>\n",
       "    </tr>\n",
       "  </tbody>\n",
       "</table>\n",
       "</div>"
      ],
      "text/plain": [
       "   Destination_LGWGatwick  Destination_LHRHeathrow  Destination_STNStansted\n",
       "0                       0                        0                        0\n",
       "1                       0                        0                        0\n",
       "2                       0                        0                        0\n",
       "3                       0                        1                        0\n",
       "4                       0                        0                        0"
      ]
     },
     "execution_count": 646,
     "metadata": {},
     "output_type": "execute_result"
    }
   ],
   "source": [
    "# performing OneHotEncoding on Destination since it's nominal categorical data\n",
    "destination = df[[\"Destination\"]]\n",
    "destination = pd.get_dummies(destination, drop_first=True)\n",
    "destination.head()"
   ]
  },
  {
   "cell_type": "code",
   "execution_count": 647,
   "metadata": {},
   "outputs": [
    {
     "name": "stdout",
     "output_type": "stream",
     "text": [
      "1    1788\n",
      "3     112\n",
      "Name: stops_list, dtype: int64\n"
     ]
    },
    {
     "data": {
      "text/plain": [
       "array([1, 3])"
      ]
     },
     "execution_count": 647,
     "metadata": {},
     "output_type": "execute_result"
    }
   ],
   "source": [
    "# total stops\n",
    "print(df[\"stops_list\"].value_counts())\n",
    "df[\"stops_list\"].unique()"
   ]
  },
  {
   "cell_type": "code",
   "execution_count": 648,
   "metadata": {},
   "outputs": [],
   "source": [
    "# performing LabelEncoder on Total stops since it's ordinal categorical data\n",
    "df.replace({ \"1 stop \": 1,  \"3 stops \":3}, inplace=True)"
   ]
  },
  {
   "cell_type": "code",
   "execution_count": 649,
   "metadata": {},
   "outputs": [],
   "source": [
    "final_df = pd.concat([df,source,destination], axis=1).reset_index(drop = True)"
   ]
  },
  {
   "cell_type": "code",
   "execution_count": 650,
   "metadata": {},
   "outputs": [
    {
     "data": {
      "text/html": [
       "<div>\n",
       "<style scoped>\n",
       "    .dataframe tbody tr th:only-of-type {\n",
       "        vertical-align: middle;\n",
       "    }\n",
       "\n",
       "    .dataframe tbody tr th {\n",
       "        vertical-align: top;\n",
       "    }\n",
       "\n",
       "    .dataframe thead th {\n",
       "        text-align: right;\n",
       "    }\n",
       "</style>\n",
       "<table border=\"1\" class=\"dataframe\">\n",
       "  <thead>\n",
       "    <tr style=\"text-align: right;\">\n",
       "      <th></th>\n",
       "      <th>Airline</th>\n",
       "      <th>stops_list</th>\n",
       "      <th>Departure</th>\n",
       "      <th>Prices</th>\n",
       "      <th>Duration</th>\n",
       "      <th>Source</th>\n",
       "      <th>Destination</th>\n",
       "      <th>Source_LCYLondon City</th>\n",
       "      <th>Source_LHRHeathrow</th>\n",
       "      <th>Source_STNStansted</th>\n",
       "      <th>Destination_LGWGatwick</th>\n",
       "      <th>Destination_LHRHeathrow</th>\n",
       "      <th>Destination_STNStansted</th>\n",
       "    </tr>\n",
       "  </thead>\n",
       "  <tbody>\n",
       "    <tr>\n",
       "      <th>0</th>\n",
       "      <td>Emirates</td>\n",
       "      <td>1</td>\n",
       "      <td>LGWGatwick-BLRBengaluru Intl</td>\n",
       "      <td>183.200000</td>\n",
       "      <td>825.0</td>\n",
       "      <td>NaN</td>\n",
       "      <td>BLRBengaluru Intl</td>\n",
       "      <td>0</td>\n",
       "      <td>0</td>\n",
       "      <td>0</td>\n",
       "      <td>0</td>\n",
       "      <td>0</td>\n",
       "      <td>0</td>\n",
       "    </tr>\n",
       "    <tr>\n",
       "      <th>1</th>\n",
       "      <td>Lufthansa</td>\n",
       "      <td>1</td>\n",
       "      <td>BLRBengaluru Intl-LGWGatwick</td>\n",
       "      <td>167.730000</td>\n",
       "      <td>807.0</td>\n",
       "      <td>BLRBengaluru Intl</td>\n",
       "      <td>NaN</td>\n",
       "      <td>0</td>\n",
       "      <td>0</td>\n",
       "      <td>0</td>\n",
       "      <td>0</td>\n",
       "      <td>0</td>\n",
       "      <td>0</td>\n",
       "    </tr>\n",
       "    <tr>\n",
       "      <th>2</th>\n",
       "      <td>Multiple Airlines</td>\n",
       "      <td>1</td>\n",
       "      <td>LHRHeathrow-BLRBengaluru Intl</td>\n",
       "      <td>143.470000</td>\n",
       "      <td>807.0</td>\n",
       "      <td>LHRHeathrow</td>\n",
       "      <td>BLRBengaluru Intl</td>\n",
       "      <td>0</td>\n",
       "      <td>1</td>\n",
       "      <td>0</td>\n",
       "      <td>0</td>\n",
       "      <td>0</td>\n",
       "      <td>0</td>\n",
       "    </tr>\n",
       "    <tr>\n",
       "      <th>3</th>\n",
       "      <td>Lufthansa</td>\n",
       "      <td>1</td>\n",
       "      <td>BLRBengaluru Intl-LHRHeathrow</td>\n",
       "      <td>167.730000</td>\n",
       "      <td>807.0</td>\n",
       "      <td>BLRBengaluru Intl</td>\n",
       "      <td>LHRHeathrow</td>\n",
       "      <td>0</td>\n",
       "      <td>0</td>\n",
       "      <td>0</td>\n",
       "      <td>0</td>\n",
       "      <td>1</td>\n",
       "      <td>0</td>\n",
       "    </tr>\n",
       "    <tr>\n",
       "      <th>4</th>\n",
       "      <td>Lufthansa</td>\n",
       "      <td>3</td>\n",
       "      <td>STNStansted-BLRBengaluru Intl</td>\n",
       "      <td>167.730000</td>\n",
       "      <td>807.0</td>\n",
       "      <td>STNStansted</td>\n",
       "      <td>BLRBengaluru Intl</td>\n",
       "      <td>0</td>\n",
       "      <td>0</td>\n",
       "      <td>1</td>\n",
       "      <td>0</td>\n",
       "      <td>0</td>\n",
       "      <td>0</td>\n",
       "    </tr>\n",
       "    <tr>\n",
       "      <th>...</th>\n",
       "      <td>...</td>\n",
       "      <td>...</td>\n",
       "      <td>...</td>\n",
       "      <td>...</td>\n",
       "      <td>...</td>\n",
       "      <td>...</td>\n",
       "      <td>...</td>\n",
       "      <td>...</td>\n",
       "      <td>...</td>\n",
       "      <td>...</td>\n",
       "      <td>...</td>\n",
       "      <td>...</td>\n",
       "      <td>...</td>\n",
       "    </tr>\n",
       "    <tr>\n",
       "      <th>1895</th>\n",
       "      <td>NaN</td>\n",
       "      <td>1</td>\n",
       "      <td>BLRBengaluru Intl-LHRHeathrow</td>\n",
       "      <td>169.050525</td>\n",
       "      <td>835.0</td>\n",
       "      <td>BLRBengaluru Intl</td>\n",
       "      <td>LHRHeathrow</td>\n",
       "      <td>0</td>\n",
       "      <td>0</td>\n",
       "      <td>0</td>\n",
       "      <td>0</td>\n",
       "      <td>1</td>\n",
       "      <td>0</td>\n",
       "    </tr>\n",
       "    <tr>\n",
       "      <th>1896</th>\n",
       "      <td>NaN</td>\n",
       "      <td>1</td>\n",
       "      <td>LHRHeathrow-BLRBengaluru Intl</td>\n",
       "      <td>169.050525</td>\n",
       "      <td>725.0</td>\n",
       "      <td>LHRHeathrow</td>\n",
       "      <td>BLRBengaluru Intl</td>\n",
       "      <td>0</td>\n",
       "      <td>1</td>\n",
       "      <td>0</td>\n",
       "      <td>0</td>\n",
       "      <td>0</td>\n",
       "      <td>0</td>\n",
       "    </tr>\n",
       "    <tr>\n",
       "      <th>1897</th>\n",
       "      <td>NaN</td>\n",
       "      <td>1</td>\n",
       "      <td>BLRBengaluru Intl-LHRHeathrow</td>\n",
       "      <td>169.050525</td>\n",
       "      <td>835.0</td>\n",
       "      <td>BLRBengaluru Intl</td>\n",
       "      <td>LHRHeathrow</td>\n",
       "      <td>0</td>\n",
       "      <td>0</td>\n",
       "      <td>0</td>\n",
       "      <td>0</td>\n",
       "      <td>1</td>\n",
       "      <td>0</td>\n",
       "    </tr>\n",
       "    <tr>\n",
       "      <th>1898</th>\n",
       "      <td>NaN</td>\n",
       "      <td>1</td>\n",
       "      <td>LHRHeathrow-BLRBengaluru Intl</td>\n",
       "      <td>169.050525</td>\n",
       "      <td>725.0</td>\n",
       "      <td>LHRHeathrow</td>\n",
       "      <td>BLRBengaluru Intl</td>\n",
       "      <td>0</td>\n",
       "      <td>1</td>\n",
       "      <td>0</td>\n",
       "      <td>0</td>\n",
       "      <td>0</td>\n",
       "      <td>0</td>\n",
       "    </tr>\n",
       "    <tr>\n",
       "      <th>1899</th>\n",
       "      <td>NaN</td>\n",
       "      <td>1</td>\n",
       "      <td>BLRBengaluru Intl-LGWGatwick</td>\n",
       "      <td>169.050525</td>\n",
       "      <td>845.0</td>\n",
       "      <td>BLRBengaluru Intl</td>\n",
       "      <td>LGWGatwick</td>\n",
       "      <td>0</td>\n",
       "      <td>0</td>\n",
       "      <td>0</td>\n",
       "      <td>1</td>\n",
       "      <td>0</td>\n",
       "      <td>0</td>\n",
       "    </tr>\n",
       "  </tbody>\n",
       "</table>\n",
       "<p>1900 rows × 13 columns</p>\n",
       "</div>"
      ],
      "text/plain": [
       "                Airline  stops_list                      Departure  \\\n",
       "0              Emirates           1   LGWGatwick-BLRBengaluru Intl   \n",
       "1             Lufthansa           1   BLRBengaluru Intl-LGWGatwick   \n",
       "2     Multiple Airlines           1  LHRHeathrow-BLRBengaluru Intl   \n",
       "3             Lufthansa           1  BLRBengaluru Intl-LHRHeathrow   \n",
       "4             Lufthansa           3  STNStansted-BLRBengaluru Intl   \n",
       "...                 ...         ...                            ...   \n",
       "1895                NaN           1  BLRBengaluru Intl-LHRHeathrow   \n",
       "1896                NaN           1  LHRHeathrow-BLRBengaluru Intl   \n",
       "1897                NaN           1  BLRBengaluru Intl-LHRHeathrow   \n",
       "1898                NaN           1  LHRHeathrow-BLRBengaluru Intl   \n",
       "1899                NaN           1   BLRBengaluru Intl-LGWGatwick   \n",
       "\n",
       "          Prices  Duration             Source        Destination  \\\n",
       "0     183.200000     825.0                NaN  BLRBengaluru Intl   \n",
       "1     167.730000     807.0  BLRBengaluru Intl                NaN   \n",
       "2     143.470000     807.0        LHRHeathrow  BLRBengaluru Intl   \n",
       "3     167.730000     807.0  BLRBengaluru Intl        LHRHeathrow   \n",
       "4     167.730000     807.0        STNStansted  BLRBengaluru Intl   \n",
       "...          ...       ...                ...                ...   \n",
       "1895  169.050525     835.0  BLRBengaluru Intl        LHRHeathrow   \n",
       "1896  169.050525     725.0        LHRHeathrow  BLRBengaluru Intl   \n",
       "1897  169.050525     835.0  BLRBengaluru Intl        LHRHeathrow   \n",
       "1898  169.050525     725.0        LHRHeathrow  BLRBengaluru Intl   \n",
       "1899  169.050525     845.0  BLRBengaluru Intl         LGWGatwick   \n",
       "\n",
       "      Source_LCYLondon City  Source_LHRHeathrow  Source_STNStansted  \\\n",
       "0                         0                   0                   0   \n",
       "1                         0                   0                   0   \n",
       "2                         0                   1                   0   \n",
       "3                         0                   0                   0   \n",
       "4                         0                   0                   1   \n",
       "...                     ...                 ...                 ...   \n",
       "1895                      0                   0                   0   \n",
       "1896                      0                   1                   0   \n",
       "1897                      0                   0                   0   \n",
       "1898                      0                   1                   0   \n",
       "1899                      0                   0                   0   \n",
       "\n",
       "      Destination_LGWGatwick  Destination_LHRHeathrow  Destination_STNStansted  \n",
       "0                          0                        0                        0  \n",
       "1                          0                        0                        0  \n",
       "2                          0                        0                        0  \n",
       "3                          0                        1                        0  \n",
       "4                          0                        0                        0  \n",
       "...                      ...                      ...                      ...  \n",
       "1895                       0                        1                        0  \n",
       "1896                       0                        0                        0  \n",
       "1897                       0                        1                        0  \n",
       "1898                       0                        0                        0  \n",
       "1899                       1                        0                        0  \n",
       "\n",
       "[1900 rows x 13 columns]"
      ]
     },
     "execution_count": 650,
     "metadata": {},
     "output_type": "execute_result"
    }
   ],
   "source": [
    "final_df"
   ]
  },
  {
   "cell_type": "code",
   "execution_count": 651,
   "metadata": {},
   "outputs": [
    {
     "data": {
      "image/png": "[encoded data removed]",
      "text/plain": [
       "<Figure size 1080x1080 with 12 Axes>"
      ]
     },
     "metadata": {},
     "output_type": "display_data"
    }
   ],
   "source": [
    "# boxplots for each route\n",
    "k=0\n",
    "figure, axis = plt.subplots(4, 3, figsize=(15,15))\n",
    "for i in range(4):\n",
    "    for j in range(3):\n",
    "        axis[i,j].boxplot(df['Prices'])\n",
    "        axis[i,j].set_title(f\"{df['Source'][0]} TO {df['Destination'][0]}\")\n",
    "        k += 1"
   ]
  },
  {
   "cell_type": "code",
   "execution_count": null,
   "metadata": {},
   "outputs": [],
   "source": [
    "avg_airline_price_1 = df['Airline']\n",
    "avg_airline_price_1 = df['Prices']\n",
    "new_df = pd.DataFrame()\n",
    "\n",
    "for avg in avg_airline_price_1:\n",
    "    first_3 = np.mean(df[df.Airline == avg].reset_index().head(3).Prices)\n",
    "    last_3 =  np.mean(df[df.Airline == avg].reset_index().tail(3).Prices)\n",
    "    new_df = new_df.append(\n",
    "        pd.DataFrame([[avg, last_3 - first_3]], columns = ['Airline', 'PriceDiff']))"
   ]
  },
  {
   "cell_type": "code",
   "execution_count": 691,
   "metadata": {},
   "outputs": [
    {
     "data": {
      "text/plain": [
       "dtype('float64')"
      ]
     },
     "execution_count": 691,
     "metadata": {},
     "output_type": "execute_result"
    }
   ],
   "source": [
    "new_df.Airline.dtypes"
   ]
  },
  {
   "cell_type": "code",
   "execution_count": 692,
   "metadata": {},
   "outputs": [],
   "source": [
    "avg_price = new_df.Airline"
   ]
  },
  {
   "cell_type": "code",
   "execution_count": 694,
   "metadata": {},
   "outputs": [
    {
     "data": {
      "text/plain": [
       "1900"
      ]
     },
     "execution_count": 694,
     "metadata": {},
     "output_type": "execute_result"
    }
   ],
   "source": [
    "len(df['Airline'])"
   ]
  },
  {
   "cell_type": "code",
   "execution_count": 695,
   "metadata": {},
   "outputs": [
    {
     "data": {
      "text/plain": [
       "1900"
      ]
     },
     "execution_count": 695,
     "metadata": {},
     "output_type": "execute_result"
    }
   ],
   "source": [
    "len(avg_price)"
   ]
  },
  {
   "cell_type": "code",
   "execution_count": 676,
   "metadata": {},
   "outputs": [
    {
     "data": {
      "text/plain": [
       "0    183.200000\n",
       "0    167.730000\n",
       "0    143.470000\n",
       "0    167.730000\n",
       "0    167.730000\n",
       "        ...    \n",
       "0    169.050525\n",
       "0    169.050525\n",
       "0    169.050525\n",
       "0    169.050525\n",
       "0    169.050525\n",
       "Name: Airline, Length: 1900, dtype: float64"
      ]
     },
     "execution_count": 676,
     "metadata": {},
     "output_type": "execute_result"
    }
   ],
   "source": [
    "new_df"
   ]
  },
  {
   "cell_type": "code",
   "execution_count": 705,
   "metadata": {},
   "outputs": [],
   "source": [
    "# drop date since it'll not be used as a feature\n",
    "final_df.drop([\"Source\",\"Destination\"], axis=1, inplace=True)"
   ]
  },
  {
   "cell_type": "code",
   "execution_count": 706,
   "metadata": {},
   "outputs": [
    {
     "data": {
      "text/plain": [
       "(1900, 11)"
      ]
     },
     "execution_count": 706,
     "metadata": {},
     "output_type": "execute_result"
    }
   ],
   "source": [
    "final_df.shape"
   ]
  },
  {
   "cell_type": "code",
   "execution_count": 707,
   "metadata": {},
   "outputs": [
    {
     "data": {
      "text/plain": [
       "Airline                    948\n",
       "stops_list                   0\n",
       "Departure                    0\n",
       "Prices                       0\n",
       "Duration                     0\n",
       "Source_LCYLondon City        0\n",
       "Source_LHRHeathrow           0\n",
       "Source_STNStansted           0\n",
       "Destination_LGWGatwick       0\n",
       "Destination_LHRHeathrow      0\n",
       "Destination_STNStansted      0\n",
       "dtype: int64"
      ]
     },
     "execution_count": 707,
     "metadata": {},
     "output_type": "execute_result"
    }
   ],
   "source": [
    "final_df.isnull().sum()"
   ]
  },
  {
   "cell_type": "code",
   "execution_count": 709,
   "metadata": {},
   "outputs": [
    {
     "data": {
      "image/png": "[encoded data removed]",
      "text/plain": [
       "<Figure size 1296x1296 with 2 Axes>"
      ]
     },
     "metadata": {},
     "output_type": "display_data"
    }
   ],
   "source": [
    "plt.figure(figsize = (18,18))\n",
    "\n",
    "sns.heatmap(final_df.corr(),annot= True, cmap = \"coolwarm\")\n",
    "\n",
    "plt.show()"
   ]
  },
  {
   "cell_type": "code",
   "execution_count": 710,
   "metadata": {},
   "outputs": [
    {
     "ename": "IndexError",
     "evalue": "index 0 is out of bounds for axis 0 with size 0",
     "output_type": "error",
     "traceback": [
      "\u001b[0;31m---------------------------------------------------------------------------\u001b[0m",
      "\u001b[0;31mIndexError\u001b[0m                                Traceback (most recent call last)",
      "File \u001b[0;32m~/miniforge3/envs/data_science/lib/python3.10/site-packages/IPython/core/formatters.py:707\u001b[0m, in \u001b[0;36mPlainTextFormatter.__call__\u001b[0;34m(self, obj)\u001b[0m\n\u001b[1;32m    700\u001b[0m stream \u001b[39m=\u001b[39m StringIO()\n\u001b[1;32m    701\u001b[0m printer \u001b[39m=\u001b[39m pretty\u001b[39m.\u001b[39mRepresentationPrinter(stream, \u001b[39mself\u001b[39m\u001b[39m.\u001b[39mverbose,\n\u001b[1;32m    702\u001b[0m     \u001b[39mself\u001b[39m\u001b[39m.\u001b[39mmax_width, \u001b[39mself\u001b[39m\u001b[39m.\u001b[39mnewline,\n\u001b[1;32m    703\u001b[0m     max_seq_length\u001b[39m=\u001b[39m\u001b[39mself\u001b[39m\u001b[39m.\u001b[39mmax_seq_length,\n\u001b[1;32m    704\u001b[0m     singleton_pprinters\u001b[39m=\u001b[39m\u001b[39mself\u001b[39m\u001b[39m.\u001b[39msingleton_printers,\n\u001b[1;32m    705\u001b[0m     type_pprinters\u001b[39m=\u001b[39m\u001b[39mself\u001b[39m\u001b[39m.\u001b[39mtype_printers,\n\u001b[1;32m    706\u001b[0m     deferred_pprinters\u001b[39m=\u001b[39m\u001b[39mself\u001b[39m\u001b[39m.\u001b[39mdeferred_printers)\n\u001b[0;32m--> 707\u001b[0m printer\u001b[39m.\u001b[39;49mpretty(obj)\n\u001b[1;32m    708\u001b[0m printer\u001b[39m.\u001b[39mflush()\n\u001b[1;32m    709\u001b[0m \u001b[39mreturn\u001b[39;00m stream\u001b[39m.\u001b[39mgetvalue()\n",
      "File \u001b[0;32m~/miniforge3/envs/data_science/lib/python3.10/site-packages/IPython/lib/pretty.py:410\u001b[0m, in \u001b[0;36mRepresentationPrinter.pretty\u001b[0;34m(self, obj)\u001b[0m\n\u001b[1;32m    407\u001b[0m                         \u001b[39mreturn\u001b[39;00m meth(obj, \u001b[39mself\u001b[39m, cycle)\n\u001b[1;32m    408\u001b[0m                 \u001b[39mif\u001b[39;00m \u001b[39mcls\u001b[39m \u001b[39mis\u001b[39;00m \u001b[39mnot\u001b[39;00m \u001b[39mobject\u001b[39m \\\n\u001b[1;32m    409\u001b[0m                         \u001b[39mand\u001b[39;00m callable(\u001b[39mcls\u001b[39m\u001b[39m.\u001b[39m\u001b[39m__dict__\u001b[39m\u001b[39m.\u001b[39mget(\u001b[39m'\u001b[39m\u001b[39m__repr__\u001b[39m\u001b[39m'\u001b[39m)):\n\u001b[0;32m--> 410\u001b[0m                     \u001b[39mreturn\u001b[39;00m _repr_pprint(obj, \u001b[39mself\u001b[39;49m, cycle)\n\u001b[1;32m    412\u001b[0m     \u001b[39mreturn\u001b[39;00m _default_pprint(obj, \u001b[39mself\u001b[39m, cycle)\n\u001b[1;32m    413\u001b[0m \u001b[39mfinally\u001b[39;00m:\n",
      "File \u001b[0;32m~/miniforge3/envs/data_science/lib/python3.10/site-packages/IPython/lib/pretty.py:778\u001b[0m, in \u001b[0;36m_repr_pprint\u001b[0;34m(obj, p, cycle)\u001b[0m\n\u001b[1;32m    776\u001b[0m \u001b[39m\"\"\"A pprint that just redirects to the normal repr function.\"\"\"\u001b[39;00m\n\u001b[1;32m    777\u001b[0m \u001b[39m# Find newlines and replace them with p.break_()\u001b[39;00m\n\u001b[0;32m--> 778\u001b[0m output \u001b[39m=\u001b[39m \u001b[39mrepr\u001b[39;49m(obj)\n\u001b[1;32m    779\u001b[0m lines \u001b[39m=\u001b[39m output\u001b[39m.\u001b[39msplitlines()\n\u001b[1;32m    780\u001b[0m \u001b[39mwith\u001b[39;00m p\u001b[39m.\u001b[39mgroup():\n",
      "File \u001b[0;32m~/miniforge3/envs/data_science/lib/python3.10/site-packages/pandas/core/frame.py:1011\u001b[0m, in \u001b[0;36mDataFrame.__repr__\u001b[0;34m(self)\u001b[0m\n\u001b[1;32m   1008\u001b[0m     \u001b[39mreturn\u001b[39;00m buf\u001b[39m.\u001b[39mgetvalue()\n\u001b[1;32m   1010\u001b[0m repr_params \u001b[39m=\u001b[39m fmt\u001b[39m.\u001b[39mget_dataframe_repr_params()\n\u001b[0;32m-> 1011\u001b[0m \u001b[39mreturn\u001b[39;00m \u001b[39mself\u001b[39;49m\u001b[39m.\u001b[39;49mto_string(\u001b[39m*\u001b[39;49m\u001b[39m*\u001b[39;49mrepr_params)\n",
      "File \u001b[0;32m~/miniforge3/envs/data_science/lib/python3.10/site-packages/pandas/core/frame.py:1192\u001b[0m, in \u001b[0;36mDataFrame.to_string\u001b[0;34m(self, buf, columns, col_space, header, index, na_rep, formatters, float_format, sparsify, index_names, justify, max_rows, max_cols, show_dimensions, decimal, line_width, min_rows, max_colwidth, encoding)\u001b[0m\n\u001b[1;32m   1173\u001b[0m \u001b[39mwith\u001b[39;00m option_context(\u001b[39m\"\u001b[39m\u001b[39mdisplay.max_colwidth\u001b[39m\u001b[39m\"\u001b[39m, max_colwidth):\n\u001b[1;32m   1174\u001b[0m     formatter \u001b[39m=\u001b[39m fmt\u001b[39m.\u001b[39mDataFrameFormatter(\n\u001b[1;32m   1175\u001b[0m         \u001b[39mself\u001b[39m,\n\u001b[1;32m   1176\u001b[0m         columns\u001b[39m=\u001b[39mcolumns,\n\u001b[0;32m   (...)\u001b[0m\n\u001b[1;32m   1190\u001b[0m         decimal\u001b[39m=\u001b[39mdecimal,\n\u001b[1;32m   1191\u001b[0m     )\n\u001b[0;32m-> 1192\u001b[0m     \u001b[39mreturn\u001b[39;00m fmt\u001b[39m.\u001b[39;49mDataFrameRenderer(formatter)\u001b[39m.\u001b[39;49mto_string(\n\u001b[1;32m   1193\u001b[0m         buf\u001b[39m=\u001b[39;49mbuf,\n\u001b[1;32m   1194\u001b[0m         encoding\u001b[39m=\u001b[39;49mencoding,\n\u001b[1;32m   1195\u001b[0m         line_width\u001b[39m=\u001b[39;49mline_width,\n\u001b[1;32m   1196\u001b[0m     )\n",
      "File \u001b[0;32m~/miniforge3/envs/data_science/lib/python3.10/site-packages/pandas/io/formats/format.py:1128\u001b[0m, in \u001b[0;36mDataFrameRenderer.to_string\u001b[0;34m(self, buf, encoding, line_width)\u001b[0m\n\u001b[1;32m   1125\u001b[0m \u001b[39mfrom\u001b[39;00m \u001b[39mpandas\u001b[39;00m\u001b[39m.\u001b[39;00m\u001b[39mio\u001b[39;00m\u001b[39m.\u001b[39;00m\u001b[39mformats\u001b[39;00m\u001b[39m.\u001b[39;00m\u001b[39mstring\u001b[39;00m \u001b[39mimport\u001b[39;00m StringFormatter\n\u001b[1;32m   1127\u001b[0m string_formatter \u001b[39m=\u001b[39m StringFormatter(\u001b[39mself\u001b[39m\u001b[39m.\u001b[39mfmt, line_width\u001b[39m=\u001b[39mline_width)\n\u001b[0;32m-> 1128\u001b[0m string \u001b[39m=\u001b[39m string_formatter\u001b[39m.\u001b[39;49mto_string()\n\u001b[1;32m   1129\u001b[0m \u001b[39mreturn\u001b[39;00m save_to_buffer(string, buf\u001b[39m=\u001b[39mbuf, encoding\u001b[39m=\u001b[39mencoding)\n",
      "File \u001b[0;32m~/miniforge3/envs/data_science/lib/python3.10/site-packages/pandas/io/formats/string.py:25\u001b[0m, in \u001b[0;36mStringFormatter.to_string\u001b[0;34m(self)\u001b[0m\n\u001b[1;32m     24\u001b[0m \u001b[39mdef\u001b[39;00m \u001b[39mto_string\u001b[39m(\u001b[39mself\u001b[39m) \u001b[39m-\u001b[39m\u001b[39m>\u001b[39m \u001b[39mstr\u001b[39m:\n\u001b[0;32m---> 25\u001b[0m     text \u001b[39m=\u001b[39m \u001b[39mself\u001b[39;49m\u001b[39m.\u001b[39;49m_get_string_representation()\n\u001b[1;32m     26\u001b[0m     \u001b[39mif\u001b[39;00m \u001b[39mself\u001b[39m\u001b[39m.\u001b[39mfmt\u001b[39m.\u001b[39mshould_show_dimensions:\n\u001b[1;32m     27\u001b[0m         text \u001b[39m=\u001b[39m \u001b[39m\"\u001b[39m\u001b[39m\"\u001b[39m\u001b[39m.\u001b[39mjoin([text, \u001b[39mself\u001b[39m\u001b[39m.\u001b[39mfmt\u001b[39m.\u001b[39mdimensions_info])\n",
      "File \u001b[0;32m~/miniforge3/envs/data_science/lib/python3.10/site-packages/pandas/io/formats/string.py:40\u001b[0m, in \u001b[0;36mStringFormatter._get_string_representation\u001b[0;34m(self)\u001b[0m\n\u001b[1;32m     37\u001b[0m \u001b[39mif\u001b[39;00m \u001b[39mself\u001b[39m\u001b[39m.\u001b[39mfmt\u001b[39m.\u001b[39mframe\u001b[39m.\u001b[39mempty:\n\u001b[1;32m     38\u001b[0m     \u001b[39mreturn\u001b[39;00m \u001b[39mself\u001b[39m\u001b[39m.\u001b[39m_empty_info_line\n\u001b[0;32m---> 40\u001b[0m strcols \u001b[39m=\u001b[39m \u001b[39mself\u001b[39;49m\u001b[39m.\u001b[39;49m_get_strcols()\n\u001b[1;32m     42\u001b[0m \u001b[39mif\u001b[39;00m \u001b[39mself\u001b[39m\u001b[39m.\u001b[39mline_width \u001b[39mis\u001b[39;00m \u001b[39mNone\u001b[39;00m:\n\u001b[1;32m     43\u001b[0m     \u001b[39m# no need to wrap around just print the whole frame\u001b[39;00m\n\u001b[1;32m     44\u001b[0m     \u001b[39mreturn\u001b[39;00m \u001b[39mself\u001b[39m\u001b[39m.\u001b[39madj\u001b[39m.\u001b[39madjoin(\u001b[39m1\u001b[39m, \u001b[39m*\u001b[39mstrcols)\n",
      "File \u001b[0;32m~/miniforge3/envs/data_science/lib/python3.10/site-packages/pandas/io/formats/string.py:31\u001b[0m, in \u001b[0;36mStringFormatter._get_strcols\u001b[0;34m(self)\u001b[0m\n\u001b[1;32m     30\u001b[0m \u001b[39mdef\u001b[39;00m \u001b[39m_get_strcols\u001b[39m(\u001b[39mself\u001b[39m) \u001b[39m-\u001b[39m\u001b[39m>\u001b[39m \u001b[39mlist\u001b[39m[\u001b[39mlist\u001b[39m[\u001b[39mstr\u001b[39m]]:\n\u001b[0;32m---> 31\u001b[0m     strcols \u001b[39m=\u001b[39m \u001b[39mself\u001b[39;49m\u001b[39m.\u001b[39;49mfmt\u001b[39m.\u001b[39;49mget_strcols()\n\u001b[1;32m     32\u001b[0m     \u001b[39mif\u001b[39;00m \u001b[39mself\u001b[39m\u001b[39m.\u001b[39mfmt\u001b[39m.\u001b[39mis_truncated:\n\u001b[1;32m     33\u001b[0m         strcols \u001b[39m=\u001b[39m \u001b[39mself\u001b[39m\u001b[39m.\u001b[39m_insert_dot_separators(strcols)\n",
      "File \u001b[0;32m~/miniforge3/envs/data_science/lib/python3.10/site-packages/pandas/io/formats/format.py:611\u001b[0m, in \u001b[0;36mDataFrameFormatter.get_strcols\u001b[0;34m(self)\u001b[0m\n\u001b[1;32m    607\u001b[0m \u001b[39mdef\u001b[39;00m \u001b[39mget_strcols\u001b[39m(\u001b[39mself\u001b[39m) \u001b[39m-\u001b[39m\u001b[39m>\u001b[39m \u001b[39mlist\u001b[39m[\u001b[39mlist\u001b[39m[\u001b[39mstr\u001b[39m]]:\n\u001b[1;32m    608\u001b[0m     \u001b[39m\"\"\"\u001b[39;00m\n\u001b[1;32m    609\u001b[0m \u001b[39m    Render a DataFrame to a list of columns (as lists of strings).\u001b[39;00m\n\u001b[1;32m    610\u001b[0m \u001b[39m    \"\"\"\u001b[39;00m\n\u001b[0;32m--> 611\u001b[0m     strcols \u001b[39m=\u001b[39m \u001b[39mself\u001b[39;49m\u001b[39m.\u001b[39;49m_get_strcols_without_index()\n\u001b[1;32m    613\u001b[0m     \u001b[39mif\u001b[39;00m \u001b[39mself\u001b[39m\u001b[39m.\u001b[39mindex:\n\u001b[1;32m    614\u001b[0m         str_index \u001b[39m=\u001b[39m \u001b[39mself\u001b[39m\u001b[39m.\u001b[39m_get_formatted_index(\u001b[39mself\u001b[39m\u001b[39m.\u001b[39mtr_frame)\n",
      "File \u001b[0;32m~/miniforge3/envs/data_science/lib/python3.10/site-packages/pandas/io/formats/format.py:875\u001b[0m, in \u001b[0;36mDataFrameFormatter._get_strcols_without_index\u001b[0;34m(self)\u001b[0m\n\u001b[1;32m    871\u001b[0m cheader \u001b[39m=\u001b[39m str_columns[i]\n\u001b[1;32m    872\u001b[0m header_colwidth \u001b[39m=\u001b[39m \u001b[39mmax\u001b[39m(\n\u001b[1;32m    873\u001b[0m     \u001b[39mint\u001b[39m(\u001b[39mself\u001b[39m\u001b[39m.\u001b[39mcol_space\u001b[39m.\u001b[39mget(c, \u001b[39m0\u001b[39m)), \u001b[39m*\u001b[39m(\u001b[39mself\u001b[39m\u001b[39m.\u001b[39madj\u001b[39m.\u001b[39mlen(x) \u001b[39mfor\u001b[39;00m x \u001b[39min\u001b[39;00m cheader)\n\u001b[1;32m    874\u001b[0m )\n\u001b[0;32m--> 875\u001b[0m fmt_values \u001b[39m=\u001b[39m \u001b[39mself\u001b[39;49m\u001b[39m.\u001b[39;49mformat_col(i)\n\u001b[1;32m    876\u001b[0m fmt_values \u001b[39m=\u001b[39m _make_fixed_width(\n\u001b[1;32m    877\u001b[0m     fmt_values, \u001b[39mself\u001b[39m\u001b[39m.\u001b[39mjustify, minimum\u001b[39m=\u001b[39mheader_colwidth, adj\u001b[39m=\u001b[39m\u001b[39mself\u001b[39m\u001b[39m.\u001b[39madj\n\u001b[1;32m    878\u001b[0m )\n\u001b[1;32m    880\u001b[0m max_len \u001b[39m=\u001b[39m \u001b[39mmax\u001b[39m(\u001b[39mmax\u001b[39m(\u001b[39mself\u001b[39m\u001b[39m.\u001b[39madj\u001b[39m.\u001b[39mlen(x) \u001b[39mfor\u001b[39;00m x \u001b[39min\u001b[39;00m fmt_values), header_colwidth)\n",
      "File \u001b[0;32m~/miniforge3/envs/data_science/lib/python3.10/site-packages/pandas/io/formats/format.py:890\u001b[0m, in \u001b[0;36mDataFrameFormatter.format_col\u001b[0;34m(self, i)\u001b[0m\n\u001b[1;32m    887\u001b[0m frame \u001b[39m=\u001b[39m \u001b[39mself\u001b[39m\u001b[39m.\u001b[39mtr_frame\n\u001b[1;32m    888\u001b[0m formatter \u001b[39m=\u001b[39m \u001b[39mself\u001b[39m\u001b[39m.\u001b[39m_get_formatter(i)\n\u001b[1;32m    889\u001b[0m \u001b[39mreturn\u001b[39;00m format_array(\n\u001b[0;32m--> 890\u001b[0m     frame\u001b[39m.\u001b[39;49miloc[:, i]\u001b[39m.\u001b[39m_values,\n\u001b[1;32m    891\u001b[0m     formatter,\n\u001b[1;32m    892\u001b[0m     float_format\u001b[39m=\u001b[39m\u001b[39mself\u001b[39m\u001b[39m.\u001b[39mfloat_format,\n\u001b[1;32m    893\u001b[0m     na_rep\u001b[39m=\u001b[39m\u001b[39mself\u001b[39m\u001b[39m.\u001b[39mna_rep,\n\u001b[1;32m    894\u001b[0m     space\u001b[39m=\u001b[39m\u001b[39mself\u001b[39m\u001b[39m.\u001b[39mcol_space\u001b[39m.\u001b[39mget(frame\u001b[39m.\u001b[39mcolumns[i]),\n\u001b[1;32m    895\u001b[0m     decimal\u001b[39m=\u001b[39m\u001b[39mself\u001b[39m\u001b[39m.\u001b[39mdecimal,\n\u001b[1;32m    896\u001b[0m     leading_space\u001b[39m=\u001b[39m\u001b[39mself\u001b[39m\u001b[39m.\u001b[39mindex,\n\u001b[1;32m    897\u001b[0m )\n",
      "File \u001b[0;32m~/miniforge3/envs/data_science/lib/python3.10/site-packages/pandas/core/indexing.py:961\u001b[0m, in \u001b[0;36m_LocationIndexer.__getitem__\u001b[0;34m(self, key)\u001b[0m\n\u001b[1;32m    959\u001b[0m     \u001b[39mif\u001b[39;00m \u001b[39mself\u001b[39m\u001b[39m.\u001b[39m_is_scalar_access(key):\n\u001b[1;32m    960\u001b[0m         \u001b[39mreturn\u001b[39;00m \u001b[39mself\u001b[39m\u001b[39m.\u001b[39mobj\u001b[39m.\u001b[39m_get_value(\u001b[39m*\u001b[39mkey, takeable\u001b[39m=\u001b[39m\u001b[39mself\u001b[39m\u001b[39m.\u001b[39m_takeable)\n\u001b[0;32m--> 961\u001b[0m     \u001b[39mreturn\u001b[39;00m \u001b[39mself\u001b[39;49m\u001b[39m.\u001b[39;49m_getitem_tuple(key)\n\u001b[1;32m    962\u001b[0m \u001b[39melse\u001b[39;00m:\n\u001b[1;32m    963\u001b[0m     \u001b[39m# we by definition only have the 0th axis\u001b[39;00m\n\u001b[1;32m    964\u001b[0m     axis \u001b[39m=\u001b[39m \u001b[39mself\u001b[39m\u001b[39m.\u001b[39maxis \u001b[39mor\u001b[39;00m \u001b[39m0\u001b[39m\n",
      "File \u001b[0;32m~/miniforge3/envs/data_science/lib/python3.10/site-packages/pandas/core/indexing.py:1460\u001b[0m, in \u001b[0;36m_iLocIndexer._getitem_tuple\u001b[0;34m(self, tup)\u001b[0m\n\u001b[1;32m   1458\u001b[0m tup \u001b[39m=\u001b[39m \u001b[39mself\u001b[39m\u001b[39m.\u001b[39m_validate_tuple_indexer(tup)\n\u001b[1;32m   1459\u001b[0m \u001b[39mwith\u001b[39;00m suppress(IndexingError):\n\u001b[0;32m-> 1460\u001b[0m     \u001b[39mreturn\u001b[39;00m \u001b[39mself\u001b[39;49m\u001b[39m.\u001b[39;49m_getitem_lowerdim(tup)\n\u001b[1;32m   1462\u001b[0m \u001b[39mreturn\u001b[39;00m \u001b[39mself\u001b[39m\u001b[39m.\u001b[39m_getitem_tuple_same_dim(tup)\n",
      "File \u001b[0;32m~/miniforge3/envs/data_science/lib/python3.10/site-packages/pandas/core/indexing.py:867\u001b[0m, in \u001b[0;36m_LocationIndexer._getitem_lowerdim\u001b[0;34m(self, tup)\u001b[0m\n\u001b[1;32m    863\u001b[0m \u001b[39mfor\u001b[39;00m i, key \u001b[39min\u001b[39;00m \u001b[39menumerate\u001b[39m(tup):\n\u001b[1;32m    864\u001b[0m     \u001b[39mif\u001b[39;00m is_label_like(key):\n\u001b[1;32m    865\u001b[0m         \u001b[39m# We don't need to check for tuples here because those are\u001b[39;00m\n\u001b[1;32m    866\u001b[0m         \u001b[39m#  caught by the _is_nested_tuple_indexer check above.\u001b[39;00m\n\u001b[0;32m--> 867\u001b[0m         section \u001b[39m=\u001b[39m \u001b[39mself\u001b[39;49m\u001b[39m.\u001b[39;49m_getitem_axis(key, axis\u001b[39m=\u001b[39;49mi)\n\u001b[1;32m    869\u001b[0m         \u001b[39m# We should never have a scalar section here, because\u001b[39;00m\n\u001b[1;32m    870\u001b[0m         \u001b[39m#  _getitem_lowerdim is only called after a check for\u001b[39;00m\n\u001b[1;32m    871\u001b[0m         \u001b[39m#  is_scalar_access, which that would be.\u001b[39;00m\n\u001b[1;32m    872\u001b[0m         \u001b[39mif\u001b[39;00m section\u001b[39m.\u001b[39mndim \u001b[39m==\u001b[39m \u001b[39mself\u001b[39m\u001b[39m.\u001b[39mndim:\n\u001b[1;32m    873\u001b[0m             \u001b[39m# we're in the middle of slicing through a MultiIndex\u001b[39;00m\n\u001b[1;32m    874\u001b[0m             \u001b[39m# revise the key wrt to `section` by inserting an _NS\u001b[39;00m\n",
      "File \u001b[0;32m~/miniforge3/envs/data_science/lib/python3.10/site-packages/pandas/core/indexing.py:1522\u001b[0m, in \u001b[0;36m_iLocIndexer._getitem_axis\u001b[0;34m(self, key, axis)\u001b[0m\n\u001b[1;32m   1519\u001b[0m \u001b[39m# validate the location\u001b[39;00m\n\u001b[1;32m   1520\u001b[0m \u001b[39mself\u001b[39m\u001b[39m.\u001b[39m_validate_integer(key, axis)\n\u001b[0;32m-> 1522\u001b[0m \u001b[39mreturn\u001b[39;00m \u001b[39mself\u001b[39;49m\u001b[39m.\u001b[39;49mobj\u001b[39m.\u001b[39;49m_ixs(key, axis\u001b[39m=\u001b[39;49maxis)\n",
      "File \u001b[0;32m~/miniforge3/envs/data_science/lib/python3.10/site-packages/pandas/core/frame.py:3441\u001b[0m, in \u001b[0;36mDataFrame._ixs\u001b[0;34m(self, i, axis)\u001b[0m\n\u001b[1;32m   3437\u001b[0m \u001b[39m# icol\u001b[39;00m\n\u001b[1;32m   3438\u001b[0m \u001b[39melse\u001b[39;00m:\n\u001b[1;32m   3439\u001b[0m     label \u001b[39m=\u001b[39m \u001b[39mself\u001b[39m\u001b[39m.\u001b[39mcolumns[i]\n\u001b[0;32m-> 3441\u001b[0m     col_mgr \u001b[39m=\u001b[39m \u001b[39mself\u001b[39;49m\u001b[39m.\u001b[39;49m_mgr\u001b[39m.\u001b[39;49miget(i)\n\u001b[1;32m   3442\u001b[0m     result \u001b[39m=\u001b[39m \u001b[39mself\u001b[39m\u001b[39m.\u001b[39m_box_col_values(col_mgr, i)\n\u001b[1;32m   3444\u001b[0m     \u001b[39m# this is a cached value, mark it so\u001b[39;00m\n",
      "File \u001b[0;32m~/miniforge3/envs/data_science/lib/python3.10/site-packages/pandas/core/internals/managers.py:1021\u001b[0m, in \u001b[0;36mBlockManager.iget\u001b[0;34m(self, i)\u001b[0m\n\u001b[1;32m   1017\u001b[0m \u001b[39m\"\"\"\u001b[39;00m\n\u001b[1;32m   1018\u001b[0m \u001b[39mReturn the data as a SingleBlockManager.\u001b[39;00m\n\u001b[1;32m   1019\u001b[0m \u001b[39m\"\"\"\u001b[39;00m\n\u001b[1;32m   1020\u001b[0m block \u001b[39m=\u001b[39m \u001b[39mself\u001b[39m\u001b[39m.\u001b[39mblocks[\u001b[39mself\u001b[39m\u001b[39m.\u001b[39mblknos[i]]\n\u001b[0;32m-> 1021\u001b[0m values \u001b[39m=\u001b[39m block\u001b[39m.\u001b[39;49miget(\u001b[39mself\u001b[39;49m\u001b[39m.\u001b[39;49mblklocs[i])\n\u001b[1;32m   1023\u001b[0m \u001b[39m# shortcut for select a single-dim from a 2-dim BM\u001b[39;00m\n\u001b[1;32m   1024\u001b[0m bp \u001b[39m=\u001b[39m BlockPlacement(\u001b[39mslice\u001b[39m(\u001b[39m0\u001b[39m, \u001b[39mlen\u001b[39m(values)))\n",
      "File \u001b[0;32m~/miniforge3/envs/data_science/lib/python3.10/site-packages/pandas/core/internals/blocks.py:365\u001b[0m, in \u001b[0;36mBlock.iget\u001b[0;34m(self, i)\u001b[0m\n\u001b[1;32m    358\u001b[0m \u001b[39mdef\u001b[39;00m \u001b[39miget\u001b[39m(\u001b[39mself\u001b[39m, i: \u001b[39mint\u001b[39m \u001b[39m|\u001b[39m \u001b[39mtuple\u001b[39m[\u001b[39mint\u001b[39m, \u001b[39mint\u001b[39m] \u001b[39m|\u001b[39m \u001b[39mtuple\u001b[39m[\u001b[39mslice\u001b[39m, \u001b[39mint\u001b[39m]):\n\u001b[1;32m    359\u001b[0m     \u001b[39m# In the case where we have a tuple[slice, int], the slice will always\u001b[39;00m\n\u001b[1;32m    360\u001b[0m     \u001b[39m#  be slice(None)\u001b[39;00m\n\u001b[0;32m   (...)\u001b[0m\n\u001b[1;32m    363\u001b[0m     \u001b[39m# for \"Union[ndarray[Any, Any], ExtensionArray]\"; expected type\u001b[39;00m\n\u001b[1;32m    364\u001b[0m     \u001b[39m# \"Union[int, integer[Any]]\"\u001b[39;00m\n\u001b[0;32m--> 365\u001b[0m     \u001b[39mreturn\u001b[39;00m \u001b[39mself\u001b[39;49m\u001b[39m.\u001b[39;49mvalues[i]\n",
      "\u001b[0;31mIndexError\u001b[0m: index 0 is out of bounds for axis 0 with size 0"
     ]
    },
    {
     "ename": "IndexError",
     "evalue": "index 0 is out of bounds for axis 0 with size 0",
     "output_type": "error",
     "traceback": [
      "\u001b[0;31m---------------------------------------------------------------------------\u001b[0m",
      "\u001b[0;31mIndexError\u001b[0m                                Traceback (most recent call last)",
      "File \u001b[0;32m~/miniforge3/envs/data_science/lib/python3.10/site-packages/IPython/core/formatters.py:343\u001b[0m, in \u001b[0;36mBaseFormatter.__call__\u001b[0;34m(self, obj)\u001b[0m\n\u001b[1;32m    341\u001b[0m     method \u001b[39m=\u001b[39m get_real_method(obj, \u001b[39mself\u001b[39m\u001b[39m.\u001b[39mprint_method)\n\u001b[1;32m    342\u001b[0m     \u001b[39mif\u001b[39;00m method \u001b[39mis\u001b[39;00m \u001b[39mnot\u001b[39;00m \u001b[39mNone\u001b[39;00m:\n\u001b[0;32m--> 343\u001b[0m         \u001b[39mreturn\u001b[39;00m method()\n\u001b[1;32m    344\u001b[0m     \u001b[39mreturn\u001b[39;00m \u001b[39mNone\u001b[39;00m\n\u001b[1;32m    345\u001b[0m \u001b[39melse\u001b[39;00m:\n",
      "File \u001b[0;32m~/miniforge3/envs/data_science/lib/python3.10/site-packages/pandas/core/frame.py:1053\u001b[0m, in \u001b[0;36mDataFrame._repr_html_\u001b[0;34m(self)\u001b[0m\n\u001b[1;32m   1031\u001b[0m     show_dimensions \u001b[39m=\u001b[39m get_option(\u001b[39m\"\u001b[39m\u001b[39mdisplay.show_dimensions\u001b[39m\u001b[39m\"\u001b[39m)\n\u001b[1;32m   1033\u001b[0m     formatter \u001b[39m=\u001b[39m fmt\u001b[39m.\u001b[39mDataFrameFormatter(\n\u001b[1;32m   1034\u001b[0m         \u001b[39mself\u001b[39m,\n\u001b[1;32m   1035\u001b[0m         columns\u001b[39m=\u001b[39m\u001b[39mNone\u001b[39;00m,\n\u001b[0;32m   (...)\u001b[0m\n\u001b[1;32m   1051\u001b[0m         decimal\u001b[39m=\u001b[39m\u001b[39m\"\u001b[39m\u001b[39m.\u001b[39m\u001b[39m\"\u001b[39m,\n\u001b[1;32m   1052\u001b[0m     )\n\u001b[0;32m-> 1053\u001b[0m     \u001b[39mreturn\u001b[39;00m fmt\u001b[39m.\u001b[39;49mDataFrameRenderer(formatter)\u001b[39m.\u001b[39;49mto_html(notebook\u001b[39m=\u001b[39;49m\u001b[39mTrue\u001b[39;49;00m)\n\u001b[1;32m   1054\u001b[0m \u001b[39melse\u001b[39;00m:\n\u001b[1;32m   1055\u001b[0m     \u001b[39mreturn\u001b[39;00m \u001b[39mNone\u001b[39;00m\n",
      "File \u001b[0;32m~/miniforge3/envs/data_science/lib/python3.10/site-packages/pandas/io/formats/format.py:1102\u001b[0m, in \u001b[0;36mDataFrameRenderer.to_html\u001b[0;34m(self, buf, encoding, classes, notebook, border, table_id, render_links)\u001b[0m\n\u001b[1;32m   1093\u001b[0m Klass \u001b[39m=\u001b[39m NotebookFormatter \u001b[39mif\u001b[39;00m notebook \u001b[39melse\u001b[39;00m HTMLFormatter\n\u001b[1;32m   1095\u001b[0m html_formatter \u001b[39m=\u001b[39m Klass(\n\u001b[1;32m   1096\u001b[0m     \u001b[39mself\u001b[39m\u001b[39m.\u001b[39mfmt,\n\u001b[1;32m   1097\u001b[0m     classes\u001b[39m=\u001b[39mclasses,\n\u001b[0;32m   (...)\u001b[0m\n\u001b[1;32m   1100\u001b[0m     render_links\u001b[39m=\u001b[39mrender_links,\n\u001b[1;32m   1101\u001b[0m )\n\u001b[0;32m-> 1102\u001b[0m string \u001b[39m=\u001b[39m html_formatter\u001b[39m.\u001b[39;49mto_string()\n\u001b[1;32m   1103\u001b[0m \u001b[39mreturn\u001b[39;00m save_to_buffer(string, buf\u001b[39m=\u001b[39mbuf, encoding\u001b[39m=\u001b[39mencoding)\n",
      "File \u001b[0;32m~/miniforge3/envs/data_science/lib/python3.10/site-packages/pandas/io/formats/html.py:72\u001b[0m, in \u001b[0;36mHTMLFormatter.to_string\u001b[0;34m(self)\u001b[0m\n\u001b[1;32m     71\u001b[0m \u001b[39mdef\u001b[39;00m \u001b[39mto_string\u001b[39m(\u001b[39mself\u001b[39m) \u001b[39m-\u001b[39m\u001b[39m>\u001b[39m \u001b[39mstr\u001b[39m:\n\u001b[0;32m---> 72\u001b[0m     lines \u001b[39m=\u001b[39m \u001b[39mself\u001b[39;49m\u001b[39m.\u001b[39;49mrender()\n\u001b[1;32m     73\u001b[0m     \u001b[39mif\u001b[39;00m \u001b[39many\u001b[39m(\u001b[39misinstance\u001b[39m(x, \u001b[39mstr\u001b[39m) \u001b[39mfor\u001b[39;00m x \u001b[39min\u001b[39;00m lines):\n\u001b[1;32m     74\u001b[0m         lines \u001b[39m=\u001b[39m [\u001b[39mstr\u001b[39m(x) \u001b[39mfor\u001b[39;00m x \u001b[39min\u001b[39;00m lines]\n",
      "File \u001b[0;32m~/miniforge3/envs/data_science/lib/python3.10/site-packages/pandas/io/formats/html.py:621\u001b[0m, in \u001b[0;36mNotebookFormatter.render\u001b[0;34m(self)\u001b[0m\n\u001b[1;32m    619\u001b[0m \u001b[39mself\u001b[39m\u001b[39m.\u001b[39mwrite(\u001b[39m\"\u001b[39m\u001b[39m<div>\u001b[39m\u001b[39m\"\u001b[39m)\n\u001b[1;32m    620\u001b[0m \u001b[39mself\u001b[39m\u001b[39m.\u001b[39mwrite_style()\n\u001b[0;32m--> 621\u001b[0m \u001b[39msuper\u001b[39;49m()\u001b[39m.\u001b[39;49mrender()\n\u001b[1;32m    622\u001b[0m \u001b[39mself\u001b[39m\u001b[39m.\u001b[39mwrite(\u001b[39m\"\u001b[39m\u001b[39m</div>\u001b[39m\u001b[39m\"\u001b[39m)\n\u001b[1;32m    623\u001b[0m \u001b[39mreturn\u001b[39;00m \u001b[39mself\u001b[39m\u001b[39m.\u001b[39melements\n",
      "File \u001b[0;32m~/miniforge3/envs/data_science/lib/python3.10/site-packages/pandas/io/formats/html.py:78\u001b[0m, in \u001b[0;36mHTMLFormatter.render\u001b[0;34m(self)\u001b[0m\n\u001b[1;32m     77\u001b[0m \u001b[39mdef\u001b[39;00m \u001b[39mrender\u001b[39m(\u001b[39mself\u001b[39m) \u001b[39m-\u001b[39m\u001b[39m>\u001b[39m \u001b[39mlist\u001b[39m[\u001b[39mstr\u001b[39m]:\n\u001b[0;32m---> 78\u001b[0m     \u001b[39mself\u001b[39;49m\u001b[39m.\u001b[39;49m_write_table()\n\u001b[1;32m     80\u001b[0m     \u001b[39mif\u001b[39;00m \u001b[39mself\u001b[39m\u001b[39m.\u001b[39mshould_show_dimensions:\n\u001b[1;32m     81\u001b[0m         by \u001b[39m=\u001b[39m \u001b[39mchr\u001b[39m(\u001b[39m215\u001b[39m)  \u001b[39m# ×\u001b[39;00m\n",
      "File \u001b[0;32m~/miniforge3/envs/data_science/lib/python3.10/site-packages/pandas/io/formats/html.py:248\u001b[0m, in \u001b[0;36mHTMLFormatter._write_table\u001b[0;34m(self, indent)\u001b[0m\n\u001b[1;32m    245\u001b[0m \u001b[39mif\u001b[39;00m \u001b[39mself\u001b[39m\u001b[39m.\u001b[39mfmt\u001b[39m.\u001b[39mheader \u001b[39mor\u001b[39;00m \u001b[39mself\u001b[39m\u001b[39m.\u001b[39mshow_row_idx_names:\n\u001b[1;32m    246\u001b[0m     \u001b[39mself\u001b[39m\u001b[39m.\u001b[39m_write_header(indent \u001b[39m+\u001b[39m \u001b[39mself\u001b[39m\u001b[39m.\u001b[39mindent_delta)\n\u001b[0;32m--> 248\u001b[0m \u001b[39mself\u001b[39;49m\u001b[39m.\u001b[39;49m_write_body(indent \u001b[39m+\u001b[39;49m \u001b[39mself\u001b[39;49m\u001b[39m.\u001b[39;49mindent_delta)\n\u001b[1;32m    250\u001b[0m \u001b[39mself\u001b[39m\u001b[39m.\u001b[39mwrite(\u001b[39m\"\u001b[39m\u001b[39m</table>\u001b[39m\u001b[39m\"\u001b[39m, indent)\n",
      "File \u001b[0;32m~/miniforge3/envs/data_science/lib/python3.10/site-packages/pandas/io/formats/html.py:395\u001b[0m, in \u001b[0;36mHTMLFormatter._write_body\u001b[0;34m(self, indent)\u001b[0m\n\u001b[1;32m    393\u001b[0m \u001b[39mdef\u001b[39;00m \u001b[39m_write_body\u001b[39m(\u001b[39mself\u001b[39m, indent: \u001b[39mint\u001b[39m) \u001b[39m-\u001b[39m\u001b[39m>\u001b[39m \u001b[39mNone\u001b[39;00m:\n\u001b[1;32m    394\u001b[0m     \u001b[39mself\u001b[39m\u001b[39m.\u001b[39mwrite(\u001b[39m\"\u001b[39m\u001b[39m<tbody>\u001b[39m\u001b[39m\"\u001b[39m, indent)\n\u001b[0;32m--> 395\u001b[0m     fmt_values \u001b[39m=\u001b[39m \u001b[39mself\u001b[39;49m\u001b[39m.\u001b[39;49m_get_formatted_values()\n\u001b[1;32m    397\u001b[0m     \u001b[39m# write values\u001b[39;00m\n\u001b[1;32m    398\u001b[0m     \u001b[39mif\u001b[39;00m \u001b[39mself\u001b[39m\u001b[39m.\u001b[39mfmt\u001b[39m.\u001b[39mindex \u001b[39mand\u001b[39;00m \u001b[39misinstance\u001b[39m(\u001b[39mself\u001b[39m\u001b[39m.\u001b[39mframe\u001b[39m.\u001b[39mindex, MultiIndex):\n",
      "File \u001b[0;32m~/miniforge3/envs/data_science/lib/python3.10/site-packages/pandas/io/formats/html.py:585\u001b[0m, in \u001b[0;36mNotebookFormatter._get_formatted_values\u001b[0;34m(self)\u001b[0m\n\u001b[1;32m    584\u001b[0m \u001b[39mdef\u001b[39;00m \u001b[39m_get_formatted_values\u001b[39m(\u001b[39mself\u001b[39m) \u001b[39m-\u001b[39m\u001b[39m>\u001b[39m \u001b[39mdict\u001b[39m[\u001b[39mint\u001b[39m, \u001b[39mlist\u001b[39m[\u001b[39mstr\u001b[39m]]:\n\u001b[0;32m--> 585\u001b[0m     \u001b[39mreturn\u001b[39;00m {i: \u001b[39mself\u001b[39m\u001b[39m.\u001b[39mfmt\u001b[39m.\u001b[39mformat_col(i) \u001b[39mfor\u001b[39;00m i \u001b[39min\u001b[39;00m \u001b[39mrange\u001b[39m(\u001b[39mself\u001b[39m\u001b[39m.\u001b[39mncols)}\n",
      "File \u001b[0;32m~/miniforge3/envs/data_science/lib/python3.10/site-packages/pandas/io/formats/html.py:585\u001b[0m, in \u001b[0;36m<dictcomp>\u001b[0;34m(.0)\u001b[0m\n\u001b[1;32m    584\u001b[0m \u001b[39mdef\u001b[39;00m \u001b[39m_get_formatted_values\u001b[39m(\u001b[39mself\u001b[39m) \u001b[39m-\u001b[39m\u001b[39m>\u001b[39m \u001b[39mdict\u001b[39m[\u001b[39mint\u001b[39m, \u001b[39mlist\u001b[39m[\u001b[39mstr\u001b[39m]]:\n\u001b[0;32m--> 585\u001b[0m     \u001b[39mreturn\u001b[39;00m {i: \u001b[39mself\u001b[39;49m\u001b[39m.\u001b[39;49mfmt\u001b[39m.\u001b[39;49mformat_col(i) \u001b[39mfor\u001b[39;00m i \u001b[39min\u001b[39;00m \u001b[39mrange\u001b[39m(\u001b[39mself\u001b[39m\u001b[39m.\u001b[39mncols)}\n",
      "File \u001b[0;32m~/miniforge3/envs/data_science/lib/python3.10/site-packages/pandas/io/formats/format.py:890\u001b[0m, in \u001b[0;36mDataFrameFormatter.format_col\u001b[0;34m(self, i)\u001b[0m\n\u001b[1;32m    887\u001b[0m frame \u001b[39m=\u001b[39m \u001b[39mself\u001b[39m\u001b[39m.\u001b[39mtr_frame\n\u001b[1;32m    888\u001b[0m formatter \u001b[39m=\u001b[39m \u001b[39mself\u001b[39m\u001b[39m.\u001b[39m_get_formatter(i)\n\u001b[1;32m    889\u001b[0m \u001b[39mreturn\u001b[39;00m format_array(\n\u001b[0;32m--> 890\u001b[0m     frame\u001b[39m.\u001b[39;49miloc[:, i]\u001b[39m.\u001b[39m_values,\n\u001b[1;32m    891\u001b[0m     formatter,\n\u001b[1;32m    892\u001b[0m     float_format\u001b[39m=\u001b[39m\u001b[39mself\u001b[39m\u001b[39m.\u001b[39mfloat_format,\n\u001b[1;32m    893\u001b[0m     na_rep\u001b[39m=\u001b[39m\u001b[39mself\u001b[39m\u001b[39m.\u001b[39mna_rep,\n\u001b[1;32m    894\u001b[0m     space\u001b[39m=\u001b[39m\u001b[39mself\u001b[39m\u001b[39m.\u001b[39mcol_space\u001b[39m.\u001b[39mget(frame\u001b[39m.\u001b[39mcolumns[i]),\n\u001b[1;32m    895\u001b[0m     decimal\u001b[39m=\u001b[39m\u001b[39mself\u001b[39m\u001b[39m.\u001b[39mdecimal,\n\u001b[1;32m    896\u001b[0m     leading_space\u001b[39m=\u001b[39m\u001b[39mself\u001b[39m\u001b[39m.\u001b[39mindex,\n\u001b[1;32m    897\u001b[0m )\n",
      "File \u001b[0;32m~/miniforge3/envs/data_science/lib/python3.10/site-packages/pandas/core/indexing.py:961\u001b[0m, in \u001b[0;36m_LocationIndexer.__getitem__\u001b[0;34m(self, key)\u001b[0m\n\u001b[1;32m    959\u001b[0m     \u001b[39mif\u001b[39;00m \u001b[39mself\u001b[39m\u001b[39m.\u001b[39m_is_scalar_access(key):\n\u001b[1;32m    960\u001b[0m         \u001b[39mreturn\u001b[39;00m \u001b[39mself\u001b[39m\u001b[39m.\u001b[39mobj\u001b[39m.\u001b[39m_get_value(\u001b[39m*\u001b[39mkey, takeable\u001b[39m=\u001b[39m\u001b[39mself\u001b[39m\u001b[39m.\u001b[39m_takeable)\n\u001b[0;32m--> 961\u001b[0m     \u001b[39mreturn\u001b[39;00m \u001b[39mself\u001b[39;49m\u001b[39m.\u001b[39;49m_getitem_tuple(key)\n\u001b[1;32m    962\u001b[0m \u001b[39melse\u001b[39;00m:\n\u001b[1;32m    963\u001b[0m     \u001b[39m# we by definition only have the 0th axis\u001b[39;00m\n\u001b[1;32m    964\u001b[0m     axis \u001b[39m=\u001b[39m \u001b[39mself\u001b[39m\u001b[39m.\u001b[39maxis \u001b[39mor\u001b[39;00m \u001b[39m0\u001b[39m\n",
      "File \u001b[0;32m~/miniforge3/envs/data_science/lib/python3.10/site-packages/pandas/core/indexing.py:1460\u001b[0m, in \u001b[0;36m_iLocIndexer._getitem_tuple\u001b[0;34m(self, tup)\u001b[0m\n\u001b[1;32m   1458\u001b[0m tup \u001b[39m=\u001b[39m \u001b[39mself\u001b[39m\u001b[39m.\u001b[39m_validate_tuple_indexer(tup)\n\u001b[1;32m   1459\u001b[0m \u001b[39mwith\u001b[39;00m suppress(IndexingError):\n\u001b[0;32m-> 1460\u001b[0m     \u001b[39mreturn\u001b[39;00m \u001b[39mself\u001b[39;49m\u001b[39m.\u001b[39;49m_getitem_lowerdim(tup)\n\u001b[1;32m   1462\u001b[0m \u001b[39mreturn\u001b[39;00m \u001b[39mself\u001b[39m\u001b[39m.\u001b[39m_getitem_tuple_same_dim(tup)\n",
      "File \u001b[0;32m~/miniforge3/envs/data_science/lib/python3.10/site-packages/pandas/core/indexing.py:867\u001b[0m, in \u001b[0;36m_LocationIndexer._getitem_lowerdim\u001b[0;34m(self, tup)\u001b[0m\n\u001b[1;32m    863\u001b[0m \u001b[39mfor\u001b[39;00m i, key \u001b[39min\u001b[39;00m \u001b[39menumerate\u001b[39m(tup):\n\u001b[1;32m    864\u001b[0m     \u001b[39mif\u001b[39;00m is_label_like(key):\n\u001b[1;32m    865\u001b[0m         \u001b[39m# We don't need to check for tuples here because those are\u001b[39;00m\n\u001b[1;32m    866\u001b[0m         \u001b[39m#  caught by the _is_nested_tuple_indexer check above.\u001b[39;00m\n\u001b[0;32m--> 867\u001b[0m         section \u001b[39m=\u001b[39m \u001b[39mself\u001b[39;49m\u001b[39m.\u001b[39;49m_getitem_axis(key, axis\u001b[39m=\u001b[39;49mi)\n\u001b[1;32m    869\u001b[0m         \u001b[39m# We should never have a scalar section here, because\u001b[39;00m\n\u001b[1;32m    870\u001b[0m         \u001b[39m#  _getitem_lowerdim is only called after a check for\u001b[39;00m\n\u001b[1;32m    871\u001b[0m         \u001b[39m#  is_scalar_access, which that would be.\u001b[39;00m\n\u001b[1;32m    872\u001b[0m         \u001b[39mif\u001b[39;00m section\u001b[39m.\u001b[39mndim \u001b[39m==\u001b[39m \u001b[39mself\u001b[39m\u001b[39m.\u001b[39mndim:\n\u001b[1;32m    873\u001b[0m             \u001b[39m# we're in the middle of slicing through a MultiIndex\u001b[39;00m\n\u001b[1;32m    874\u001b[0m             \u001b[39m# revise the key wrt to `section` by inserting an _NS\u001b[39;00m\n",
      "File \u001b[0;32m~/miniforge3/envs/data_science/lib/python3.10/site-packages/pandas/core/indexing.py:1522\u001b[0m, in \u001b[0;36m_iLocIndexer._getitem_axis\u001b[0;34m(self, key, axis)\u001b[0m\n\u001b[1;32m   1519\u001b[0m \u001b[39m# validate the location\u001b[39;00m\n\u001b[1;32m   1520\u001b[0m \u001b[39mself\u001b[39m\u001b[39m.\u001b[39m_validate_integer(key, axis)\n\u001b[0;32m-> 1522\u001b[0m \u001b[39mreturn\u001b[39;00m \u001b[39mself\u001b[39;49m\u001b[39m.\u001b[39;49mobj\u001b[39m.\u001b[39;49m_ixs(key, axis\u001b[39m=\u001b[39;49maxis)\n",
      "File \u001b[0;32m~/miniforge3/envs/data_science/lib/python3.10/site-packages/pandas/core/frame.py:3441\u001b[0m, in \u001b[0;36mDataFrame._ixs\u001b[0;34m(self, i, axis)\u001b[0m\n\u001b[1;32m   3437\u001b[0m \u001b[39m# icol\u001b[39;00m\n\u001b[1;32m   3438\u001b[0m \u001b[39melse\u001b[39;00m:\n\u001b[1;32m   3439\u001b[0m     label \u001b[39m=\u001b[39m \u001b[39mself\u001b[39m\u001b[39m.\u001b[39mcolumns[i]\n\u001b[0;32m-> 3441\u001b[0m     col_mgr \u001b[39m=\u001b[39m \u001b[39mself\u001b[39;49m\u001b[39m.\u001b[39;49m_mgr\u001b[39m.\u001b[39;49miget(i)\n\u001b[1;32m   3442\u001b[0m     result \u001b[39m=\u001b[39m \u001b[39mself\u001b[39m\u001b[39m.\u001b[39m_box_col_values(col_mgr, i)\n\u001b[1;32m   3444\u001b[0m     \u001b[39m# this is a cached value, mark it so\u001b[39;00m\n",
      "File \u001b[0;32m~/miniforge3/envs/data_science/lib/python3.10/site-packages/pandas/core/internals/managers.py:1021\u001b[0m, in \u001b[0;36mBlockManager.iget\u001b[0;34m(self, i)\u001b[0m\n\u001b[1;32m   1017\u001b[0m \u001b[39m\"\"\"\u001b[39;00m\n\u001b[1;32m   1018\u001b[0m \u001b[39mReturn the data as a SingleBlockManager.\u001b[39;00m\n\u001b[1;32m   1019\u001b[0m \u001b[39m\"\"\"\u001b[39;00m\n\u001b[1;32m   1020\u001b[0m block \u001b[39m=\u001b[39m \u001b[39mself\u001b[39m\u001b[39m.\u001b[39mblocks[\u001b[39mself\u001b[39m\u001b[39m.\u001b[39mblknos[i]]\n\u001b[0;32m-> 1021\u001b[0m values \u001b[39m=\u001b[39m block\u001b[39m.\u001b[39;49miget(\u001b[39mself\u001b[39;49m\u001b[39m.\u001b[39;49mblklocs[i])\n\u001b[1;32m   1023\u001b[0m \u001b[39m# shortcut for select a single-dim from a 2-dim BM\u001b[39;00m\n\u001b[1;32m   1024\u001b[0m bp \u001b[39m=\u001b[39m BlockPlacement(\u001b[39mslice\u001b[39m(\u001b[39m0\u001b[39m, \u001b[39mlen\u001b[39m(values)))\n",
      "File \u001b[0;32m~/miniforge3/envs/data_science/lib/python3.10/site-packages/pandas/core/internals/blocks.py:365\u001b[0m, in \u001b[0;36mBlock.iget\u001b[0;34m(self, i)\u001b[0m\n\u001b[1;32m    358\u001b[0m \u001b[39mdef\u001b[39;00m \u001b[39miget\u001b[39m(\u001b[39mself\u001b[39m, i: \u001b[39mint\u001b[39m \u001b[39m|\u001b[39m \u001b[39mtuple\u001b[39m[\u001b[39mint\u001b[39m, \u001b[39mint\u001b[39m] \u001b[39m|\u001b[39m \u001b[39mtuple\u001b[39m[\u001b[39mslice\u001b[39m, \u001b[39mint\u001b[39m]):\n\u001b[1;32m    359\u001b[0m     \u001b[39m# In the case where we have a tuple[slice, int], the slice will always\u001b[39;00m\n\u001b[1;32m    360\u001b[0m     \u001b[39m#  be slice(None)\u001b[39;00m\n\u001b[0;32m   (...)\u001b[0m\n\u001b[1;32m    363\u001b[0m     \u001b[39m# for \"Union[ndarray[Any, Any], ExtensionArray]\"; expected type\u001b[39;00m\n\u001b[1;32m    364\u001b[0m     \u001b[39m# \"Union[int, integer[Any]]\"\u001b[39;00m\n\u001b[0;32m--> 365\u001b[0m     \u001b[39mreturn\u001b[39;00m \u001b[39mself\u001b[39;49m\u001b[39m.\u001b[39;49mvalues[i]\n",
      "\u001b[0;31mIndexError\u001b[0m: index 0 is out of bounds for axis 0 with size 0"
     ]
    }
   ],
   "source": [
    "df.head()"
   ]
  },
  {
   "cell_type": "code",
   "execution_count": null,
   "metadata": {},
   "outputs": [],
   "source": [
    "X = final_df[['Duration', 'stops_list', 'Average Price', 'Source_PAR',\n",
    "       'Source_RUH', 'Source_SVO', 'Destination_PAR', 'Destination_RUH',\n",
    "       'Destination_SVO']]\n",
    "\n",
    "y = final_df[\"Price\"]"
   ]
  },
  {
   "cell_type": "code",
   "execution_count": null,
   "metadata": {},
   "outputs": [],
   "source": [
    "# getting feature importance to the target variable \"Price\".\n",
    "selection =ExtraTreesRegressor()\n",
    "selection.fit(X,y)\n",
    "selection.feature_importances_"
   ]
  },
  {
   "cell_type": "code",
   "execution_count": null,
   "metadata": {},
   "outputs": [],
   "source": []
  },
  {
   "cell_type": "code",
   "execution_count": null,
   "metadata": {},
   "outputs": [],
   "source": []
  },
  {
   "cell_type": "code",
   "execution_count": null,
   "metadata": {},
   "outputs": [],
   "source": []
  }
 ],
 "metadata": {
  "kernelspec": {
   "display_name": "data_science",
   "language": "python",
   "name": "python3"
  },
  "language_info": {
   "codemirror_mode": {
    "name": "ipython",
    "version": 3
   },
   "file_extension": ".py",
   "mimetype": "text/x-python",
   "name": "python",
   "nbconvert_exporter": "python",
   "pygments_lexer": "ipython3",
   "version": "3.10.4"
  },
  "orig_nbformat": 4,
  "vscode": {
   "interpreter": {
    "hash": "a8d58dd5be0ada4fb5a47414fe14ff43adb412c7f275b2cb4b408d3aefadbe44"
   }
  }
 },
 "nbformat": 4,
 "nbformat_minor": 2
}
