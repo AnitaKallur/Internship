{
 "cells": [
  {
   "cell_type": "code",
   "execution_count": 2,
   "metadata": {},
   "outputs": [],
   "source": [
    "#PYTHON Worksheet_1\n",
    "#Answers\n",
    "# 1)  %\n",
    "# 2)  0\n",
    "# 3)  24\n",
    "# 4)  2\n",
    "# 5)  6\n",
    "# 6)  The finally block will be executed no matter if the try block raises an error or not\n",
    "# 7)  It is used to raise an exception\n",
    "# 8)  in defining a generator\n",
    "# 9)  abc2\n",
    "# 10) Yield, Raise\n",
    "\n"
   ]
  },
  {
   "cell_type": "code",
   "execution_count": 27,
   "metadata": {},
   "outputs": [
    {
     "name": "stdout",
     "output_type": "stream",
     "text": [
      "The factorial of 5 is 120\n"
     ]
    }
   ],
   "source": [
    "# 11) Write a python program to find the factorial of a number.\n",
    "def factorial(n):\n",
    "    if n == 1:\n",
    "        return 1\n",
    "    else:\n",
    "       return n*factorial(n-1)\n",
    "   \n",
    "num = 5 \n",
    "print(\"The factorial of\", num, \"is\",  factorial(num))\n",
    "    \n"
   ]
  },
  {
   "cell_type": "code",
   "execution_count": 22,
   "metadata": {},
   "outputs": [
    {
     "name": "stdout",
     "output_type": "stream",
     "text": [
      "5 is a Prime Number\n"
     ]
    }
   ],
   "source": [
    "#  12) Write a python program to find whether a number is prime or composite.\n",
    "\n",
    "number = int(input(\"Enter a NUMBER: \"))\n",
    "if (number == 0 or number == 1):\n",
    "    print(\"The number is neither Prime nor Composite Number\")\n",
    "    \n",
    "elif number > 1:\n",
    "    for i in range ( 2, number):\n",
    "        if number % i == 0:\n",
    "            print(number,  \"is a Composite Number\")\n",
    "            break\n",
    "    else: \n",
    "        print(number, \"is a Prime Number\")\n",
    "else:\n",
    "    print(\"Please enter a POSITIVE NUMBER only\")\n"
   ]
  },
  {
   "cell_type": "code",
   "execution_count": 28,
   "metadata": {},
   "outputs": [
    {
     "name": "stdout",
     "output_type": "stream",
     "text": [
      "cac is a PALIDROME\n"
     ]
    }
   ],
   "source": [
    "# 13) Write a python program to check whether a given string is palindrome or not.\n",
    "\n",
    "my_str = input(str(\" Please enter any word: \"))\n",
    "\n",
    "my_str = my_str.casefold()\n",
    "reverse_str = reversed(my_str)\n",
    "if list(my_str) == list(reverse_str):\n",
    "    print(my_str, \"is a PALIDROME\")\n",
    "else: \n",
    "    print(my_str, \"is not a PALIDROME\")\n"
   ]
  },
  {
   "cell_type": "code",
   "execution_count": 32,
   "metadata": {},
   "outputs": [
    {
     "name": "stdout",
     "output_type": "stream",
     "text": [
      "Hypotenuse = 5.0\n"
     ]
    }
   ],
   "source": [
    "# 14) Write a Python program to get the third side of right-angled triangle from two given sides.\n",
    "import math\n",
    "\n",
    "base = float(input(\"Enter BASE: \"))\n",
    "height = float(input(\"Enter HEIGHT: \"))\n",
    "# angle = float(input(\"Enter angle: \"))\n",
    "\n",
    "angle_side = math.sqrt(base ** 2 + height ** 2)\n",
    "\n",
    "print( \"Hypotenuse =\", angle_side)"
   ]
  },
  {
   "cell_type": "code",
   "execution_count": 81,
   "metadata": {},
   "outputs": [
    {
     "name": "stdout",
     "output_type": "stream",
     "text": [
      "T: 1\n",
      "o: 1\n",
      "d: 2\n",
      "a: 3\n",
      "y: 3\n",
      " : 4\n",
      "i: 1\n",
      "s: 2\n",
      " : 4\n",
      "a: 3\n",
      " : 4\n",
      "s: 2\n",
      "u: 1\n",
      "n: 2\n",
      "n: 2\n",
      "y: 3\n",
      " : 4\n",
      "d: 2\n",
      "a: 3\n",
      "y: 3\n"
     ]
    }
   ],
   "source": [
    "# 15) Write a python program to print the frequency of each of the characters present in a given string.\n",
    "string = 0\n",
    "string_line = \"Today is a sunny day\"\n",
    "\n",
    "for i in string_line:    \n",
    "    frequency = string_line.count(i)\n",
    "    # if (i.isspace()):\n",
    "    #     string = string - 1\n",
    "    print( str(i) + \": \" + str(frequency))\n",
    "       "
   ]
  },
  {
   "cell_type": "code",
   "execution_count": 82,
   "metadata": {},
   "outputs": [
    {
     "name": "stdout",
     "output_type": "stream",
     "text": [
      "{'T': 1, 'o': 1, 'd': 2, 'a': 4, 'y': 2, ' ': 4, 'i': 2, 's': 1, 'b': 1, 'e': 1, 'u': 2, 't': 1, 'f': 1, 'l': 1}\n"
     ]
    }
   ],
   "source": [
    "# 15) Write a python program to print the frequency of each of the characters present in a given string.\n",
    "str_line = \"Today is a beautiful day\"\n",
    "line = {}\n",
    "for i in str_line:\n",
    "    if i in line:\n",
    "        line[i] += 1\n",
    "    else:\n",
    "        line[i] = 1\n",
    "print(str(line))\n"
   ]
  },
  {
   "cell_type": "code",
   "execution_count": 5,
   "metadata": {},
   "outputs": [
    {
     "data": {
      "text/plain": [
       "1"
      ]
     },
     "execution_count": 5,
     "metadata": {},
     "output_type": "execute_result"
    }
   ],
   "source": [
    "143%2"
   ]
  }
 ],
 "metadata": {
  "kernelspec": {
   "display_name": "Python 3.10.4 ('data_science')",
   "language": "python",
   "name": "python3"
  },
  "language_info": {
   "codemirror_mode": {
    "name": "ipython",
    "version": 3
   },
   "file_extension": ".py",
   "mimetype": "text/x-python",
   "name": "python",
   "nbconvert_exporter": "python",
   "pygments_lexer": "ipython3",
   "version": "3.10.4"
  },
  "orig_nbformat": 4,
  "vscode": {
   "interpreter": {
    "hash": "a8d58dd5be0ada4fb5a47414fe14ff43adb412c7f275b2cb4b408d3aefadbe44"
   }
  }
 },
 "nbformat": 4,
 "nbformat_minor": 2
}
