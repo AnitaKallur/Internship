{
 "cells": [
  {
   "cell_type": "code",
   "execution_count": 1,
   "metadata": {},
   "outputs": [
    {
     "name": "stdout",
     "output_type": "stream",
     "text": [
      "Shri Ram Nath Kovind (birth - 1945) Term of Office: 25 July, 2017 to 25 July, 2022 \n",
      "Shri Pranab Mukherjee (1935-2020) Term of Office: 25 July, 2017 to 25 July, 2022 \n",
      "Smt Pratibha Devisingh Patil (birth - 1934) Term of Office: 25 July, 2017 to 25 July, 2022 \n",
      "DR. A.P.J. Abdul Kalam (1931-2015) Term of Office: 25 July, 2017 to 25 July, 2022 \n",
      "Shri K. R. Narayanan (1920 - 2005) Term of Office: 25 July, 2017 to 25 July, 2022 \n",
      "Dr Shankar Dayal Sharma (1918-1999) Term of Office: 25 July, 2017 to 25 July, 2022 \n",
      "Shri R Venkataraman (1910-2009) Term of Office: 25 July, 2017 to 25 July, 2022 \n",
      "Giani Zail Singh (1916-1994) Term of Office: 25 July, 2017 to 25 July, 2022 \n",
      "Shri Neelam Sanjiva Reddy (1913-1996) Term of Office: 25 July, 2017 to 25 July, 2022 \n",
      "Dr. Fakhruddin Ali Ahmed (1905-1977) Term of Office: 25 July, 2017 to 25 July, 2022 \n",
      "Shri Varahagiri Venkata Giri (1894-1980) Term of Office: 25 July, 2017 to 25 July, 2022 \n",
      "Dr. Zakir Husain (1897-1969) Term of Office: 25 July, 2017 to 25 July, 2022 \n",
      "Dr. Sarvepalli Radhakrishnan (1888-1975) Term of Office: 25 July, 2017 to 25 July, 2022 \n",
      "Dr. Rajendra Prasad (1884-1963)  Term of Office: 25 July, 2017 to 25 July, 2022 \n"
     ]
    }
   ],
   "source": [
    "\n",
    "from gettext import install\n",
    "from operator import index\n",
    "from bs4 import BeautifulSoup as bs\n",
    "import re\n",
    "import urllib.request\n",
    "import lxml.html\n",
    "import urllib.request\n",
    "import requests\n",
    "import pandas as pd\n",
    "import json\n",
    "from time import sleep\n",
    "# from settings import URL\n",
    "URL = \"https://presidentofindia.nic.in/former-presidents.htm\"\n",
    "import uuid\n",
    "uuid4 = uuid.uuid4()\n",
    "class scraper:\n",
    "        def __init__(self) -> None:\n",
    "                # self.driver = webdriver.Chrome(service=Service(ChromeDriverManager().install()))\n",
    "                # self.url = self.driver.get(URL)\n",
    "                request = requests.get(URL)\n",
    "                htmlContent = request.content\n",
    "                self.soup =bs(request.text, \"html\")\n",
    "              \n",
    "        def nevigate_page(self):\n",
    "                parent = self.soup.find('div', class_= 'presidentListing')\n",
    "                child = parent.find('h3').text\n",
    "                self.sibling = parent.find('p').text\n",
    "                # print(self.sibling)\n",
    "                                 \n",
    "        def get_details(self):\n",
    "            \n",
    "                self.president_list = self.soup.find('ul', class_='listing cf').find_all('li')\n",
    "                p_list = []\n",
    "                for name in self.president_list:\n",
    "        \n",
    "                    self.name = name.find('div', class_='presidentListing').h3.text\n",
    "                    self.term = name.find('span', class_='terms').get_text(strip=True).split('.')[0]\n",
    "                    print(self.name, \n",
    "                          self.sibling)\n",
    "              \n",
    "                        \n",
    "        def main(self) -> None:\n",
    "                self.nevigate_page()\n",
    "                self.get_details()\n",
    "                #self.page_scroll()\n",
    "                            \n",
    "if __name__ == \"__main__\":\n",
    "    DPS = scraper()\n",
    "    DPS.main()\n",
    "\n",
    "        "
   ]
  }
 ],
 "metadata": {
  "kernelspec": {
   "display_name": "Python 3.10.4 ('data_science')",
   "language": "python",
   "name": "python3"
  },
  "language_info": {
   "codemirror_mode": {
    "name": "ipython",
    "version": 3
   },
   "file_extension": ".py",
   "mimetype": "text/x-python",
   "name": "python",
   "nbconvert_exporter": "python",
   "pygments_lexer": "ipython3",
   "version": "3.10.4"
  },
  "orig_nbformat": 4,
  "vscode": {
   "interpreter": {
    "hash": "a8d58dd5be0ada4fb5a47414fe14ff43adb412c7f275b2cb4b408d3aefadbe44"
   }
  }
 },
 "nbformat": 4,
 "nbformat_minor": 2
}
